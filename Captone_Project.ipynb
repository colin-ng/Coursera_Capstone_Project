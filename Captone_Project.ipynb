{
 "metadata": {
  "language_info": {
   "codemirror_mode": {
    "name": "ipython",
    "version": 3
   },
   "file_extension": ".py",
   "mimetype": "text/x-python",
   "name": "python",
   "nbconvert_exporter": "python",
   "pygments_lexer": "ipython3",
   "version": "3.8.5-final"
  },
  "orig_nbformat": 2,
  "kernelspec": {
   "name": "python3",
   "display_name": "Python 3"
  }
 },
 "nbformat": 4,
 "nbformat_minor": 2,
 "cells": [
  {
   "source": [
    "## Imports"
   ],
   "cell_type": "markdown",
   "metadata": {}
  },
  {
   "cell_type": "code",
   "execution_count": 1,
   "metadata": {},
   "outputs": [],
   "source": [
    "import numpy as np\n",
    "import pandas as pd\n",
    "import geopandas as gpd\n",
    "\n",
    "import requests # library to handle requests\n",
    "import json # library to handle JSON files\n",
    "from pandas.io.json import json_normalize # tranform JSON file into a pandas dataframe\n",
    "\n",
    "import geocoder\n",
    "from geopy.geocoders import Nominatim # convert an address into coordinates\n",
    "\n",
    "# Matplotlib and associated plotting modules\n",
    "import matplotlib.cm as cm\n",
    "import matplotlib.colors as colors\n",
    "\n",
    "import folium # map rendering library\n",
    "\n",
    "from sklearn.cluster import KMeans # import K-Means algorithm\n",
    "\n",
    "%matplotlib inline"
   ]
  },
  {
   "source": [
    "## Define user defined functions that to be used later."
   ],
   "cell_type": "markdown",
   "metadata": {}
  },
  {
   "cell_type": "code",
   "execution_count": 2,
   "metadata": {},
   "outputs": [],
   "source": [
    "# Define a function to return the coordinates of a location\n",
    "def get_latlng(arcgis_geocoder, location):\n",
    "    \n",
    "    # initialise a variable to None\n",
    "    lat_lng_coords = None\n",
    "    \n",
    "    # While loop helps to create a continous run until all the location coordinates are geocoded\n",
    "    # loop until the coordinates returned\n",
    "    while(lat_lng_coords is None):\n",
    "        g = geocoder.arcgis('{}, {}'.format(arcgis_geocoder, location))\n",
    "        lat_lng_coords = g.latlng\n",
    "    return lat_lng_coords\n",
    "\n",
    "# Define a function that extracts the category of the venue\n",
    "def get_category_type(row):\n",
    "    try:\n",
    "        categories_list = row['categories']\n",
    "    except:\n",
    "        categories_list = row['venue.categories']\n",
    "        \n",
    "    if len(categories_list) == 0:\n",
    "        return None\n",
    "    else:\n",
    "        return categories_list[0]['name']\n",
    "\n",
    "# Define a function that return nearby venues\n",
    "def getNearbyVenues(names, latitudes, longitudes, radius = 500):\n",
    "    \n",
    "    venues_list = []\n",
    "    for name, lat, lng in zip(names, latitudes, longitudes):\n",
    "        print(name)\n",
    "            \n",
    "        # create the API request URL\n",
    "        url = 'https://api.foursquare.com/v2/venues/explore?&client_id={}&client_secret={}&v={}&ll={},{}&radius={}&limit={}'.format(\n",
    "            CLIENT_ID, \n",
    "            CLIENT_SECRET, \n",
    "            VERSION, \n",
    "            lat, \n",
    "            lng, \n",
    "            radius, \n",
    "            LIMIT)\n",
    "            \n",
    "        # make the GET request\n",
    "        results = requests.get(url).json()[\"response\"]['groups'][0]['items']\n",
    "        \n",
    "        # return only relevant information for each nearby venue\n",
    "        venues_list.append([(\n",
    "            name, \n",
    "            lat, \n",
    "            lng, \n",
    "            v['venue']['name'], \n",
    "            v['venue']['location']['lat'], \n",
    "            v['venue']['location']['lng'],  \n",
    "            v['venue']['categories'][0]['name']) for v in results])\n",
    "\n",
    "    nearby_venues = pd.DataFrame([item for venue_list in venues_list for item in venue_list])\n",
    "    nearby_venues.columns = ['Neighbourhood', \n",
    "                  'Neighbourhood Latitude', \n",
    "                  'Neighbourhood Longitude', \n",
    "                  'Venue', \n",
    "                  'Venue Latitude', \n",
    "                  'Venue Longitude', \n",
    "                  'Venue Category']\n",
    "    \n",
    "    return(nearby_venues)\n",
    "\n",
    "# Define a function to sort the venues in descending order\n",
    "def most_common_venues(row, num_top_venues):\n",
    "    row_categories = row.iloc[1:]\n",
    "    row_categories_sorted = row_categories.sort_values(ascending = False)\n",
    "    \n",
    "    return row_categories_sorted.index.values[0:num_top_venues]"
   ]
  },
  {
   "source": [
    "## Data Acquisition - Toronto\n",
    "### Acquire borough and neighbourhood data for Torono through web scraping."
   ],
   "cell_type": "markdown",
   "metadata": {}
  },
  {
   "cell_type": "code",
   "execution_count": 3,
   "metadata": {},
   "outputs": [
    {
     "output_type": "execute_result",
     "data": {
      "text/plain": [
       "3"
      ]
     },
     "metadata": {},
     "execution_count": 3
    }
   ],
   "source": [
    "url = 'https://en.wikipedia.org/wiki/List_of_postal_codes_of_Canada:_M'\n",
    "tbl = pd.read_html(url)\n",
    "len(tbl)"
   ]
  },
  {
   "cell_type": "code",
   "execution_count": 4,
   "metadata": {},
   "outputs": [
    {
     "output_type": "execute_result",
     "data": {
      "text/plain": [
       "  Postal Code           Borough              Neighbourhood\n",
       "0         M1A      Not assigned               Not assigned\n",
       "1         M2A      Not assigned               Not assigned\n",
       "2         M3A        North York                  Parkwoods\n",
       "3         M4A        North York           Victoria Village\n",
       "4         M5A  Downtown Toronto  Regent Park, Harbourfront"
      ],
      "text/html": "<div>\n<style scoped>\n    .dataframe tbody tr th:only-of-type {\n        vertical-align: middle;\n    }\n\n    .dataframe tbody tr th {\n        vertical-align: top;\n    }\n\n    .dataframe thead th {\n        text-align: right;\n    }\n</style>\n<table border=\"1\" class=\"dataframe\">\n  <thead>\n    <tr style=\"text-align: right;\">\n      <th></th>\n      <th>Postal Code</th>\n      <th>Borough</th>\n      <th>Neighbourhood</th>\n    </tr>\n  </thead>\n  <tbody>\n    <tr>\n      <th>0</th>\n      <td>M1A</td>\n      <td>Not assigned</td>\n      <td>Not assigned</td>\n    </tr>\n    <tr>\n      <th>1</th>\n      <td>M2A</td>\n      <td>Not assigned</td>\n      <td>Not assigned</td>\n    </tr>\n    <tr>\n      <th>2</th>\n      <td>M3A</td>\n      <td>North York</td>\n      <td>Parkwoods</td>\n    </tr>\n    <tr>\n      <th>3</th>\n      <td>M4A</td>\n      <td>North York</td>\n      <td>Victoria Village</td>\n    </tr>\n    <tr>\n      <th>4</th>\n      <td>M5A</td>\n      <td>Downtown Toronto</td>\n      <td>Regent Park, Harbourfront</td>\n    </tr>\n  </tbody>\n</table>\n</div>"
     },
     "metadata": {},
     "execution_count": 4
    }
   ],
   "source": [
    "df_toronto = tbl[0]\n",
    "df_toronto.head()"
   ]
  },
  {
   "source": [
    "## Data Wrangling - Toronto"
   ],
   "cell_type": "markdown",
   "metadata": {}
  },
  {
   "cell_type": "code",
   "execution_count": 5,
   "metadata": {},
   "outputs": [
    {
     "output_type": "execute_result",
     "data": {
      "text/plain": [
       "(180, 3)"
      ]
     },
     "metadata": {},
     "execution_count": 5
    }
   ],
   "source": [
    "# Display number of rows and columns\n",
    "df_toronto.shape"
   ]
  },
  {
   "source": [
    "### Remove rows with that the borough is having 'Not assigned'."
   ],
   "cell_type": "markdown",
   "metadata": {}
  },
  {
   "cell_type": "code",
   "execution_count": 6,
   "metadata": {},
   "outputs": [],
   "source": [
    "df_toronto.drop(df_toronto[df_toronto['Borough'] == 'Not assigned'].index, axis = 0, inplace = True)"
   ]
  },
  {
   "source": [
    "### To double check that all rows which borough is 'Not assigned' are removed."
   ],
   "cell_type": "markdown",
   "metadata": {}
  },
  {
   "cell_type": "code",
   "execution_count": 7,
   "metadata": {},
   "outputs": [
    {
     "output_type": "execute_result",
     "data": {
      "text/plain": [
       "Postal Code      False\n",
       "Borough          False\n",
       "Neighbourhood    False\n",
       "dtype: bool"
      ]
     },
     "metadata": {},
     "execution_count": 7
    }
   ],
   "source": [
    "df_toronto[df_toronto['Borough'] == 'Not assigned'].any()"
   ]
  },
  {
   "source": [
    "### Check if there's duplicated 'Postal Code' row."
   ],
   "cell_type": "markdown",
   "metadata": {}
  },
  {
   "cell_type": "code",
   "execution_count": 8,
   "metadata": {},
   "outputs": [
    {
     "output_type": "execute_result",
     "data": {
      "text/plain": [
       "False"
      ]
     },
     "metadata": {},
     "execution_count": 8
    }
   ],
   "source": [
    "df_toronto['Postal Code'].duplicated().any()"
   ]
  },
  {
   "source": [
    "### Display number of rows and columns after the dataframe is cleaned."
   ],
   "cell_type": "markdown",
   "metadata": {}
  },
  {
   "cell_type": "code",
   "execution_count": 9,
   "metadata": {},
   "outputs": [],
   "source": [
    "df_toronto.reset_index(drop = True, inplace = True)"
   ]
  },
  {
   "cell_type": "code",
   "execution_count": 10,
   "metadata": {},
   "outputs": [
    {
     "output_type": "execute_result",
     "data": {
      "text/plain": [
       "   Postal Code           Borough  \\\n",
       "0          M3A        North York   \n",
       "1          M4A        North York   \n",
       "2          M5A  Downtown Toronto   \n",
       "3          M6A        North York   \n",
       "4          M7A  Downtown Toronto   \n",
       "5          M9A         Etobicoke   \n",
       "6          M1B       Scarborough   \n",
       "7          M3B        North York   \n",
       "8          M4B         East York   \n",
       "9          M5B  Downtown Toronto   \n",
       "10         M6B        North York   \n",
       "11         M9B         Etobicoke   \n",
       "\n",
       "                                        Neighbourhood  \n",
       "0                                           Parkwoods  \n",
       "1                                    Victoria Village  \n",
       "2                           Regent Park, Harbourfront  \n",
       "3                    Lawrence Manor, Lawrence Heights  \n",
       "4         Queen's Park, Ontario Provincial Government  \n",
       "5             Islington Avenue, Humber Valley Village  \n",
       "6                                      Malvern, Rouge  \n",
       "7                                           Don Mills  \n",
       "8                     Parkview Hill, Woodbine Gardens  \n",
       "9                            Garden District, Ryerson  \n",
       "10                                          Glencairn  \n",
       "11  West Deane Park, Princess Gardens, Martin Grov...  "
      ],
      "text/html": "<div>\n<style scoped>\n    .dataframe tbody tr th:only-of-type {\n        vertical-align: middle;\n    }\n\n    .dataframe tbody tr th {\n        vertical-align: top;\n    }\n\n    .dataframe thead th {\n        text-align: right;\n    }\n</style>\n<table border=\"1\" class=\"dataframe\">\n  <thead>\n    <tr style=\"text-align: right;\">\n      <th></th>\n      <th>Postal Code</th>\n      <th>Borough</th>\n      <th>Neighbourhood</th>\n    </tr>\n  </thead>\n  <tbody>\n    <tr>\n      <th>0</th>\n      <td>M3A</td>\n      <td>North York</td>\n      <td>Parkwoods</td>\n    </tr>\n    <tr>\n      <th>1</th>\n      <td>M4A</td>\n      <td>North York</td>\n      <td>Victoria Village</td>\n    </tr>\n    <tr>\n      <th>2</th>\n      <td>M5A</td>\n      <td>Downtown Toronto</td>\n      <td>Regent Park, Harbourfront</td>\n    </tr>\n    <tr>\n      <th>3</th>\n      <td>M6A</td>\n      <td>North York</td>\n      <td>Lawrence Manor, Lawrence Heights</td>\n    </tr>\n    <tr>\n      <th>4</th>\n      <td>M7A</td>\n      <td>Downtown Toronto</td>\n      <td>Queen's Park, Ontario Provincial Government</td>\n    </tr>\n    <tr>\n      <th>5</th>\n      <td>M9A</td>\n      <td>Etobicoke</td>\n      <td>Islington Avenue, Humber Valley Village</td>\n    </tr>\n    <tr>\n      <th>6</th>\n      <td>M1B</td>\n      <td>Scarborough</td>\n      <td>Malvern, Rouge</td>\n    </tr>\n    <tr>\n      <th>7</th>\n      <td>M3B</td>\n      <td>North York</td>\n      <td>Don Mills</td>\n    </tr>\n    <tr>\n      <th>8</th>\n      <td>M4B</td>\n      <td>East York</td>\n      <td>Parkview Hill, Woodbine Gardens</td>\n    </tr>\n    <tr>\n      <th>9</th>\n      <td>M5B</td>\n      <td>Downtown Toronto</td>\n      <td>Garden District, Ryerson</td>\n    </tr>\n    <tr>\n      <th>10</th>\n      <td>M6B</td>\n      <td>North York</td>\n      <td>Glencairn</td>\n    </tr>\n    <tr>\n      <th>11</th>\n      <td>M9B</td>\n      <td>Etobicoke</td>\n      <td>West Deane Park, Princess Gardens, Martin Grov...</td>\n    </tr>\n  </tbody>\n</table>\n</div>"
     },
     "metadata": {},
     "execution_count": 10
    }
   ],
   "source": [
    "df_toronto.head(12)"
   ]
  },
  {
   "cell_type": "code",
   "execution_count": 11,
   "metadata": {},
   "outputs": [
    {
     "output_type": "execute_result",
     "data": {
      "text/plain": [
       "(103, 3)"
      ]
     },
     "metadata": {},
     "execution_count": 11
    }
   ],
   "source": [
    "df_toronto.shape"
   ]
  },
  {
   "source": [
    "### Get coordinates of all postcodes into a dataframe."
   ],
   "cell_type": "markdown",
   "metadata": {}
  },
  {
   "cell_type": "code",
   "execution_count": 12,
   "metadata": {},
   "outputs": [
    {
     "output_type": "execute_result",
     "data": {
      "text/plain": [
       "  Postal Code   Latitude  Longitude\n",
       "0         M1B  43.806686 -79.194353\n",
       "1         M1C  43.784535 -79.160497\n",
       "2         M1E  43.763573 -79.188711\n",
       "3         M1G  43.770992 -79.216917\n",
       "4         M1H  43.773136 -79.239476"
      ],
      "text/html": "<div>\n<style scoped>\n    .dataframe tbody tr th:only-of-type {\n        vertical-align: middle;\n    }\n\n    .dataframe tbody tr th {\n        vertical-align: top;\n    }\n\n    .dataframe thead th {\n        text-align: right;\n    }\n</style>\n<table border=\"1\" class=\"dataframe\">\n  <thead>\n    <tr style=\"text-align: right;\">\n      <th></th>\n      <th>Postal Code</th>\n      <th>Latitude</th>\n      <th>Longitude</th>\n    </tr>\n  </thead>\n  <tbody>\n    <tr>\n      <th>0</th>\n      <td>M1B</td>\n      <td>43.806686</td>\n      <td>-79.194353</td>\n    </tr>\n    <tr>\n      <th>1</th>\n      <td>M1C</td>\n      <td>43.784535</td>\n      <td>-79.160497</td>\n    </tr>\n    <tr>\n      <th>2</th>\n      <td>M1E</td>\n      <td>43.763573</td>\n      <td>-79.188711</td>\n    </tr>\n    <tr>\n      <th>3</th>\n      <td>M1G</td>\n      <td>43.770992</td>\n      <td>-79.216917</td>\n    </tr>\n    <tr>\n      <th>4</th>\n      <td>M1H</td>\n      <td>43.773136</td>\n      <td>-79.239476</td>\n    </tr>\n  </tbody>\n</table>\n</div>"
     },
     "metadata": {},
     "execution_count": 12
    }
   ],
   "source": [
    "df_toronto1 = pd.read_csv('Geospatial_Coordinates.csv')\n",
    "df_toronto1.head()"
   ]
  },
  {
   "source": [
    "### Merge the dataframes"
   ],
   "cell_type": "markdown",
   "metadata": {}
  },
  {
   "cell_type": "code",
   "execution_count": 13,
   "metadata": {},
   "outputs": [
    {
     "output_type": "execute_result",
     "data": {
      "text/plain": [
       "   Postal Code           Borough  \\\n",
       "0          M3A        North York   \n",
       "1          M4A        North York   \n",
       "2          M5A  Downtown Toronto   \n",
       "3          M6A        North York   \n",
       "4          M7A  Downtown Toronto   \n",
       "5          M9A         Etobicoke   \n",
       "6          M1B       Scarborough   \n",
       "7          M3B        North York   \n",
       "8          M4B         East York   \n",
       "9          M5B  Downtown Toronto   \n",
       "10         M6B        North York   \n",
       "11         M9B         Etobicoke   \n",
       "\n",
       "                                        Neighbourhood   Latitude  Longitude  \n",
       "0                                           Parkwoods  43.753259 -79.329656  \n",
       "1                                    Victoria Village  43.725882 -79.315572  \n",
       "2                           Regent Park, Harbourfront  43.654260 -79.360636  \n",
       "3                    Lawrence Manor, Lawrence Heights  43.718518 -79.464763  \n",
       "4         Queen's Park, Ontario Provincial Government  43.662301 -79.389494  \n",
       "5             Islington Avenue, Humber Valley Village  43.667856 -79.532242  \n",
       "6                                      Malvern, Rouge  43.806686 -79.194353  \n",
       "7                                           Don Mills  43.745906 -79.352188  \n",
       "8                     Parkview Hill, Woodbine Gardens  43.706397 -79.309937  \n",
       "9                            Garden District, Ryerson  43.657162 -79.378937  \n",
       "10                                          Glencairn  43.709577 -79.445073  \n",
       "11  West Deane Park, Princess Gardens, Martin Grov...  43.650943 -79.554724  "
      ],
      "text/html": "<div>\n<style scoped>\n    .dataframe tbody tr th:only-of-type {\n        vertical-align: middle;\n    }\n\n    .dataframe tbody tr th {\n        vertical-align: top;\n    }\n\n    .dataframe thead th {\n        text-align: right;\n    }\n</style>\n<table border=\"1\" class=\"dataframe\">\n  <thead>\n    <tr style=\"text-align: right;\">\n      <th></th>\n      <th>Postal Code</th>\n      <th>Borough</th>\n      <th>Neighbourhood</th>\n      <th>Latitude</th>\n      <th>Longitude</th>\n    </tr>\n  </thead>\n  <tbody>\n    <tr>\n      <th>0</th>\n      <td>M3A</td>\n      <td>North York</td>\n      <td>Parkwoods</td>\n      <td>43.753259</td>\n      <td>-79.329656</td>\n    </tr>\n    <tr>\n      <th>1</th>\n      <td>M4A</td>\n      <td>North York</td>\n      <td>Victoria Village</td>\n      <td>43.725882</td>\n      <td>-79.315572</td>\n    </tr>\n    <tr>\n      <th>2</th>\n      <td>M5A</td>\n      <td>Downtown Toronto</td>\n      <td>Regent Park, Harbourfront</td>\n      <td>43.654260</td>\n      <td>-79.360636</td>\n    </tr>\n    <tr>\n      <th>3</th>\n      <td>M6A</td>\n      <td>North York</td>\n      <td>Lawrence Manor, Lawrence Heights</td>\n      <td>43.718518</td>\n      <td>-79.464763</td>\n    </tr>\n    <tr>\n      <th>4</th>\n      <td>M7A</td>\n      <td>Downtown Toronto</td>\n      <td>Queen's Park, Ontario Provincial Government</td>\n      <td>43.662301</td>\n      <td>-79.389494</td>\n    </tr>\n    <tr>\n      <th>5</th>\n      <td>M9A</td>\n      <td>Etobicoke</td>\n      <td>Islington Avenue, Humber Valley Village</td>\n      <td>43.667856</td>\n      <td>-79.532242</td>\n    </tr>\n    <tr>\n      <th>6</th>\n      <td>M1B</td>\n      <td>Scarborough</td>\n      <td>Malvern, Rouge</td>\n      <td>43.806686</td>\n      <td>-79.194353</td>\n    </tr>\n    <tr>\n      <th>7</th>\n      <td>M3B</td>\n      <td>North York</td>\n      <td>Don Mills</td>\n      <td>43.745906</td>\n      <td>-79.352188</td>\n    </tr>\n    <tr>\n      <th>8</th>\n      <td>M4B</td>\n      <td>East York</td>\n      <td>Parkview Hill, Woodbine Gardens</td>\n      <td>43.706397</td>\n      <td>-79.309937</td>\n    </tr>\n    <tr>\n      <th>9</th>\n      <td>M5B</td>\n      <td>Downtown Toronto</td>\n      <td>Garden District, Ryerson</td>\n      <td>43.657162</td>\n      <td>-79.378937</td>\n    </tr>\n    <tr>\n      <th>10</th>\n      <td>M6B</td>\n      <td>North York</td>\n      <td>Glencairn</td>\n      <td>43.709577</td>\n      <td>-79.445073</td>\n    </tr>\n    <tr>\n      <th>11</th>\n      <td>M9B</td>\n      <td>Etobicoke</td>\n      <td>West Deane Park, Princess Gardens, Martin Grov...</td>\n      <td>43.650943</td>\n      <td>-79.554724</td>\n    </tr>\n  </tbody>\n</table>\n</div>"
     },
     "metadata": {},
     "execution_count": 13
    }
   ],
   "source": [
    "df_toronto2 = df_toronto.merge(df_toronto1)\n",
    "df_toronto2.head(12)"
   ]
  },
  {
   "source": [
    "### Verify that the dataframes merged successfully"
   ],
   "cell_type": "markdown",
   "metadata": {}
  },
  {
   "cell_type": "code",
   "execution_count": 14,
   "metadata": {},
   "outputs": [
    {
     "output_type": "execute_result",
     "data": {
      "text/plain": [
       "(103, 5)"
      ]
     },
     "metadata": {},
     "execution_count": 14
    }
   ],
   "source": [
    "df_toronto2.shape"
   ]
  },
  {
   "source": [
    "### Check number of unique borough."
   ],
   "cell_type": "markdown",
   "metadata": {}
  },
  {
   "cell_type": "code",
   "execution_count": 15,
   "metadata": {},
   "outputs": [
    {
     "output_type": "execute_result",
     "data": {
      "text/plain": [
       "array(['North York', 'Downtown Toronto', 'Etobicoke', 'Scarborough',\n",
       "       'East York', 'York', 'East Toronto', 'West Toronto',\n",
       "       'Central Toronto', 'Mississauga'], dtype=object)"
      ]
     },
     "metadata": {},
     "execution_count": 15
    }
   ],
   "source": [
    "df_toronto2['Borough'].unique()"
   ]
  },
  {
   "source": [
    "## Exploratory Data Analysis - Toronto\n",
    "### I will focus on neighbourhoods in Toronto only."
   ],
   "cell_type": "markdown",
   "metadata": {}
  },
  {
   "cell_type": "code",
   "execution_count": 16,
   "metadata": {},
   "outputs": [],
   "source": [
    "toronto = ['Downtown Toronto', 'East Toronto', 'West Toronto', 'Central Toronto']\n",
    "df_toronto3 = df_toronto2.loc[df_toronto2['Borough'].isin(toronto)].reset_index(drop = True)"
   ]
  },
  {
   "cell_type": "code",
   "execution_count": 17,
   "metadata": {},
   "outputs": [
    {
     "output_type": "execute_result",
     "data": {
      "text/plain": [
       "  Postal Code           Borough                                Neighbourhood  \\\n",
       "0         M5A  Downtown Toronto                    Regent Park, Harbourfront   \n",
       "1         M7A  Downtown Toronto  Queen's Park, Ontario Provincial Government   \n",
       "2         M5B  Downtown Toronto                     Garden District, Ryerson   \n",
       "3         M5C  Downtown Toronto                               St. James Town   \n",
       "4         M4E      East Toronto                                  The Beaches   \n",
       "\n",
       "    Latitude  Longitude  \n",
       "0  43.654260 -79.360636  \n",
       "1  43.662301 -79.389494  \n",
       "2  43.657162 -79.378937  \n",
       "3  43.651494 -79.375418  \n",
       "4  43.676357 -79.293031  "
      ],
      "text/html": "<div>\n<style scoped>\n    .dataframe tbody tr th:only-of-type {\n        vertical-align: middle;\n    }\n\n    .dataframe tbody tr th {\n        vertical-align: top;\n    }\n\n    .dataframe thead th {\n        text-align: right;\n    }\n</style>\n<table border=\"1\" class=\"dataframe\">\n  <thead>\n    <tr style=\"text-align: right;\">\n      <th></th>\n      <th>Postal Code</th>\n      <th>Borough</th>\n      <th>Neighbourhood</th>\n      <th>Latitude</th>\n      <th>Longitude</th>\n    </tr>\n  </thead>\n  <tbody>\n    <tr>\n      <th>0</th>\n      <td>M5A</td>\n      <td>Downtown Toronto</td>\n      <td>Regent Park, Harbourfront</td>\n      <td>43.654260</td>\n      <td>-79.360636</td>\n    </tr>\n    <tr>\n      <th>1</th>\n      <td>M7A</td>\n      <td>Downtown Toronto</td>\n      <td>Queen's Park, Ontario Provincial Government</td>\n      <td>43.662301</td>\n      <td>-79.389494</td>\n    </tr>\n    <tr>\n      <th>2</th>\n      <td>M5B</td>\n      <td>Downtown Toronto</td>\n      <td>Garden District, Ryerson</td>\n      <td>43.657162</td>\n      <td>-79.378937</td>\n    </tr>\n    <tr>\n      <th>3</th>\n      <td>M5C</td>\n      <td>Downtown Toronto</td>\n      <td>St. James Town</td>\n      <td>43.651494</td>\n      <td>-79.375418</td>\n    </tr>\n    <tr>\n      <th>4</th>\n      <td>M4E</td>\n      <td>East Toronto</td>\n      <td>The Beaches</td>\n      <td>43.676357</td>\n      <td>-79.293031</td>\n    </tr>\n  </tbody>\n</table>\n</div>"
     },
     "metadata": {},
     "execution_count": 17
    }
   ],
   "source": [
    "df_toronto3.head()"
   ]
  },
  {
   "source": [
    "# Drop the column 'Postal Code' as I got the coorindates\n",
    "df_toronto3.drop('Postal Code', axis = 1, inplace = True)"
   ],
   "cell_type": "code",
   "metadata": {},
   "execution_count": 18,
   "outputs": []
  },
  {
   "source": [
    "### Get the coorindates for Toronto, Ontario."
   ],
   "cell_type": "markdown",
   "metadata": {}
  },
  {
   "cell_type": "code",
   "execution_count": 19,
   "metadata": {},
   "outputs": [
    {
     "output_type": "stream",
     "name": "stdout",
     "text": [
      "The geograpical coordinate of Toronto, Ontraio are 43.6534817, -79.3839347.\n"
     ]
    }
   ],
   "source": [
    "address = 'Toronto, Ontario'\n",
    "\n",
    "geolocator = Nominatim(user_agent=\"my_explorer\")\n",
    "location = geolocator.geocode(address)\n",
    "latitude = location.latitude\n",
    "longitude = location.longitude\n",
    "print('The geograpical coordinate of Toronto, Ontraio are {}, {}.'.format(latitude, longitude))"
   ]
  },
  {
   "source": [
    "### Visualise the Toronto neighbourhoods by using Folium."
   ],
   "cell_type": "markdown",
   "metadata": {}
  },
  {
   "cell_type": "code",
   "execution_count": 20,
   "metadata": {},
   "outputs": [
    {
     "output_type": "execute_result",
     "data": {
      "text/plain": [
       "<folium.folium.Map at 0x1f381d78cd0>"
      ],
      "text/html": "<div style=\"width:100%;\"><div style=\"position:relative;width:100%;height:0;padding-bottom:60%;\"><span style=\"color:#565656\">Make this Notebook Trusted to load map: File -> Trust Notebook</span><iframe src=\"about:blank\" style=\"position:absolute;width:100%;height:100%;left:0;top:0;border:none !important;\" data-html=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 onload=\"this.contentDocument.open();this.contentDocument.write(atob(this.getAttribute('data-html')));this.contentDocument.close();\" allowfullscreen webkitallowfullscreen mozallowfullscreen></iframe></div></div>"
     },
     "metadata": {},
     "execution_count": 20
    }
   ],
   "source": [
    "# create map of Toronto using latitude and longitude values\n",
    "map_toronto = folium.Map(location=[latitude, longitude], zoom_start=12)\n",
    "\n",
    "# add markers to map\n",
    "for lat, lng, label in zip(df_toronto3['Latitude'], df_toronto3['Longitude'], df_toronto3['Neighbourhood']):\n",
    "    label = folium.Popup(label, parse_html = True)\n",
    "    folium.CircleMarker(\n",
    "        [lat, lng],\n",
    "        radius = 5,\n",
    "        popup = label,\n",
    "        color = 'blue',\n",
    "        fill = True,\n",
    "        fill_color = '#3186cc',\n",
    "        fill_opacity = 0.7,\n",
    "        parse_html = False).add_to(map_toronto)\n",
    "    \n",
    "map_toronto"
   ]
  },
  {
   "source": [
    "### Define Foursquare credentials and version.\n",
    "### Due to security concern, the credentials is stored in a json file. So, the credentials information will be read and loaded from the file."
   ],
   "cell_type": "markdown",
   "metadata": {}
  },
  {
   "cell_type": "code",
   "execution_count": 21,
   "metadata": {},
   "outputs": [],
   "source": [
    "json_file = '4squarecredential.json'\n",
    "with open(json_file) as f:\n",
    "    data = json.load(f)\n",
    "\n",
    "CLIENT_ID = data['credential']['CLIENT_ID']\n",
    "CLIENT_SECRET = data['credential']['CLIENT_SECRET']\n",
    "VERSION = data['credential']['VERSION']\n",
    "\n",
    "LIMIT = 100 # A default Foursquare API limit value"
   ]
  },
  {
   "source": [
    "### What's the first neighbourhood?"
   ],
   "cell_type": "markdown",
   "metadata": {}
  },
  {
   "cell_type": "code",
   "execution_count": 22,
   "metadata": {},
   "outputs": [
    {
     "output_type": "execute_result",
     "data": {
      "text/plain": [
       "'Regent Park, Harbourfront'"
      ]
     },
     "metadata": {},
     "execution_count": 22
    }
   ],
   "source": [
    "df_toronto3.loc[0, 'Neighbourhood']"
   ]
  },
  {
   "source": [
    "### Store the coorindates and the name of the neighbourhood."
   ],
   "cell_type": "markdown",
   "metadata": {}
  },
  {
   "cell_type": "code",
   "execution_count": 23,
   "metadata": {},
   "outputs": [
    {
     "output_type": "stream",
     "name": "stdout",
     "text": [
      "The latitude and longitude of Regent Park, Harbourfront are 43.6542599 and -79.3606359\n"
     ]
    }
   ],
   "source": [
    "nb_name = df_toronto3.loc[0, 'Neighbourhood']\n",
    "nb_lat = df_toronto3.loc[0, 'Latitude']\n",
    "nb_lng = df_toronto3.loc[0, 'Longitude']\n",
    "print('The latitude and longitude of {} are {} and {}'.format(nb_name, nb_lat, nb_lng))"
   ]
  },
  {
   "source": [
    "### Let's get the top 100 venues that are within radius of 500 metres of Regent Park, Harbourfront."
   ],
   "cell_type": "markdown",
   "metadata": {}
  },
  {
   "cell_type": "code",
   "execution_count": 24,
   "metadata": {},
   "outputs": [],
   "source": [
    "# build the url string\n",
    "radius = 500\n",
    "url = 'https://api.foursquare.com/v2/venues/explore?client_id={}&client_secret={}&ll={},{}&v={}&radius={}&limit={}'.format(CLIENT_ID, CLIENT_SECRET, nb_lat, nb_lng, VERSION, radius, LIMIT)"
   ]
  },
  {
   "source": [
    "### Send the GET request and examine the results."
   ],
   "cell_type": "markdown",
   "metadata": {}
  },
  {
   "cell_type": "code",
   "execution_count": 25,
   "metadata": {},
   "outputs": [
    {
     "output_type": "execute_result",
     "data": {
      "text/plain": [
       "ss3.4sqi.net/img/categories_v2/shops/gym_yogastudio_',\n",
       "          'suffix': '.png'},\n",
       "         'primary': True}],\n",
       "       'photos': {'count': 0, 'groups': []}},\n",
       "      'referralId': 'e-0-4b58dd55f964a5208f6f28e3-26'},\n",
       "     {'reasons': {'count': 0,\n",
       "       'items': [{'summary': 'This spot is popular',\n",
       "         'type': 'general',\n",
       "         'reasonName': 'globalInteractionReason'}]},\n",
       "      'venue': {'id': '4d84d98181fdb1f7d4a704c0',\n",
       "       'name': 'Caffe Furbo',\n",
       "       'location': {'address': '12 case goods lane',\n",
       "        'lat': 43.649969882303814,\n",
       "        'lng': -79.35884946388191,\n",
       "        'labeledLatLngs': [{'label': 'display',\n",
       "          'lat': 43.649969882303814,\n",
       "          'lng': -79.35884946388191}],\n",
       "        'distance': 498,\n",
       "        'postalCode': 'M5A 3C4',\n",
       "        'cc': 'CA',\n",
       "        'city': 'Toronto',\n",
       "        'state': 'ON',\n",
       "        'country': 'Canada',\n",
       "        'formattedAddress': ['12 case goods lane',\n",
       "         'Toronto ON M5A 3C4',\n",
       "         'Canada']},\n",
       "       'categories': [{'id': '4bf58dd8d48988d16d941735',\n",
       "         'name': 'Café',\n",
       "         'pluralName': 'Cafés',\n",
       "         'shortName': 'Café',\n",
       "         'icon': {'prefix': 'https://ss3.4sqi.net/img/categories_v2/food/cafe_',\n",
       "          'suffix': '.png'},\n",
       "         'primary': True}],\n",
       "       'photos': {'count': 0, 'groups': []},\n",
       "       'venuePage': {'id': '47611149'}},\n",
       "      'referralId': 'e-0-4d84d98181fdb1f7d4a704c0-27'},\n",
       "     {'reasons': {'count': 0,\n",
       "       'items': [{'summary': 'This spot is popular',\n",
       "         'type': 'general',\n",
       "         'reasonName': 'globalInteractionReason'}]},\n",
       "      'venue': {'id': '4b8c46f3f964a5200cc832e3',\n",
       "       'name': 'Alumnae Theatre',\n",
       "       'location': {'address': '70 Berkley St.',\n",
       "        'crossStreet': 'at Adelaide St.',\n",
       "        'lat': 43.65275554626444,\n",
       "        'lng': -79.36475283805089,\n",
       "        'labeledLatLngs': [{'label': 'display',\n",
       "          'lat': 43.65275554626444,\n",
       "          'lng': -79.36475283805089}],\n",
       "        'distance': 371,\n",
       "        'postalCode': 'M5A 2W6',\n",
       "        'cc': 'CA',\n",
       "        'city': 'Toronto',\n",
       "        'state': 'ON',\n",
       "        'country': 'Canada',\n",
       "        'formattedAddress': ['70 Berkley St. (at Adelaide St.)',\n",
       "         'Toronto ON M5A 2W6',\n",
       "         'Canada']},\n",
       "       'categories': [{'id': '4bf58dd8d48988d137941735',\n",
       "         'name': 'Theater',\n",
       "         'pluralName': 'Theaters',\n",
       "         'shortName': 'Theater',\n",
       "         'icon': {'prefix': 'https://ss3.4sqi.net/img/categories_v2/arts_entertainment/performingarts_theater_',\n",
       "          'suffix': '.png'},\n",
       "         'primary': True}],\n",
       "       'photos': {'count': 0, 'groups': []}},\n",
       "      'referralId': 'e-0-4b8c46f3f964a5200cc832e3-28'},\n",
       "     {'reasons': {'count': 0,\n",
       "       'items': [{'summary': 'This spot is popular',\n",
       "         'type': 'general',\n",
       "         'reasonName': 'globalInteractionReason'}]},\n",
       "      'venue': {'id': '4af9fc95f964a520ca1522e3',\n",
       "       'name': 'Mill St. Brew Pub',\n",
       "       'location': {'address': '21 Tank House Ln',\n",
       "        'crossStreet': 'at Pure Spirits Mews',\n",
       "        'lat': 43.65035331843578,\n",
       "        'lng': -79.35848936650571,\n",
       "        'labeledLatLngs': [{'label': 'display',\n",
       "          'lat': 43.65035331843578,\n",
       "          'lng': -79.35848936650571}],\n",
       "        'distance': 467,\n",
       "        'postalCode': 'M5A 3C4',\n",
       "        'cc': 'CA',\n",
       "        'neighborhood': 'Distillery District',\n",
       "        'city': 'Toronto',\n",
       "        'state': 'ON',\n",
       "        'country': 'Canada',\n",
       "        'formattedAddress': ['21 Tank House Ln (at Pure Spirits Mews)',\n",
       "         'Toronto ON M5A 3C4',\n",
       "         'Canada']},\n",
       "       'categories': [{'id': '4bf58dd8d48988d11b941735',\n",
       "         'name': 'Pub',\n",
       "         'pluralName': 'Pubs',\n",
       "         'shortName': 'Pub',\n",
       "         'icon': {'prefix': 'https://ss3.4sqi.net/img/categories_v2/nightlife/pub_',\n",
       "          'suffix': '.png'},\n",
       "         'primary': True}],\n",
       "       'photos': {'count': 0, 'groups': []}},\n",
       "      'referralId': 'e-0-4af9fc95f964a520ca1522e3-29'},\n",
       "     {'reasons': {'count': 0,\n",
       "       'items': [{'summary': 'This spot is popular',\n",
       "         'type': 'general',\n",
       "         'reasonName': 'globalInteractionReason'}]},\n",
       "      'venue': {'id': '4bb52a8bf562ef3b7d992e97',\n",
       "       'name': 'Soulpepper Theatre',\n",
       "       'location': {'address': '55 Mill St',\n",
       "        'lat': 43.65078003430492,\n",
       "        'lng': -79.35761534068922,\n",
       "        'labeledLatLngs': [{'label': 'display',\n",
       "          'lat': 43.65078003430492,\n",
       "          'lng': -79.35761534068922}],\n",
       "        'distance': 457,\n",
       "        'cc': 'CA',\n",
       "        'city': 'Toronto',\n",
       "        'state': 'ON',\n",
       "        'country': 'Canada',\n",
       "        'formattedAddress': ['55 Mill St', 'Toronto ON', 'Canada']},\n",
       "       'categories': [{'id': '4bf58dd8d48988d137941735',\n",
       "         'name': 'Theater',\n",
       "         'pluralName': 'Theaters',\n",
       "         'shortName': 'Theater',\n",
       "         'icon': {'prefix': 'https://ss3.4sqi.net/img/categories_v2/arts_entertainment/performingarts_theater_',\n",
       "          'suffix': '.png'},\n",
       "         'primary': True}],\n",
       "       'photos': {'count': 0, 'groups': []}},\n",
       "      'referralId': 'e-0-4bb52a8bf562ef3b7d992e97-30'},\n",
       "     {'reasons': {'count': 0,\n",
       "       'items': [{'summary': 'This spot is popular',\n",
       "         'type': 'general',\n",
       "         'reasonName': 'globalInteractionReason'}]},\n",
       "      'venue': {'id': '4ade8ea8f964a5205a7621e3',\n",
       "       'name': 'Berkeley Church',\n",
       "       'location': {'address': '315 Queen St E',\n",
       "        'crossStreet': 'at Berkeley St',\n",
       "        'lat': 43.65512324174501,\n",
       "        'lng': -79.36587330410705,\n",
       "        'labeledLatLngs': [{'label': 'display',\n",
       "          'lat': 43.65512324174501,\n",
       "          'lng': -79.36587330410705}],\n",
       "        'distance': 432,\n",
       "        'postalCode': 'M5A 1S7',\n",
       "        'cc': 'CA',\n",
       "        'city': 'Toronto',\n",
       "        'state': 'ON',\n",
       "        'country': 'Canada',\n",
       "        'formattedAddress': ['315 Queen St E (at Berkeley St)',\n",
       "         'Toronto ON M5A 1S7',\n",
       "         'Canada']},\n",
       "       'categories': [{'id': '4bf58dd8d48988d171941735',\n",
       "         'name': 'Event Space',\n",
       "         'pluralName': 'Event Spaces',\n",
       "         'shortName': 'Event Space',\n",
       "         'icon': {'prefix': 'https://ss3.4sqi.net/img/categories_v2/building/eventspace_',\n",
       "          'suffix': '.png'},\n",
       "         'primary': True}],\n",
       "       'photos': {'count': 0, 'groups': []}},\n",
       "      'referralId': 'e-0-4ade8ea8f964a5205a7621e3-31'},\n",
       "     {'reasons': {'count': 0,\n",
       "       'items': [{'summary': 'This spot is popular',\n",
       "         'type': 'general',\n",
       "         'reasonName': 'globalInteractionReason'}]},\n",
       "      'venue': {'id': '54d37e23498e5e29bcb35362',\n",
       "       'name': 'ODIN Cafe + Bar',\n",
       "       'location': {'address': '514 King St E',\n",
       "        'crossStreet': 'at River St',\n",
       "        'lat': 43.656738544928054,\n",
       "        'lng': -79.35650305267754,\n",
       "        'labeledLatLngs': [{'label': 'display',\n",
       "          'lat': 43.656738544928054,\n",
       "          'lng': -79.35650305267754}],\n",
       "        'distance': 432,\n",
       "        'postalCode': 'M5A 1M1',\n",
       "        'cc': 'CA',\n",
       "        'city': 'Toronto',\n",
       "        'state': 'ON',\n",
       "        'country': 'Canada',\n",
       "        'formattedAddress': ['514 King St E (at River St)',\n",
       "         'Toronto ON M5A 1M1',\n",
       "         'Canada']},\n",
       "       'categories': [{'id': '4bf58dd8d48988d16d941735',\n",
       "         'name': 'Café',\n",
       "         'pluralName': 'Cafés',\n",
       "         'shortName': 'Café',\n",
       "         'icon': {'prefix': 'https://ss3.4sqi.net/img/categories_v2/food/cafe_',\n",
       "          'suffix': '.png'},\n",
       "         'primary': True}],\n",
       "       'photos': {'count': 0, 'groups': []}},\n",
       "      'referralId': 'e-0-54d37e23498e5e29bcb35362-32'},\n",
       "     {'reasons': {'count': 0,\n",
       "       'items': [{'summary': 'This spot is popular',\n",
       "         'type': 'general',\n",
       "         'reasonName': 'globalInteractionReason'}]},\n",
       "      'venue': {'id': '51828372e4b0ea1bac906b00',\n",
       "       'name': 'John Fluevog Shoes',\n",
       "       'location': {'address': '4 Trinity St.',\n",
       "        'crossStreet': 'Distillery District',\n",
       "        'lat': 43.64989585773889,\n",
       "        'lng': -79.3594359503061,\n",
       "        'labeledLatLngs': [{'label': 'display',\n",
       "          'lat': 43.64989585773889,\n",
       "          'lng': -79.3594359503061}],\n",
       "        'distance': 495,\n",
       "        'postalCode': 'M5A 3C4',\n",
       "        'cc': 'CA',\n",
       "        'city': 'Toronto',\n",
       "        'state': 'ON',\n",
       "        'country': 'Canada',\n",
       "        'formattedAddress': ['4 Trinity St. (Distillery District)',\n",
       "         'Toronto ON M5A 3C4',\n",
       "         'Canada']},\n",
       "       'categories': [{'id': '4bf58dd8d48988d107951735',\n",
       "         'name': 'Shoe Store',\n",
       "         'pluralName': 'Shoe Stores',\n",
       "         'shortName': 'Shoes',\n",
       "         'icon': {'prefix': 'https://ss3.4sqi.net/img/categories_v2/shops/apparel_shoestore_',\n",
       "          'suffix': '.png'},\n",
       "         'primary': True}],\n",
       "       'photos': {'count': 0, 'groups': []}},\n",
       "      'referralId': 'e-0-51828372e4b0ea1bac906b00-33'},\n",
       "     {'reasons': {'count': 0,\n",
       "       'items': [{'summary': 'This spot is popular',\n",
       "         'type': 'general',\n",
       "         'reasonName': 'globalInteractionReason'}]},\n",
       "      'venue': {'id': '5b7ccd5e1f8ed6002c9bd7d0',\n",
       "       'name': 'The Aviary',\n",
       "       'location': {'lat': 43.65363394725125,\n",
       "        'lng': -79.35466212072043,\n",
       "        'labeledLatLngs': [{'label': 'display',\n",
       "          'lat': 43.65363394725125,\n",
       "          'lng': -79.35466212072043}],\n",
       "        'distance': 486,\n",
       "        'postalCode': 'M5A 1H7',\n",
       "        'cc': 'CA',\n",
       "        'city': 'Toronto',\n",
       "        'state': 'ON',\n",
       "        'country': 'Canada',\n",
       "        'formattedAddress': ['Toronto ON M5A 1H7', 'Canada']},\n",
       "       'categories': [{'id': '4bf58dd8d48988d11b941735',\n",
       "         'name': 'Pub',\n",
       "         'pluralName': 'Pubs',\n",
       "         'shortName': 'Pub',\n",
       "         'icon': {'prefix': 'https://ss3.4sqi.net/img/categories_v2/nightlife/pub_',\n",
       "          'suffix': '.png'},\n",
       "         'primary': True}],\n",
       "       'photos': {'count': 0, 'groups': []}},\n",
       "      'referralId': 'e-0-5b7ccd5e1f8ed6002c9bd7d0-34'},\n",
       "     {'reasons': {'count': 0,\n",
       "       'items': [{'summary': 'This spot is popular',\n",
       "         'type': 'general',\n",
       "         'reasonName': 'globalInteractionReason'}]},\n",
       "      'venue': {'id': '4dbb2d7a6e815ab0de64d555',\n",
       "       'name': 'Ontario Spring Water Sake Company',\n",
       "       'location': {'address': '51 Gristmill Lane',\n",
       "        'lat': 43.649921646081026,\n",
       "        'lng': -79.36007302731126,\n",
       "        'labeledLatLngs': [{'label': 'display',\n",
       "          'lat': 43.649921646081026,\n",
       "          'lng': -79.36007302731126}],\n",
       "        'distance': 485,\n",
       "        'postalCode': 'M5A 3C4',\n",
       "        'cc': 'CA',\n",
       "        'city': 'Toronto',\n",
       "        'state': 'ON',\n",
       "        'country': 'Canada',\n",
       "        'formattedAddress': ['51 Gristmill Lane',\n",
       "         'Toronto ON M5A 3C4',\n",
       "         'Canada']},\n",
       "       'categories': [{'id': '50327c8591d4c4b30a586d5d',\n",
       "         'name': 'Brewery',\n",
       "         'pluralName': 'Breweries',\n",
       "         'shortName': 'Brewery',\n",
       "         'icon': {'prefix': 'https://ss3.4sqi.net/img/categories_v2/food/brewery_',\n",
       "          'suffix': '.png'},\n",
       "         'primary': True}],\n",
       "       'photos': {'count': 0, 'groups': []}},\n",
       "      'referralId': 'e-0-4dbb2d7a6e815ab0de64d555-35'},\n",
       "     {'reasons': {'count': 0,\n",
       "       'items': [{'summary': 'This spot is popular',\n",
       "         'type': 'general',\n",
       "         'reasonName': 'globalInteractionReason'}]},\n",
       "      'venue': {'id': '4af21e78f964a520fae521e3',\n",
       "       'name': 'Arta Gallery',\n",
       "       'location': {'address': '14 Distillery Lane',\n",
       "        'crossStreet': 'Distillery District',\n",
       "        'lat': 43.650022181882065,\n",
       "        'lng': -79.36122168476822,\n",
       "        'labeledLatLngs': [{'label': 'display',\n",
       "          'lat': 43.650022181882065,\n",
       "          'lng': -79.36122168476822}],\n",
       "        'distance': 474,\n",
       "        'postalCode': 'M5A 3C4',\n",
       "        'cc': 'CA',\n",
       "        'city': 'Toronto',\n",
       "        'state': 'ON',\n",
       "        'country': 'Canada',\n",
       "        'formattedAddress': ['14 Distillery Lane (Distillery District)',\n",
       "         'Toronto ON M5A 3C4',\n",
       "         'Canada']},\n",
       "       'categories': [{'id': '4bf58dd8d48988d1e2931735',\n",
       "         'name': 'Art Gallery',\n",
       "         'pluralName': 'Art Galleries',\n",
       "         'shortName': 'Art Gallery',\n",
       "         'icon': {'prefix': 'https://ss3.4sqi.net/img/categories_v2/arts_entertainment/artgallery_',\n",
       "          'suffix': '.png'},\n",
       "         'primary': True}],\n",
       "       'photos': {'count': 0, 'groups': []}},\n",
       "      'referralId': 'e-0-4af21e78f964a520fae521e3-36'},\n",
       "     {'reasons': {'count': 0,\n",
       "       'items': [{'summary': 'This spot is popular',\n",
       "         'type': 'general',\n",
       "         'reasonName': 'globalInteractionReason'}]},\n",
       "      'venue': {'id': '4ad8d551f964a5201f1521e3',\n",
       "       'name': 'Vistek',\n",
       "       'location': {'address': '496 Queen St E',\n",
       "        'crossStreet': 'at Sumach',\n",
       "        'lat': 43.65704640025721,\n",
       "        'lng': -79.35966695607046,\n",
       "        'labeledLatLngs': [{'label': 'display',\n",
       "          'lat': 43.65704640025721,\n",
       "          'lng': -79.35966695607046}],\n",
       "        'distance': 319,\n",
       "        'cc': 'CA',\n",
       "        'city': 'Toronto',\n",
       "        'state': 'ON',\n",
       "        'country': 'Canada',\n",
       "        'formattedAddress': ['496 Queen St E (at Sumach)',\n",
       "         'Toronto ON',\n",
       "         'Canada']},\n",
       "       'categories': [{'id': '4bf58dd8d48988d122951735',\n",
       "         'name': 'Electronics Store',\n",
       "         'pluralName': 'Electronics Stores',\n",
       "         'shortName': 'Electronics',\n",
       "         'icon': {'prefix': 'https://ss3.4sqi.net/img/categories_v2/shops/technology_',\n",
       "          'suffix': '.png'},\n",
       "         'primary': True}],\n",
       "       'photos': {'count': 0, 'groups': []}},\n",
       "      'referralId': 'e-0-4ad8d551f964a5201f1521e3-37'},\n",
       "     {'reasons': {'count': 0,\n",
       "       'items': [{'summary': 'This spot is popular',\n",
       "         'type': 'general',\n",
       "         'reasonName': 'globalInteractionReason'}]},\n",
       "      'venue': {'id': '4b8acdfdf964a520378232e3',\n",
       "       'name': 'The Beer Store',\n",
       "       'location': {'address': '28 River Street',\n",
       "        'crossStreet': 'Queen St E',\n",
       "        'lat': 43.657773,\n",
       "        'lng': -79.3574632,\n",
       "        'labeledLatLngs': [{'label': 'display',\n",
       "          'lat': 43.657773,\n",
       "          'lng': -79.3574632}],\n",
       "        'distance': 467,\n",
       "        'postalCode': 'M5A 3N9',\n",
       "        'cc': 'CA',\n",
       "        'city': 'Toronto',\n",
       "        'state': 'ON',\n",
       "        'country': 'Canada',\n",
       "        'formattedAddress': ['28 River Street (Queen St E)',\n",
       "         'Toronto ON M5A 3N9',\n",
       "         'Canada']},\n",
       "       'categories': [{'id': '5370f356bcbc57f1066c94c2',\n",
       "         'name': 'Beer Store',\n",
       "         'pluralName': 'Beer Stores',\n",
       "         'shortName': 'Beer Store',\n",
       "         'icon': {'prefix': 'https://ss3.4sqi.net/img/categories_v2/nightlife/beergarden_',\n",
       "          'suffix': '.png'},\n",
       "         'primary': True}],\n",
       "       'photos': {'count': 0, 'groups': []}},\n",
       "      'referralId': 'e-0-4b8acdfdf964a520378232e3-38'},\n",
       "     {'reasons': {'count': 0,\n",
       "       'items': [{'summary': 'This spot is popular',\n",
       "         'type': 'general',\n",
       "         'reasonName': 'globalInteractionReason'}]},\n",
       "      'venue': {'id': '4d126fd3d1848cfad5cfbb71',\n",
       "       'name': 'TD Canada Trust',\n",
       "       'location': {'address': '457 Front Street East',\n",
       "        'lat': 43.652779762702764,\n",
       "        'lng': -79.3563362625656,\n",
       "        'labeledLatLngs': [{'label': 'display',\n",
       "          'lat': 43.652779762702764,\n",
       "          'lng': -79.3563362625656}],\n",
       "        'distance': 383,\n",
       "        'postalCode': 'M5A 0J2',\n",
       "        'cc': 'CA',\n",
       "        'city': 'Toronto',\n",
       "        'state': 'ON',\n",
       "        'country': 'Canada',\n",
       "        'formattedAddress': ['457 Front Street East',\n",
       "         'Toronto ON M5A 0J2',\n",
       "         'Canada']},\n",
       "       'categories': [{'id': '4bf58dd8d48988d10a951735',\n",
       "         'name': 'Bank',\n",
       "         'pluralName': 'Banks',\n",
       "         'shortName': 'Bank',\n",
       "         'icon': {'prefix': 'https://ss3.4sqi.net/img/categories_v2/shops/financial_',\n",
       "          'suffix': '.png'},\n",
       "         'primary': True}],\n",
       "       'photos': {'count': 0, 'groups': []}},\n",
       "      'referralId': 'e-0-4d126fd3d1848cfad5cfbb71-39'},\n",
       "     {'reasons': {'count': 0,\n",
       "       'items': [{'summary': 'This spot is popular',\n",
       "         'type': 'general',\n",
       "         'reasonName': 'globalInteractionReason'}]},\n",
       "      'venue': {'id': '4b2cf78cf964a52077cb24e3',\n",
       "       'name': 'Savoury Grounds',\n",
       "       'location': {'address': '481 Queen St. East',\n",
       "        'crossStreet': 'Sumach St',\n",
       "        'lat': 43.656820970004496,\n",
       "        'lng': -79.3589698353747,\n",
       "        'labeledLatLngs': [{'label': 'display',\n",
       "          'lat': 43.656820970004496,\n",
       "          'lng': -79.3589698353747}],\n",
       "        'distance': 315,\n",
       "        'cc': 'CA',\n",
       "        'city': 'Toronto',\n",
       "        'state': 'ON',\n",
       "        'country': 'Canada',\n",
       "        'formattedAddress': ['481 Queen St. East (Sumach St)',\n",
       "         'Toronto ON',\n",
       "         'Canada']},\n",
       "       'categories': [{'id': '4bf58dd8d48988d1e0931735',\n",
       "         'name': 'Coffee Shop',\n",
       "         'pluralName': 'Coffee Shops',\n",
       "         'shortName': 'Coffee Shop',\n",
       "         'icon': {'prefix': 'https://ss3.4sqi.net/img/categories_v2/food/coffeeshop_',\n",
       "          'suffix': '.png'},\n",
       "         'primary': True}],\n",
       "       'photos': {'count': 0, 'groups': []}},\n",
       "      'referralId': 'e-0-4b2cf78cf964a52077cb24e3-40'},\n",
       "     {'reasons': {'count': 0,\n",
       "       'items': [{'summary': 'This spot is popular',\n",
       "         'type': 'general',\n",
       "         'reasonName': 'globalInteractionReason'}]},\n",
       "      'venue': {'id': '593b5fbea35dce738ebbb4ec',\n",
       "       'name': 'Residence & Conference Centre',\n",
       "       'location': {'address': '80 Cooperage',\n",
       "        'crossStreet': 'Front Street',\n",
       "        'lat': 43.65304,\n",
       "        'lng': -79.35704,\n",
       "        'labeledLatLngs': [{'label': 'display',\n",
       "          'lat': 43.65304,\n",
       "          'lng': -79.35704}],\n",
       "        'distance': 319,\n",
       "        'postalCode': 'M5A 1G9',\n",
       "        'cc': 'CA',\n",
       "        'city': 'Toronto',\n",
       "        'state': 'ON',\n",
       "        'country': 'Canada',\n",
       "        'formattedAddress': ['80 Cooperage (Front Street)',\n",
       "         'Toronto ON M5A 1G9',\n",
       "         'Canada']},\n",
       "       'categories': [{'id': '4bf58dd8d48988d1fa931735',\n",
       "         'name': 'Hotel',\n",
       "         'pluralName': 'Hotels',\n",
       "         'shortName': 'Hotel',\n",
       "         'icon': {'prefix': 'https://ss3.4sqi.net/img/categories_v2/travel/hotel_',\n",
       "          'suffix': '.png'},\n",
       "         'primary': True}],\n",
       "       'photos': {'count': 0, 'groups': []}},\n",
       "      'referralId': 'e-0-593b5fbea35dce738ebbb4ec-41'},\n",
       "     {'reasons': {'count': 0,\n",
       "       'items': [{'summary': 'This spot is popular',\n",
       "         'type': 'general',\n",
       "         'reasonName': 'globalInteractionReason'}]},\n",
       "      'venue': {'id': '57dd8bcd498e8eec19b9c896',\n",
       "       'name': 'FUEL+',\n",
       "       'location': {'address': '469 Front St',\n",
       "        'crossStreet': 'Rolling Mills Rd',\n",
       "        'lat': 43.653193,\n",
       "        'lng': -79.355867,\n",
       "        'labeledLatLngs': [{'label': 'display',\n",
       "          'lat': 43.653193,\n",
       "          'lng': -79.355867}],\n",
       "        'distance': 402,\n",
       "        'postalCode': 'M5A',\n",
       "        'cc': 'CA',\n",
       "        'city': 'Toronto',\n",
       "        'state': 'ON',\n",
       "        'country': 'Canada',\n",
       "        'formattedAddress': ['469 Front St (Rolling Mills Rd)',\n",
       "         'Toronto ON M5A',\n",
       "         'Canada']},\n",
       "       'categories': [{'id': '4bf58dd8d48988d1e0931735',\n",
       "         'name': 'Coffee Shop',\n",
       "         'pluralName': 'Coffee Shops',\n",
       "         'shortName': 'Coffee Shop',\n",
       "         'icon': {'prefix': 'https://ss3.4sqi.net/img/categories_v2/food/coffeeshop_',\n",
       "          'suffix': '.png'},\n",
       "         'primary': True}],\n",
       "       'photos': {'count': 0, 'groups': []}},\n",
       "      'referralId': 'e-0-57dd8bcd498e8eec19b9c896-42'},\n",
       "     {'reasons': {'count': 0,\n",
       "       'items': [{'summary': 'This spot is popular',\n",
       "         'type': 'general',\n",
       "         'reasonName': 'globalInteractionReason'}]},\n",
       "      'venue': {'id': '579cc5f2498e0fe8397deebb',\n",
       "       'name': 'GW General',\n",
       "       'location': {'lat': 43.650495,\n",
       "        'lng': -79.357538,\n",
       "        'labeledLatLngs': [{'label': 'display',\n",
       "          'lat': 43.650495,\n",
       "          'lng': -79.357538}],\n",
       "        'distance': 487,\n",
       "        'cc': 'CA',\n",
       "        'country': 'Canada',\n",
       "        'formattedAddress': ['Canada']},\n",
       "       'categories': [{'id': '4bf58dd8d48988d116951735',\n",
       "         'name': 'Antique Shop',\n",
       "         'pluralName': 'Antique Shops',\n",
       "         'shortName': 'Antiques',\n",
       "         'icon': {'prefix': 'https://ss3.4sqi.net/img/categories_v2/shops/antique_',\n",
       "          'suffix': '.png'},\n",
       "         'primary': True}],\n",
       "       'photos': {'count': 0, 'groups': []}},\n",
       "      'referralId': 'e-0-579cc5f2498e0fe8397deebb-43'}]}]}}"
      ]
     },
     "metadata": {},
     "execution_count": 25
    }
   ],
   "source": [
    "results = requests.get(url).json()\n",
    "results"
   ]
  },
  {
   "source": [
    "### Create a dataframe to store the venues, the corresponding categories and coordinates.\n"
   ],
   "cell_type": "markdown",
   "metadata": {}
  },
  {
   "cell_type": "code",
   "execution_count": 26,
   "metadata": {},
   "outputs": [
    {
     "output_type": "execute_result",
     "data": {
      "text/plain": [
       "                               name            categories        lat  \\\n",
       "0                  Roselle Desserts                Bakery  43.653447   \n",
       "1                     Tandem Coffee           Coffee Shop  43.653559   \n",
       "2            Cooper Koo Family YMCA   Distribution Center  43.653249   \n",
       "3               Body Blitz Spa East                   Spa  43.654735   \n",
       "4                    Impact Kitchen            Restaurant  43.656369   \n",
       "5                Morning Glory Cafe        Breakfast Spot  43.653947   \n",
       "6                   Corktown Common                  Park  43.655618   \n",
       "7                The Extension Room  Gym / Fitness Center  43.653313   \n",
       "8  The Distillery Historic District         Historic Site  43.650244   \n",
       "9               SOMA chocolatemaker        Chocolate Shop  43.650622   \n",
       "\n",
       "         lng  \n",
       "0 -79.362017  \n",
       "1 -79.361809  \n",
       "2 -79.358008  \n",
       "3 -79.359874  \n",
       "4 -79.356980  \n",
       "5 -79.361149  \n",
       "6 -79.356211  \n",
       "7 -79.359725  \n",
       "8 -79.359323  \n",
       "9 -79.358127  "
      ],
      "text/html": "<div>\n<style scoped>\n    .dataframe tbody tr th:only-of-type {\n        vertical-align: middle;\n    }\n\n    .dataframe tbody tr th {\n        vertical-align: top;\n    }\n\n    .dataframe thead th {\n        text-align: right;\n    }\n</style>\n<table border=\"1\" class=\"dataframe\">\n  <thead>\n    <tr style=\"text-align: right;\">\n      <th></th>\n      <th>name</th>\n      <th>categories</th>\n      <th>lat</th>\n      <th>lng</th>\n    </tr>\n  </thead>\n  <tbody>\n    <tr>\n      <th>0</th>\n      <td>Roselle Desserts</td>\n      <td>Bakery</td>\n      <td>43.653447</td>\n      <td>-79.362017</td>\n    </tr>\n    <tr>\n      <th>1</th>\n      <td>Tandem Coffee</td>\n      <td>Coffee Shop</td>\n      <td>43.653559</td>\n      <td>-79.361809</td>\n    </tr>\n    <tr>\n      <th>2</th>\n      <td>Cooper Koo Family YMCA</td>\n      <td>Distribution Center</td>\n      <td>43.653249</td>\n      <td>-79.358008</td>\n    </tr>\n    <tr>\n      <th>3</th>\n      <td>Body Blitz Spa East</td>\n      <td>Spa</td>\n      <td>43.654735</td>\n      <td>-79.359874</td>\n    </tr>\n    <tr>\n      <th>4</th>\n      <td>Impact Kitchen</td>\n      <td>Restaurant</td>\n      <td>43.656369</td>\n      <td>-79.356980</td>\n    </tr>\n    <tr>\n      <th>5</th>\n      <td>Morning Glory Cafe</td>\n      <td>Breakfast Spot</td>\n      <td>43.653947</td>\n      <td>-79.361149</td>\n    </tr>\n    <tr>\n      <th>6</th>\n      <td>Corktown Common</td>\n      <td>Park</td>\n      <td>43.655618</td>\n      <td>-79.356211</td>\n    </tr>\n    <tr>\n      <th>7</th>\n      <td>The Extension Room</td>\n      <td>Gym / Fitness Center</td>\n      <td>43.653313</td>\n      <td>-79.359725</td>\n    </tr>\n    <tr>\n      <th>8</th>\n      <td>The Distillery Historic District</td>\n      <td>Historic Site</td>\n      <td>43.650244</td>\n      <td>-79.359323</td>\n    </tr>\n    <tr>\n      <th>9</th>\n      <td>SOMA chocolatemaker</td>\n      <td>Chocolate Shop</td>\n      <td>43.650622</td>\n      <td>-79.358127</td>\n    </tr>\n  </tbody>\n</table>\n</div>"
     },
     "metadata": {},
     "execution_count": 26
    }
   ],
   "source": [
    "venues = results['response']['groups'][0]['items']\n",
    "    \n",
    "nearby_venues = json_normalize(venues) # flatten JSON\n",
    "\n",
    "# filter columns\n",
    "filtered_columns = ['venue.name', 'venue.categories', 'venue.location.lat', 'venue.location.lng']\n",
    "nearby_venues = nearby_venues.loc[:, filtered_columns]\n",
    "\n",
    "# filter the category for each row\n",
    "nearby_venues['venue.categories'] = nearby_venues.apply(get_category_type, axis = 1)\n",
    "\n",
    "# clean columns\n",
    "nearby_venues.columns = [col.split(\".\")[-1] for col in nearby_venues.columns]\n",
    "\n",
    "nearby_venues.head(10)"
   ]
  },
  {
   "source": [
    "### How many venues returned by Foursquare?"
   ],
   "cell_type": "markdown",
   "metadata": {}
  },
  {
   "cell_type": "code",
   "execution_count": 27,
   "metadata": {},
   "outputs": [
    {
     "output_type": "stream",
     "name": "stdout",
     "text": [
      "44 venues were returned by Foursquare.\n"
     ]
    }
   ],
   "source": [
    "print('{} venues were returned by Foursquare.'.format(nearby_venues.shape[0]))"
   ]
  },
  {
   "source": [
    "### What are the top 10 categories?"
   ],
   "cell_type": "markdown",
   "metadata": {}
  },
  {
   "cell_type": "code",
   "execution_count": 28,
   "metadata": {},
   "outputs": [
    {
     "output_type": "execute_result",
     "data": {
      "text/plain": [
       "                       Count\n",
       "Coffee Shop                8\n",
       "Park                       3\n",
       "Bakery                     3\n",
       "Pub                        3\n",
       "Theater                    2\n",
       "Breakfast Spot             2\n",
       "Café                       2\n",
       "Spa                        1\n",
       "Performing Arts Venue      1\n",
       "Bank                       1"
      ],
      "text/html": "<div>\n<style scoped>\n    .dataframe tbody tr th:only-of-type {\n        vertical-align: middle;\n    }\n\n    .dataframe tbody tr th {\n        vertical-align: top;\n    }\n\n    .dataframe thead th {\n        text-align: right;\n    }\n</style>\n<table border=\"1\" class=\"dataframe\">\n  <thead>\n    <tr style=\"text-align: right;\">\n      <th></th>\n      <th>Count</th>\n    </tr>\n  </thead>\n  <tbody>\n    <tr>\n      <th>Coffee Shop</th>\n      <td>8</td>\n    </tr>\n    <tr>\n      <th>Park</th>\n      <td>3</td>\n    </tr>\n    <tr>\n      <th>Bakery</th>\n      <td>3</td>\n    </tr>\n    <tr>\n      <th>Pub</th>\n      <td>3</td>\n    </tr>\n    <tr>\n      <th>Theater</th>\n      <td>2</td>\n    </tr>\n    <tr>\n      <th>Breakfast Spot</th>\n      <td>2</td>\n    </tr>\n    <tr>\n      <th>Café</th>\n      <td>2</td>\n    </tr>\n    <tr>\n      <th>Spa</th>\n      <td>1</td>\n    </tr>\n    <tr>\n      <th>Performing Arts Venue</th>\n      <td>1</td>\n    </tr>\n    <tr>\n      <th>Bank</th>\n      <td>1</td>\n    </tr>\n  </tbody>\n</table>\n</div>"
     },
     "metadata": {},
     "execution_count": 28
    }
   ],
   "source": [
    "nearby_venues_by_categories = nearby_venues['categories'].value_counts().to_frame(name = 'Count')\n",
    "nearby_venues_by_categories.head(10)"
   ]
  },
  {
   "source": [
    "### What are the neighbourhoods?"
   ],
   "cell_type": "markdown",
   "metadata": {}
  },
  {
   "cell_type": "code",
   "execution_count": 29,
   "metadata": {},
   "outputs": [
    {
     "output_type": "stream",
     "name": "stdout",
     "text": [
      "Regent Park, Harbourfront\n",
      "Queen's Park, Ontario Provincial Government\n",
      "Garden District, Ryerson\n",
      "St. James Town\n",
      "The Beaches\n",
      "Berczy Park\n",
      "Central Bay Street\n",
      "Christie\n",
      "Richmond, Adelaide, King\n",
      "Dufferin, Dovercourt Village\n",
      "Harbourfront East, Union Station, Toronto Islands\n",
      "Little Portugal, Trinity\n",
      "The Danforth West, Riverdale\n",
      "Toronto Dominion Centre, Design Exchange\n",
      "Brockton, Parkdale Village, Exhibition Place\n",
      "India Bazaar, The Beaches West\n",
      "Commerce Court, Victoria Hotel\n",
      "Studio District\n",
      "Lawrence Park\n",
      "Roselawn\n",
      "Davisville North\n",
      "Forest Hill North & West, Forest Hill Road Park\n",
      "High Park, The Junction South\n",
      "North Toronto West, Lawrence Park\n",
      "The Annex, North Midtown, Yorkville\n",
      "Parkdale, Roncesvalles\n",
      "Davisville\n",
      "University of Toronto, Harbord\n",
      "Runnymede, Swansea\n",
      "Moore Park, Summerhill East\n",
      "Kensington Market, Chinatown, Grange Park\n",
      "Summerhill West, Rathnelly, South Hill, Forest Hill SE, Deer Park\n",
      "CN Tower, King and Spadina, Railway Lands, Harbourfront West, Bathurst Quay, South Niagara, Island airport\n",
      "Rosedale\n",
      "Stn A PO Boxes\n",
      "St. James Town, Cabbagetown\n",
      "First Canadian Place, Underground city\n",
      "Church and Wellesley\n",
      "Business reply mail Processing Centre, South Central Letter Processing Plant Toronto\n"
     ]
    }
   ],
   "source": [
    "toronto_venues = getNearbyVenues(names = df_toronto3['Neighbourhood'], latitudes = df_toronto3['Latitude'], longitudes = df_toronto3['Longitude'])"
   ]
  },
  {
   "source": [
    "### Let's examine how many venues retrieved"
   ],
   "cell_type": "markdown",
   "metadata": {}
  },
  {
   "cell_type": "code",
   "execution_count": 30,
   "metadata": {},
   "outputs": [
    {
     "output_type": "stream",
     "name": "stdout",
     "text": [
      "(1624, 7)\n"
     ]
    },
    {
     "output_type": "execute_result",
     "data": {
      "text/plain": [
       "               Neighbourhood  Neighbourhood Latitude  Neighbourhood Longitude  \\\n",
       "0  Regent Park, Harbourfront                43.65426               -79.360636   \n",
       "1  Regent Park, Harbourfront                43.65426               -79.360636   \n",
       "2  Regent Park, Harbourfront                43.65426               -79.360636   \n",
       "3  Regent Park, Harbourfront                43.65426               -79.360636   \n",
       "4  Regent Park, Harbourfront                43.65426               -79.360636   \n",
       "\n",
       "                    Venue  Venue Latitude  Venue Longitude  \\\n",
       "0        Roselle Desserts       43.653447       -79.362017   \n",
       "1           Tandem Coffee       43.653559       -79.361809   \n",
       "2  Cooper Koo Family YMCA       43.653249       -79.358008   \n",
       "3     Body Blitz Spa East       43.654735       -79.359874   \n",
       "4          Impact Kitchen       43.656369       -79.356980   \n",
       "\n",
       "        Venue Category  \n",
       "0               Bakery  \n",
       "1          Coffee Shop  \n",
       "2  Distribution Center  \n",
       "3                  Spa  \n",
       "4           Restaurant  "
      ],
      "text/html": "<div>\n<style scoped>\n    .dataframe tbody tr th:only-of-type {\n        vertical-align: middle;\n    }\n\n    .dataframe tbody tr th {\n        vertical-align: top;\n    }\n\n    .dataframe thead th {\n        text-align: right;\n    }\n</style>\n<table border=\"1\" class=\"dataframe\">\n  <thead>\n    <tr style=\"text-align: right;\">\n      <th></th>\n      <th>Neighbourhood</th>\n      <th>Neighbourhood Latitude</th>\n      <th>Neighbourhood Longitude</th>\n      <th>Venue</th>\n      <th>Venue Latitude</th>\n      <th>Venue Longitude</th>\n      <th>Venue Category</th>\n    </tr>\n  </thead>\n  <tbody>\n    <tr>\n      <th>0</th>\n      <td>Regent Park, Harbourfront</td>\n      <td>43.65426</td>\n      <td>-79.360636</td>\n      <td>Roselle Desserts</td>\n      <td>43.653447</td>\n      <td>-79.362017</td>\n      <td>Bakery</td>\n    </tr>\n    <tr>\n      <th>1</th>\n      <td>Regent Park, Harbourfront</td>\n      <td>43.65426</td>\n      <td>-79.360636</td>\n      <td>Tandem Coffee</td>\n      <td>43.653559</td>\n      <td>-79.361809</td>\n      <td>Coffee Shop</td>\n    </tr>\n    <tr>\n      <th>2</th>\n      <td>Regent Park, Harbourfront</td>\n      <td>43.65426</td>\n      <td>-79.360636</td>\n      <td>Cooper Koo Family YMCA</td>\n      <td>43.653249</td>\n      <td>-79.358008</td>\n      <td>Distribution Center</td>\n    </tr>\n    <tr>\n      <th>3</th>\n      <td>Regent Park, Harbourfront</td>\n      <td>43.65426</td>\n      <td>-79.360636</td>\n      <td>Body Blitz Spa East</td>\n      <td>43.654735</td>\n      <td>-79.359874</td>\n      <td>Spa</td>\n    </tr>\n    <tr>\n      <th>4</th>\n      <td>Regent Park, Harbourfront</td>\n      <td>43.65426</td>\n      <td>-79.360636</td>\n      <td>Impact Kitchen</td>\n      <td>43.656369</td>\n      <td>-79.356980</td>\n      <td>Restaurant</td>\n    </tr>\n  </tbody>\n</table>\n</div>"
     },
     "metadata": {},
     "execution_count": 30
    }
   ],
   "source": [
    "print(toronto_venues.shape)\n",
    "toronto_venues.head()"
   ]
  },
  {
   "source": [
    "### Let's examine number of venues by neighbourhood."
   ],
   "cell_type": "markdown",
   "metadata": {}
  },
  {
   "cell_type": "code",
   "execution_count": 31,
   "metadata": {},
   "outputs": [
    {
     "output_type": "execute_result",
     "data": {
      "text/plain": [
       "                                                    Neighbourhood Latitude  \\\n",
       "Neighbourhood                                                                \n",
       "Berczy Park                                                             55   \n",
       "Brockton, Parkdale Village, Exhibition Place                            23   \n",
       "Business reply mail Processing Centre, South Ce...                      16   \n",
       "CN Tower, King and Spadina, Railway Lands, Harb...                      16   \n",
       "Central Bay Street                                                      68   \n",
       "Christie                                                                16   \n",
       "Church and Wellesley                                                    75   \n",
       "Commerce Court, Victoria Hotel                                         100   \n",
       "Davisville                                                              33   \n",
       "Davisville North                                                         9   \n",
       "Dufferin, Dovercourt Village                                            13   \n",
       "First Canadian Place, Underground city                                 100   \n",
       "Forest Hill North & West, Forest Hill Road Park                          4   \n",
       "Garden District, Ryerson                                               100   \n",
       "Harbourfront East, Union Station, Toronto Islands                      100   \n",
       "High Park, The Junction South                                           25   \n",
       "India Bazaar, The Beaches West                                          19   \n",
       "Kensington Market, Chinatown, Grange Park                               74   \n",
       "Lawrence Park                                                            3   \n",
       "Little Portugal, Trinity                                                45   \n",
       "Moore Park, Summerhill East                                              2   \n",
       "North Toronto West, Lawrence Park                                       18   \n",
       "Parkdale, Roncesvalles                                                  14   \n",
       "Queen's Park, Ontario Provincial Government                             33   \n",
       "Regent Park, Harbourfront                                               44   \n",
       "Richmond, Adelaide, King                                               100   \n",
       "Rosedale                                                                 4   \n",
       "Roselawn                                                                 2   \n",
       "Runnymede, Swansea                                                      33   \n",
       "St. James Town                                                          85   \n",
       "St. James Town, Cabbagetown                                             48   \n",
       "Stn A PO Boxes                                                          96   \n",
       "Studio District                                                         37   \n",
       "Summerhill West, Rathnelly, South Hill, Forest ...                      14   \n",
       "The Annex, North Midtown, Yorkville                                     19   \n",
       "The Beaches                                                              4   \n",
       "The Danforth West, Riverdale                                            43   \n",
       "Toronto Dominion Centre, Design Exchange                               100   \n",
       "University of Toronto, Harbord                                          34   \n",
       "\n",
       "                                                    Neighbourhood Longitude  \\\n",
       "Neighbourhood                                                                 \n",
       "Berczy Park                                                              55   \n",
       "Brockton, Parkdale Village, Exhibition Place                             23   \n",
       "Business reply mail Processing Centre, South Ce...                       16   \n",
       "CN Tower, King and Spadina, Railway Lands, Harb...                       16   \n",
       "Central Bay Street                                                       68   \n",
       "Christie                                                                 16   \n",
       "Church and Wellesley                                                     75   \n",
       "Commerce Court, Victoria Hotel                                          100   \n",
       "Davisville                                                               33   \n",
       "Davisville North                                                          9   \n",
       "Dufferin, Dovercourt Village                                             13   \n",
       "First Canadian Place, Underground city                                  100   \n",
       "Forest Hill North & West, Forest Hill Road Park                           4   \n",
       "Garden District, Ryerson                                                100   \n",
       "Harbourfront East, Union Station, Toronto Islands                       100   \n",
       "High Park, The Junction South                                            25   \n",
       "India Bazaar, The Beaches West                                           19   \n",
       "Kensington Market, Chinatown, Grange Park                                74   \n",
       "Lawrence Park                                                             3   \n",
       "Little Portugal, Trinity                                                 45   \n",
       "Moore Park, Summerhill East                                               2   \n",
       "North Toronto West, Lawrence Park                                        18   \n",
       "Parkdale, Roncesvalles                                                   14   \n",
       "Queen's Park, Ontario Provincial Government                              33   \n",
       "Regent Park, Harbourfront                                                44   \n",
       "Richmond, Adelaide, King                                                100   \n",
       "Rosedale                                                                  4   \n",
       "Roselawn                                                                  2   \n",
       "Runnymede, Swansea                                                       33   \n",
       "St. James Town                                                           85   \n",
       "St. James Town, Cabbagetown                                              48   \n",
       "Stn A PO Boxes                                                           96   \n",
       "Studio District                                                          37   \n",
       "Summerhill West, Rathnelly, South Hill, Forest ...                       14   \n",
       "The Annex, North Midtown, Yorkville                                      19   \n",
       "The Beaches                                                               4   \n",
       "The Danforth West, Riverdale                                             43   \n",
       "Toronto Dominion Centre, Design Exchange                                100   \n",
       "University of Toronto, Harbord                                           34   \n",
       "\n",
       "                                                    Venue  Venue Latitude  \\\n",
       "Neighbourhood                                                               \n",
       "Berczy Park                                            55              55   \n",
       "Brockton, Parkdale Village, Exhibition Place           23              23   \n",
       "Business reply mail Processing Centre, South Ce...     16              16   \n",
       "CN Tower, King and Spadina, Railway Lands, Harb...     16              16   \n",
       "Central Bay Street                                     68              68   \n",
       "Christie                                               16              16   \n",
       "Church and Wellesley                                   75              75   \n",
       "Commerce Court, Victoria Hotel                        100             100   \n",
       "Davisville                                             33              33   \n",
       "Davisville North                                        9               9   \n",
       "Dufferin, Dovercourt Village                           13              13   \n",
       "First Canadian Place, Underground city                100             100   \n",
       "Forest Hill North & West, Forest Hill Road Park         4               4   \n",
       "Garden District, Ryerson                              100             100   \n",
       "Harbourfront East, Union Station, Toronto Islands     100             100   \n",
       "High Park, The Junction South                          25              25   \n",
       "India Bazaar, The Beaches West                         19              19   \n",
       "Kensington Market, Chinatown, Grange Park              74              74   \n",
       "Lawrence Park                                           3               3   \n",
       "Little Portugal, Trinity                               45              45   \n",
       "Moore Park, Summerhill East                             2               2   \n",
       "North Toronto West, Lawrence Park                      18              18   \n",
       "Parkdale, Roncesvalles                                 14              14   \n",
       "Queen's Park, Ontario Provincial Government            33              33   \n",
       "Regent Park, Harbourfront                              44              44   \n",
       "Richmond, Adelaide, King                              100             100   \n",
       "Rosedale                                                4               4   \n",
       "Roselawn                                                2               2   \n",
       "Runnymede, Swansea                                     33              33   \n",
       "St. James Town                                         85              85   \n",
       "St. James Town, Cabbagetown                            48              48   \n",
       "Stn A PO Boxes                                         96              96   \n",
       "Studio District                                        37              37   \n",
       "Summerhill West, Rathnelly, South Hill, Forest ...     14              14   \n",
       "The Annex, North Midtown, Yorkville                    19              19   \n",
       "The Beaches                                             4               4   \n",
       "The Danforth West, Riverdale                           43              43   \n",
       "Toronto Dominion Centre, Design Exchange              100             100   \n",
       "University of Toronto, Harbord                         34              34   \n",
       "\n",
       "                                                    Venue Longitude  \\\n",
       "Neighbourhood                                                         \n",
       "Berczy Park                                                      55   \n",
       "Brockton, Parkdale Village, Exhibition Place                     23   \n",
       "Business reply mail Processing Centre, South Ce...               16   \n",
       "CN Tower, King and Spadina, Railway Lands, Harb...               16   \n",
       "Central Bay Street                                               68   \n",
       "Christie                                                         16   \n",
       "Church and Wellesley                                             75   \n",
       "Commerce Court, Victoria Hotel                                  100   \n",
       "Davisville                                                       33   \n",
       "Davisville North                                                  9   \n",
       "Dufferin, Dovercourt Village                                     13   \n",
       "First Canadian Place, Underground city                          100   \n",
       "Forest Hill North & West, Forest Hill Road Park                   4   \n",
       "Garden District, Ryerson                                        100   \n",
       "Harbourfront East, Union Station, Toronto Islands               100   \n",
       "High Park, The Junction South                                    25   \n",
       "India Bazaar, The Beaches West                                   19   \n",
       "Kensington Market, Chinatown, Grange Park                        74   \n",
       "Lawrence Park                                                     3   \n",
       "Little Portugal, Trinity                                         45   \n",
       "Moore Park, Summerhill East                                       2   \n",
       "North Toronto West, Lawrence Park                                18   \n",
       "Parkdale, Roncesvalles                                           14   \n",
       "Queen's Park, Ontario Provincial Government                      33   \n",
       "Regent Park, Harbourfront                                        44   \n",
       "Richmond, Adelaide, King                                        100   \n",
       "Rosedale                                                          4   \n",
       "Roselawn                                                          2   \n",
       "Runnymede, Swansea                                               33   \n",
       "St. James Town                                                   85   \n",
       "St. James Town, Cabbagetown                                      48   \n",
       "Stn A PO Boxes                                                   96   \n",
       "Studio District                                                  37   \n",
       "Summerhill West, Rathnelly, South Hill, Forest ...               14   \n",
       "The Annex, North Midtown, Yorkville                              19   \n",
       "The Beaches                                                       4   \n",
       "The Danforth West, Riverdale                                     43   \n",
       "Toronto Dominion Centre, Design Exchange                        100   \n",
       "University of Toronto, Harbord                                   34   \n",
       "\n",
       "                                                    Venue Category  \n",
       "Neighbourhood                                                       \n",
       "Berczy Park                                                     55  \n",
       "Brockton, Parkdale Village, Exhibition Place                    23  \n",
       "Business reply mail Processing Centre, South Ce...              16  \n",
       "CN Tower, King and Spadina, Railway Lands, Harb...              16  \n",
       "Central Bay Street                                              68  \n",
       "Christie                                                        16  \n",
       "Church and Wellesley                                            75  \n",
       "Commerce Court, Victoria Hotel                                 100  \n",
       "Davisville                                                      33  \n",
       "Davisville North                                                 9  \n",
       "Dufferin, Dovercourt Village                                    13  \n",
       "First Canadian Place, Underground city                         100  \n",
       "Forest Hill North & West, Forest Hill Road Park                  4  \n",
       "Garden District, Ryerson                                       100  \n",
       "Harbourfront East, Union Station, Toronto Islands              100  \n",
       "High Park, The Junction South                                   25  \n",
       "India Bazaar, The Beaches West                                  19  \n",
       "Kensington Market, Chinatown, Grange Park                       74  \n",
       "Lawrence Park                                                    3  \n",
       "Little Portugal, Trinity                                        45  \n",
       "Moore Park, Summerhill East                                      2  \n",
       "North Toronto West, Lawrence Park                               18  \n",
       "Parkdale, Roncesvalles                                          14  \n",
       "Queen's Park, Ontario Provincial Government                     33  \n",
       "Regent Park, Harbourfront                                       44  \n",
       "Richmond, Adelaide, King                                       100  \n",
       "Rosedale                                                         4  \n",
       "Roselawn                                                         2  \n",
       "Runnymede, Swansea                                              33  \n",
       "St. James Town                                                  85  \n",
       "St. James Town, Cabbagetown                                     48  \n",
       "Stn A PO Boxes                                                  96  \n",
       "Studio District                                                 37  \n",
       "Summerhill West, Rathnelly, South Hill, Forest ...              14  \n",
       "The Annex, North Midtown, Yorkville                             19  \n",
       "The Beaches                                                      4  \n",
       "The Danforth West, Riverdale                                    43  \n",
       "Toronto Dominion Centre, Design Exchange                       100  \n",
       "University of Toronto, Harbord                                  34  "
      ],
      "text/html": "<div>\n<style scoped>\n    .dataframe tbody tr th:only-of-type {\n        vertical-align: middle;\n    }\n\n    .dataframe tbody tr th {\n        vertical-align: top;\n    }\n\n    .dataframe thead th {\n        text-align: right;\n    }\n</style>\n<table border=\"1\" class=\"dataframe\">\n  <thead>\n    <tr style=\"text-align: right;\">\n      <th></th>\n      <th>Neighbourhood Latitude</th>\n      <th>Neighbourhood Longitude</th>\n      <th>Venue</th>\n      <th>Venue Latitude</th>\n      <th>Venue Longitude</th>\n      <th>Venue Category</th>\n    </tr>\n    <tr>\n      <th>Neighbourhood</th>\n      <th></th>\n      <th></th>\n      <th></th>\n      <th></th>\n      <th></th>\n      <th></th>\n    </tr>\n  </thead>\n  <tbody>\n    <tr>\n      <th>Berczy Park</th>\n      <td>55</td>\n      <td>55</td>\n      <td>55</td>\n      <td>55</td>\n      <td>55</td>\n      <td>55</td>\n    </tr>\n    <tr>\n      <th>Brockton, Parkdale Village, Exhibition Place</th>\n      <td>23</td>\n      <td>23</td>\n      <td>23</td>\n      <td>23</td>\n      <td>23</td>\n      <td>23</td>\n    </tr>\n    <tr>\n      <th>Business reply mail Processing Centre, South Central Letter Processing Plant Toronto</th>\n      <td>16</td>\n      <td>16</td>\n      <td>16</td>\n      <td>16</td>\n      <td>16</td>\n      <td>16</td>\n    </tr>\n    <tr>\n      <th>CN Tower, King and Spadina, Railway Lands, Harbourfront West, Bathurst Quay, South Niagara, Island airport</th>\n      <td>16</td>\n      <td>16</td>\n      <td>16</td>\n      <td>16</td>\n      <td>16</td>\n      <td>16</td>\n    </tr>\n    <tr>\n      <th>Central Bay Street</th>\n      <td>68</td>\n      <td>68</td>\n      <td>68</td>\n      <td>68</td>\n      <td>68</td>\n      <td>68</td>\n    </tr>\n    <tr>\n      <th>Christie</th>\n      <td>16</td>\n      <td>16</td>\n      <td>16</td>\n      <td>16</td>\n      <td>16</td>\n      <td>16</td>\n    </tr>\n    <tr>\n      <th>Church and Wellesley</th>\n      <td>75</td>\n      <td>75</td>\n      <td>75</td>\n      <td>75</td>\n      <td>75</td>\n      <td>75</td>\n    </tr>\n    <tr>\n      <th>Commerce Court, Victoria Hotel</th>\n      <td>100</td>\n      <td>100</td>\n      <td>100</td>\n      <td>100</td>\n      <td>100</td>\n      <td>100</td>\n    </tr>\n    <tr>\n      <th>Davisville</th>\n      <td>33</td>\n      <td>33</td>\n      <td>33</td>\n      <td>33</td>\n      <td>33</td>\n      <td>33</td>\n    </tr>\n    <tr>\n      <th>Davisville North</th>\n      <td>9</td>\n      <td>9</td>\n      <td>9</td>\n      <td>9</td>\n      <td>9</td>\n      <td>9</td>\n    </tr>\n    <tr>\n      <th>Dufferin, Dovercourt Village</th>\n      <td>13</td>\n      <td>13</td>\n      <td>13</td>\n      <td>13</td>\n      <td>13</td>\n      <td>13</td>\n    </tr>\n    <tr>\n      <th>First Canadian Place, Underground city</th>\n      <td>100</td>\n      <td>100</td>\n      <td>100</td>\n      <td>100</td>\n      <td>100</td>\n      <td>100</td>\n    </tr>\n    <tr>\n      <th>Forest Hill North &amp; West, Forest Hill Road Park</th>\n      <td>4</td>\n      <td>4</td>\n      <td>4</td>\n      <td>4</td>\n      <td>4</td>\n      <td>4</td>\n    </tr>\n    <tr>\n      <th>Garden District, Ryerson</th>\n      <td>100</td>\n      <td>100</td>\n      <td>100</td>\n      <td>100</td>\n      <td>100</td>\n      <td>100</td>\n    </tr>\n    <tr>\n      <th>Harbourfront East, Union Station, Toronto Islands</th>\n      <td>100</td>\n      <td>100</td>\n      <td>100</td>\n      <td>100</td>\n      <td>100</td>\n      <td>100</td>\n    </tr>\n    <tr>\n      <th>High Park, The Junction South</th>\n      <td>25</td>\n      <td>25</td>\n      <td>25</td>\n      <td>25</td>\n      <td>25</td>\n      <td>25</td>\n    </tr>\n    <tr>\n      <th>India Bazaar, The Beaches West</th>\n      <td>19</td>\n      <td>19</td>\n      <td>19</td>\n      <td>19</td>\n      <td>19</td>\n      <td>19</td>\n    </tr>\n    <tr>\n      <th>Kensington Market, Chinatown, Grange Park</th>\n      <td>74</td>\n      <td>74</td>\n      <td>74</td>\n      <td>74</td>\n      <td>74</td>\n      <td>74</td>\n    </tr>\n    <tr>\n      <th>Lawrence Park</th>\n      <td>3</td>\n      <td>3</td>\n      <td>3</td>\n      <td>3</td>\n      <td>3</td>\n      <td>3</td>\n    </tr>\n    <tr>\n      <th>Little Portugal, Trinity</th>\n      <td>45</td>\n      <td>45</td>\n      <td>45</td>\n      <td>45</td>\n      <td>45</td>\n      <td>45</td>\n    </tr>\n    <tr>\n      <th>Moore Park, Summerhill East</th>\n      <td>2</td>\n      <td>2</td>\n      <td>2</td>\n      <td>2</td>\n      <td>2</td>\n      <td>2</td>\n    </tr>\n    <tr>\n      <th>North Toronto West, Lawrence Park</th>\n      <td>18</td>\n      <td>18</td>\n      <td>18</td>\n      <td>18</td>\n      <td>18</td>\n      <td>18</td>\n    </tr>\n    <tr>\n      <th>Parkdale, Roncesvalles</th>\n      <td>14</td>\n      <td>14</td>\n      <td>14</td>\n      <td>14</td>\n      <td>14</td>\n      <td>14</td>\n    </tr>\n    <tr>\n      <th>Queen's Park, Ontario Provincial Government</th>\n      <td>33</td>\n      <td>33</td>\n      <td>33</td>\n      <td>33</td>\n      <td>33</td>\n      <td>33</td>\n    </tr>\n    <tr>\n      <th>Regent Park, Harbourfront</th>\n      <td>44</td>\n      <td>44</td>\n      <td>44</td>\n      <td>44</td>\n      <td>44</td>\n      <td>44</td>\n    </tr>\n    <tr>\n      <th>Richmond, Adelaide, King</th>\n      <td>100</td>\n      <td>100</td>\n      <td>100</td>\n      <td>100</td>\n      <td>100</td>\n      <td>100</td>\n    </tr>\n    <tr>\n      <th>Rosedale</th>\n      <td>4</td>\n      <td>4</td>\n      <td>4</td>\n      <td>4</td>\n      <td>4</td>\n      <td>4</td>\n    </tr>\n    <tr>\n      <th>Roselawn</th>\n      <td>2</td>\n      <td>2</td>\n      <td>2</td>\n      <td>2</td>\n      <td>2</td>\n      <td>2</td>\n    </tr>\n    <tr>\n      <th>Runnymede, Swansea</th>\n      <td>33</td>\n      <td>33</td>\n      <td>33</td>\n      <td>33</td>\n      <td>33</td>\n      <td>33</td>\n    </tr>\n    <tr>\n      <th>St. James Town</th>\n      <td>85</td>\n      <td>85</td>\n      <td>85</td>\n      <td>85</td>\n      <td>85</td>\n      <td>85</td>\n    </tr>\n    <tr>\n      <th>St. James Town, Cabbagetown</th>\n      <td>48</td>\n      <td>48</td>\n      <td>48</td>\n      <td>48</td>\n      <td>48</td>\n      <td>48</td>\n    </tr>\n    <tr>\n      <th>Stn A PO Boxes</th>\n      <td>96</td>\n      <td>96</td>\n      <td>96</td>\n      <td>96</td>\n      <td>96</td>\n      <td>96</td>\n    </tr>\n    <tr>\n      <th>Studio District</th>\n      <td>37</td>\n      <td>37</td>\n      <td>37</td>\n      <td>37</td>\n      <td>37</td>\n      <td>37</td>\n    </tr>\n    <tr>\n      <th>Summerhill West, Rathnelly, South Hill, Forest Hill SE, Deer Park</th>\n      <td>14</td>\n      <td>14</td>\n      <td>14</td>\n      <td>14</td>\n      <td>14</td>\n      <td>14</td>\n    </tr>\n    <tr>\n      <th>The Annex, North Midtown, Yorkville</th>\n      <td>19</td>\n      <td>19</td>\n      <td>19</td>\n      <td>19</td>\n      <td>19</td>\n      <td>19</td>\n    </tr>\n    <tr>\n      <th>The Beaches</th>\n      <td>4</td>\n      <td>4</td>\n      <td>4</td>\n      <td>4</td>\n      <td>4</td>\n      <td>4</td>\n    </tr>\n    <tr>\n      <th>The Danforth West, Riverdale</th>\n      <td>43</td>\n      <td>43</td>\n      <td>43</td>\n      <td>43</td>\n      <td>43</td>\n      <td>43</td>\n    </tr>\n    <tr>\n      <th>Toronto Dominion Centre, Design Exchange</th>\n      <td>100</td>\n      <td>100</td>\n      <td>100</td>\n      <td>100</td>\n      <td>100</td>\n      <td>100</td>\n    </tr>\n    <tr>\n      <th>University of Toronto, Harbord</th>\n      <td>34</td>\n      <td>34</td>\n      <td>34</td>\n      <td>34</td>\n      <td>34</td>\n      <td>34</td>\n    </tr>\n  </tbody>\n</table>\n</div>"
     },
     "metadata": {},
     "execution_count": 31
    }
   ],
   "source": [
    "toronto_venues.groupby('Neighbourhood').count()"
   ]
  },
  {
   "source": [
    "### Now let's see how many unique categories that can be curated."
   ],
   "cell_type": "markdown",
   "metadata": {}
  },
  {
   "cell_type": "code",
   "execution_count": 32,
   "metadata": {},
   "outputs": [
    {
     "output_type": "stream",
     "name": "stdout",
     "text": [
      "There are 235 uniques categories.\n"
     ]
    }
   ],
   "source": [
    "print('There are {} uniques categories.'.format(len(toronto_venues['Venue Category'].unique())))"
   ]
  },
  {
   "source": [
    "## Analysing Each Neighbourhood\n",
    "### Before analysing the neighbourhoods, I will apply one-hot encoding technique to normalise the dataset first."
   ],
   "cell_type": "markdown",
   "metadata": {}
  },
  {
   "cell_type": "code",
   "execution_count": 33,
   "metadata": {},
   "outputs": [
    {
     "output_type": "execute_result",
     "data": {
      "text/plain": [
       "               Neighbourhood  Afghan Restaurant  Airport  Airport Food Court  \\\n",
       "0  Regent Park, Harbourfront                  0        0                   0   \n",
       "1  Regent Park, Harbourfront                  0        0                   0   \n",
       "2  Regent Park, Harbourfront                  0        0                   0   \n",
       "3  Regent Park, Harbourfront                  0        0                   0   \n",
       "4  Regent Park, Harbourfront                  0        0                   0   \n",
       "\n",
       "   Airport Gate  Airport Lounge  Airport Service  Airport Terminal  \\\n",
       "0             0               0                0                 0   \n",
       "1             0               0                0                 0   \n",
       "2             0               0                0                 0   \n",
       "3             0               0                0                 0   \n",
       "4             0               0                0                 0   \n",
       "\n",
       "   American Restaurant  Antique Shop  ...  Theater  Theme Restaurant  \\\n",
       "0                    0             0  ...        0                 0   \n",
       "1                    0             0  ...        0                 0   \n",
       "2                    0             0  ...        0                 0   \n",
       "3                    0             0  ...        0                 0   \n",
       "4                    0             0  ...        0                 0   \n",
       "\n",
       "   Toy / Game Store  Trail  Train Station  Vegetarian / Vegan Restaurant  \\\n",
       "0                 0      0              0                              0   \n",
       "1                 0      0              0                              0   \n",
       "2                 0      0              0                              0   \n",
       "3                 0      0              0                              0   \n",
       "4                 0      0              0                              0   \n",
       "\n",
       "   Video Game Store  Vietnamese Restaurant  Wine Bar  Yoga Studio  \n",
       "0                 0                      0         0            0  \n",
       "1                 0                      0         0            0  \n",
       "2                 0                      0         0            0  \n",
       "3                 0                      0         0            0  \n",
       "4                 0                      0         0            0  \n",
       "\n",
       "[5 rows x 236 columns]"
      ],
      "text/html": "<div>\n<style scoped>\n    .dataframe tbody tr th:only-of-type {\n        vertical-align: middle;\n    }\n\n    .dataframe tbody tr th {\n        vertical-align: top;\n    }\n\n    .dataframe thead th {\n        text-align: right;\n    }\n</style>\n<table border=\"1\" class=\"dataframe\">\n  <thead>\n    <tr style=\"text-align: right;\">\n      <th></th>\n      <th>Neighbourhood</th>\n      <th>Afghan Restaurant</th>\n      <th>Airport</th>\n      <th>Airport Food Court</th>\n      <th>Airport Gate</th>\n      <th>Airport Lounge</th>\n      <th>Airport Service</th>\n      <th>Airport Terminal</th>\n      <th>American Restaurant</th>\n      <th>Antique Shop</th>\n      <th>...</th>\n      <th>Theater</th>\n      <th>Theme Restaurant</th>\n      <th>Toy / Game Store</th>\n      <th>Trail</th>\n      <th>Train Station</th>\n      <th>Vegetarian / Vegan Restaurant</th>\n      <th>Video Game Store</th>\n      <th>Vietnamese Restaurant</th>\n      <th>Wine Bar</th>\n      <th>Yoga Studio</th>\n    </tr>\n  </thead>\n  <tbody>\n    <tr>\n      <th>0</th>\n      <td>Regent Park, Harbourfront</td>\n      <td>0</td>\n      <td>0</td>\n      <td>0</td>\n      <td>0</td>\n      <td>0</td>\n      <td>0</td>\n      <td>0</td>\n      <td>0</td>\n      <td>0</td>\n      <td>...</td>\n      <td>0</td>\n      <td>0</td>\n      <td>0</td>\n      <td>0</td>\n      <td>0</td>\n      <td>0</td>\n      <td>0</td>\n      <td>0</td>\n      <td>0</td>\n      <td>0</td>\n    </tr>\n    <tr>\n      <th>1</th>\n      <td>Regent Park, Harbourfront</td>\n      <td>0</td>\n      <td>0</td>\n      <td>0</td>\n      <td>0</td>\n      <td>0</td>\n      <td>0</td>\n      <td>0</td>\n      <td>0</td>\n      <td>0</td>\n      <td>...</td>\n      <td>0</td>\n      <td>0</td>\n      <td>0</td>\n      <td>0</td>\n      <td>0</td>\n      <td>0</td>\n      <td>0</td>\n      <td>0</td>\n      <td>0</td>\n      <td>0</td>\n    </tr>\n    <tr>\n      <th>2</th>\n      <td>Regent Park, Harbourfront</td>\n      <td>0</td>\n      <td>0</td>\n      <td>0</td>\n      <td>0</td>\n      <td>0</td>\n      <td>0</td>\n      <td>0</td>\n      <td>0</td>\n      <td>0</td>\n      <td>...</td>\n      <td>0</td>\n      <td>0</td>\n      <td>0</td>\n      <td>0</td>\n      <td>0</td>\n      <td>0</td>\n      <td>0</td>\n      <td>0</td>\n      <td>0</td>\n      <td>0</td>\n    </tr>\n    <tr>\n      <th>3</th>\n      <td>Regent Park, Harbourfront</td>\n      <td>0</td>\n      <td>0</td>\n      <td>0</td>\n      <td>0</td>\n      <td>0</td>\n      <td>0</td>\n      <td>0</td>\n      <td>0</td>\n      <td>0</td>\n      <td>...</td>\n      <td>0</td>\n      <td>0</td>\n      <td>0</td>\n      <td>0</td>\n      <td>0</td>\n      <td>0</td>\n      <td>0</td>\n      <td>0</td>\n      <td>0</td>\n      <td>0</td>\n    </tr>\n    <tr>\n      <th>4</th>\n      <td>Regent Park, Harbourfront</td>\n      <td>0</td>\n      <td>0</td>\n      <td>0</td>\n      <td>0</td>\n      <td>0</td>\n      <td>0</td>\n      <td>0</td>\n      <td>0</td>\n      <td>0</td>\n      <td>...</td>\n      <td>0</td>\n      <td>0</td>\n      <td>0</td>\n      <td>0</td>\n      <td>0</td>\n      <td>0</td>\n      <td>0</td>\n      <td>0</td>\n      <td>0</td>\n      <td>0</td>\n    </tr>\n  </tbody>\n</table>\n<p>5 rows × 236 columns</p>\n</div>"
     },
     "metadata": {},
     "execution_count": 33
    }
   ],
   "source": [
    "# one hot encoding\n",
    "toronto_onehot = pd.get_dummies(toronto_venues[['Venue Category']], prefix = \"\", prefix_sep = \"\")\n",
    "\n",
    "# add neighbourhood column back to dataframe\n",
    "toronto_onehot['Neighbourhood'] = toronto_venues['Neighbourhood'] \n",
    "\n",
    "# move neighbourhood column to the first column\n",
    "fixed_columns = [toronto_onehot.columns[-1]] + list(toronto_onehot.columns[:-1])\n",
    "toronto_onehot = toronto_onehot[fixed_columns]\n",
    "\n",
    "toronto_onehot.head()"
   ]
  },
  {
   "cell_type": "code",
   "execution_count": 34,
   "metadata": {},
   "outputs": [
    {
     "output_type": "execute_result",
     "data": {
      "text/plain": [
       "(1624, 236)"
      ]
     },
     "metadata": {},
     "execution_count": 34
    }
   ],
   "source": [
    "toronto_onehot.shape"
   ]
  },
  {
   "source": [
    "### Group the rows by neighbourhood and by taking the mean of the frequency of occurance of each category."
   ],
   "cell_type": "markdown",
   "metadata": {}
  },
  {
   "cell_type": "code",
   "execution_count": 35,
   "metadata": {},
   "outputs": [
    {
     "output_type": "execute_result",
     "data": {
      "text/plain": [
       "                                        Neighbourhood  Afghan Restaurant  \\\n",
       "0                                         Berczy Park           0.000000   \n",
       "1        Brockton, Parkdale Village, Exhibition Place           0.000000   \n",
       "2   Business reply mail Processing Centre, South C...           0.000000   \n",
       "3   CN Tower, King and Spadina, Railway Lands, Har...           0.000000   \n",
       "4                                  Central Bay Street           0.000000   \n",
       "5                                            Christie           0.000000   \n",
       "6                                Church and Wellesley           0.013333   \n",
       "7                      Commerce Court, Victoria Hotel           0.000000   \n",
       "8                                          Davisville           0.000000   \n",
       "9                                    Davisville North           0.000000   \n",
       "10                       Dufferin, Dovercourt Village           0.000000   \n",
       "11             First Canadian Place, Underground city           0.000000   \n",
       "12    Forest Hill North & West, Forest Hill Road Park           0.000000   \n",
       "13                           Garden District, Ryerson           0.000000   \n",
       "14  Harbourfront East, Union Station, Toronto Islands           0.000000   \n",
       "15                      High Park, The Junction South           0.000000   \n",
       "16                     India Bazaar, The Beaches West           0.000000   \n",
       "17          Kensington Market, Chinatown, Grange Park           0.000000   \n",
       "18                                      Lawrence Park           0.000000   \n",
       "19                           Little Portugal, Trinity           0.000000   \n",
       "20                        Moore Park, Summerhill East           0.000000   \n",
       "21                  North Toronto West, Lawrence Park           0.000000   \n",
       "22                             Parkdale, Roncesvalles           0.000000   \n",
       "23        Queen's Park, Ontario Provincial Government           0.000000   \n",
       "24                          Regent Park, Harbourfront           0.000000   \n",
       "25                           Richmond, Adelaide, King           0.000000   \n",
       "26                                           Rosedale           0.000000   \n",
       "27                                           Roselawn           0.000000   \n",
       "28                                 Runnymede, Swansea           0.000000   \n",
       "29                                     St. James Town           0.000000   \n",
       "30                        St. James Town, Cabbagetown           0.000000   \n",
       "31                                     Stn A PO Boxes           0.000000   \n",
       "32                                    Studio District           0.000000   \n",
       "33  Summerhill West, Rathnelly, South Hill, Forest...           0.000000   \n",
       "34                The Annex, North Midtown, Yorkville           0.000000   \n",
       "35                                        The Beaches           0.000000   \n",
       "36                       The Danforth West, Riverdale           0.000000   \n",
       "37           Toronto Dominion Centre, Design Exchange           0.000000   \n",
       "38                     University of Toronto, Harbord           0.000000   \n",
       "\n",
       "    Airport  Airport Food Court  Airport Gate  Airport Lounge  \\\n",
       "0    0.0000              0.0000        0.0000           0.000   \n",
       "1    0.0000              0.0000        0.0000           0.000   \n",
       "2    0.0000              0.0000        0.0000           0.000   \n",
       "3    0.0625              0.0625        0.0625           0.125   \n",
       "4    0.0000              0.0000        0.0000           0.000   \n",
       "5    0.0000              0.0000        0.0000           0.000   \n",
       "6    0.0000              0.0000        0.0000           0.000   \n",
       "7    0.0000              0.0000        0.0000           0.000   \n",
       "8    0.0000              0.0000        0.0000           0.000   \n",
       "9    0.0000              0.0000        0.0000           0.000   \n",
       "10   0.0000              0.0000        0.0000           0.000   \n",
       "11   0.0000              0.0000        0.0000           0.000   \n",
       "12   0.0000              0.0000        0.0000           0.000   \n",
       "13   0.0000              0.0000        0.0000           0.000   \n",
       "14   0.0000              0.0000        0.0000           0.000   \n",
       "15   0.0000              0.0000        0.0000           0.000   \n",
       "16   0.0000              0.0000        0.0000           0.000   \n",
       "17   0.0000              0.0000        0.0000           0.000   \n",
       "18   0.0000              0.0000        0.0000           0.000   \n",
       "19   0.0000              0.0000        0.0000           0.000   \n",
       "20   0.0000              0.0000        0.0000           0.000   \n",
       "21   0.0000              0.0000        0.0000           0.000   \n",
       "22   0.0000              0.0000        0.0000           0.000   \n",
       "23   0.0000              0.0000        0.0000           0.000   \n",
       "24   0.0000              0.0000        0.0000           0.000   \n",
       "25   0.0000              0.0000        0.0000           0.000   \n",
       "26   0.0000              0.0000        0.0000           0.000   \n",
       "27   0.0000              0.0000        0.0000           0.000   \n",
       "28   0.0000              0.0000        0.0000           0.000   \n",
       "29   0.0000              0.0000        0.0000           0.000   \n",
       "30   0.0000              0.0000        0.0000           0.000   \n",
       "31   0.0000              0.0000        0.0000           0.000   \n",
       "32   0.0000              0.0000        0.0000           0.000   \n",
       "33   0.0000              0.0000        0.0000           0.000   \n",
       "34   0.0000              0.0000        0.0000           0.000   \n",
       "35   0.0000              0.0000        0.0000           0.000   \n",
       "36   0.0000              0.0000        0.0000           0.000   \n",
       "37   0.0000              0.0000        0.0000           0.000   \n",
       "38   0.0000              0.0000        0.0000           0.000   \n",
       "\n",
       "    Airport Service  Airport Terminal  American Restaurant  Antique Shop  ...  \\\n",
       "0             0.000            0.0000             0.000000      0.000000  ...   \n",
       "1             0.000            0.0000             0.000000      0.000000  ...   \n",
       "2             0.000            0.0000             0.000000      0.000000  ...   \n",
       "3             0.125            0.0625             0.000000      0.000000  ...   \n",
       "4             0.000            0.0000             0.000000      0.000000  ...   \n",
       "5             0.000            0.0000             0.000000      0.000000  ...   \n",
       "6             0.000            0.0000             0.013333      0.000000  ...   \n",
       "7             0.000            0.0000             0.030000      0.000000  ...   \n",
       "8             0.000            0.0000             0.000000      0.000000  ...   \n",
       "9             0.000            0.0000             0.000000      0.000000  ...   \n",
       "10            0.000            0.0000             0.000000      0.000000  ...   \n",
       "11            0.000            0.0000             0.030000      0.000000  ...   \n",
       "12            0.000            0.0000             0.000000      0.000000  ...   \n",
       "13            0.000            0.0000             0.000000      0.000000  ...   \n",
       "14            0.000            0.0000             0.000000      0.000000  ...   \n",
       "15            0.000            0.0000             0.000000      0.040000  ...   \n",
       "16            0.000            0.0000             0.000000      0.000000  ...   \n",
       "17            0.000            0.0000             0.000000      0.000000  ...   \n",
       "18            0.000            0.0000             0.000000      0.000000  ...   \n",
       "19            0.000            0.0000             0.000000      0.000000  ...   \n",
       "20            0.000            0.0000             0.000000      0.000000  ...   \n",
       "21            0.000            0.0000             0.000000      0.000000  ...   \n",
       "22            0.000            0.0000             0.000000      0.000000  ...   \n",
       "23            0.000            0.0000             0.000000      0.000000  ...   \n",
       "24            0.000            0.0000             0.000000      0.022727  ...   \n",
       "25            0.000            0.0000             0.020000      0.000000  ...   \n",
       "26            0.000            0.0000             0.000000      0.000000  ...   \n",
       "27            0.000            0.0000             0.000000      0.000000  ...   \n",
       "28            0.000            0.0000             0.000000      0.000000  ...   \n",
       "29            0.000            0.0000             0.035294      0.000000  ...   \n",
       "30            0.000            0.0000             0.000000      0.000000  ...   \n",
       "31            0.000            0.0000             0.010417      0.010417  ...   \n",
       "32            0.000            0.0000             0.054054      0.000000  ...   \n",
       "33            0.000            0.0000             0.071429      0.000000  ...   \n",
       "34            0.000            0.0000             0.000000      0.000000  ...   \n",
       "35            0.000            0.0000             0.000000      0.000000  ...   \n",
       "36            0.000            0.0000             0.023256      0.000000  ...   \n",
       "37            0.000            0.0000             0.030000      0.000000  ...   \n",
       "38            0.000            0.0000             0.000000      0.000000  ...   \n",
       "\n",
       "     Theater  Theme Restaurant  Toy / Game Store     Trail  Train Station  \\\n",
       "0   0.000000          0.000000          0.000000  0.000000           0.00   \n",
       "1   0.000000          0.000000          0.000000  0.000000           0.00   \n",
       "2   0.000000          0.000000          0.000000  0.000000           0.00   \n",
       "3   0.000000          0.000000          0.000000  0.000000           0.00   \n",
       "4   0.000000          0.000000          0.000000  0.000000           0.00   \n",
       "5   0.000000          0.000000          0.000000  0.000000           0.00   \n",
       "6   0.013333          0.013333          0.000000  0.000000           0.00   \n",
       "7   0.000000          0.000000          0.000000  0.000000           0.00   \n",
       "8   0.000000          0.000000          0.030303  0.000000           0.00   \n",
       "9   0.000000          0.000000          0.000000  0.000000           0.00   \n",
       "10  0.000000          0.000000          0.000000  0.000000           0.00   \n",
       "11  0.010000          0.000000          0.000000  0.000000           0.01   \n",
       "12  0.000000          0.000000          0.000000  0.250000           0.00   \n",
       "13  0.020000          0.000000          0.010000  0.000000           0.00   \n",
       "14  0.010000          0.000000          0.000000  0.000000           0.01   \n",
       "15  0.000000          0.000000          0.000000  0.000000           0.00   \n",
       "16  0.000000          0.000000          0.000000  0.000000           0.00   \n",
       "17  0.000000          0.000000          0.000000  0.000000           0.00   \n",
       "18  0.000000          0.000000          0.000000  0.000000           0.00   \n",
       "19  0.022222          0.000000          0.000000  0.000000           0.00   \n",
       "20  0.000000          0.000000          0.000000  0.500000           0.00   \n",
       "21  0.000000          0.000000          0.000000  0.000000           0.00   \n",
       "22  0.000000          0.000000          0.000000  0.000000           0.00   \n",
       "23  0.030303          0.000000          0.000000  0.000000           0.00   \n",
       "24  0.045455          0.000000          0.000000  0.000000           0.00   \n",
       "25  0.010000          0.000000          0.000000  0.000000           0.00   \n",
       "26  0.000000          0.000000          0.000000  0.250000           0.00   \n",
       "27  0.000000          0.000000          0.000000  0.000000           0.00   \n",
       "28  0.000000          0.000000          0.000000  0.000000           0.00   \n",
       "29  0.011765          0.000000          0.000000  0.000000           0.00   \n",
       "30  0.000000          0.000000          0.000000  0.000000           0.00   \n",
       "31  0.000000          0.000000          0.000000  0.000000           0.00   \n",
       "32  0.000000          0.000000          0.000000  0.000000           0.00   \n",
       "33  0.000000          0.000000          0.000000  0.000000           0.00   \n",
       "34  0.000000          0.000000          0.000000  0.000000           0.00   \n",
       "35  0.000000          0.000000          0.000000  0.250000           0.00   \n",
       "36  0.000000          0.000000          0.000000  0.023256           0.00   \n",
       "37  0.010000          0.000000          0.000000  0.000000           0.01   \n",
       "38  0.029412          0.000000          0.000000  0.000000           0.00   \n",
       "\n",
       "    Vegetarian / Vegan Restaurant  Video Game Store  Vietnamese Restaurant  \\\n",
       "0                        0.018182          0.000000               0.000000   \n",
       "1                        0.000000          0.000000               0.000000   \n",
       "2                        0.000000          0.000000               0.000000   \n",
       "3                        0.000000          0.000000               0.000000   \n",
       "4                        0.014706          0.000000               0.000000   \n",
       "5                        0.000000          0.000000               0.000000   \n",
       "6                        0.000000          0.000000               0.013333   \n",
       "7                        0.020000          0.000000               0.000000   \n",
       "8                        0.000000          0.000000               0.000000   \n",
       "9                        0.000000          0.000000               0.000000   \n",
       "10                       0.000000          0.000000               0.000000   \n",
       "11                       0.010000          0.000000               0.000000   \n",
       "12                       0.000000          0.000000               0.000000   \n",
       "13                       0.000000          0.010000               0.010000   \n",
       "14                       0.010000          0.000000               0.000000   \n",
       "15                       0.000000          0.000000               0.000000   \n",
       "16                       0.000000          0.000000               0.000000   \n",
       "17                       0.054054          0.000000               0.040541   \n",
       "18                       0.000000          0.000000               0.000000   \n",
       "19                       0.022222          0.000000               0.044444   \n",
       "20                       0.000000          0.000000               0.000000   \n",
       "21                       0.000000          0.000000               0.000000   \n",
       "22                       0.000000          0.000000               0.000000   \n",
       "23                       0.000000          0.000000               0.000000   \n",
       "24                       0.000000          0.000000               0.000000   \n",
       "25                       0.010000          0.000000               0.000000   \n",
       "26                       0.000000          0.000000               0.000000   \n",
       "27                       0.000000          0.000000               0.000000   \n",
       "28                       0.030303          0.000000               0.000000   \n",
       "29                       0.011765          0.000000               0.000000   \n",
       "30                       0.000000          0.000000               0.000000   \n",
       "31                       0.010417          0.000000               0.000000   \n",
       "32                       0.000000          0.000000               0.000000   \n",
       "33                       0.000000          0.000000               0.071429   \n",
       "34                       0.000000          0.000000               0.000000   \n",
       "35                       0.000000          0.000000               0.000000   \n",
       "36                       0.000000          0.000000               0.000000   \n",
       "37                       0.010000          0.000000               0.000000   \n",
       "38                       0.000000          0.029412               0.000000   \n",
       "\n",
       "    Wine Bar  Yoga Studio  \n",
       "0   0.000000     0.000000  \n",
       "1   0.000000     0.000000  \n",
       "2   0.000000     0.000000  \n",
       "3   0.000000     0.000000  \n",
       "4   0.014706     0.014706  \n",
       "5   0.000000     0.000000  \n",
       "6   0.000000     0.026667  \n",
       "7   0.010000     0.000000  \n",
       "8   0.000000     0.000000  \n",
       "9   0.000000     0.000000  \n",
       "10  0.000000     0.000000  \n",
       "11  0.010000     0.000000  \n",
       "12  0.000000     0.000000  \n",
       "13  0.010000     0.000000  \n",
       "14  0.010000     0.000000  \n",
       "15  0.000000     0.000000  \n",
       "16  0.000000     0.000000  \n",
       "17  0.013514     0.000000  \n",
       "18  0.000000     0.000000  \n",
       "19  0.022222     0.022222  \n",
       "20  0.000000     0.000000  \n",
       "21  0.000000     0.055556  \n",
       "22  0.000000     0.000000  \n",
       "23  0.000000     0.030303  \n",
       "24  0.000000     0.022727  \n",
       "25  0.000000     0.000000  \n",
       "26  0.000000     0.000000  \n",
       "27  0.000000     0.000000  \n",
       "28  0.000000     0.030303  \n",
       "29  0.011765     0.000000  \n",
       "30  0.000000     0.000000  \n",
       "31  0.000000     0.010417  \n",
       "32  0.027027     0.027027  \n",
       "33  0.000000     0.000000  \n",
       "34  0.000000     0.000000  \n",
       "35  0.000000     0.000000  \n",
       "36  0.000000     0.023256  \n",
       "37  0.010000     0.000000  \n",
       "38  0.000000     0.029412  \n",
       "\n",
       "[39 rows x 236 columns]"
      ],
      "text/html": "<div>\n<style scoped>\n    .dataframe tbody tr th:only-of-type {\n        vertical-align: middle;\n    }\n\n    .dataframe tbody tr th {\n        vertical-align: top;\n    }\n\n    .dataframe thead th {\n        text-align: right;\n    }\n</style>\n<table border=\"1\" class=\"dataframe\">\n  <thead>\n    <tr style=\"text-align: right;\">\n      <th></th>\n      <th>Neighbourhood</th>\n      <th>Afghan Restaurant</th>\n      <th>Airport</th>\n      <th>Airport Food Court</th>\n      <th>Airport Gate</th>\n      <th>Airport Lounge</th>\n      <th>Airport Service</th>\n      <th>Airport Terminal</th>\n      <th>American Restaurant</th>\n      <th>Antique Shop</th>\n      <th>...</th>\n      <th>Theater</th>\n      <th>Theme Restaurant</th>\n      <th>Toy / Game Store</th>\n      <th>Trail</th>\n      <th>Train Station</th>\n      <th>Vegetarian / Vegan Restaurant</th>\n      <th>Video Game Store</th>\n      <th>Vietnamese Restaurant</th>\n      <th>Wine Bar</th>\n      <th>Yoga Studio</th>\n    </tr>\n  </thead>\n  <tbody>\n    <tr>\n      <th>0</th>\n      <td>Berczy Park</td>\n      <td>0.000000</td>\n      <td>0.0000</td>\n      <td>0.0000</td>\n      <td>0.0000</td>\n      <td>0.000</td>\n      <td>0.000</td>\n      <td>0.0000</td>\n      <td>0.000000</td>\n      <td>0.000000</td>\n      <td>...</td>\n      <td>0.000000</td>\n      <td>0.000000</td>\n      <td>0.000000</td>\n      <td>0.000000</td>\n      <td>0.00</td>\n      <td>0.018182</td>\n      <td>0.000000</td>\n      <td>0.000000</td>\n      <td>0.000000</td>\n      <td>0.000000</td>\n    </tr>\n    <tr>\n      <th>1</th>\n      <td>Brockton, Parkdale Village, Exhibition Place</td>\n      <td>0.000000</td>\n      <td>0.0000</td>\n      <td>0.0000</td>\n      <td>0.0000</td>\n      <td>0.000</td>\n      <td>0.000</td>\n      <td>0.0000</td>\n      <td>0.000000</td>\n      <td>0.000000</td>\n      <td>...</td>\n      <td>0.000000</td>\n      <td>0.000000</td>\n      <td>0.000000</td>\n      <td>0.000000</td>\n      <td>0.00</td>\n      <td>0.000000</td>\n      <td>0.000000</td>\n      <td>0.000000</td>\n      <td>0.000000</td>\n      <td>0.000000</td>\n    </tr>\n    <tr>\n      <th>2</th>\n      <td>Business reply mail Processing Centre, South C...</td>\n      <td>0.000000</td>\n      <td>0.0000</td>\n      <td>0.0000</td>\n      <td>0.0000</td>\n      <td>0.000</td>\n      <td>0.000</td>\n      <td>0.0000</td>\n      <td>0.000000</td>\n      <td>0.000000</td>\n      <td>...</td>\n      <td>0.000000</td>\n      <td>0.000000</td>\n      <td>0.000000</td>\n      <td>0.000000</td>\n      <td>0.00</td>\n      <td>0.000000</td>\n      <td>0.000000</td>\n      <td>0.000000</td>\n      <td>0.000000</td>\n      <td>0.000000</td>\n    </tr>\n    <tr>\n      <th>3</th>\n      <td>CN Tower, King and Spadina, Railway Lands, Har...</td>\n      <td>0.000000</td>\n      <td>0.0625</td>\n      <td>0.0625</td>\n      <td>0.0625</td>\n      <td>0.125</td>\n      <td>0.125</td>\n      <td>0.0625</td>\n      <td>0.000000</td>\n      <td>0.000000</td>\n      <td>...</td>\n      <td>0.000000</td>\n      <td>0.000000</td>\n      <td>0.000000</td>\n      <td>0.000000</td>\n      <td>0.00</td>\n      <td>0.000000</td>\n      <td>0.000000</td>\n      <td>0.000000</td>\n      <td>0.000000</td>\n      <td>0.000000</td>\n    </tr>\n    <tr>\n      <th>4</th>\n      <td>Central Bay Street</td>\n      <td>0.000000</td>\n      <td>0.0000</td>\n      <td>0.0000</td>\n      <td>0.0000</td>\n      <td>0.000</td>\n      <td>0.000</td>\n      <td>0.0000</td>\n      <td>0.000000</td>\n      <td>0.000000</td>\n      <td>...</td>\n      <td>0.000000</td>\n      <td>0.000000</td>\n      <td>0.000000</td>\n      <td>0.000000</td>\n      <td>0.00</td>\n      <td>0.014706</td>\n      <td>0.000000</td>\n      <td>0.000000</td>\n      <td>0.014706</td>\n      <td>0.014706</td>\n    </tr>\n    <tr>\n      <th>5</th>\n      <td>Christie</td>\n      <td>0.000000</td>\n      <td>0.0000</td>\n      <td>0.0000</td>\n      <td>0.0000</td>\n      <td>0.000</td>\n      <td>0.000</td>\n      <td>0.0000</td>\n      <td>0.000000</td>\n      <td>0.000000</td>\n      <td>...</td>\n      <td>0.000000</td>\n      <td>0.000000</td>\n      <td>0.000000</td>\n      <td>0.000000</td>\n      <td>0.00</td>\n      <td>0.000000</td>\n      <td>0.000000</td>\n      <td>0.000000</td>\n      <td>0.000000</td>\n      <td>0.000000</td>\n    </tr>\n    <tr>\n      <th>6</th>\n      <td>Church and Wellesley</td>\n      <td>0.013333</td>\n      <td>0.0000</td>\n      <td>0.0000</td>\n      <td>0.0000</td>\n      <td>0.000</td>\n      <td>0.000</td>\n      <td>0.0000</td>\n      <td>0.013333</td>\n      <td>0.000000</td>\n      <td>...</td>\n      <td>0.013333</td>\n      <td>0.013333</td>\n      <td>0.000000</td>\n      <td>0.000000</td>\n      <td>0.00</td>\n      <td>0.000000</td>\n      <td>0.000000</td>\n      <td>0.013333</td>\n      <td>0.000000</td>\n      <td>0.026667</td>\n    </tr>\n    <tr>\n      <th>7</th>\n      <td>Commerce Court, Victoria Hotel</td>\n      <td>0.000000</td>\n      <td>0.0000</td>\n      <td>0.0000</td>\n      <td>0.0000</td>\n      <td>0.000</td>\n      <td>0.000</td>\n      <td>0.0000</td>\n      <td>0.030000</td>\n      <td>0.000000</td>\n      <td>...</td>\n      <td>0.000000</td>\n      <td>0.000000</td>\n      <td>0.000000</td>\n      <td>0.000000</td>\n      <td>0.00</td>\n      <td>0.020000</td>\n      <td>0.000000</td>\n      <td>0.000000</td>\n      <td>0.010000</td>\n      <td>0.000000</td>\n    </tr>\n    <tr>\n      <th>8</th>\n      <td>Davisville</td>\n      <td>0.000000</td>\n      <td>0.0000</td>\n      <td>0.0000</td>\n      <td>0.0000</td>\n      <td>0.000</td>\n      <td>0.000</td>\n      <td>0.0000</td>\n      <td>0.000000</td>\n      <td>0.000000</td>\n      <td>...</td>\n      <td>0.000000</td>\n      <td>0.000000</td>\n      <td>0.030303</td>\n      <td>0.000000</td>\n      <td>0.00</td>\n      <td>0.000000</td>\n      <td>0.000000</td>\n      <td>0.000000</td>\n      <td>0.000000</td>\n      <td>0.000000</td>\n    </tr>\n    <tr>\n      <th>9</th>\n      <td>Davisville North</td>\n      <td>0.000000</td>\n      <td>0.0000</td>\n      <td>0.0000</td>\n      <td>0.0000</td>\n      <td>0.000</td>\n      <td>0.000</td>\n      <td>0.0000</td>\n      <td>0.000000</td>\n      <td>0.000000</td>\n      <td>...</td>\n      <td>0.000000</td>\n      <td>0.000000</td>\n      <td>0.000000</td>\n      <td>0.000000</td>\n      <td>0.00</td>\n      <td>0.000000</td>\n      <td>0.000000</td>\n      <td>0.000000</td>\n      <td>0.000000</td>\n      <td>0.000000</td>\n    </tr>\n    <tr>\n      <th>10</th>\n      <td>Dufferin, Dovercourt Village</td>\n      <td>0.000000</td>\n      <td>0.0000</td>\n      <td>0.0000</td>\n      <td>0.0000</td>\n      <td>0.000</td>\n      <td>0.000</td>\n      <td>0.0000</td>\n      <td>0.000000</td>\n      <td>0.000000</td>\n      <td>...</td>\n      <td>0.000000</td>\n      <td>0.000000</td>\n      <td>0.000000</td>\n      <td>0.000000</td>\n      <td>0.00</td>\n      <td>0.000000</td>\n      <td>0.000000</td>\n      <td>0.000000</td>\n      <td>0.000000</td>\n      <td>0.000000</td>\n    </tr>\n    <tr>\n      <th>11</th>\n      <td>First Canadian Place, Underground city</td>\n      <td>0.000000</td>\n      <td>0.0000</td>\n      <td>0.0000</td>\n      <td>0.0000</td>\n      <td>0.000</td>\n      <td>0.000</td>\n      <td>0.0000</td>\n      <td>0.030000</td>\n      <td>0.000000</td>\n      <td>...</td>\n      <td>0.010000</td>\n      <td>0.000000</td>\n      <td>0.000000</td>\n      <td>0.000000</td>\n      <td>0.01</td>\n      <td>0.010000</td>\n      <td>0.000000</td>\n      <td>0.000000</td>\n      <td>0.010000</td>\n      <td>0.000000</td>\n    </tr>\n    <tr>\n      <th>12</th>\n      <td>Forest Hill North &amp; West, Forest Hill Road Park</td>\n      <td>0.000000</td>\n      <td>0.0000</td>\n      <td>0.0000</td>\n      <td>0.0000</td>\n      <td>0.000</td>\n      <td>0.000</td>\n      <td>0.0000</td>\n      <td>0.000000</td>\n      <td>0.000000</td>\n      <td>...</td>\n      <td>0.000000</td>\n      <td>0.000000</td>\n      <td>0.000000</td>\n      <td>0.250000</td>\n      <td>0.00</td>\n      <td>0.000000</td>\n      <td>0.000000</td>\n      <td>0.000000</td>\n      <td>0.000000</td>\n      <td>0.000000</td>\n    </tr>\n    <tr>\n      <th>13</th>\n      <td>Garden District, Ryerson</td>\n      <td>0.000000</td>\n      <td>0.0000</td>\n      <td>0.0000</td>\n      <td>0.0000</td>\n      <td>0.000</td>\n      <td>0.000</td>\n      <td>0.0000</td>\n      <td>0.000000</td>\n      <td>0.000000</td>\n      <td>...</td>\n      <td>0.020000</td>\n      <td>0.000000</td>\n      <td>0.010000</td>\n      <td>0.000000</td>\n      <td>0.00</td>\n      <td>0.000000</td>\n      <td>0.010000</td>\n      <td>0.010000</td>\n      <td>0.010000</td>\n      <td>0.000000</td>\n    </tr>\n    <tr>\n      <th>14</th>\n      <td>Harbourfront East, Union Station, Toronto Islands</td>\n      <td>0.000000</td>\n      <td>0.0000</td>\n      <td>0.0000</td>\n      <td>0.0000</td>\n      <td>0.000</td>\n      <td>0.000</td>\n      <td>0.0000</td>\n      <td>0.000000</td>\n      <td>0.000000</td>\n      <td>...</td>\n      <td>0.010000</td>\n      <td>0.000000</td>\n      <td>0.000000</td>\n      <td>0.000000</td>\n      <td>0.01</td>\n      <td>0.010000</td>\n      <td>0.000000</td>\n      <td>0.000000</td>\n      <td>0.010000</td>\n      <td>0.000000</td>\n    </tr>\n    <tr>\n      <th>15</th>\n      <td>High Park, The Junction South</td>\n      <td>0.000000</td>\n      <td>0.0000</td>\n      <td>0.0000</td>\n      <td>0.0000</td>\n      <td>0.000</td>\n      <td>0.000</td>\n      <td>0.0000</td>\n      <td>0.000000</td>\n      <td>0.040000</td>\n      <td>...</td>\n      <td>0.000000</td>\n      <td>0.000000</td>\n      <td>0.000000</td>\n      <td>0.000000</td>\n      <td>0.00</td>\n      <td>0.000000</td>\n      <td>0.000000</td>\n      <td>0.000000</td>\n      <td>0.000000</td>\n      <td>0.000000</td>\n    </tr>\n    <tr>\n      <th>16</th>\n      <td>India Bazaar, The Beaches West</td>\n      <td>0.000000</td>\n      <td>0.0000</td>\n      <td>0.0000</td>\n      <td>0.0000</td>\n      <td>0.000</td>\n      <td>0.000</td>\n      <td>0.0000</td>\n      <td>0.000000</td>\n      <td>0.000000</td>\n      <td>...</td>\n      <td>0.000000</td>\n      <td>0.000000</td>\n      <td>0.000000</td>\n      <td>0.000000</td>\n      <td>0.00</td>\n      <td>0.000000</td>\n      <td>0.000000</td>\n      <td>0.000000</td>\n      <td>0.000000</td>\n      <td>0.000000</td>\n    </tr>\n    <tr>\n      <th>17</th>\n      <td>Kensington Market, Chinatown, Grange Park</td>\n      <td>0.000000</td>\n      <td>0.0000</td>\n      <td>0.0000</td>\n      <td>0.0000</td>\n      <td>0.000</td>\n      <td>0.000</td>\n      <td>0.0000</td>\n      <td>0.000000</td>\n      <td>0.000000</td>\n      <td>...</td>\n      <td>0.000000</td>\n      <td>0.000000</td>\n      <td>0.000000</td>\n      <td>0.000000</td>\n      <td>0.00</td>\n      <td>0.054054</td>\n      <td>0.000000</td>\n      <td>0.040541</td>\n      <td>0.013514</td>\n      <td>0.000000</td>\n    </tr>\n    <tr>\n      <th>18</th>\n      <td>Lawrence Park</td>\n      <td>0.000000</td>\n      <td>0.0000</td>\n      <td>0.0000</td>\n      <td>0.0000</td>\n      <td>0.000</td>\n      <td>0.000</td>\n      <td>0.0000</td>\n      <td>0.000000</td>\n      <td>0.000000</td>\n      <td>...</td>\n      <td>0.000000</td>\n      <td>0.000000</td>\n      <td>0.000000</td>\n      <td>0.000000</td>\n      <td>0.00</td>\n      <td>0.000000</td>\n      <td>0.000000</td>\n      <td>0.000000</td>\n      <td>0.000000</td>\n      <td>0.000000</td>\n    </tr>\n    <tr>\n      <th>19</th>\n      <td>Little Portugal, Trinity</td>\n      <td>0.000000</td>\n      <td>0.0000</td>\n      <td>0.0000</td>\n      <td>0.0000</td>\n      <td>0.000</td>\n      <td>0.000</td>\n      <td>0.0000</td>\n      <td>0.000000</td>\n      <td>0.000000</td>\n      <td>...</td>\n      <td>0.022222</td>\n      <td>0.000000</td>\n      <td>0.000000</td>\n      <td>0.000000</td>\n      <td>0.00</td>\n      <td>0.022222</td>\n      <td>0.000000</td>\n      <td>0.044444</td>\n      <td>0.022222</td>\n      <td>0.022222</td>\n    </tr>\n    <tr>\n      <th>20</th>\n      <td>Moore Park, Summerhill East</td>\n      <td>0.000000</td>\n      <td>0.0000</td>\n      <td>0.0000</td>\n      <td>0.0000</td>\n      <td>0.000</td>\n      <td>0.000</td>\n      <td>0.0000</td>\n      <td>0.000000</td>\n      <td>0.000000</td>\n      <td>...</td>\n      <td>0.000000</td>\n      <td>0.000000</td>\n      <td>0.000000</td>\n      <td>0.500000</td>\n      <td>0.00</td>\n      <td>0.000000</td>\n      <td>0.000000</td>\n      <td>0.000000</td>\n      <td>0.000000</td>\n      <td>0.000000</td>\n    </tr>\n    <tr>\n      <th>21</th>\n      <td>North Toronto West, Lawrence Park</td>\n      <td>0.000000</td>\n      <td>0.0000</td>\n      <td>0.0000</td>\n      <td>0.0000</td>\n      <td>0.000</td>\n      <td>0.000</td>\n      <td>0.0000</td>\n      <td>0.000000</td>\n      <td>0.000000</td>\n      <td>...</td>\n      <td>0.000000</td>\n      <td>0.000000</td>\n      <td>0.000000</td>\n      <td>0.000000</td>\n      <td>0.00</td>\n      <td>0.000000</td>\n      <td>0.000000</td>\n      <td>0.000000</td>\n      <td>0.000000</td>\n      <td>0.055556</td>\n    </tr>\n    <tr>\n      <th>22</th>\n      <td>Parkdale, Roncesvalles</td>\n      <td>0.000000</td>\n      <td>0.0000</td>\n      <td>0.0000</td>\n      <td>0.0000</td>\n      <td>0.000</td>\n      <td>0.000</td>\n      <td>0.0000</td>\n      <td>0.000000</td>\n      <td>0.000000</td>\n      <td>...</td>\n      <td>0.000000</td>\n      <td>0.000000</td>\n      <td>0.000000</td>\n      <td>0.000000</td>\n      <td>0.00</td>\n      <td>0.000000</td>\n      <td>0.000000</td>\n      <td>0.000000</td>\n      <td>0.000000</td>\n      <td>0.000000</td>\n    </tr>\n    <tr>\n      <th>23</th>\n      <td>Queen's Park, Ontario Provincial Government</td>\n      <td>0.000000</td>\n      <td>0.0000</td>\n      <td>0.0000</td>\n      <td>0.0000</td>\n      <td>0.000</td>\n      <td>0.000</td>\n      <td>0.0000</td>\n      <td>0.000000</td>\n      <td>0.000000</td>\n      <td>...</td>\n      <td>0.030303</td>\n      <td>0.000000</td>\n      <td>0.000000</td>\n      <td>0.000000</td>\n      <td>0.00</td>\n      <td>0.000000</td>\n      <td>0.000000</td>\n      <td>0.000000</td>\n      <td>0.000000</td>\n      <td>0.030303</td>\n    </tr>\n    <tr>\n      <th>24</th>\n      <td>Regent Park, Harbourfront</td>\n      <td>0.000000</td>\n      <td>0.0000</td>\n      <td>0.0000</td>\n      <td>0.0000</td>\n      <td>0.000</td>\n      <td>0.000</td>\n      <td>0.0000</td>\n      <td>0.000000</td>\n      <td>0.022727</td>\n      <td>...</td>\n      <td>0.045455</td>\n      <td>0.000000</td>\n      <td>0.000000</td>\n      <td>0.000000</td>\n      <td>0.00</td>\n      <td>0.000000</td>\n      <td>0.000000</td>\n      <td>0.000000</td>\n      <td>0.000000</td>\n      <td>0.022727</td>\n    </tr>\n    <tr>\n      <th>25</th>\n      <td>Richmond, Adelaide, King</td>\n      <td>0.000000</td>\n      <td>0.0000</td>\n      <td>0.0000</td>\n      <td>0.0000</td>\n      <td>0.000</td>\n      <td>0.000</td>\n      <td>0.0000</td>\n      <td>0.020000</td>\n      <td>0.000000</td>\n      <td>...</td>\n      <td>0.010000</td>\n      <td>0.000000</td>\n      <td>0.000000</td>\n      <td>0.000000</td>\n      <td>0.00</td>\n      <td>0.010000</td>\n      <td>0.000000</td>\n      <td>0.000000</td>\n      <td>0.000000</td>\n      <td>0.000000</td>\n    </tr>\n    <tr>\n      <th>26</th>\n      <td>Rosedale</td>\n      <td>0.000000</td>\n      <td>0.0000</td>\n      <td>0.0000</td>\n      <td>0.0000</td>\n      <td>0.000</td>\n      <td>0.000</td>\n      <td>0.0000</td>\n      <td>0.000000</td>\n      <td>0.000000</td>\n      <td>...</td>\n      <td>0.000000</td>\n      <td>0.000000</td>\n      <td>0.000000</td>\n      <td>0.250000</td>\n      <td>0.00</td>\n      <td>0.000000</td>\n      <td>0.000000</td>\n      <td>0.000000</td>\n      <td>0.000000</td>\n      <td>0.000000</td>\n    </tr>\n    <tr>\n      <th>27</th>\n      <td>Roselawn</td>\n      <td>0.000000</td>\n      <td>0.0000</td>\n      <td>0.0000</td>\n      <td>0.0000</td>\n      <td>0.000</td>\n      <td>0.000</td>\n      <td>0.0000</td>\n      <td>0.000000</td>\n      <td>0.000000</td>\n      <td>...</td>\n      <td>0.000000</td>\n      <td>0.000000</td>\n      <td>0.000000</td>\n      <td>0.000000</td>\n      <td>0.00</td>\n      <td>0.000000</td>\n      <td>0.000000</td>\n      <td>0.000000</td>\n      <td>0.000000</td>\n      <td>0.000000</td>\n    </tr>\n    <tr>\n      <th>28</th>\n      <td>Runnymede, Swansea</td>\n      <td>0.000000</td>\n      <td>0.0000</td>\n      <td>0.0000</td>\n      <td>0.0000</td>\n      <td>0.000</td>\n      <td>0.000</td>\n      <td>0.0000</td>\n      <td>0.000000</td>\n      <td>0.000000</td>\n      <td>...</td>\n      <td>0.000000</td>\n      <td>0.000000</td>\n      <td>0.000000</td>\n      <td>0.000000</td>\n      <td>0.00</td>\n      <td>0.030303</td>\n      <td>0.000000</td>\n      <td>0.000000</td>\n      <td>0.000000</td>\n      <td>0.030303</td>\n    </tr>\n    <tr>\n      <th>29</th>\n      <td>St. James Town</td>\n      <td>0.000000</td>\n      <td>0.0000</td>\n      <td>0.0000</td>\n      <td>0.0000</td>\n      <td>0.000</td>\n      <td>0.000</td>\n      <td>0.0000</td>\n      <td>0.035294</td>\n      <td>0.000000</td>\n      <td>...</td>\n      <td>0.011765</td>\n      <td>0.000000</td>\n      <td>0.000000</td>\n      <td>0.000000</td>\n      <td>0.00</td>\n      <td>0.011765</td>\n      <td>0.000000</td>\n      <td>0.000000</td>\n      <td>0.011765</td>\n      <td>0.000000</td>\n    </tr>\n    <tr>\n      <th>30</th>\n      <td>St. James Town, Cabbagetown</td>\n      <td>0.000000</td>\n      <td>0.0000</td>\n      <td>0.0000</td>\n      <td>0.0000</td>\n      <td>0.000</td>\n      <td>0.000</td>\n      <td>0.0000</td>\n      <td>0.000000</td>\n      <td>0.000000</td>\n      <td>...</td>\n      <td>0.000000</td>\n      <td>0.000000</td>\n      <td>0.000000</td>\n      <td>0.000000</td>\n      <td>0.00</td>\n      <td>0.000000</td>\n      <td>0.000000</td>\n      <td>0.000000</td>\n      <td>0.000000</td>\n      <td>0.000000</td>\n    </tr>\n    <tr>\n      <th>31</th>\n      <td>Stn A PO Boxes</td>\n      <td>0.000000</td>\n      <td>0.0000</td>\n      <td>0.0000</td>\n      <td>0.0000</td>\n      <td>0.000</td>\n      <td>0.000</td>\n      <td>0.0000</td>\n      <td>0.010417</td>\n      <td>0.010417</td>\n      <td>...</td>\n      <td>0.000000</td>\n      <td>0.000000</td>\n      <td>0.000000</td>\n      <td>0.000000</td>\n      <td>0.00</td>\n      <td>0.010417</td>\n      <td>0.000000</td>\n      <td>0.000000</td>\n      <td>0.000000</td>\n      <td>0.010417</td>\n    </tr>\n    <tr>\n      <th>32</th>\n      <td>Studio District</td>\n      <td>0.000000</td>\n      <td>0.0000</td>\n      <td>0.0000</td>\n      <td>0.0000</td>\n      <td>0.000</td>\n      <td>0.000</td>\n      <td>0.0000</td>\n      <td>0.054054</td>\n      <td>0.000000</td>\n      <td>...</td>\n      <td>0.000000</td>\n      <td>0.000000</td>\n      <td>0.000000</td>\n      <td>0.000000</td>\n      <td>0.00</td>\n      <td>0.000000</td>\n      <td>0.000000</td>\n      <td>0.000000</td>\n      <td>0.027027</td>\n      <td>0.027027</td>\n    </tr>\n    <tr>\n      <th>33</th>\n      <td>Summerhill West, Rathnelly, South Hill, Forest...</td>\n      <td>0.000000</td>\n      <td>0.0000</td>\n      <td>0.0000</td>\n      <td>0.0000</td>\n      <td>0.000</td>\n      <td>0.000</td>\n      <td>0.0000</td>\n      <td>0.071429</td>\n      <td>0.000000</td>\n      <td>...</td>\n      <td>0.000000</td>\n      <td>0.000000</td>\n      <td>0.000000</td>\n      <td>0.000000</td>\n      <td>0.00</td>\n      <td>0.000000</td>\n      <td>0.000000</td>\n      <td>0.071429</td>\n      <td>0.000000</td>\n      <td>0.000000</td>\n    </tr>\n    <tr>\n      <th>34</th>\n      <td>The Annex, North Midtown, Yorkville</td>\n      <td>0.000000</td>\n      <td>0.0000</td>\n      <td>0.0000</td>\n      <td>0.0000</td>\n      <td>0.000</td>\n      <td>0.000</td>\n      <td>0.0000</td>\n      <td>0.000000</td>\n      <td>0.000000</td>\n      <td>...</td>\n      <td>0.000000</td>\n      <td>0.000000</td>\n      <td>0.000000</td>\n      <td>0.000000</td>\n      <td>0.00</td>\n      <td>0.000000</td>\n      <td>0.000000</td>\n      <td>0.000000</td>\n      <td>0.000000</td>\n      <td>0.000000</td>\n    </tr>\n    <tr>\n      <th>35</th>\n      <td>The Beaches</td>\n      <td>0.000000</td>\n      <td>0.0000</td>\n      <td>0.0000</td>\n      <td>0.0000</td>\n      <td>0.000</td>\n      <td>0.000</td>\n      <td>0.0000</td>\n      <td>0.000000</td>\n      <td>0.000000</td>\n      <td>...</td>\n      <td>0.000000</td>\n      <td>0.000000</td>\n      <td>0.000000</td>\n      <td>0.250000</td>\n      <td>0.00</td>\n      <td>0.000000</td>\n      <td>0.000000</td>\n      <td>0.000000</td>\n      <td>0.000000</td>\n      <td>0.000000</td>\n    </tr>\n    <tr>\n      <th>36</th>\n      <td>The Danforth West, Riverdale</td>\n      <td>0.000000</td>\n      <td>0.0000</td>\n      <td>0.0000</td>\n      <td>0.0000</td>\n      <td>0.000</td>\n      <td>0.000</td>\n      <td>0.0000</td>\n      <td>0.023256</td>\n      <td>0.000000</td>\n      <td>...</td>\n      <td>0.000000</td>\n      <td>0.000000</td>\n      <td>0.000000</td>\n      <td>0.023256</td>\n      <td>0.00</td>\n      <td>0.000000</td>\n      <td>0.000000</td>\n      <td>0.000000</td>\n      <td>0.000000</td>\n      <td>0.023256</td>\n    </tr>\n    <tr>\n      <th>37</th>\n      <td>Toronto Dominion Centre, Design Exchange</td>\n      <td>0.000000</td>\n      <td>0.0000</td>\n      <td>0.0000</td>\n      <td>0.0000</td>\n      <td>0.000</td>\n      <td>0.000</td>\n      <td>0.0000</td>\n      <td>0.030000</td>\n      <td>0.000000</td>\n      <td>...</td>\n      <td>0.010000</td>\n      <td>0.000000</td>\n      <td>0.000000</td>\n      <td>0.000000</td>\n      <td>0.01</td>\n      <td>0.010000</td>\n      <td>0.000000</td>\n      <td>0.000000</td>\n      <td>0.010000</td>\n      <td>0.000000</td>\n    </tr>\n    <tr>\n      <th>38</th>\n      <td>University of Toronto, Harbord</td>\n      <td>0.000000</td>\n      <td>0.0000</td>\n      <td>0.0000</td>\n      <td>0.0000</td>\n      <td>0.000</td>\n      <td>0.000</td>\n      <td>0.0000</td>\n      <td>0.000000</td>\n      <td>0.000000</td>\n      <td>...</td>\n      <td>0.029412</td>\n      <td>0.000000</td>\n      <td>0.000000</td>\n      <td>0.000000</td>\n      <td>0.00</td>\n      <td>0.000000</td>\n      <td>0.029412</td>\n      <td>0.000000</td>\n      <td>0.000000</td>\n      <td>0.029412</td>\n    </tr>\n  </tbody>\n</table>\n<p>39 rows × 236 columns</p>\n</div>"
     },
     "metadata": {},
     "execution_count": 35
    }
   ],
   "source": [
    "toronto_grouped = toronto_onehot.groupby('Neighbourhood').mean().reset_index()\n",
    "toronto_grouped"
   ]
  },
  {
   "cell_type": "code",
   "execution_count": 36,
   "metadata": {},
   "outputs": [
    {
     "output_type": "execute_result",
     "data": {
      "text/plain": [
       "(39, 236)"
      ]
     },
     "metadata": {},
     "execution_count": 36
    }
   ],
   "source": [
    "toronto_grouped.shape"
   ]
  },
  {
   "source": [
    "### What are the top 5 most common venues of each neighbourhood?"
   ],
   "cell_type": "markdown",
   "metadata": {}
  },
  {
   "cell_type": "code",
   "execution_count": 37,
   "metadata": {},
   "outputs": [
    {
     "output_type": "stream",
     "name": "stdout",
     "text": [
      "----Berczy Park----\n",
      "            venue  freq\n",
      "0     Coffee Shop  0.09\n",
      "1     Cheese Shop  0.04\n",
      "2      Restaurant  0.04\n",
      "3          Bakery  0.04\n",
      "4  Farmers Market  0.04\n",
      "\n",
      "\n",
      "----Brockton, Parkdale Village, Exhibition Place----\n",
      "            venue  freq\n",
      "0            Café  0.13\n",
      "1       Nightclub  0.09\n",
      "2     Coffee Shop  0.09\n",
      "3  Breakfast Spot  0.09\n",
      "4             Gym  0.04\n",
      "\n",
      "\n",
      "----Business reply mail Processing Centre, South Central Letter Processing Plant Toronto----\n",
      "           venue  freq\n",
      "0           Park  0.06\n",
      "1  Auto Workshop  0.06\n",
      "2        Brewery  0.06\n",
      "3     Skate Park  0.06\n",
      "4  Burrito Place  0.06\n",
      "\n",
      "\n",
      "----CN Tower, King and Spadina, Railway Lands, Harbourfront West, Bathurst Quay, South Niagara, Island airport----\n",
      "              venue  freq\n",
      "0    Airport Lounge  0.12\n",
      "1   Airport Service  0.12\n",
      "2             Plane  0.06\n",
      "3   Harbor / Marina  0.06\n",
      "4  Sculpture Garden  0.06\n",
      "\n",
      "\n",
      "----Central Bay Street----\n",
      "                venue  freq\n",
      "0         Coffee Shop  0.18\n",
      "1                Café  0.06\n",
      "2      Sandwich Place  0.04\n",
      "3  Italian Restaurant  0.04\n",
      "4     Bubble Tea Shop  0.03\n",
      "\n",
      "\n",
      "----Christie----\n",
      "           venue  freq\n",
      "0  Grocery Store  0.25\n",
      "1           Café  0.19\n",
      "2           Park  0.12\n",
      "3    Coffee Shop  0.06\n",
      "4      Nightclub  0.06\n",
      "\n",
      "\n",
      "----Church and Wellesley----\n",
      "                 venue  freq\n",
      "0          Coffee Shop  0.09\n",
      "1  Japanese Restaurant  0.05\n",
      "2     Sushi Restaurant  0.05\n",
      "3              Gay Bar  0.05\n",
      "4           Restaurant  0.04\n",
      "\n",
      "\n",
      "----Commerce Court, Victoria Hotel----\n",
      "         venue  freq\n",
      "0  Coffee Shop  0.12\n",
      "1   Restaurant  0.07\n",
      "2         Café  0.06\n",
      "3        Hotel  0.06\n",
      "4          Gym  0.04\n",
      "\n",
      "\n",
      "----Davisville----\n",
      "            venue  freq\n",
      "0  Sandwich Place  0.09\n",
      "1     Pizza Place  0.09\n",
      "2    Dessert Shop  0.09\n",
      "3            Café  0.06\n",
      "4     Coffee Shop  0.06\n",
      "\n",
      "\n",
      "----Davisville North----\n",
      "               venue  freq\n",
      "0     Breakfast Spot  0.11\n",
      "1  Food & Drink Shop  0.11\n",
      "2   Department Store  0.11\n",
      "3     Sandwich Place  0.11\n",
      "4       Dance Studio  0.11\n",
      "\n",
      "\n",
      "----Dufferin, Dovercourt Village----\n",
      "                       venue  freq\n",
      "0                   Pharmacy  0.15\n",
      "1                     Bakery  0.15\n",
      "2                Music Venue  0.08\n",
      "3                       Café  0.08\n",
      "4  Middle Eastern Restaurant  0.08\n",
      "\n",
      "\n",
      "----First Canadian Place, Underground city----\n",
      "                 venue  freq\n",
      "0          Coffee Shop  0.11\n",
      "1                 Café  0.07\n",
      "2                Hotel  0.05\n",
      "3                  Gym  0.04\n",
      "4  Japanese Restaurant  0.04\n",
      "\n",
      "\n",
      "----Forest Hill North & West, Forest Hill Road Park----\n",
      "               venue  freq\n",
      "0               Park  0.25\n",
      "1              Trail  0.25\n",
      "2      Jewelry Store  0.25\n",
      "3   Sushi Restaurant  0.25\n",
      "4  Afghan Restaurant  0.00\n",
      "\n",
      "\n",
      "----Garden District, Ryerson----\n",
      "             venue  freq\n",
      "0   Clothing Store  0.10\n",
      "1      Coffee Shop  0.09\n",
      "2             Café  0.04\n",
      "3   Cosmetics Shop  0.03\n",
      "4  Bubble Tea Shop  0.03\n",
      "\n",
      "\n",
      "----Harbourfront East, Union Station, Toronto Islands----\n",
      "         venue  freq\n",
      "0  Coffee Shop  0.13\n",
      "1     Aquarium  0.05\n",
      "2         Café  0.04\n",
      "3        Hotel  0.04\n",
      "4      Brewery  0.03\n",
      "\n",
      "\n",
      "----High Park, The Junction South----\n",
      "                 venue  freq\n",
      "0                 Café  0.08\n",
      "1   Mexican Restaurant  0.08\n",
      "2                  Bar  0.08\n",
      "3      Thai Restaurant  0.08\n",
      "4  Fried Chicken Joint  0.04\n",
      "\n",
      "\n",
      "----India Bazaar, The Beaches West----\n",
      "                  venue  freq\n",
      "0                  Park  0.11\n",
      "1                   Gym  0.05\n",
      "2         Movie Theater  0.05\n",
      "3  Fast Food Restaurant  0.05\n",
      "4         Burrito Place  0.05\n",
      "\n",
      "\n",
      "----Kensington Market, Chinatown, Grange Park----\n",
      "                           venue  freq\n",
      "0                            Bar  0.05\n",
      "1                    Coffee Shop  0.05\n",
      "2  Vegetarian / Vegan Restaurant  0.05\n",
      "3             Mexican Restaurant  0.05\n",
      "4                           Café  0.05\n",
      "\n",
      "\n",
      "----Lawrence Park----\n",
      "              venue  freq\n",
      "0              Park  0.33\n",
      "1          Bus Line  0.33\n",
      "2       Swim School  0.33\n",
      "3      Liquor Store  0.00\n",
      "4  Malay Restaurant  0.00\n",
      "\n",
      "\n",
      "----Little Portugal, Trinity----\n",
      "                   venue  freq\n",
      "0                    Bar  0.09\n",
      "1            Coffee Shop  0.07\n",
      "2             Restaurant  0.04\n",
      "3       Asian Restaurant  0.04\n",
      "4  Vietnamese Restaurant  0.04\n",
      "\n",
      "\n",
      "----Moore Park, Summerhill East----\n",
      "                 venue  freq\n",
      "0           Playground   0.5\n",
      "1                Trail   0.5\n",
      "2    Afghan Restaurant   0.0\n",
      "3  Monument / Landmark   0.0\n",
      "4               Lounge   0.0\n",
      "\n",
      "\n",
      "----North Toronto West, Lawrence Park----\n",
      "                venue  freq\n",
      "0         Coffee Shop  0.11\n",
      "1      Clothing Store  0.11\n",
      "2         Yoga Studio  0.06\n",
      "3                Park  0.06\n",
      "4  Mexican Restaurant  0.06\n",
      "\n",
      "\n",
      "----Parkdale, Roncesvalles----\n",
      "                         venue  freq\n",
      "0               Breakfast Spot  0.14\n",
      "1                    Gift Shop  0.14\n",
      "2                  Coffee Shop  0.07\n",
      "3  Eastern European Restaurant  0.07\n",
      "4                          Bar  0.07\n",
      "\n",
      "\n",
      "----Queen's Park, Ontario Provincial Government----\n",
      "                venue  freq\n",
      "0         Coffee Shop  0.24\n",
      "1                 Gym  0.03\n",
      "2            Beer Bar  0.03\n",
      "3  Chinese Restaurant  0.03\n",
      "4  College Auditorium  0.03\n",
      "\n",
      "\n",
      "----Regent Park, Harbourfront----\n",
      "         venue  freq\n",
      "0  Coffee Shop  0.18\n",
      "1       Bakery  0.07\n",
      "2          Pub  0.07\n",
      "3         Park  0.07\n",
      "4      Theater  0.05\n",
      "\n",
      "\n",
      "----Richmond, Adelaide, King----\n",
      "         venue  freq\n",
      "0  Coffee Shop  0.09\n",
      "1         Café  0.05\n",
      "2        Hotel  0.04\n",
      "3   Restaurant  0.04\n",
      "4          Gym  0.04\n",
      "\n",
      "\n",
      "----Rosedale----\n",
      "                 venue  freq\n",
      "0                 Park  0.50\n",
      "1           Playground  0.25\n",
      "2                Trail  0.25\n",
      "3  Monument / Landmark  0.00\n",
      "4               Lounge  0.00\n",
      "\n",
      "\n",
      "----Roselawn----\n",
      "                 venue  freq\n",
      "0          Music Venue   0.5\n",
      "1               Garden   0.5\n",
      "2    Afghan Restaurant   0.0\n",
      "3  Monument / Landmark   0.0\n",
      "4               Lounge   0.0\n",
      "\n",
      "\n",
      "----Runnymede, Swansea----\n",
      "              venue  freq\n",
      "0              Café  0.09\n",
      "1       Coffee Shop  0.09\n",
      "2  Sushi Restaurant  0.06\n",
      "3               Pub  0.06\n",
      "4       Pizza Place  0.06\n",
      "\n",
      "\n",
      "----St. James Town----\n",
      "          venue  freq\n",
      "0   Coffee Shop  0.07\n",
      "1          Café  0.06\n",
      "2  Cocktail Bar  0.05\n",
      "3    Restaurant  0.05\n",
      "4     Gastropub  0.04\n",
      "\n",
      "\n",
      "----St. James Town, Cabbagetown----\n",
      "         venue  freq\n",
      "0  Coffee Shop  0.08\n",
      "1         Café  0.06\n",
      "2   Restaurant  0.06\n",
      "3  Pizza Place  0.06\n",
      "4       Market  0.04\n",
      "\n",
      "\n",
      "----Stn A PO Boxes----\n",
      "                venue  freq\n",
      "0         Coffee Shop  0.10\n",
      "1  Italian Restaurant  0.04\n",
      "2  Seafood Restaurant  0.03\n",
      "3                Café  0.03\n",
      "4               Hotel  0.03\n",
      "\n",
      "\n",
      "----Studio District----\n",
      "                 venue  freq\n",
      "0          Coffee Shop  0.08\n",
      "1            Gastropub  0.05\n",
      "2               Bakery  0.05\n",
      "3              Brewery  0.05\n",
      "4  American Restaurant  0.05\n",
      "\n",
      "\n",
      "----Summerhill West, Rathnelly, South Hill, Forest Hill SE, Deer Park----\n",
      "                 venue  freq\n",
      "0          Coffee Shop  0.14\n",
      "1          Pizza Place  0.07\n",
      "2   Light Rail Station  0.07\n",
      "3  Fried Chicken Joint  0.07\n",
      "4           Restaurant  0.07\n",
      "\n",
      "\n",
      "----The Annex, North Midtown, Yorkville----\n",
      "                       venue  freq\n",
      "0                       Café  0.16\n",
      "1             Sandwich Place  0.16\n",
      "2                Coffee Shop  0.11\n",
      "3  Middle Eastern Restaurant  0.05\n",
      "4                 Donut Shop  0.05\n",
      "\n",
      "\n",
      "----The Beaches----\n",
      "               venue  freq\n",
      "0  Health Food Store  0.25\n",
      "1                Pub  0.25\n",
      "2              Trail  0.25\n",
      "3       Neighborhood  0.25\n",
      "4  Afghan Restaurant  0.00\n",
      "\n",
      "\n",
      "----The Danforth West, Riverdale----\n",
      "                    venue  freq\n",
      "0        Greek Restaurant  0.16\n",
      "1             Coffee Shop  0.09\n",
      "2      Italian Restaurant  0.07\n",
      "3  Furniture / Home Store  0.05\n",
      "4          Ice Cream Shop  0.05\n",
      "\n",
      "\n",
      "----Toronto Dominion Centre, Design Exchange----\n",
      "         venue  freq\n",
      "0  Coffee Shop  0.14\n",
      "1        Hotel  0.08\n",
      "2         Café  0.05\n",
      "3   Restaurant  0.05\n",
      "4  Salad Place  0.03\n",
      "\n",
      "\n",
      "----University of Toronto, Harbord----\n",
      "                 venue  freq\n",
      "0                 Café  0.15\n",
      "1            Bookstore  0.09\n",
      "2                  Bar  0.06\n",
      "3  Japanese Restaurant  0.06\n",
      "4       Sandwich Place  0.06\n",
      "\n",
      "\n"
     ]
    }
   ],
   "source": [
    "num_top_venues = 5\n",
    "\n",
    "for hood in toronto_grouped['Neighbourhood']:\n",
    "    print(\"----\" + hood + \"----\")\n",
    "    temp = toronto_grouped[toronto_grouped['Neighbourhood'] == hood].T.reset_index()\n",
    "    temp.columns = ['venue', 'freq']\n",
    "    temp = temp.iloc[1:]\n",
    "    temp['freq'] = temp['freq'].astype(float)\n",
    "    temp = temp.round({'freq': 2})\n",
    "    print(temp.sort_values('freq', ascending = False).reset_index(drop = True).head(num_top_venues))\n",
    "    print('\\n')"
   ]
  },
  {
   "source": [
    "### Create a dataframe and Display the top 10 venues for each neighbourhood."
   ],
   "cell_type": "markdown",
   "metadata": {}
  },
  {
   "cell_type": "code",
   "execution_count": 38,
   "metadata": {},
   "outputs": [
    {
     "output_type": "execute_result",
     "data": {
      "text/plain": [
       "                                       Neighbourhood 1st Most Common Venue  \\\n",
       "0                                        Berczy Park           Coffee Shop   \n",
       "1       Brockton, Parkdale Village, Exhibition Place                  Café   \n",
       "2  Business reply mail Processing Centre, South C...            Skate Park   \n",
       "3  CN Tower, King and Spadina, Railway Lands, Har...        Airport Lounge   \n",
       "4                                 Central Bay Street           Coffee Shop   \n",
       "\n",
       "  2nd Most Common Venue 3rd Most Common Venue 4th Most Common Venue  \\\n",
       "0                Bakery          Cocktail Bar              Beer Bar   \n",
       "1        Breakfast Spot             Nightclub           Coffee Shop   \n",
       "2           Pizza Place               Brewery         Burrito Place   \n",
       "3       Airport Service              Boutique       Harbor / Marina   \n",
       "4                  Café    Italian Restaurant        Sandwich Place   \n",
       "\n",
       "  5th Most Common Venue 6th Most Common Venue 7th Most Common Venue  \\\n",
       "0           Cheese Shop    Seafood Restaurant            Restaurant   \n",
       "1          Climbing Gym         Burrito Place            Restaurant   \n",
       "2            Restaurant        Farmers Market  Fast Food Restaurant   \n",
       "3      Sculpture Garden         Boat or Ferry   Rental Car Location   \n",
       "4   Japanese Restaurant       Bubble Tea Shop           Salad Place   \n",
       "\n",
       "  8th Most Common Venue 9th Most Common Venue 10th Most Common Venue  \n",
       "0        Farmers Market        Sandwich Place         Breakfast Spot  \n",
       "1    Italian Restaurant          Intersection                    Bar  \n",
       "2               Butcher      Recording Studio          Auto Workshop  \n",
       "3                   Bar           Coffee Shop                  Plane  \n",
       "4          Burger Joint      Department Store        Thai Restaurant  "
      ],
      "text/html": "<div>\n<style scoped>\n    .dataframe tbody tr th:only-of-type {\n        vertical-align: middle;\n    }\n\n    .dataframe tbody tr th {\n        vertical-align: top;\n    }\n\n    .dataframe thead th {\n        text-align: right;\n    }\n</style>\n<table border=\"1\" class=\"dataframe\">\n  <thead>\n    <tr style=\"text-align: right;\">\n      <th></th>\n      <th>Neighbourhood</th>\n      <th>1st Most Common Venue</th>\n      <th>2nd Most Common Venue</th>\n      <th>3rd Most Common Venue</th>\n      <th>4th Most Common Venue</th>\n      <th>5th Most Common Venue</th>\n      <th>6th Most Common Venue</th>\n      <th>7th Most Common Venue</th>\n      <th>8th Most Common Venue</th>\n      <th>9th Most Common Venue</th>\n      <th>10th Most Common Venue</th>\n    </tr>\n  </thead>\n  <tbody>\n    <tr>\n      <th>0</th>\n      <td>Berczy Park</td>\n      <td>Coffee Shop</td>\n      <td>Bakery</td>\n      <td>Cocktail Bar</td>\n      <td>Beer Bar</td>\n      <td>Cheese Shop</td>\n      <td>Seafood Restaurant</td>\n      <td>Restaurant</td>\n      <td>Farmers Market</td>\n      <td>Sandwich Place</td>\n      <td>Breakfast Spot</td>\n    </tr>\n    <tr>\n      <th>1</th>\n      <td>Brockton, Parkdale Village, Exhibition Place</td>\n      <td>Café</td>\n      <td>Breakfast Spot</td>\n      <td>Nightclub</td>\n      <td>Coffee Shop</td>\n      <td>Climbing Gym</td>\n      <td>Burrito Place</td>\n      <td>Restaurant</td>\n      <td>Italian Restaurant</td>\n      <td>Intersection</td>\n      <td>Bar</td>\n    </tr>\n    <tr>\n      <th>2</th>\n      <td>Business reply mail Processing Centre, South C...</td>\n      <td>Skate Park</td>\n      <td>Pizza Place</td>\n      <td>Brewery</td>\n      <td>Burrito Place</td>\n      <td>Restaurant</td>\n      <td>Farmers Market</td>\n      <td>Fast Food Restaurant</td>\n      <td>Butcher</td>\n      <td>Recording Studio</td>\n      <td>Auto Workshop</td>\n    </tr>\n    <tr>\n      <th>3</th>\n      <td>CN Tower, King and Spadina, Railway Lands, Har...</td>\n      <td>Airport Lounge</td>\n      <td>Airport Service</td>\n      <td>Boutique</td>\n      <td>Harbor / Marina</td>\n      <td>Sculpture Garden</td>\n      <td>Boat or Ferry</td>\n      <td>Rental Car Location</td>\n      <td>Bar</td>\n      <td>Coffee Shop</td>\n      <td>Plane</td>\n    </tr>\n    <tr>\n      <th>4</th>\n      <td>Central Bay Street</td>\n      <td>Coffee Shop</td>\n      <td>Café</td>\n      <td>Italian Restaurant</td>\n      <td>Sandwich Place</td>\n      <td>Japanese Restaurant</td>\n      <td>Bubble Tea Shop</td>\n      <td>Salad Place</td>\n      <td>Burger Joint</td>\n      <td>Department Store</td>\n      <td>Thai Restaurant</td>\n    </tr>\n  </tbody>\n</table>\n</div>"
     },
     "metadata": {},
     "execution_count": 38
    }
   ],
   "source": [
    "num_top_venues = 10\n",
    "\n",
    "indicators = ['st', 'nd', 'rd']\n",
    "\n",
    "# create columns according to number of top venues\n",
    "columns = ['Neighbourhood']\n",
    "for ind in np.arange(num_top_venues):\n",
    "    try:\n",
    "        columns.append('{}{} Most Common Venue'.format(ind + 1, indicators[ind]))\n",
    "    except:\n",
    "        columns.append('{}th Most Common Venue'.format(ind + 1))\n",
    "\n",
    "# create a new dataframe\n",
    "nbh_venues_sorted = pd.DataFrame(columns = columns)\n",
    "nbh_venues_sorted['Neighbourhood'] = toronto_grouped['Neighbourhood']\n",
    "\n",
    "for ind in np.arange(toronto_grouped.shape[0]):\n",
    "    nbh_venues_sorted.iloc[ind, 1:] = most_common_venues(toronto_grouped.iloc[ind, :], num_top_venues)\n",
    "\n",
    "nbh_venues_sorted.head()"
   ]
  },
  {
   "source": [
    "## Cluster Neighbourhoods - Toronto\n",
    "### Run K-Means to cluster the neighbourhoods into 5 clusters."
   ],
   "cell_type": "markdown",
   "metadata": {}
  },
  {
   "cell_type": "code",
   "execution_count": 39,
   "metadata": {},
   "outputs": [
    {
     "output_type": "execute_result",
     "data": {
      "text/plain": [
       "array([2, 2, 2, 2, 2, 2, 2, 2, 2, 2])"
      ]
     },
     "metadata": {},
     "execution_count": 39
    }
   ],
   "source": [
    "# set number of clusters\n",
    "kclusters = 5\n",
    "\n",
    "toronto_grouped_clustering = toronto_grouped.drop('Neighbourhood', 1)\n",
    "\n",
    "# run k-means clustering\n",
    "kmeans = KMeans(n_clusters = kclusters, random_state = 0).fit(toronto_grouped_clustering)\n",
    "\n",
    "# check cluster labels generated for each row in the dataframe\n",
    "kmeans.labels_[0:10] "
   ]
  },
  {
   "source": [
    "### Create a dataframe to store the cluster as well as the top 10 venues of each neighbourhood."
   ],
   "cell_type": "markdown",
   "metadata": {}
  },
  {
   "cell_type": "code",
   "execution_count": 40,
   "metadata": {},
   "outputs": [
    {
     "output_type": "execute_result",
     "data": {
      "text/plain": [
       "            Borough                                Neighbourhood   Latitude  \\\n",
       "0  Downtown Toronto                    Regent Park, Harbourfront  43.654260   \n",
       "1  Downtown Toronto  Queen's Park, Ontario Provincial Government  43.662301   \n",
       "2  Downtown Toronto                     Garden District, Ryerson  43.657162   \n",
       "3  Downtown Toronto                               St. James Town  43.651494   \n",
       "4      East Toronto                                  The Beaches  43.676357   \n",
       "\n",
       "   Longitude  Cluster Labels 1st Most Common Venue 2nd Most Common Venue  \\\n",
       "0 -79.360636               2           Coffee Shop                Bakery   \n",
       "1 -79.389494               2           Coffee Shop           Yoga Studio   \n",
       "2 -79.378937               2        Clothing Store           Coffee Shop   \n",
       "3 -79.375418               2           Coffee Shop                  Café   \n",
       "4 -79.293031               3                   Pub                 Trail   \n",
       "\n",
       "  3rd Most Common Venue 4th Most Common Venue  5th Most Common Venue  \\\n",
       "0                  Park                   Pub                   Café   \n",
       "1                 Diner            Restaurant  Portuguese Restaurant   \n",
       "2                  Café   Japanese Restaurant        Bubble Tea Shop   \n",
       "3          Cocktail Bar            Restaurant               Beer Bar   \n",
       "4     Health Food Store          Neighborhood            Yoga Studio   \n",
       "\n",
       "  6th Most Common Venue 7th Most Common Venue 8th Most Common Venue  \\\n",
       "0               Theater        Breakfast Spot           Event Space   \n",
       "1                  Park           Music Venue    Mexican Restaurant   \n",
       "2        Cosmetics Shop                 Diner        Lingerie Store   \n",
       "3             Gastropub   American Restaurant        Farmers Market   \n",
       "4               Dog Run    Dim Sum Restaurant                 Diner   \n",
       "\n",
       "  9th Most Common Venue 10th Most Common Venue  \n",
       "0            Shoe Store                  Hotel  \n",
       "1    Italian Restaurant             Hobby Shop  \n",
       "2      Ramen Restaurant     Italian Restaurant  \n",
       "3                 Hotel    Japanese Restaurant  \n",
       "4        Discount Store    Distribution Center  "
      ],
      "text/html": "<div>\n<style scoped>\n    .dataframe tbody tr th:only-of-type {\n        vertical-align: middle;\n    }\n\n    .dataframe tbody tr th {\n        vertical-align: top;\n    }\n\n    .dataframe thead th {\n        text-align: right;\n    }\n</style>\n<table border=\"1\" class=\"dataframe\">\n  <thead>\n    <tr style=\"text-align: right;\">\n      <th></th>\n      <th>Borough</th>\n      <th>Neighbourhood</th>\n      <th>Latitude</th>\n      <th>Longitude</th>\n      <th>Cluster Labels</th>\n      <th>1st Most Common Venue</th>\n      <th>2nd Most Common Venue</th>\n      <th>3rd Most Common Venue</th>\n      <th>4th Most Common Venue</th>\n      <th>5th Most Common Venue</th>\n      <th>6th Most Common Venue</th>\n      <th>7th Most Common Venue</th>\n      <th>8th Most Common Venue</th>\n      <th>9th Most Common Venue</th>\n      <th>10th Most Common Venue</th>\n    </tr>\n  </thead>\n  <tbody>\n    <tr>\n      <th>0</th>\n      <td>Downtown Toronto</td>\n      <td>Regent Park, Harbourfront</td>\n      <td>43.654260</td>\n      <td>-79.360636</td>\n      <td>2</td>\n      <td>Coffee Shop</td>\n      <td>Bakery</td>\n      <td>Park</td>\n      <td>Pub</td>\n      <td>Café</td>\n      <td>Theater</td>\n      <td>Breakfast Spot</td>\n      <td>Event Space</td>\n      <td>Shoe Store</td>\n      <td>Hotel</td>\n    </tr>\n    <tr>\n      <th>1</th>\n      <td>Downtown Toronto</td>\n      <td>Queen's Park, Ontario Provincial Government</td>\n      <td>43.662301</td>\n      <td>-79.389494</td>\n      <td>2</td>\n      <td>Coffee Shop</td>\n      <td>Yoga Studio</td>\n      <td>Diner</td>\n      <td>Restaurant</td>\n      <td>Portuguese Restaurant</td>\n      <td>Park</td>\n      <td>Music Venue</td>\n      <td>Mexican Restaurant</td>\n      <td>Italian Restaurant</td>\n      <td>Hobby Shop</td>\n    </tr>\n    <tr>\n      <th>2</th>\n      <td>Downtown Toronto</td>\n      <td>Garden District, Ryerson</td>\n      <td>43.657162</td>\n      <td>-79.378937</td>\n      <td>2</td>\n      <td>Clothing Store</td>\n      <td>Coffee Shop</td>\n      <td>Café</td>\n      <td>Japanese Restaurant</td>\n      <td>Bubble Tea Shop</td>\n      <td>Cosmetics Shop</td>\n      <td>Diner</td>\n      <td>Lingerie Store</td>\n      <td>Ramen Restaurant</td>\n      <td>Italian Restaurant</td>\n    </tr>\n    <tr>\n      <th>3</th>\n      <td>Downtown Toronto</td>\n      <td>St. James Town</td>\n      <td>43.651494</td>\n      <td>-79.375418</td>\n      <td>2</td>\n      <td>Coffee Shop</td>\n      <td>Café</td>\n      <td>Cocktail Bar</td>\n      <td>Restaurant</td>\n      <td>Beer Bar</td>\n      <td>Gastropub</td>\n      <td>American Restaurant</td>\n      <td>Farmers Market</td>\n      <td>Hotel</td>\n      <td>Japanese Restaurant</td>\n    </tr>\n    <tr>\n      <th>4</th>\n      <td>East Toronto</td>\n      <td>The Beaches</td>\n      <td>43.676357</td>\n      <td>-79.293031</td>\n      <td>3</td>\n      <td>Pub</td>\n      <td>Trail</td>\n      <td>Health Food Store</td>\n      <td>Neighborhood</td>\n      <td>Yoga Studio</td>\n      <td>Dog Run</td>\n      <td>Dim Sum Restaurant</td>\n      <td>Diner</td>\n      <td>Discount Store</td>\n      <td>Distribution Center</td>\n    </tr>\n  </tbody>\n</table>\n</div>"
     },
     "metadata": {},
     "execution_count": 40
    }
   ],
   "source": [
    "# add clustering labels\n",
    "nbh_venues_sorted.insert(0, 'Cluster Labels', kmeans.labels_)\n",
    "\n",
    "toronto_merged = df_toronto3\n",
    "\n",
    "# merge toronto_grouped with toronto_data to add latitude/longitude for each neighbourhood\n",
    "toronto_merged = toronto_merged.join(nbh_venues_sorted.set_index('Neighbourhood'), on = 'Neighbourhood')\n",
    "\n",
    "toronto_merged.head()"
   ]
  },
  {
   "source": [
    "### Visualise the resulting cluster."
   ],
   "cell_type": "markdown",
   "metadata": {}
  },
  {
   "cell_type": "code",
   "execution_count": 41,
   "metadata": {},
   "outputs": [
    {
     "output_type": "execute_result",
     "data": {
      "text/plain": [
       "<folium.folium.Map at 0x1f381f48250>"
      ],
      "text/html": "<div style=\"width:100%;\"><div style=\"position:relative;width:100%;height:0;padding-bottom:60%;\"><span style=\"color:#565656\">Make this Notebook Trusted to load map: File -> Trust Notebook</span><iframe src=\"about:blank\" style=\"position:absolute;width:100%;height:100%;left:0;top:0;border:none !important;\" data-html=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 onload=\"this.contentDocument.open();this.contentDocument.write(atob(this.getAttribute('data-html')));this.contentDocument.close();\" allowfullscreen webkitallowfullscreen mozallowfullscreen></iframe></div></div>"
     },
     "metadata": {},
     "execution_count": 41
    }
   ],
   "source": [
    "# create map\n",
    "map_clusters = folium.Map(location=[latitude, longitude], zoom_start=12)\n",
    "\n",
    "# set colour scheme for the clusters\n",
    "x = np.arange(kclusters)\n",
    "ys = [i + x + (i * x)**2 for i in range(kclusters)]\n",
    "colours_array = cm.rainbow(np.linspace(0, 1, len(ys)))\n",
    "rainbow = [colors.rgb2hex(i) for i in colours_array]\n",
    "\n",
    "# add markers to the map\n",
    "markers_colours = []\n",
    "for lat, lon, poi, cluster in zip(toronto_merged['Latitude'], toronto_merged['Longitude'], toronto_merged['Neighbourhood'], toronto_merged['Cluster Labels']):\n",
    "    label = folium.Popup(str(poi) + ' Cluster ' + str(cluster), parse_html = True)\n",
    "    folium.CircleMarker(\n",
    "        [lat, lon],\n",
    "        radius = 5,\n",
    "        popup = label,\n",
    "        color = rainbow[cluster - 1],\n",
    "        fill = True,\n",
    "        fill_color = rainbow[cluster - 1],\n",
    "        fill_opacity = 0.7).add_to(map_clusters)\n",
    "       \n",
    "map_clusters"
   ]
  },
  {
   "source": [
    "### Now, let's examine the categories for each cluster.\n",
    "#### Cluster 1"
   ],
   "cell_type": "markdown",
   "metadata": {}
  },
  {
   "cell_type": "code",
   "execution_count": 42,
   "metadata": {},
   "outputs": [
    {
     "output_type": "execute_result",
     "data": {
      "text/plain": [
       "                                      Neighbourhood  Cluster Labels  \\\n",
       "18                                    Lawrence Park               0   \n",
       "21  Forest Hill North & West, Forest Hill Road Park               0   \n",
       "33                                         Rosedale               0   \n",
       "\n",
       "   1st Most Common Venue 2nd Most Common Venue 3rd Most Common Venue  \\\n",
       "18                  Park              Bus Line           Swim School   \n",
       "21                  Park      Sushi Restaurant         Jewelry Store   \n",
       "33                  Park                 Trail            Playground   \n",
       "\n",
       "   4th Most Common Venue 5th Most Common Venue        6th Most Common Venue  \\\n",
       "18  Colombian Restaurant          Dessert Shop            Electronics Store   \n",
       "21                 Trail     Electronics Store  Eastern European Restaurant   \n",
       "33         Deli / Bodega     Electronics Store  Eastern European Restaurant   \n",
       "\n",
       "          7th Most Common Venue 8th Most Common Venue 9th Most Common Venue  \\\n",
       "18  Eastern European Restaurant   Dumpling Restaurant            Donut Shop   \n",
       "21          Dumpling Restaurant            Donut Shop      Doner Restaurant   \n",
       "33          Dumpling Restaurant            Donut Shop      Doner Restaurant   \n",
       "\n",
       "   10th Most Common Venue  \n",
       "18       Doner Restaurant  \n",
       "21                Dog Run  \n",
       "33                Dog Run  "
      ],
      "text/html": "<div>\n<style scoped>\n    .dataframe tbody tr th:only-of-type {\n        vertical-align: middle;\n    }\n\n    .dataframe tbody tr th {\n        vertical-align: top;\n    }\n\n    .dataframe thead th {\n        text-align: right;\n    }\n</style>\n<table border=\"1\" class=\"dataframe\">\n  <thead>\n    <tr style=\"text-align: right;\">\n      <th></th>\n      <th>Neighbourhood</th>\n      <th>Cluster Labels</th>\n      <th>1st Most Common Venue</th>\n      <th>2nd Most Common Venue</th>\n      <th>3rd Most Common Venue</th>\n      <th>4th Most Common Venue</th>\n      <th>5th Most Common Venue</th>\n      <th>6th Most Common Venue</th>\n      <th>7th Most Common Venue</th>\n      <th>8th Most Common Venue</th>\n      <th>9th Most Common Venue</th>\n      <th>10th Most Common Venue</th>\n    </tr>\n  </thead>\n  <tbody>\n    <tr>\n      <th>18</th>\n      <td>Lawrence Park</td>\n      <td>0</td>\n      <td>Park</td>\n      <td>Bus Line</td>\n      <td>Swim School</td>\n      <td>Colombian Restaurant</td>\n      <td>Dessert Shop</td>\n      <td>Electronics Store</td>\n      <td>Eastern European Restaurant</td>\n      <td>Dumpling Restaurant</td>\n      <td>Donut Shop</td>\n      <td>Doner Restaurant</td>\n    </tr>\n    <tr>\n      <th>21</th>\n      <td>Forest Hill North &amp; West, Forest Hill Road Park</td>\n      <td>0</td>\n      <td>Park</td>\n      <td>Sushi Restaurant</td>\n      <td>Jewelry Store</td>\n      <td>Trail</td>\n      <td>Electronics Store</td>\n      <td>Eastern European Restaurant</td>\n      <td>Dumpling Restaurant</td>\n      <td>Donut Shop</td>\n      <td>Doner Restaurant</td>\n      <td>Dog Run</td>\n    </tr>\n    <tr>\n      <th>33</th>\n      <td>Rosedale</td>\n      <td>0</td>\n      <td>Park</td>\n      <td>Trail</td>\n      <td>Playground</td>\n      <td>Deli / Bodega</td>\n      <td>Electronics Store</td>\n      <td>Eastern European Restaurant</td>\n      <td>Dumpling Restaurant</td>\n      <td>Donut Shop</td>\n      <td>Doner Restaurant</td>\n      <td>Dog Run</td>\n    </tr>\n  </tbody>\n</table>\n</div>"
     },
     "metadata": {},
     "execution_count": 42
    }
   ],
   "source": [
    "toronto_merged.loc[toronto_merged['Cluster Labels'] == 0, toronto_merged.columns[[1] + list(range(4, toronto_merged.shape[1]))]]"
   ]
  },
  {
   "source": [
    "#### Cluster 2"
   ],
   "cell_type": "markdown",
   "metadata": {}
  },
  {
   "cell_type": "code",
   "execution_count": 43,
   "metadata": {},
   "outputs": [
    {
     "output_type": "execute_result",
     "data": {
      "text/plain": [
       "                  Neighbourhood  Cluster Labels 1st Most Common Venue  \\\n",
       "29  Moore Park, Summerhill East               1                 Trail   \n",
       "\n",
       "   2nd Most Common Venue 3rd Most Common Venue 4th Most Common Venue  \\\n",
       "29            Playground           Yoga Studio         Deli / Bodega   \n",
       "\n",
       "   5th Most Common Venue        6th Most Common Venue 7th Most Common Venue  \\\n",
       "29     Electronics Store  Eastern European Restaurant   Dumpling Restaurant   \n",
       "\n",
       "   8th Most Common Venue 9th Most Common Venue 10th Most Common Venue  \n",
       "29            Donut Shop      Doner Restaurant                Dog Run  "
      ],
      "text/html": "<div>\n<style scoped>\n    .dataframe tbody tr th:only-of-type {\n        vertical-align: middle;\n    }\n\n    .dataframe tbody tr th {\n        vertical-align: top;\n    }\n\n    .dataframe thead th {\n        text-align: right;\n    }\n</style>\n<table border=\"1\" class=\"dataframe\">\n  <thead>\n    <tr style=\"text-align: right;\">\n      <th></th>\n      <th>Neighbourhood</th>\n      <th>Cluster Labels</th>\n      <th>1st Most Common Venue</th>\n      <th>2nd Most Common Venue</th>\n      <th>3rd Most Common Venue</th>\n      <th>4th Most Common Venue</th>\n      <th>5th Most Common Venue</th>\n      <th>6th Most Common Venue</th>\n      <th>7th Most Common Venue</th>\n      <th>8th Most Common Venue</th>\n      <th>9th Most Common Venue</th>\n      <th>10th Most Common Venue</th>\n    </tr>\n  </thead>\n  <tbody>\n    <tr>\n      <th>29</th>\n      <td>Moore Park, Summerhill East</td>\n      <td>1</td>\n      <td>Trail</td>\n      <td>Playground</td>\n      <td>Yoga Studio</td>\n      <td>Deli / Bodega</td>\n      <td>Electronics Store</td>\n      <td>Eastern European Restaurant</td>\n      <td>Dumpling Restaurant</td>\n      <td>Donut Shop</td>\n      <td>Doner Restaurant</td>\n      <td>Dog Run</td>\n    </tr>\n  </tbody>\n</table>\n</div>"
     },
     "metadata": {},
     "execution_count": 43
    }
   ],
   "source": [
    "toronto_merged.loc[toronto_merged['Cluster Labels'] == 1, toronto_merged.columns[[1] + list(range(4, toronto_merged.shape[1]))]]"
   ]
  },
  {
   "source": [
    "### Cluster 3"
   ],
   "cell_type": "markdown",
   "metadata": {}
  },
  {
   "cell_type": "code",
   "execution_count": 44,
   "metadata": {},
   "outputs": [
    {
     "output_type": "execute_result",
     "data": {
      "text/plain": [
       "                                        Neighbourhood  Cluster Labels  \\\n",
       "0                           Regent Park, Harbourfront               2   \n",
       "1         Queen's Park, Ontario Provincial Government               2   \n",
       "2                            Garden District, Ryerson               2   \n",
       "3                                      St. James Town               2   \n",
       "5                                         Berczy Park               2   \n",
       "6                                  Central Bay Street               2   \n",
       "7                                            Christie               2   \n",
       "8                            Richmond, Adelaide, King               2   \n",
       "9                        Dufferin, Dovercourt Village               2   \n",
       "10  Harbourfront East, Union Station, Toronto Islands               2   \n",
       "11                           Little Portugal, Trinity               2   \n",
       "12                       The Danforth West, Riverdale               2   \n",
       "13           Toronto Dominion Centre, Design Exchange               2   \n",
       "14       Brockton, Parkdale Village, Exhibition Place               2   \n",
       "15                     India Bazaar, The Beaches West               2   \n",
       "16                     Commerce Court, Victoria Hotel               2   \n",
       "17                                    Studio District               2   \n",
       "20                                   Davisville North               2   \n",
       "22                      High Park, The Junction South               2   \n",
       "23                  North Toronto West, Lawrence Park               2   \n",
       "24                The Annex, North Midtown, Yorkville               2   \n",
       "25                             Parkdale, Roncesvalles               2   \n",
       "26                                         Davisville               2   \n",
       "27                     University of Toronto, Harbord               2   \n",
       "28                                 Runnymede, Swansea               2   \n",
       "30          Kensington Market, Chinatown, Grange Park               2   \n",
       "31  Summerhill West, Rathnelly, South Hill, Forest...               2   \n",
       "32  CN Tower, King and Spadina, Railway Lands, Har...               2   \n",
       "34                                     Stn A PO Boxes               2   \n",
       "35                        St. James Town, Cabbagetown               2   \n",
       "36             First Canadian Place, Underground city               2   \n",
       "37                               Church and Wellesley               2   \n",
       "38  Business reply mail Processing Centre, South C...               2   \n",
       "\n",
       "   1st Most Common Venue          2nd Most Common Venue  \\\n",
       "0            Coffee Shop                         Bakery   \n",
       "1            Coffee Shop                    Yoga Studio   \n",
       "2         Clothing Store                    Coffee Shop   \n",
       "3            Coffee Shop                           Café   \n",
       "5            Coffee Shop                         Bakery   \n",
       "6            Coffee Shop                           Café   \n",
       "7          Grocery Store                           Café   \n",
       "8            Coffee Shop                           Café   \n",
       "9               Pharmacy                         Bakery   \n",
       "10           Coffee Shop                       Aquarium   \n",
       "11                   Bar                    Coffee Shop   \n",
       "12      Greek Restaurant                    Coffee Shop   \n",
       "13           Coffee Shop                          Hotel   \n",
       "14                  Café                 Breakfast Spot   \n",
       "15                  Park                            Gym   \n",
       "16           Coffee Shop                     Restaurant   \n",
       "17           Coffee Shop                         Bakery   \n",
       "20                  Park                 Sandwich Place   \n",
       "22                  Café                            Bar   \n",
       "23           Coffee Shop                 Clothing Store   \n",
       "24        Sandwich Place                           Café   \n",
       "25        Breakfast Spot                      Gift Shop   \n",
       "26        Sandwich Place                   Dessert Shop   \n",
       "27                  Café                      Bookstore   \n",
       "28                  Café                    Coffee Shop   \n",
       "30    Mexican Restaurant  Vegetarian / Vegan Restaurant   \n",
       "31           Coffee Shop                     Restaurant   \n",
       "32        Airport Lounge                Airport Service   \n",
       "34           Coffee Shop             Italian Restaurant   \n",
       "35           Coffee Shop                    Pizza Place   \n",
       "36           Coffee Shop                           Café   \n",
       "37           Coffee Shop            Japanese Restaurant   \n",
       "38            Skate Park                    Pizza Place   \n",
       "\n",
       "    3rd Most Common Venue   4th Most Common Venue  \\\n",
       "0                    Park                     Pub   \n",
       "1                   Diner              Restaurant   \n",
       "2                    Café     Japanese Restaurant   \n",
       "3            Cocktail Bar              Restaurant   \n",
       "5            Cocktail Bar                Beer Bar   \n",
       "6      Italian Restaurant          Sandwich Place   \n",
       "7                    Park             Candy Store   \n",
       "8                     Gym              Restaurant   \n",
       "9           Grocery Store                 Brewery   \n",
       "10                   Café                   Hotel   \n",
       "11  Vietnamese Restaurant              Restaurant   \n",
       "12     Italian Restaurant          Ice Cream Shop   \n",
       "13                   Café              Restaurant   \n",
       "14              Nightclub             Coffee Shop   \n",
       "15       Sushi Restaurant                 Brewery   \n",
       "16                   Café                   Hotel   \n",
       "17              Gastropub     American Restaurant   \n",
       "20           Dance Studio                   Hotel   \n",
       "22     Mexican Restaurant         Thai Restaurant   \n",
       "23             Bagel Shop  Furniture / Home Store   \n",
       "24            Coffee Shop               BBQ Joint   \n",
       "25           Dessert Shop        Cuban Restaurant   \n",
       "26            Pizza Place                     Gym   \n",
       "27                    Bar     Japanese Restaurant   \n",
       "28                    Pub             Pizza Place   \n",
       "30            Coffee Shop                     Bar   \n",
       "31    American Restaurant                    Bank   \n",
       "32               Boutique         Harbor / Marina   \n",
       "34                    Pub              Restaurant   \n",
       "35             Restaurant                    Café   \n",
       "36                  Hotel                     Gym   \n",
       "37                Gay Bar        Sushi Restaurant   \n",
       "38                Brewery           Burrito Place   \n",
       "\n",
       "          5th Most Common Venue      6th Most Common Venue  \\\n",
       "0                          Café                    Theater   \n",
       "1         Portuguese Restaurant                       Park   \n",
       "2               Bubble Tea Shop             Cosmetics Shop   \n",
       "3                      Beer Bar                  Gastropub   \n",
       "5                   Cheese Shop         Seafood Restaurant   \n",
       "6           Japanese Restaurant            Bubble Tea Shop   \n",
       "7            Italian Restaurant                  Nightclub   \n",
       "8                         Hotel            Thai Restaurant   \n",
       "9                          Bank  Middle Eastern Restaurant   \n",
       "10               Scenic Lookout                    Brewery   \n",
       "11                         Café                Men's Store   \n",
       "12                   Restaurant     Furniture / Home Store   \n",
       "13                  Salad Place        Japanese Restaurant   \n",
       "14                 Climbing Gym              Burrito Place   \n",
       "15                 Liquor Store                 Restaurant   \n",
       "16                          Gym         Italian Restaurant   \n",
       "17                      Brewery                       Café   \n",
       "20            Food & Drink Shop                    Dog Run   \n",
       "22                        Diner                  Speakeasy   \n",
       "23               Ice Cream Shop       Fast Food Restaurant   \n",
       "24               History Museum               Liquor Store   \n",
       "25  Eastern European Restaurant                    Dog Run   \n",
       "26             Sushi Restaurant         Italian Restaurant   \n",
       "27               Sandwich Place                     Bakery   \n",
       "28           Italian Restaurant           Sushi Restaurant   \n",
       "30                         Café      Vietnamese Restaurant   \n",
       "31                  Supermarket           Sushi Restaurant   \n",
       "32             Sculpture Garden              Boat or Ferry   \n",
       "34          Japanese Restaurant                   Beer Bar   \n",
       "35           Italian Restaurant                     Market   \n",
       "36                   Restaurant        Japanese Restaurant   \n",
       "37                   Restaurant                        Pub   \n",
       "38                   Restaurant             Farmers Market   \n",
       "\n",
       "   7th Most Common Venue     8th Most Common Venue 9th Most Common Venue  \\\n",
       "0         Breakfast Spot               Event Space            Shoe Store   \n",
       "1            Music Venue        Mexican Restaurant    Italian Restaurant   \n",
       "2                  Diner            Lingerie Store      Ramen Restaurant   \n",
       "3    American Restaurant            Farmers Market                 Hotel   \n",
       "5             Restaurant            Farmers Market        Sandwich Place   \n",
       "6            Salad Place              Burger Joint      Department Store   \n",
       "7             Baby Store               Coffee Shop    Athletics & Sports   \n",
       "8                    Bar            Clothing Store        Cosmetics Shop   \n",
       "9                    Bar                      Café           Supermarket   \n",
       "10           Pizza Place                Restaurant   Fried Chicken Joint   \n",
       "11      Asian Restaurant              Cupcake Shop           Record Shop   \n",
       "12             Bookstore          Sushi Restaurant     Indian Restaurant   \n",
       "13    Seafood Restaurant       American Restaurant    Italian Restaurant   \n",
       "14            Restaurant        Italian Restaurant          Intersection   \n",
       "15         Burrito Place        Italian Restaurant  Fast Food Restaurant   \n",
       "16    Seafood Restaurant       Japanese Restaurant         Deli / Bodega   \n",
       "17                 Diner                       Bar        Ice Cream Shop   \n",
       "20      Department Store            Breakfast Spot  Gym / Fitness Center   \n",
       "22        Discount Store                    Bakery   Fried Chicken Joint   \n",
       "23                 Diner        Mexican Restaurant                  Park   \n",
       "24          Burger Joint         Indian Restaurant                   Pub   \n",
       "25    Italian Restaurant                       Bar            Restaurant   \n",
       "26           Coffee Shop                      Café            Restaurant   \n",
       "27           Yoga Studio                  Beer Bar            Beer Store   \n",
       "28           Yoga Studio              Gourmet Shop            Restaurant   \n",
       "30                  Park               Pizza Place           Gaming Cafe   \n",
       "31   Fried Chicken Joint               Pizza Place            Bagel Shop   \n",
       "32   Rental Car Location                       Bar           Coffee Shop   \n",
       "34                 Hotel        Seafood Restaurant                  Café   \n",
       "35    Chinese Restaurant                    Bakery                  Park   \n",
       "36   American Restaurant               Salad Place    Seafood Restaurant   \n",
       "37           Men's Store  Mediterranean Restaurant                 Hotel   \n",
       "38  Fast Food Restaurant                   Butcher      Recording Studio   \n",
       "\n",
       "       10th Most Common Venue  \n",
       "0                       Hotel  \n",
       "1                  Hobby Shop  \n",
       "2          Italian Restaurant  \n",
       "3         Japanese Restaurant  \n",
       "5              Breakfast Spot  \n",
       "6             Thai Restaurant  \n",
       "7                  Restaurant  \n",
       "8                Concert Hall  \n",
       "9                 Music Venue  \n",
       "10         Italian Restaurant  \n",
       "11                Pizza Place  \n",
       "12                        Spa  \n",
       "13                     Bakery  \n",
       "14                        Bar  \n",
       "15                        Pub  \n",
       "16        American Restaurant  \n",
       "17                Fish Market  \n",
       "20                 Donut Shop  \n",
       "22         Italian Restaurant  \n",
       "23         Chinese Restaurant  \n",
       "24  Middle Eastern Restaurant  \n",
       "25              Movie Theater  \n",
       "26         Seafood Restaurant  \n",
       "27                 Restaurant  \n",
       "28  Latin American Restaurant  \n",
       "30               Dessert Shop  \n",
       "31                        Pub  \n",
       "32                      Plane  \n",
       "34                        Gym  \n",
       "35                        Pub  \n",
       "36                 Steakhouse  \n",
       "37                Yoga Studio  \n",
       "38              Auto Workshop  "
      ],
      "text/html": "<div>\n<style scoped>\n    .dataframe tbody tr th:only-of-type {\n        vertical-align: middle;\n    }\n\n    .dataframe tbody tr th {\n        vertical-align: top;\n    }\n\n    .dataframe thead th {\n        text-align: right;\n    }\n</style>\n<table border=\"1\" class=\"dataframe\">\n  <thead>\n    <tr style=\"text-align: right;\">\n      <th></th>\n      <th>Neighbourhood</th>\n      <th>Cluster Labels</th>\n      <th>1st Most Common Venue</th>\n      <th>2nd Most Common Venue</th>\n      <th>3rd Most Common Venue</th>\n      <th>4th Most Common Venue</th>\n      <th>5th Most Common Venue</th>\n      <th>6th Most Common Venue</th>\n      <th>7th Most Common Venue</th>\n      <th>8th Most Common Venue</th>\n      <th>9th Most Common Venue</th>\n      <th>10th Most Common Venue</th>\n    </tr>\n  </thead>\n  <tbody>\n    <tr>\n      <th>0</th>\n      <td>Regent Park, Harbourfront</td>\n      <td>2</td>\n      <td>Coffee Shop</td>\n      <td>Bakery</td>\n      <td>Park</td>\n      <td>Pub</td>\n      <td>Café</td>\n      <td>Theater</td>\n      <td>Breakfast Spot</td>\n      <td>Event Space</td>\n      <td>Shoe Store</td>\n      <td>Hotel</td>\n    </tr>\n    <tr>\n      <th>1</th>\n      <td>Queen's Park, Ontario Provincial Government</td>\n      <td>2</td>\n      <td>Coffee Shop</td>\n      <td>Yoga Studio</td>\n      <td>Diner</td>\n      <td>Restaurant</td>\n      <td>Portuguese Restaurant</td>\n      <td>Park</td>\n      <td>Music Venue</td>\n      <td>Mexican Restaurant</td>\n      <td>Italian Restaurant</td>\n      <td>Hobby Shop</td>\n    </tr>\n    <tr>\n      <th>2</th>\n      <td>Garden District, Ryerson</td>\n      <td>2</td>\n      <td>Clothing Store</td>\n      <td>Coffee Shop</td>\n      <td>Café</td>\n      <td>Japanese Restaurant</td>\n      <td>Bubble Tea Shop</td>\n      <td>Cosmetics Shop</td>\n      <td>Diner</td>\n      <td>Lingerie Store</td>\n      <td>Ramen Restaurant</td>\n      <td>Italian Restaurant</td>\n    </tr>\n    <tr>\n      <th>3</th>\n      <td>St. James Town</td>\n      <td>2</td>\n      <td>Coffee Shop</td>\n      <td>Café</td>\n      <td>Cocktail Bar</td>\n      <td>Restaurant</td>\n      <td>Beer Bar</td>\n      <td>Gastropub</td>\n      <td>American Restaurant</td>\n      <td>Farmers Market</td>\n      <td>Hotel</td>\n      <td>Japanese Restaurant</td>\n    </tr>\n    <tr>\n      <th>5</th>\n      <td>Berczy Park</td>\n      <td>2</td>\n      <td>Coffee Shop</td>\n      <td>Bakery</td>\n      <td>Cocktail Bar</td>\n      <td>Beer Bar</td>\n      <td>Cheese Shop</td>\n      <td>Seafood Restaurant</td>\n      <td>Restaurant</td>\n      <td>Farmers Market</td>\n      <td>Sandwich Place</td>\n      <td>Breakfast Spot</td>\n    </tr>\n    <tr>\n      <th>6</th>\n      <td>Central Bay Street</td>\n      <td>2</td>\n      <td>Coffee Shop</td>\n      <td>Café</td>\n      <td>Italian Restaurant</td>\n      <td>Sandwich Place</td>\n      <td>Japanese Restaurant</td>\n      <td>Bubble Tea Shop</td>\n      <td>Salad Place</td>\n      <td>Burger Joint</td>\n      <td>Department Store</td>\n      <td>Thai Restaurant</td>\n    </tr>\n    <tr>\n      <th>7</th>\n      <td>Christie</td>\n      <td>2</td>\n      <td>Grocery Store</td>\n      <td>Café</td>\n      <td>Park</td>\n      <td>Candy Store</td>\n      <td>Italian Restaurant</td>\n      <td>Nightclub</td>\n      <td>Baby Store</td>\n      <td>Coffee Shop</td>\n      <td>Athletics &amp; Sports</td>\n      <td>Restaurant</td>\n    </tr>\n    <tr>\n      <th>8</th>\n      <td>Richmond, Adelaide, King</td>\n      <td>2</td>\n      <td>Coffee Shop</td>\n      <td>Café</td>\n      <td>Gym</td>\n      <td>Restaurant</td>\n      <td>Hotel</td>\n      <td>Thai Restaurant</td>\n      <td>Bar</td>\n      <td>Clothing Store</td>\n      <td>Cosmetics Shop</td>\n      <td>Concert Hall</td>\n    </tr>\n    <tr>\n      <th>9</th>\n      <td>Dufferin, Dovercourt Village</td>\n      <td>2</td>\n      <td>Pharmacy</td>\n      <td>Bakery</td>\n      <td>Grocery Store</td>\n      <td>Brewery</td>\n      <td>Bank</td>\n      <td>Middle Eastern Restaurant</td>\n      <td>Bar</td>\n      <td>Café</td>\n      <td>Supermarket</td>\n      <td>Music Venue</td>\n    </tr>\n    <tr>\n      <th>10</th>\n      <td>Harbourfront East, Union Station, Toronto Islands</td>\n      <td>2</td>\n      <td>Coffee Shop</td>\n      <td>Aquarium</td>\n      <td>Café</td>\n      <td>Hotel</td>\n      <td>Scenic Lookout</td>\n      <td>Brewery</td>\n      <td>Pizza Place</td>\n      <td>Restaurant</td>\n      <td>Fried Chicken Joint</td>\n      <td>Italian Restaurant</td>\n    </tr>\n    <tr>\n      <th>11</th>\n      <td>Little Portugal, Trinity</td>\n      <td>2</td>\n      <td>Bar</td>\n      <td>Coffee Shop</td>\n      <td>Vietnamese Restaurant</td>\n      <td>Restaurant</td>\n      <td>Café</td>\n      <td>Men's Store</td>\n      <td>Asian Restaurant</td>\n      <td>Cupcake Shop</td>\n      <td>Record Shop</td>\n      <td>Pizza Place</td>\n    </tr>\n    <tr>\n      <th>12</th>\n      <td>The Danforth West, Riverdale</td>\n      <td>2</td>\n      <td>Greek Restaurant</td>\n      <td>Coffee Shop</td>\n      <td>Italian Restaurant</td>\n      <td>Ice Cream Shop</td>\n      <td>Restaurant</td>\n      <td>Furniture / Home Store</td>\n      <td>Bookstore</td>\n      <td>Sushi Restaurant</td>\n      <td>Indian Restaurant</td>\n      <td>Spa</td>\n    </tr>\n    <tr>\n      <th>13</th>\n      <td>Toronto Dominion Centre, Design Exchange</td>\n      <td>2</td>\n      <td>Coffee Shop</td>\n      <td>Hotel</td>\n      <td>Café</td>\n      <td>Restaurant</td>\n      <td>Salad Place</td>\n      <td>Japanese Restaurant</td>\n      <td>Seafood Restaurant</td>\n      <td>American Restaurant</td>\n      <td>Italian Restaurant</td>\n      <td>Bakery</td>\n    </tr>\n    <tr>\n      <th>14</th>\n      <td>Brockton, Parkdale Village, Exhibition Place</td>\n      <td>2</td>\n      <td>Café</td>\n      <td>Breakfast Spot</td>\n      <td>Nightclub</td>\n      <td>Coffee Shop</td>\n      <td>Climbing Gym</td>\n      <td>Burrito Place</td>\n      <td>Restaurant</td>\n      <td>Italian Restaurant</td>\n      <td>Intersection</td>\n      <td>Bar</td>\n    </tr>\n    <tr>\n      <th>15</th>\n      <td>India Bazaar, The Beaches West</td>\n      <td>2</td>\n      <td>Park</td>\n      <td>Gym</td>\n      <td>Sushi Restaurant</td>\n      <td>Brewery</td>\n      <td>Liquor Store</td>\n      <td>Restaurant</td>\n      <td>Burrito Place</td>\n      <td>Italian Restaurant</td>\n      <td>Fast Food Restaurant</td>\n      <td>Pub</td>\n    </tr>\n    <tr>\n      <th>16</th>\n      <td>Commerce Court, Victoria Hotel</td>\n      <td>2</td>\n      <td>Coffee Shop</td>\n      <td>Restaurant</td>\n      <td>Café</td>\n      <td>Hotel</td>\n      <td>Gym</td>\n      <td>Italian Restaurant</td>\n      <td>Seafood Restaurant</td>\n      <td>Japanese Restaurant</td>\n      <td>Deli / Bodega</td>\n      <td>American Restaurant</td>\n    </tr>\n    <tr>\n      <th>17</th>\n      <td>Studio District</td>\n      <td>2</td>\n      <td>Coffee Shop</td>\n      <td>Bakery</td>\n      <td>Gastropub</td>\n      <td>American Restaurant</td>\n      <td>Brewery</td>\n      <td>Café</td>\n      <td>Diner</td>\n      <td>Bar</td>\n      <td>Ice Cream Shop</td>\n      <td>Fish Market</td>\n    </tr>\n    <tr>\n      <th>20</th>\n      <td>Davisville North</td>\n      <td>2</td>\n      <td>Park</td>\n      <td>Sandwich Place</td>\n      <td>Dance Studio</td>\n      <td>Hotel</td>\n      <td>Food &amp; Drink Shop</td>\n      <td>Dog Run</td>\n      <td>Department Store</td>\n      <td>Breakfast Spot</td>\n      <td>Gym / Fitness Center</td>\n      <td>Donut Shop</td>\n    </tr>\n    <tr>\n      <th>22</th>\n      <td>High Park, The Junction South</td>\n      <td>2</td>\n      <td>Café</td>\n      <td>Bar</td>\n      <td>Mexican Restaurant</td>\n      <td>Thai Restaurant</td>\n      <td>Diner</td>\n      <td>Speakeasy</td>\n      <td>Discount Store</td>\n      <td>Bakery</td>\n      <td>Fried Chicken Joint</td>\n      <td>Italian Restaurant</td>\n    </tr>\n    <tr>\n      <th>23</th>\n      <td>North Toronto West, Lawrence Park</td>\n      <td>2</td>\n      <td>Coffee Shop</td>\n      <td>Clothing Store</td>\n      <td>Bagel Shop</td>\n      <td>Furniture / Home Store</td>\n      <td>Ice Cream Shop</td>\n      <td>Fast Food Restaurant</td>\n      <td>Diner</td>\n      <td>Mexican Restaurant</td>\n      <td>Park</td>\n      <td>Chinese Restaurant</td>\n    </tr>\n    <tr>\n      <th>24</th>\n      <td>The Annex, North Midtown, Yorkville</td>\n      <td>2</td>\n      <td>Sandwich Place</td>\n      <td>Café</td>\n      <td>Coffee Shop</td>\n      <td>BBQ Joint</td>\n      <td>History Museum</td>\n      <td>Liquor Store</td>\n      <td>Burger Joint</td>\n      <td>Indian Restaurant</td>\n      <td>Pub</td>\n      <td>Middle Eastern Restaurant</td>\n    </tr>\n    <tr>\n      <th>25</th>\n      <td>Parkdale, Roncesvalles</td>\n      <td>2</td>\n      <td>Breakfast Spot</td>\n      <td>Gift Shop</td>\n      <td>Dessert Shop</td>\n      <td>Cuban Restaurant</td>\n      <td>Eastern European Restaurant</td>\n      <td>Dog Run</td>\n      <td>Italian Restaurant</td>\n      <td>Bar</td>\n      <td>Restaurant</td>\n      <td>Movie Theater</td>\n    </tr>\n    <tr>\n      <th>26</th>\n      <td>Davisville</td>\n      <td>2</td>\n      <td>Sandwich Place</td>\n      <td>Dessert Shop</td>\n      <td>Pizza Place</td>\n      <td>Gym</td>\n      <td>Sushi Restaurant</td>\n      <td>Italian Restaurant</td>\n      <td>Coffee Shop</td>\n      <td>Café</td>\n      <td>Restaurant</td>\n      <td>Seafood Restaurant</td>\n    </tr>\n    <tr>\n      <th>27</th>\n      <td>University of Toronto, Harbord</td>\n      <td>2</td>\n      <td>Café</td>\n      <td>Bookstore</td>\n      <td>Bar</td>\n      <td>Japanese Restaurant</td>\n      <td>Sandwich Place</td>\n      <td>Bakery</td>\n      <td>Yoga Studio</td>\n      <td>Beer Bar</td>\n      <td>Beer Store</td>\n      <td>Restaurant</td>\n    </tr>\n    <tr>\n      <th>28</th>\n      <td>Runnymede, Swansea</td>\n      <td>2</td>\n      <td>Café</td>\n      <td>Coffee Shop</td>\n      <td>Pub</td>\n      <td>Pizza Place</td>\n      <td>Italian Restaurant</td>\n      <td>Sushi Restaurant</td>\n      <td>Yoga Studio</td>\n      <td>Gourmet Shop</td>\n      <td>Restaurant</td>\n      <td>Latin American Restaurant</td>\n    </tr>\n    <tr>\n      <th>30</th>\n      <td>Kensington Market, Chinatown, Grange Park</td>\n      <td>2</td>\n      <td>Mexican Restaurant</td>\n      <td>Vegetarian / Vegan Restaurant</td>\n      <td>Coffee Shop</td>\n      <td>Bar</td>\n      <td>Café</td>\n      <td>Vietnamese Restaurant</td>\n      <td>Park</td>\n      <td>Pizza Place</td>\n      <td>Gaming Cafe</td>\n      <td>Dessert Shop</td>\n    </tr>\n    <tr>\n      <th>31</th>\n      <td>Summerhill West, Rathnelly, South Hill, Forest...</td>\n      <td>2</td>\n      <td>Coffee Shop</td>\n      <td>Restaurant</td>\n      <td>American Restaurant</td>\n      <td>Bank</td>\n      <td>Supermarket</td>\n      <td>Sushi Restaurant</td>\n      <td>Fried Chicken Joint</td>\n      <td>Pizza Place</td>\n      <td>Bagel Shop</td>\n      <td>Pub</td>\n    </tr>\n    <tr>\n      <th>32</th>\n      <td>CN Tower, King and Spadina, Railway Lands, Har...</td>\n      <td>2</td>\n      <td>Airport Lounge</td>\n      <td>Airport Service</td>\n      <td>Boutique</td>\n      <td>Harbor / Marina</td>\n      <td>Sculpture Garden</td>\n      <td>Boat or Ferry</td>\n      <td>Rental Car Location</td>\n      <td>Bar</td>\n      <td>Coffee Shop</td>\n      <td>Plane</td>\n    </tr>\n    <tr>\n      <th>34</th>\n      <td>Stn A PO Boxes</td>\n      <td>2</td>\n      <td>Coffee Shop</td>\n      <td>Italian Restaurant</td>\n      <td>Pub</td>\n      <td>Restaurant</td>\n      <td>Japanese Restaurant</td>\n      <td>Beer Bar</td>\n      <td>Hotel</td>\n      <td>Seafood Restaurant</td>\n      <td>Café</td>\n      <td>Gym</td>\n    </tr>\n    <tr>\n      <th>35</th>\n      <td>St. James Town, Cabbagetown</td>\n      <td>2</td>\n      <td>Coffee Shop</td>\n      <td>Pizza Place</td>\n      <td>Restaurant</td>\n      <td>Café</td>\n      <td>Italian Restaurant</td>\n      <td>Market</td>\n      <td>Chinese Restaurant</td>\n      <td>Bakery</td>\n      <td>Park</td>\n      <td>Pub</td>\n    </tr>\n    <tr>\n      <th>36</th>\n      <td>First Canadian Place, Underground city</td>\n      <td>2</td>\n      <td>Coffee Shop</td>\n      <td>Café</td>\n      <td>Hotel</td>\n      <td>Gym</td>\n      <td>Restaurant</td>\n      <td>Japanese Restaurant</td>\n      <td>American Restaurant</td>\n      <td>Salad Place</td>\n      <td>Seafood Restaurant</td>\n      <td>Steakhouse</td>\n    </tr>\n    <tr>\n      <th>37</th>\n      <td>Church and Wellesley</td>\n      <td>2</td>\n      <td>Coffee Shop</td>\n      <td>Japanese Restaurant</td>\n      <td>Gay Bar</td>\n      <td>Sushi Restaurant</td>\n      <td>Restaurant</td>\n      <td>Pub</td>\n      <td>Men's Store</td>\n      <td>Mediterranean Restaurant</td>\n      <td>Hotel</td>\n      <td>Yoga Studio</td>\n    </tr>\n    <tr>\n      <th>38</th>\n      <td>Business reply mail Processing Centre, South C...</td>\n      <td>2</td>\n      <td>Skate Park</td>\n      <td>Pizza Place</td>\n      <td>Brewery</td>\n      <td>Burrito Place</td>\n      <td>Restaurant</td>\n      <td>Farmers Market</td>\n      <td>Fast Food Restaurant</td>\n      <td>Butcher</td>\n      <td>Recording Studio</td>\n      <td>Auto Workshop</td>\n    </tr>\n  </tbody>\n</table>\n</div>"
     },
     "metadata": {},
     "execution_count": 44
    }
   ],
   "source": [
    "toronto_merged.loc[toronto_merged['Cluster Labels'] == 2, toronto_merged.columns[[1] + list(range(4, toronto_merged.shape[1]))]]"
   ]
  },
  {
   "source": [
    "### Cluster 4"
   ],
   "cell_type": "markdown",
   "metadata": {}
  },
  {
   "cell_type": "code",
   "execution_count": 45,
   "metadata": {},
   "outputs": [
    {
     "output_type": "execute_result",
     "data": {
      "text/plain": [
       "  Neighbourhood  Cluster Labels 1st Most Common Venue 2nd Most Common Venue  \\\n",
       "4   The Beaches               3                   Pub                 Trail   \n",
       "\n",
       "  3rd Most Common Venue 4th Most Common Venue 5th Most Common Venue  \\\n",
       "4     Health Food Store          Neighborhood           Yoga Studio   \n",
       "\n",
       "  6th Most Common Venue 7th Most Common Venue 8th Most Common Venue  \\\n",
       "4               Dog Run    Dim Sum Restaurant                 Diner   \n",
       "\n",
       "  9th Most Common Venue 10th Most Common Venue  \n",
       "4        Discount Store    Distribution Center  "
      ],
      "text/html": "<div>\n<style scoped>\n    .dataframe tbody tr th:only-of-type {\n        vertical-align: middle;\n    }\n\n    .dataframe tbody tr th {\n        vertical-align: top;\n    }\n\n    .dataframe thead th {\n        text-align: right;\n    }\n</style>\n<table border=\"1\" class=\"dataframe\">\n  <thead>\n    <tr style=\"text-align: right;\">\n      <th></th>\n      <th>Neighbourhood</th>\n      <th>Cluster Labels</th>\n      <th>1st Most Common Venue</th>\n      <th>2nd Most Common Venue</th>\n      <th>3rd Most Common Venue</th>\n      <th>4th Most Common Venue</th>\n      <th>5th Most Common Venue</th>\n      <th>6th Most Common Venue</th>\n      <th>7th Most Common Venue</th>\n      <th>8th Most Common Venue</th>\n      <th>9th Most Common Venue</th>\n      <th>10th Most Common Venue</th>\n    </tr>\n  </thead>\n  <tbody>\n    <tr>\n      <th>4</th>\n      <td>The Beaches</td>\n      <td>3</td>\n      <td>Pub</td>\n      <td>Trail</td>\n      <td>Health Food Store</td>\n      <td>Neighborhood</td>\n      <td>Yoga Studio</td>\n      <td>Dog Run</td>\n      <td>Dim Sum Restaurant</td>\n      <td>Diner</td>\n      <td>Discount Store</td>\n      <td>Distribution Center</td>\n    </tr>\n  </tbody>\n</table>\n</div>"
     },
     "metadata": {},
     "execution_count": 45
    }
   ],
   "source": [
    "toronto_merged.loc[toronto_merged['Cluster Labels'] == 3, toronto_merged.columns[[1] + list(range(4, toronto_merged.shape[1]))]]"
   ]
  },
  {
   "source": [
    "### Cluster 5"
   ],
   "cell_type": "markdown",
   "metadata": {}
  },
  {
   "cell_type": "code",
   "execution_count": 46,
   "metadata": {},
   "outputs": [
    {
     "output_type": "execute_result",
     "data": {
      "text/plain": [
       "   Neighbourhood  Cluster Labels 1st Most Common Venue 2nd Most Common Venue  \\\n",
       "19      Roselawn               4           Music Venue                Garden   \n",
       "\n",
       "   3rd Most Common Venue 4th Most Common Venue 5th Most Common Venue  \\\n",
       "19           Yoga Studio      Department Store           Escape Room   \n",
       "\n",
       "   6th Most Common Venue        7th Most Common Venue 8th Most Common Venue  \\\n",
       "19     Electronics Store  Eastern European Restaurant   Dumpling Restaurant   \n",
       "\n",
       "   9th Most Common Venue 10th Most Common Venue  \n",
       "19            Donut Shop       Doner Restaurant  "
      ],
      "text/html": "<div>\n<style scoped>\n    .dataframe tbody tr th:only-of-type {\n        vertical-align: middle;\n    }\n\n    .dataframe tbody tr th {\n        vertical-align: top;\n    }\n\n    .dataframe thead th {\n        text-align: right;\n    }\n</style>\n<table border=\"1\" class=\"dataframe\">\n  <thead>\n    <tr style=\"text-align: right;\">\n      <th></th>\n      <th>Neighbourhood</th>\n      <th>Cluster Labels</th>\n      <th>1st Most Common Venue</th>\n      <th>2nd Most Common Venue</th>\n      <th>3rd Most Common Venue</th>\n      <th>4th Most Common Venue</th>\n      <th>5th Most Common Venue</th>\n      <th>6th Most Common Venue</th>\n      <th>7th Most Common Venue</th>\n      <th>8th Most Common Venue</th>\n      <th>9th Most Common Venue</th>\n      <th>10th Most Common Venue</th>\n    </tr>\n  </thead>\n  <tbody>\n    <tr>\n      <th>19</th>\n      <td>Roselawn</td>\n      <td>4</td>\n      <td>Music Venue</td>\n      <td>Garden</td>\n      <td>Yoga Studio</td>\n      <td>Department Store</td>\n      <td>Escape Room</td>\n      <td>Electronics Store</td>\n      <td>Eastern European Restaurant</td>\n      <td>Dumpling Restaurant</td>\n      <td>Donut Shop</td>\n      <td>Doner Restaurant</td>\n    </tr>\n  </tbody>\n</table>\n</div>"
     },
     "metadata": {},
     "execution_count": 46
    }
   ],
   "source": [
    "toronto_merged.loc[toronto_merged['Cluster Labels'] == 4, toronto_merged.columns[[1] + list(range(4, toronto_merged.shape[1]))]]"
   ]
  },
  {
   "source": [
    "## Daa Acquisition - London"
   ],
   "cell_type": "markdown",
   "metadata": {}
  },
  {
   "cell_type": "code",
   "execution_count": 47,
   "metadata": {},
   "outputs": [
    {
     "output_type": "execute_result",
     "data": {
      "text/plain": [
       "5"
      ]
     },
     "metadata": {},
     "execution_count": 47
    }
   ],
   "source": [
    "url = 'https://en.wikipedia.org/wiki/List_of_areas_of_London'\n",
    "tbl = pd.read_html(url)\n",
    "len(tbl)"
   ]
  },
  {
   "source": [
    "## Data Wrangling - London\n",
    "### According to the table sequence displayed on the Wiki page, the table which stored the location data is the 2nd table.\n",
    "### So, I will load the 2nd table into a dataframe."
   ],
   "cell_type": "markdown",
   "metadata": {}
  },
  {
   "cell_type": "code",
   "execution_count": 48,
   "metadata": {},
   "outputs": [
    {
     "output_type": "execute_result",
     "data": {
      "text/plain": [
       "      Location                     London borough       Post town  \\\n",
       "0   Abbey Wood              Bexley, Greenwich [7]          LONDON   \n",
       "1        Acton  Ealing, Hammersmith and Fulham[8]          LONDON   \n",
       "2    Addington                         Croydon[8]         CROYDON   \n",
       "3   Addiscombe                         Croydon[8]         CROYDON   \n",
       "4  Albany Park                             Bexley  BEXLEY, SIDCUP   \n",
       "\n",
       "  Postcode district Dial code OS grid ref  \n",
       "0               SE2       020    TQ465785  \n",
       "1            W3, W4       020    TQ205805  \n",
       "2               CR0       020    TQ375645  \n",
       "3               CR0       020    TQ345665  \n",
       "4         DA5, DA14       020    TQ478728  "
      ],
      "text/html": "<div>\n<style scoped>\n    .dataframe tbody tr th:only-of-type {\n        vertical-align: middle;\n    }\n\n    .dataframe tbody tr th {\n        vertical-align: top;\n    }\n\n    .dataframe thead th {\n        text-align: right;\n    }\n</style>\n<table border=\"1\" class=\"dataframe\">\n  <thead>\n    <tr style=\"text-align: right;\">\n      <th></th>\n      <th>Location</th>\n      <th>London borough</th>\n      <th>Post town</th>\n      <th>Postcode district</th>\n      <th>Dial code</th>\n      <th>OS grid ref</th>\n    </tr>\n  </thead>\n  <tbody>\n    <tr>\n      <th>0</th>\n      <td>Abbey Wood</td>\n      <td>Bexley, Greenwich [7]</td>\n      <td>LONDON</td>\n      <td>SE2</td>\n      <td>020</td>\n      <td>TQ465785</td>\n    </tr>\n    <tr>\n      <th>1</th>\n      <td>Acton</td>\n      <td>Ealing, Hammersmith and Fulham[8]</td>\n      <td>LONDON</td>\n      <td>W3, W4</td>\n      <td>020</td>\n      <td>TQ205805</td>\n    </tr>\n    <tr>\n      <th>2</th>\n      <td>Addington</td>\n      <td>Croydon[8]</td>\n      <td>CROYDON</td>\n      <td>CR0</td>\n      <td>020</td>\n      <td>TQ375645</td>\n    </tr>\n    <tr>\n      <th>3</th>\n      <td>Addiscombe</td>\n      <td>Croydon[8]</td>\n      <td>CROYDON</td>\n      <td>CR0</td>\n      <td>020</td>\n      <td>TQ345665</td>\n    </tr>\n    <tr>\n      <th>4</th>\n      <td>Albany Park</td>\n      <td>Bexley</td>\n      <td>BEXLEY, SIDCUP</td>\n      <td>DA5, DA14</td>\n      <td>020</td>\n      <td>TQ478728</td>\n    </tr>\n  </tbody>\n</table>\n</div>"
     },
     "metadata": {},
     "execution_count": 48
    }
   ],
   "source": [
    "df_london = tbl[1]\n",
    "df_london.head()"
   ]
  },
  {
   "cell_type": "code",
   "execution_count": 49,
   "metadata": {},
   "outputs": [],
   "source": [
    "# Rename column names\n",
    "columns = ['Location', 'Borough', 'Post Town', 'Postcode', 'Dial Code', 'OS Grid Ref']\n",
    "df_london.columns = columns"
   ]
  },
  {
   "cell_type": "code",
   "execution_count": 50,
   "metadata": {},
   "outputs": [
    {
     "output_type": "execute_result",
     "data": {
      "text/plain": [
       "      Location                            Borough       Post Town   Postcode\n",
       "0   Abbey Wood              Bexley, Greenwich [7]          LONDON        SE2\n",
       "1        Acton  Ealing, Hammersmith and Fulham[8]          LONDON     W3, W4\n",
       "2    Addington                         Croydon[8]         CROYDON        CR0\n",
       "3   Addiscombe                         Croydon[8]         CROYDON        CR0\n",
       "4  Albany Park                             Bexley  BEXLEY, SIDCUP  DA5, DA14"
      ],
      "text/html": "<div>\n<style scoped>\n    .dataframe tbody tr th:only-of-type {\n        vertical-align: middle;\n    }\n\n    .dataframe tbody tr th {\n        vertical-align: top;\n    }\n\n    .dataframe thead th {\n        text-align: right;\n    }\n</style>\n<table border=\"1\" class=\"dataframe\">\n  <thead>\n    <tr style=\"text-align: right;\">\n      <th></th>\n      <th>Location</th>\n      <th>Borough</th>\n      <th>Post Town</th>\n      <th>Postcode</th>\n    </tr>\n  </thead>\n  <tbody>\n    <tr>\n      <th>0</th>\n      <td>Abbey Wood</td>\n      <td>Bexley, Greenwich [7]</td>\n      <td>LONDON</td>\n      <td>SE2</td>\n    </tr>\n    <tr>\n      <th>1</th>\n      <td>Acton</td>\n      <td>Ealing, Hammersmith and Fulham[8]</td>\n      <td>LONDON</td>\n      <td>W3, W4</td>\n    </tr>\n    <tr>\n      <th>2</th>\n      <td>Addington</td>\n      <td>Croydon[8]</td>\n      <td>CROYDON</td>\n      <td>CR0</td>\n    </tr>\n    <tr>\n      <th>3</th>\n      <td>Addiscombe</td>\n      <td>Croydon[8]</td>\n      <td>CROYDON</td>\n      <td>CR0</td>\n    </tr>\n    <tr>\n      <th>4</th>\n      <td>Albany Park</td>\n      <td>Bexley</td>\n      <td>BEXLEY, SIDCUP</td>\n      <td>DA5, DA14</td>\n    </tr>\n  </tbody>\n</table>\n</div>"
     },
     "metadata": {},
     "execution_count": 50
    }
   ],
   "source": [
    "# Drop unused columns\n",
    "df_london.drop(['Dial Code', 'OS Grid Ref'], axis = 1, inplace = True)\n",
    "df_london.head()"
   ]
  },
  {
   "cell_type": "code",
   "execution_count": 51,
   "metadata": {},
   "outputs": [
    {
     "output_type": "execute_result",
     "data": {
      "text/plain": [
       "      Location                         Borough       Post Town   Postcode\n",
       "0   Abbey Wood              Bexley, Greenwich           LONDON        SE2\n",
       "1        Acton  Ealing, Hammersmith and Fulham          LONDON     W3, W4\n",
       "2    Addington                         Croydon         CROYDON        CR0\n",
       "3   Addiscombe                         Croydon         CROYDON        CR0\n",
       "4  Albany Park                          Bexley  BEXLEY, SIDCUP  DA5, DA14"
      ],
      "text/html": "<div>\n<style scoped>\n    .dataframe tbody tr th:only-of-type {\n        vertical-align: middle;\n    }\n\n    .dataframe tbody tr th {\n        vertical-align: top;\n    }\n\n    .dataframe thead th {\n        text-align: right;\n    }\n</style>\n<table border=\"1\" class=\"dataframe\">\n  <thead>\n    <tr style=\"text-align: right;\">\n      <th></th>\n      <th>Location</th>\n      <th>Borough</th>\n      <th>Post Town</th>\n      <th>Postcode</th>\n    </tr>\n  </thead>\n  <tbody>\n    <tr>\n      <th>0</th>\n      <td>Abbey Wood</td>\n      <td>Bexley, Greenwich</td>\n      <td>LONDON</td>\n      <td>SE2</td>\n    </tr>\n    <tr>\n      <th>1</th>\n      <td>Acton</td>\n      <td>Ealing, Hammersmith and Fulham</td>\n      <td>LONDON</td>\n      <td>W3, W4</td>\n    </tr>\n    <tr>\n      <th>2</th>\n      <td>Addington</td>\n      <td>Croydon</td>\n      <td>CROYDON</td>\n      <td>CR0</td>\n    </tr>\n    <tr>\n      <th>3</th>\n      <td>Addiscombe</td>\n      <td>Croydon</td>\n      <td>CROYDON</td>\n      <td>CR0</td>\n    </tr>\n    <tr>\n      <th>4</th>\n      <td>Albany Park</td>\n      <td>Bexley</td>\n      <td>BEXLEY, SIDCUP</td>\n      <td>DA5, DA14</td>\n    </tr>\n  </tbody>\n</table>\n</div>"
     },
     "metadata": {},
     "execution_count": 51
    }
   ],
   "source": [
    "# Remove the reference number from Borough\n",
    "df_london['Borough'] = df_london['Borough'].map(lambda x: x.rstrip(']').rstrip('0123456789').rstrip('['))\n",
    "df_london.head()"
   ]
  },
  {
   "source": [
    "### Since there are more than one postcode for a location, e.g., Acton as seen above, I'm going to split it into multiple rows so that there's one postcode in a row only."
   ],
   "cell_type": "markdown",
   "metadata": {}
  },
  {
   "cell_type": "code",
   "execution_count": 52,
   "metadata": {},
   "outputs": [],
   "source": [
    "df_london1 = df_london.drop('Postcode', axis=1).join(df_london['Postcode'].str.split(',', expand = True).stack().reset_index(level = 1, drop = True).rename('Postcode'))"
   ]
  },
  {
   "cell_type": "code",
   "execution_count": 53,
   "metadata": {},
   "outputs": [
    {
     "output_type": "execute_result",
     "data": {
      "text/plain": [
       "     Location                         Borough Post Town Postcode\n",
       "0  Abbey Wood              Bexley, Greenwich     LONDON      SE2\n",
       "1       Acton  Ealing, Hammersmith and Fulham    LONDON       W3\n",
       "1       Acton  Ealing, Hammersmith and Fulham    LONDON       W4\n",
       "2   Addington                         Croydon   CROYDON      CR0\n",
       "3  Addiscombe                         Croydon   CROYDON      CR0"
      ],
      "text/html": "<div>\n<style scoped>\n    .dataframe tbody tr th:only-of-type {\n        vertical-align: middle;\n    }\n\n    .dataframe tbody tr th {\n        vertical-align: top;\n    }\n\n    .dataframe thead th {\n        text-align: right;\n    }\n</style>\n<table border=\"1\" class=\"dataframe\">\n  <thead>\n    <tr style=\"text-align: right;\">\n      <th></th>\n      <th>Location</th>\n      <th>Borough</th>\n      <th>Post Town</th>\n      <th>Postcode</th>\n    </tr>\n  </thead>\n  <tbody>\n    <tr>\n      <th>0</th>\n      <td>Abbey Wood</td>\n      <td>Bexley, Greenwich</td>\n      <td>LONDON</td>\n      <td>SE2</td>\n    </tr>\n    <tr>\n      <th>1</th>\n      <td>Acton</td>\n      <td>Ealing, Hammersmith and Fulham</td>\n      <td>LONDON</td>\n      <td>W3</td>\n    </tr>\n    <tr>\n      <th>1</th>\n      <td>Acton</td>\n      <td>Ealing, Hammersmith and Fulham</td>\n      <td>LONDON</td>\n      <td>W4</td>\n    </tr>\n    <tr>\n      <th>2</th>\n      <td>Addington</td>\n      <td>Croydon</td>\n      <td>CROYDON</td>\n      <td>CR0</td>\n    </tr>\n    <tr>\n      <th>3</th>\n      <td>Addiscombe</td>\n      <td>Croydon</td>\n      <td>CROYDON</td>\n      <td>CR0</td>\n    </tr>\n  </tbody>\n</table>\n</div>"
     },
     "metadata": {},
     "execution_count": 53
    }
   ],
   "source": [
    "df_london1.head()"
   ]
  },
  {
   "source": [
    "### Since it's about compare how similar or dissimilar between London and Toronoto, I will filter the post town to 'London' only."
   ],
   "cell_type": "markdown",
   "metadata": {}
  },
  {
   "cell_type": "code",
   "execution_count": 54,
   "metadata": {},
   "outputs": [
    {
     "output_type": "execute_result",
     "data": {
      "text/plain": [
       "            Location                         Borough               Post Town  \\\n",
       "0         Abbey Wood              Bexley, Greenwich                   LONDON   \n",
       "1              Acton  Ealing, Hammersmith and Fulham                  LONDON   \n",
       "1              Acton  Ealing, Hammersmith and Fulham                  LONDON   \n",
       "6            Aldgate                            City                  LONDON   \n",
       "7            Aldwych                     Westminster                  LONDON   \n",
       "..               ...                             ...                     ...   \n",
       "522         Woodford                       Redbridge                  LONDON   \n",
       "523   Woodford Green       Redbridge, Waltham Forest  LONDON, WOODFORD GREEN   \n",
       "526    Woodside Park                          Barnet                  LONDON   \n",
       "527         Woolwich                       Greenwich                  LONDON   \n",
       "529  Wormwood Scrubs          Hammersmith and Fulham                  LONDON   \n",
       "\n",
       "    Postcode  \n",
       "0        SE2  \n",
       "1         W3  \n",
       "1         W4  \n",
       "6        EC3  \n",
       "7        WC2  \n",
       "..       ...  \n",
       "522      E18  \n",
       "523      IG8  \n",
       "526      N12  \n",
       "527     SE18  \n",
       "529      W12  \n",
       "\n",
       "[381 rows x 4 columns]"
      ],
      "text/html": "<div>\n<style scoped>\n    .dataframe tbody tr th:only-of-type {\n        vertical-align: middle;\n    }\n\n    .dataframe tbody tr th {\n        vertical-align: top;\n    }\n\n    .dataframe thead th {\n        text-align: right;\n    }\n</style>\n<table border=\"1\" class=\"dataframe\">\n  <thead>\n    <tr style=\"text-align: right;\">\n      <th></th>\n      <th>Location</th>\n      <th>Borough</th>\n      <th>Post Town</th>\n      <th>Postcode</th>\n    </tr>\n  </thead>\n  <tbody>\n    <tr>\n      <th>0</th>\n      <td>Abbey Wood</td>\n      <td>Bexley, Greenwich</td>\n      <td>LONDON</td>\n      <td>SE2</td>\n    </tr>\n    <tr>\n      <th>1</th>\n      <td>Acton</td>\n      <td>Ealing, Hammersmith and Fulham</td>\n      <td>LONDON</td>\n      <td>W3</td>\n    </tr>\n    <tr>\n      <th>1</th>\n      <td>Acton</td>\n      <td>Ealing, Hammersmith and Fulham</td>\n      <td>LONDON</td>\n      <td>W4</td>\n    </tr>\n    <tr>\n      <th>6</th>\n      <td>Aldgate</td>\n      <td>City</td>\n      <td>LONDON</td>\n      <td>EC3</td>\n    </tr>\n    <tr>\n      <th>7</th>\n      <td>Aldwych</td>\n      <td>Westminster</td>\n      <td>LONDON</td>\n      <td>WC2</td>\n    </tr>\n    <tr>\n      <th>...</th>\n      <td>...</td>\n      <td>...</td>\n      <td>...</td>\n      <td>...</td>\n    </tr>\n    <tr>\n      <th>522</th>\n      <td>Woodford</td>\n      <td>Redbridge</td>\n      <td>LONDON</td>\n      <td>E18</td>\n    </tr>\n    <tr>\n      <th>523</th>\n      <td>Woodford Green</td>\n      <td>Redbridge, Waltham Forest</td>\n      <td>LONDON, WOODFORD GREEN</td>\n      <td>IG8</td>\n    </tr>\n    <tr>\n      <th>526</th>\n      <td>Woodside Park</td>\n      <td>Barnet</td>\n      <td>LONDON</td>\n      <td>N12</td>\n    </tr>\n    <tr>\n      <th>527</th>\n      <td>Woolwich</td>\n      <td>Greenwich</td>\n      <td>LONDON</td>\n      <td>SE18</td>\n    </tr>\n    <tr>\n      <th>529</th>\n      <td>Wormwood Scrubs</td>\n      <td>Hammersmith and Fulham</td>\n      <td>LONDON</td>\n      <td>W12</td>\n    </tr>\n  </tbody>\n</table>\n<p>381 rows × 4 columns</p>\n</div>"
     },
     "metadata": {},
     "execution_count": 54
    }
   ],
   "source": [
    "df_london2 =  df_london1[df_london1['Post Town'].str.contains('LONDON')]\n",
    "df_london2"
   ]
  },
  {
   "source": [
    "### I noticed that there are more than one post town for a location, e.g. row 524 (e.g. index = 523) in the above screenshot. I'm going to split it into multiple rows so that that's one post town per row only."
   ],
   "cell_type": "markdown",
   "metadata": {}
  },
  {
   "cell_type": "code",
   "execution_count": 55,
   "metadata": {},
   "outputs": [],
   "source": [
    "df_london3 = df_london2.drop('Post Town', axis=1).join(df_london2['Post Town'].str.split(',', expand = True).stack().reset_index(level = 1, drop = True).rename('Post Town'))"
   ]
  },
  {
   "cell_type": "code",
   "execution_count": 56,
   "metadata": {},
   "outputs": [
    {
     "output_type": "execute_result",
     "data": {
      "text/plain": [
       "            Location                    Borough Postcode       Post Town\n",
       "632   Woodford Green  Redbridge, Waltham Forest      IG8          LONDON\n",
       "633   Woodford Green  Redbridge, Waltham Forest      IG8  WOODFORD GREEN\n",
       "634    Woodside Park                     Barnet      N12          LONDON\n",
       "635         Woolwich                  Greenwich     SE18          LONDON\n",
       "636  Wormwood Scrubs     Hammersmith and Fulham      W12          LONDON"
      ],
      "text/html": "<div>\n<style scoped>\n    .dataframe tbody tr th:only-of-type {\n        vertical-align: middle;\n    }\n\n    .dataframe tbody tr th {\n        vertical-align: top;\n    }\n\n    .dataframe thead th {\n        text-align: right;\n    }\n</style>\n<table border=\"1\" class=\"dataframe\">\n  <thead>\n    <tr style=\"text-align: right;\">\n      <th></th>\n      <th>Location</th>\n      <th>Borough</th>\n      <th>Postcode</th>\n      <th>Post Town</th>\n    </tr>\n  </thead>\n  <tbody>\n    <tr>\n      <th>632</th>\n      <td>Woodford Green</td>\n      <td>Redbridge, Waltham Forest</td>\n      <td>IG8</td>\n      <td>LONDON</td>\n    </tr>\n    <tr>\n      <th>633</th>\n      <td>Woodford Green</td>\n      <td>Redbridge, Waltham Forest</td>\n      <td>IG8</td>\n      <td>WOODFORD GREEN</td>\n    </tr>\n    <tr>\n      <th>634</th>\n      <td>Woodside Park</td>\n      <td>Barnet</td>\n      <td>N12</td>\n      <td>LONDON</td>\n    </tr>\n    <tr>\n      <th>635</th>\n      <td>Woolwich</td>\n      <td>Greenwich</td>\n      <td>SE18</td>\n      <td>LONDON</td>\n    </tr>\n    <tr>\n      <th>636</th>\n      <td>Wormwood Scrubs</td>\n      <td>Hammersmith and Fulham</td>\n      <td>W12</td>\n      <td>LONDON</td>\n    </tr>\n  </tbody>\n</table>\n</div>"
     },
     "metadata": {},
     "execution_count": 56
    }
   ],
   "source": [
    "df_london3['Post Town'] = df_london3['Post Town'].str.strip()\n",
    "df_london3.reset_index(drop = True, inplace = True)\n",
    "df_london3.tail()"
   ]
  },
  {
   "source": [
    "### I'm going to drop rows which the post town not equals to 'London'."
   ],
   "cell_type": "markdown",
   "metadata": {}
  },
  {
   "cell_type": "code",
   "execution_count": 57,
   "metadata": {},
   "outputs": [
    {
     "output_type": "execute_result",
     "data": {
      "text/plain": [
       "            Location                    Borough Postcode Post Town\n",
       "560         Woodford                  Redbridge      E18    LONDON\n",
       "561   Woodford Green  Redbridge, Waltham Forest      IG8    LONDON\n",
       "562    Woodside Park                     Barnet      N12    LONDON\n",
       "563         Woolwich                  Greenwich     SE18    LONDON\n",
       "564  Wormwood Scrubs     Hammersmith and Fulham      W12    LONDON"
      ],
      "text/html": "<div>\n<style scoped>\n    .dataframe tbody tr th:only-of-type {\n        vertical-align: middle;\n    }\n\n    .dataframe tbody tr th {\n        vertical-align: top;\n    }\n\n    .dataframe thead th {\n        text-align: right;\n    }\n</style>\n<table border=\"1\" class=\"dataframe\">\n  <thead>\n    <tr style=\"text-align: right;\">\n      <th></th>\n      <th>Location</th>\n      <th>Borough</th>\n      <th>Postcode</th>\n      <th>Post Town</th>\n    </tr>\n  </thead>\n  <tbody>\n    <tr>\n      <th>560</th>\n      <td>Woodford</td>\n      <td>Redbridge</td>\n      <td>E18</td>\n      <td>LONDON</td>\n    </tr>\n    <tr>\n      <th>561</th>\n      <td>Woodford Green</td>\n      <td>Redbridge, Waltham Forest</td>\n      <td>IG8</td>\n      <td>LONDON</td>\n    </tr>\n    <tr>\n      <th>562</th>\n      <td>Woodside Park</td>\n      <td>Barnet</td>\n      <td>N12</td>\n      <td>LONDON</td>\n    </tr>\n    <tr>\n      <th>563</th>\n      <td>Woolwich</td>\n      <td>Greenwich</td>\n      <td>SE18</td>\n      <td>LONDON</td>\n    </tr>\n    <tr>\n      <th>564</th>\n      <td>Wormwood Scrubs</td>\n      <td>Hammersmith and Fulham</td>\n      <td>W12</td>\n      <td>LONDON</td>\n    </tr>\n  </tbody>\n</table>\n</div>"
     },
     "metadata": {},
     "execution_count": 57
    }
   ],
   "source": [
    "df_london3.drop(df_london3[df_london3['Post Town'] != 'LONDON'].index, axis = 0, inplace = True)\n",
    "df_london3.reset_index(drop = True, inplace = True)\n",
    "df_london3.tail()"
   ]
  },
  {
   "cell_type": "code",
   "execution_count": 58,
   "metadata": {},
   "outputs": [
    {
     "output_type": "execute_result",
     "data": {
      "text/plain": [
       "     Location                         Borough Postcode Post Town\n",
       "0  Abbey Wood              Bexley, Greenwich       SE2    LONDON\n",
       "1       Acton  Ealing, Hammersmith and Fulham       W3    LONDON\n",
       "2       Acton  Ealing, Hammersmith and Fulham       W4    LONDON\n",
       "3     Aldgate                            City      EC3    LONDON\n",
       "4     Aldwych                     Westminster      WC2    LONDON"
      ],
      "text/html": "<div>\n<style scoped>\n    .dataframe tbody tr th:only-of-type {\n        vertical-align: middle;\n    }\n\n    .dataframe tbody tr th {\n        vertical-align: top;\n    }\n\n    .dataframe thead th {\n        text-align: right;\n    }\n</style>\n<table border=\"1\" class=\"dataframe\">\n  <thead>\n    <tr style=\"text-align: right;\">\n      <th></th>\n      <th>Location</th>\n      <th>Borough</th>\n      <th>Postcode</th>\n      <th>Post Town</th>\n    </tr>\n  </thead>\n  <tbody>\n    <tr>\n      <th>0</th>\n      <td>Abbey Wood</td>\n      <td>Bexley, Greenwich</td>\n      <td>SE2</td>\n      <td>LONDON</td>\n    </tr>\n    <tr>\n      <th>1</th>\n      <td>Acton</td>\n      <td>Ealing, Hammersmith and Fulham</td>\n      <td>W3</td>\n      <td>LONDON</td>\n    </tr>\n    <tr>\n      <th>2</th>\n      <td>Acton</td>\n      <td>Ealing, Hammersmith and Fulham</td>\n      <td>W4</td>\n      <td>LONDON</td>\n    </tr>\n    <tr>\n      <th>3</th>\n      <td>Aldgate</td>\n      <td>City</td>\n      <td>EC3</td>\n      <td>LONDON</td>\n    </tr>\n    <tr>\n      <th>4</th>\n      <td>Aldwych</td>\n      <td>Westminster</td>\n      <td>WC2</td>\n      <td>LONDON</td>\n    </tr>\n  </tbody>\n</table>\n</div>"
     },
     "metadata": {},
     "execution_count": 58
    }
   ],
   "source": [
    "df_london3.drop_duplicates(ignore_index = True, inplace = True)\n",
    "df_london3.head()"
   ]
  },
  {
   "cell_type": "code",
   "execution_count": 59,
   "metadata": {},
   "outputs": [
    {
     "output_type": "execute_result",
     "data": {
      "text/plain": [
       "False"
      ]
     },
     "metadata": {},
     "execution_count": 59
    }
   ],
   "source": [
    "df_london3['Postcode'].is_unique"
   ]
  },
  {
   "cell_type": "code",
   "execution_count": 60,
   "metadata": {},
   "outputs": [
    {
     "output_type": "execute_result",
     "data": {
      "text/plain": [
       "   Post Town Postcode            Borough                            Location\n",
       "0     LONDON     DA14             Bexley                           Longlands\n",
       "1     LONDON     DA15             Bexley                           Longlands\n",
       "2     LONDON     DA16  Bexley, Greenwich                          Falconwood\n",
       "3     LONDON     DA18  Bexley, Greenwich                          Thamesmead\n",
       "4     LONDON      DA7             Bexley  Bexleyheath (also Bexley New Town)\n",
       "5     LONDON      E13             Newham                          Upton Park\n",
       "6     LONDON      E15             Newham                            West Ham\n",
       "7     LONDON      E15     Waltham Forest                              Leyton\n",
       "8     LONDON      E16             Newham                             Beckton\n",
       "9     LONDON      E18          Redbridge                            Woodford\n",
       "10    LONDON       E8            Hackney                             Hackney\n",
       "11    LONDON       E9            Hackney                             Hackney\n",
       "12    LONDON      EC2               City                            Barbican\n",
       "13    LONDON      EN5             Barnet                         Barnet Gate\n",
       "14    LONDON      HA7      Harrow, Brent                          Queensbury\n",
       "15    LONDON      HA8      Harrow, Brent                          Queensbury\n",
       "16    LONDON     IG11             Newham                             Beckton\n",
       "17    LONDON       N1            Hackney                             Hackney\n",
       "18    LONDON       N1          Islington                               Angel\n",
       "19    LONDON      N10             Barnet                        Colney Hatch"
      ],
      "text/html": "<div>\n<style scoped>\n    .dataframe tbody tr th:only-of-type {\n        vertical-align: middle;\n    }\n\n    .dataframe tbody tr th {\n        vertical-align: top;\n    }\n\n    .dataframe thead th {\n        text-align: right;\n    }\n</style>\n<table border=\"1\" class=\"dataframe\">\n  <thead>\n    <tr style=\"text-align: right;\">\n      <th></th>\n      <th>Post Town</th>\n      <th>Postcode</th>\n      <th>Borough</th>\n      <th>Location</th>\n    </tr>\n  </thead>\n  <tbody>\n    <tr>\n      <th>0</th>\n      <td>LONDON</td>\n      <td>DA14</td>\n      <td>Bexley</td>\n      <td>Longlands</td>\n    </tr>\n    <tr>\n      <th>1</th>\n      <td>LONDON</td>\n      <td>DA15</td>\n      <td>Bexley</td>\n      <td>Longlands</td>\n    </tr>\n    <tr>\n      <th>2</th>\n      <td>LONDON</td>\n      <td>DA16</td>\n      <td>Bexley, Greenwich</td>\n      <td>Falconwood</td>\n    </tr>\n    <tr>\n      <th>3</th>\n      <td>LONDON</td>\n      <td>DA18</td>\n      <td>Bexley, Greenwich</td>\n      <td>Thamesmead</td>\n    </tr>\n    <tr>\n      <th>4</th>\n      <td>LONDON</td>\n      <td>DA7</td>\n      <td>Bexley</td>\n      <td>Bexleyheath (also Bexley New Town)</td>\n    </tr>\n    <tr>\n      <th>5</th>\n      <td>LONDON</td>\n      <td>E13</td>\n      <td>Newham</td>\n      <td>Upton Park</td>\n    </tr>\n    <tr>\n      <th>6</th>\n      <td>LONDON</td>\n      <td>E15</td>\n      <td>Newham</td>\n      <td>West Ham</td>\n    </tr>\n    <tr>\n      <th>7</th>\n      <td>LONDON</td>\n      <td>E15</td>\n      <td>Waltham Forest</td>\n      <td>Leyton</td>\n    </tr>\n    <tr>\n      <th>8</th>\n      <td>LONDON</td>\n      <td>E16</td>\n      <td>Newham</td>\n      <td>Beckton</td>\n    </tr>\n    <tr>\n      <th>9</th>\n      <td>LONDON</td>\n      <td>E18</td>\n      <td>Redbridge</td>\n      <td>Woodford</td>\n    </tr>\n    <tr>\n      <th>10</th>\n      <td>LONDON</td>\n      <td>E8</td>\n      <td>Hackney</td>\n      <td>Hackney</td>\n    </tr>\n    <tr>\n      <th>11</th>\n      <td>LONDON</td>\n      <td>E9</td>\n      <td>Hackney</td>\n      <td>Hackney</td>\n    </tr>\n    <tr>\n      <th>12</th>\n      <td>LONDON</td>\n      <td>EC2</td>\n      <td>City</td>\n      <td>Barbican</td>\n    </tr>\n    <tr>\n      <th>13</th>\n      <td>LONDON</td>\n      <td>EN5</td>\n      <td>Barnet</td>\n      <td>Barnet Gate</td>\n    </tr>\n    <tr>\n      <th>14</th>\n      <td>LONDON</td>\n      <td>HA7</td>\n      <td>Harrow, Brent</td>\n      <td>Queensbury</td>\n    </tr>\n    <tr>\n      <th>15</th>\n      <td>LONDON</td>\n      <td>HA8</td>\n      <td>Harrow, Brent</td>\n      <td>Queensbury</td>\n    </tr>\n    <tr>\n      <th>16</th>\n      <td>LONDON</td>\n      <td>IG11</td>\n      <td>Newham</td>\n      <td>Beckton</td>\n    </tr>\n    <tr>\n      <th>17</th>\n      <td>LONDON</td>\n      <td>N1</td>\n      <td>Hackney</td>\n      <td>Hackney</td>\n    </tr>\n    <tr>\n      <th>18</th>\n      <td>LONDON</td>\n      <td>N1</td>\n      <td>Islington</td>\n      <td>Angel</td>\n    </tr>\n    <tr>\n      <th>19</th>\n      <td>LONDON</td>\n      <td>N10</td>\n      <td>Barnet</td>\n      <td>Colney Hatch</td>\n    </tr>\n  </tbody>\n</table>\n</div>"
     },
     "metadata": {},
     "execution_count": 60
    }
   ],
   "source": [
    "df_london4 = df_london3.groupby(['Post Town', 'Postcode', 'Borough'])['Location'].apply(', '.join).reset_index()\n",
    "df_london4.head(20)"
   ]
  },
  {
   "cell_type": "code",
   "execution_count": 61,
   "metadata": {},
   "outputs": [],
   "source": [
    "# df_london4[df_london4['Postcode'].isin(df_london4['Postcode'].value_counts()[df_london4['Postcode'].value_counts() > 1].index)]"
   ]
  },
  {
   "cell_type": "code",
   "execution_count": 62,
   "metadata": {},
   "outputs": [
    {
     "output_type": "execute_result",
     "data": {
      "text/plain": [
       "    Post Town Postcode                                   Borough  \\\n",
       "6      LONDON      E15                                    Newham   \n",
       "7      LONDON      E15                            Waltham Forest   \n",
       "17     LONDON       N1                                   Hackney   \n",
       "18     LONDON       N1                                 Islington   \n",
       "36     LONDON     SE11                                   Lambeth   \n",
       "..        ...      ...                                       ...   \n",
       "216    LONDON       W4  Hounslow, Ealing, Hammersmith and Fulham   \n",
       "222    LONDON      WC1                                    Camden   \n",
       "223    LONDON      WC1                      Camden and Islington   \n",
       "224    LONDON      WC2                                    Camden   \n",
       "225    LONDON      WC2                               Westminster   \n",
       "\n",
       "                                  Location  \n",
       "6                                 West Ham  \n",
       "7                                   Leyton  \n",
       "17                                 Hackney  \n",
       "18                                   Angel  \n",
       "36                                    Oval  \n",
       "..                                     ...  \n",
       "216                               Chiswick  \n",
       "222        Bloomsbury, Holborn, St Pancras  \n",
       "223                           King's Cross  \n",
       "224                               St Giles  \n",
       "225  Aldwych, Charing Cross, Covent Garden  \n",
       "\n",
       "[91 rows x 4 columns]"
      ],
      "text/html": "<div>\n<style scoped>\n    .dataframe tbody tr th:only-of-type {\n        vertical-align: middle;\n    }\n\n    .dataframe tbody tr th {\n        vertical-align: top;\n    }\n\n    .dataframe thead th {\n        text-align: right;\n    }\n</style>\n<table border=\"1\" class=\"dataframe\">\n  <thead>\n    <tr style=\"text-align: right;\">\n      <th></th>\n      <th>Post Town</th>\n      <th>Postcode</th>\n      <th>Borough</th>\n      <th>Location</th>\n    </tr>\n  </thead>\n  <tbody>\n    <tr>\n      <th>6</th>\n      <td>LONDON</td>\n      <td>E15</td>\n      <td>Newham</td>\n      <td>West Ham</td>\n    </tr>\n    <tr>\n      <th>7</th>\n      <td>LONDON</td>\n      <td>E15</td>\n      <td>Waltham Forest</td>\n      <td>Leyton</td>\n    </tr>\n    <tr>\n      <th>17</th>\n      <td>LONDON</td>\n      <td>N1</td>\n      <td>Hackney</td>\n      <td>Hackney</td>\n    </tr>\n    <tr>\n      <th>18</th>\n      <td>LONDON</td>\n      <td>N1</td>\n      <td>Islington</td>\n      <td>Angel</td>\n    </tr>\n    <tr>\n      <th>36</th>\n      <td>LONDON</td>\n      <td>SE11</td>\n      <td>Lambeth</td>\n      <td>Oval</td>\n    </tr>\n    <tr>\n      <th>...</th>\n      <td>...</td>\n      <td>...</td>\n      <td>...</td>\n      <td>...</td>\n    </tr>\n    <tr>\n      <th>216</th>\n      <td>LONDON</td>\n      <td>W4</td>\n      <td>Hounslow, Ealing, Hammersmith and Fulham</td>\n      <td>Chiswick</td>\n    </tr>\n    <tr>\n      <th>222</th>\n      <td>LONDON</td>\n      <td>WC1</td>\n      <td>Camden</td>\n      <td>Bloomsbury, Holborn, St Pancras</td>\n    </tr>\n    <tr>\n      <th>223</th>\n      <td>LONDON</td>\n      <td>WC1</td>\n      <td>Camden and Islington</td>\n      <td>King's Cross</td>\n    </tr>\n    <tr>\n      <th>224</th>\n      <td>LONDON</td>\n      <td>WC2</td>\n      <td>Camden</td>\n      <td>St Giles</td>\n    </tr>\n    <tr>\n      <th>225</th>\n      <td>LONDON</td>\n      <td>WC2</td>\n      <td>Westminster</td>\n      <td>Aldwych, Charing Cross, Covent Garden</td>\n    </tr>\n  </tbody>\n</table>\n<p>91 rows × 4 columns</p>\n</div>"
     },
     "metadata": {},
     "execution_count": 62
    }
   ],
   "source": [
    "df_london4.groupby('Postcode').filter(lambda x: len(x) > 1)"
   ]
  },
  {
   "source": [
    "### According to Wikipedia https://en.wikipedia.org/wiki/London_postal_district, the postcode of City of London begins with either E, EC, N, NW, SE, SW, W or WC. So, I will drop all rows which the postcode doesn't start with any of these characters.\n",
    "### But before I drop the rows, I will trim all leading and trailing space for the Postcode column first."
   ],
   "cell_type": "markdown",
   "metadata": {}
  },
  {
   "cell_type": "code",
   "execution_count": 63,
   "metadata": {},
   "outputs": [],
   "source": [
    "df_london4['Postcode'] = df_london4['Postcode'].str.strip()"
   ]
  },
  {
   "cell_type": "code",
   "execution_count": 64,
   "metadata": {},
   "outputs": [],
   "source": [
    "# create a new dataframe and store all rows for City of London\n",
    "city_of_london = ['E', 'EC', 'N', 'NW', 'SE', 'SW', 'W', 'WC']\n",
    "df_london5 = df_london4[df_london4['Postcode'].str[:2].isin(city_of_london)]"
   ]
  },
  {
   "source": [
    "### Before carrying on, I need to test if there's any duplicate rows. If there is, and to simplify the subsequent tasks, I will keep the first occurence of duplicated rows only."
   ],
   "cell_type": "markdown",
   "metadata": {}
  },
  {
   "cell_type": "code",
   "execution_count": 65,
   "metadata": {},
   "outputs": [
    {
     "output_type": "execute_result",
     "data": {
      "text/plain": [
       "False"
      ]
     },
     "metadata": {},
     "execution_count": 65
    }
   ],
   "source": [
    "# check if there's duplicated rows\n",
    "df_london5['Postcode'].is_unique"
   ]
  },
  {
   "source": [
    "### Since there're duplicated rows, I'm going to keep the first occurence of the duplicated rows and drop the rest."
   ],
   "cell_type": "markdown",
   "metadata": {}
  },
  {
   "cell_type": "code",
   "execution_count": 66,
   "metadata": {},
   "outputs": [
    {
     "output_type": "execute_result",
     "data": {
      "text/plain": [
       "  Post Town Postcode Borough                   Location\n",
       "0    LONDON      EC2    City                   Barbican\n",
       "1    LONDON     NW10   Brent                    Neasden\n",
       "2    LONDON      NW3  Camden  Gospel Oak, Primrose Hill\n",
       "3    LONDON      NW4  Barnet                Brent Cross\n",
       "4    LONDON      NW6   Brent               Kensal Green"
      ],
      "text/html": "<div>\n<style scoped>\n    .dataframe tbody tr th:only-of-type {\n        vertical-align: middle;\n    }\n\n    .dataframe tbody tr th {\n        vertical-align: top;\n    }\n\n    .dataframe thead th {\n        text-align: right;\n    }\n</style>\n<table border=\"1\" class=\"dataframe\">\n  <thead>\n    <tr style=\"text-align: right;\">\n      <th></th>\n      <th>Post Town</th>\n      <th>Postcode</th>\n      <th>Borough</th>\n      <th>Location</th>\n    </tr>\n  </thead>\n  <tbody>\n    <tr>\n      <th>0</th>\n      <td>LONDON</td>\n      <td>EC2</td>\n      <td>City</td>\n      <td>Barbican</td>\n    </tr>\n    <tr>\n      <th>1</th>\n      <td>LONDON</td>\n      <td>NW10</td>\n      <td>Brent</td>\n      <td>Neasden</td>\n    </tr>\n    <tr>\n      <th>2</th>\n      <td>LONDON</td>\n      <td>NW3</td>\n      <td>Camden</td>\n      <td>Gospel Oak, Primrose Hill</td>\n    </tr>\n    <tr>\n      <th>3</th>\n      <td>LONDON</td>\n      <td>NW4</td>\n      <td>Barnet</td>\n      <td>Brent Cross</td>\n    </tr>\n    <tr>\n      <th>4</th>\n      <td>LONDON</td>\n      <td>NW6</td>\n      <td>Brent</td>\n      <td>Kensal Green</td>\n    </tr>\n  </tbody>\n</table>\n</div>"
     },
     "metadata": {},
     "execution_count": 66
    }
   ],
   "source": [
    "df_london5.drop_duplicates(subset = ['Postcode'], inplace = True, ignore_index = True)\n",
    "df_london5.head()"
   ]
  },
  {
   "cell_type": "code",
   "execution_count": 67,
   "metadata": {},
   "outputs": [
    {
     "output_type": "execute_result",
     "data": {
      "text/plain": [
       "True"
      ]
     },
     "metadata": {},
     "execution_count": 67
    }
   ],
   "source": [
    "df_london5['Postcode'].is_unique"
   ]
  },
  {
   "cell_type": "code",
   "execution_count": 68,
   "metadata": {},
   "outputs": [
    {
     "output_type": "execute_result",
     "data": {
      "text/plain": [
       "(65, 4)"
      ]
     },
     "metadata": {},
     "execution_count": 68
    }
   ],
   "source": [
    "df_london5.shape"
   ]
  },
  {
   "source": [
    "### Now the dataframe is cleaned. I will get coordinates for all postcodes into a dataframe. To do this, I've prepared a CSV file which contains required coordinates for the postcodes."
   ],
   "cell_type": "markdown",
   "metadata": {}
  },
  {
   "cell_type": "code",
   "execution_count": 69,
   "metadata": {},
   "outputs": [],
   "source": [
    "df_london_coord = pd.read_csv('London_Coordinates.csv')"
   ]
  },
  {
   "source": [
    "### Merge the dataframes."
   ],
   "cell_type": "markdown",
   "metadata": {}
  },
  {
   "cell_type": "code",
   "execution_count": 70,
   "metadata": {},
   "outputs": [
    {
     "output_type": "execute_result",
     "data": {
      "text/plain": [
       "   Post Town Postcode    Borough                            Location  \\\n",
       "0     LONDON      EC2       City                            Barbican   \n",
       "1     LONDON     NW10      Brent                             Neasden   \n",
       "2     LONDON      NW3     Camden           Gospel Oak, Primrose Hill   \n",
       "3     LONDON      NW4     Barnet                         Brent Cross   \n",
       "4     LONDON      NW6      Brent                        Kensal Green   \n",
       "5     LONDON      NW7     Barnet                              Arkley   \n",
       "6     LONDON      NW8     Camden                       Primrose Hill   \n",
       "7     LONDON     SE11    Lambeth                                Oval   \n",
       "8     LONDON     SE12  Greenwich           Blackheath Royal Standard   \n",
       "9     LONDON     SE13   Lewisham                            Ladywell   \n",
       "10    LONDON     SE17  Southwark      Elephant and Castle, Newington   \n",
       "11    LONDON      SE2     Bexley  Bexleyheath (also Bexley New Town)   \n",
       "\n",
       "    Latitude  Longitude  \n",
       "0    51.5180    -0.0840  \n",
       "1    51.5410    -0.2531  \n",
       "2    51.5517    -0.1706  \n",
       "3    51.5937    -0.2181  \n",
       "4    51.5438    -0.1971  \n",
       "5    51.6147    -0.2301  \n",
       "6    51.5333    -0.1734  \n",
       "7    51.4913    -0.1085  \n",
       "8    51.4467    -0.0176  \n",
       "9    51.4572    -0.0059  \n",
       "10   51.4874    -0.0924  \n",
       "11   51.4860    -0.1203  "
      ],
      "text/html": "<div>\n<style scoped>\n    .dataframe tbody tr th:only-of-type {\n        vertical-align: middle;\n    }\n\n    .dataframe tbody tr th {\n        vertical-align: top;\n    }\n\n    .dataframe thead th {\n        text-align: right;\n    }\n</style>\n<table border=\"1\" class=\"dataframe\">\n  <thead>\n    <tr style=\"text-align: right;\">\n      <th></th>\n      <th>Post Town</th>\n      <th>Postcode</th>\n      <th>Borough</th>\n      <th>Location</th>\n      <th>Latitude</th>\n      <th>Longitude</th>\n    </tr>\n  </thead>\n  <tbody>\n    <tr>\n      <th>0</th>\n      <td>LONDON</td>\n      <td>EC2</td>\n      <td>City</td>\n      <td>Barbican</td>\n      <td>51.5180</td>\n      <td>-0.0840</td>\n    </tr>\n    <tr>\n      <th>1</th>\n      <td>LONDON</td>\n      <td>NW10</td>\n      <td>Brent</td>\n      <td>Neasden</td>\n      <td>51.5410</td>\n      <td>-0.2531</td>\n    </tr>\n    <tr>\n      <th>2</th>\n      <td>LONDON</td>\n      <td>NW3</td>\n      <td>Camden</td>\n      <td>Gospel Oak, Primrose Hill</td>\n      <td>51.5517</td>\n      <td>-0.1706</td>\n    </tr>\n    <tr>\n      <th>3</th>\n      <td>LONDON</td>\n      <td>NW4</td>\n      <td>Barnet</td>\n      <td>Brent Cross</td>\n      <td>51.5937</td>\n      <td>-0.2181</td>\n    </tr>\n    <tr>\n      <th>4</th>\n      <td>LONDON</td>\n      <td>NW6</td>\n      <td>Brent</td>\n      <td>Kensal Green</td>\n      <td>51.5438</td>\n      <td>-0.1971</td>\n    </tr>\n    <tr>\n      <th>5</th>\n      <td>LONDON</td>\n      <td>NW7</td>\n      <td>Barnet</td>\n      <td>Arkley</td>\n      <td>51.6147</td>\n      <td>-0.2301</td>\n    </tr>\n    <tr>\n      <th>6</th>\n      <td>LONDON</td>\n      <td>NW8</td>\n      <td>Camden</td>\n      <td>Primrose Hill</td>\n      <td>51.5333</td>\n      <td>-0.1734</td>\n    </tr>\n    <tr>\n      <th>7</th>\n      <td>LONDON</td>\n      <td>SE11</td>\n      <td>Lambeth</td>\n      <td>Oval</td>\n      <td>51.4913</td>\n      <td>-0.1085</td>\n    </tr>\n    <tr>\n      <th>8</th>\n      <td>LONDON</td>\n      <td>SE12</td>\n      <td>Greenwich</td>\n      <td>Blackheath Royal Standard</td>\n      <td>51.4467</td>\n      <td>-0.0176</td>\n    </tr>\n    <tr>\n      <th>9</th>\n      <td>LONDON</td>\n      <td>SE13</td>\n      <td>Lewisham</td>\n      <td>Ladywell</td>\n      <td>51.4572</td>\n      <td>-0.0059</td>\n    </tr>\n    <tr>\n      <th>10</th>\n      <td>LONDON</td>\n      <td>SE17</td>\n      <td>Southwark</td>\n      <td>Elephant and Castle, Newington</td>\n      <td>51.4874</td>\n      <td>-0.0924</td>\n    </tr>\n    <tr>\n      <th>11</th>\n      <td>LONDON</td>\n      <td>SE2</td>\n      <td>Bexley</td>\n      <td>Bexleyheath (also Bexley New Town)</td>\n      <td>51.4860</td>\n      <td>-0.1203</td>\n    </tr>\n  </tbody>\n</table>\n</div>"
     },
     "metadata": {},
     "execution_count": 70
    }
   ],
   "source": [
    "df_london6 = df_london5.merge(df_london_coord)\n",
    "df_london6.head(12)"
   ]
  },
  {
   "source": [
    "### I will rename the column name from 'Location' to 'Neighbourhood' to align with the naming convention of Toronto's dataframe."
   ],
   "cell_type": "markdown",
   "metadata": {}
  },
  {
   "cell_type": "code",
   "execution_count": 71,
   "metadata": {},
   "outputs": [
    {
     "output_type": "execute_result",
     "data": {
      "text/plain": [
       "  Post Town Postcode Borough              Neighbourhood  Latitude  Longitude\n",
       "0    LONDON      EC2    City                   Barbican   51.5180    -0.0840\n",
       "1    LONDON     NW10   Brent                    Neasden   51.5410    -0.2531\n",
       "2    LONDON      NW3  Camden  Gospel Oak, Primrose Hill   51.5517    -0.1706\n",
       "3    LONDON      NW4  Barnet                Brent Cross   51.5937    -0.2181\n",
       "4    LONDON      NW6   Brent               Kensal Green   51.5438    -0.1971"
      ],
      "text/html": "<div>\n<style scoped>\n    .dataframe tbody tr th:only-of-type {\n        vertical-align: middle;\n    }\n\n    .dataframe tbody tr th {\n        vertical-align: top;\n    }\n\n    .dataframe thead th {\n        text-align: right;\n    }\n</style>\n<table border=\"1\" class=\"dataframe\">\n  <thead>\n    <tr style=\"text-align: right;\">\n      <th></th>\n      <th>Post Town</th>\n      <th>Postcode</th>\n      <th>Borough</th>\n      <th>Neighbourhood</th>\n      <th>Latitude</th>\n      <th>Longitude</th>\n    </tr>\n  </thead>\n  <tbody>\n    <tr>\n      <th>0</th>\n      <td>LONDON</td>\n      <td>EC2</td>\n      <td>City</td>\n      <td>Barbican</td>\n      <td>51.5180</td>\n      <td>-0.0840</td>\n    </tr>\n    <tr>\n      <th>1</th>\n      <td>LONDON</td>\n      <td>NW10</td>\n      <td>Brent</td>\n      <td>Neasden</td>\n      <td>51.5410</td>\n      <td>-0.2531</td>\n    </tr>\n    <tr>\n      <th>2</th>\n      <td>LONDON</td>\n      <td>NW3</td>\n      <td>Camden</td>\n      <td>Gospel Oak, Primrose Hill</td>\n      <td>51.5517</td>\n      <td>-0.1706</td>\n    </tr>\n    <tr>\n      <th>3</th>\n      <td>LONDON</td>\n      <td>NW4</td>\n      <td>Barnet</td>\n      <td>Brent Cross</td>\n      <td>51.5937</td>\n      <td>-0.2181</td>\n    </tr>\n    <tr>\n      <th>4</th>\n      <td>LONDON</td>\n      <td>NW6</td>\n      <td>Brent</td>\n      <td>Kensal Green</td>\n      <td>51.5438</td>\n      <td>-0.1971</td>\n    </tr>\n  </tbody>\n</table>\n</div>"
     },
     "metadata": {},
     "execution_count": 71
    }
   ],
   "source": [
    "df_london6.rename(columns = {'Location': 'Neighbourhood'}, inplace = True)\n",
    "df_london6.head()"
   ]
  },
  {
   "source": [
    "### Verify that the dataframes merged successfully."
   ],
   "cell_type": "markdown",
   "metadata": {}
  },
  {
   "cell_type": "code",
   "execution_count": 72,
   "metadata": {},
   "outputs": [
    {
     "output_type": "execute_result",
     "data": {
      "text/plain": [
       "(65, 6)"
      ]
     },
     "metadata": {},
     "execution_count": 72
    }
   ],
   "source": [
    "df_london6.shape"
   ]
  },
  {
   "source": [
    "## Exploratory Data Analysis - London\n",
    "### Get the coordinates for London."
   ],
   "cell_type": "markdown",
   "metadata": {}
  },
  {
   "cell_type": "code",
   "execution_count": 73,
   "metadata": {},
   "outputs": [
    {
     "output_type": "stream",
     "name": "stdout",
     "text": [
      "The geograpical coordinate of London, England are 51.5073219, -0.1276474.\n"
     ]
    }
   ],
   "source": [
    "address = 'London, England'\n",
    "\n",
    "geolocator = Nominatim(user_agent=\"my_explorer\")\n",
    "location = geolocator.geocode(address)\n",
    "latitude = location.latitude\n",
    "longitude = location.longitude\n",
    "print('The geograpical coordinate of {} are {}, {}.'.format(address, latitude, longitude))"
   ]
  },
  {
   "source": [
    "### Visualise the London neighbourhoods by using Folium."
   ],
   "cell_type": "markdown",
   "metadata": {}
  },
  {
   "cell_type": "code",
   "execution_count": 74,
   "metadata": {},
   "outputs": [
    {
     "output_type": "execute_result",
     "data": {
      "text/plain": [
       "<folium.folium.Map at 0x1f383788e20>"
      ],
      "text/html": "<div style=\"width:100%;\"><div style=\"position:relative;width:100%;height:0;padding-bottom:60%;\"><span style=\"color:#565656\">Make this Notebook Trusted to load map: File -> Trust Notebook</span><iframe src=\"about:blank\" style=\"position:absolute;width:100%;height:100%;left:0;top:0;border:none !important;\" data-html=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 onload=\"this.contentDocument.open();this.contentDocument.write(atob(this.getAttribute('data-html')));this.contentDocument.close();\" allowfullscreen webkitallowfullscreen mozallowfullscreen></iframe></div></div>"
     },
     "metadata": {},
     "execution_count": 74
    }
   ],
   "source": [
    "# create map of London using latitude and longitude values\n",
    "map_london = folium.Map(location=[latitude, longitude], zoom_start=12)\n",
    "\n",
    "# add markers to map\n",
    "for lat, lng, label in zip(df_london6['Latitude'], df_london6['Longitude'], df_london6['Neighbourhood']):\n",
    "    label = folium.Popup(label, parse_html = True)\n",
    "    folium.CircleMarker(\n",
    "        [lat, lng],\n",
    "        radius = 5,\n",
    "        popup = label,\n",
    "        color = 'blue',\n",
    "        fill = True,\n",
    "        fill_color = '#3186cc',\n",
    "        fill_opacity = 0.7,\n",
    "        parse_html = False).add_to(map_london)\n",
    "    \n",
    "map_london"
   ]
  },
  {
   "source": [
    "### What's the first neighbourhood?"
   ],
   "cell_type": "markdown",
   "metadata": {}
  },
  {
   "cell_type": "code",
   "execution_count": 75,
   "metadata": {},
   "outputs": [
    {
     "output_type": "execute_result",
     "data": {
      "text/plain": [
       "'Barbican'"
      ]
     },
     "metadata": {},
     "execution_count": 75
    }
   ],
   "source": [
    "df_london6.loc[0, 'Neighbourhood']"
   ]
  },
  {
   "source": [
    "### Store the coorindates and the name of the neighbourhood."
   ],
   "cell_type": "markdown",
   "metadata": {}
  },
  {
   "cell_type": "code",
   "execution_count": 76,
   "metadata": {},
   "outputs": [
    {
     "output_type": "stream",
     "name": "stdout",
     "text": [
      "The latitude and longitude of Barbican are 51.518 and -0.084\n"
     ]
    }
   ],
   "source": [
    "nb_name = df_london6.loc[0, 'Neighbourhood']\n",
    "nb_lat = df_london6.loc[0, 'Latitude']\n",
    "nb_lng = df_london6.loc[0, 'Longitude']\n",
    "print('The latitude and longitude of {} are {} and {}'.format(nb_name, nb_lat, nb_lng))"
   ]
  },
  {
   "source": [
    "### Let's get the top 100 venues that are within radius of 500 metres of Barbican."
   ],
   "cell_type": "markdown",
   "metadata": {}
  },
  {
   "cell_type": "code",
   "execution_count": 77,
   "metadata": {},
   "outputs": [],
   "source": [
    "# build the url string\n",
    "radius = 500\n",
    "url = 'https://api.foursquare.com/v2/venues/explore?client_id={}&client_secret={}&ll={},{}&v={}&radius={}&limit={}'.format(CLIENT_ID, CLIENT_SECRET, nb_lat, nb_lng, VERSION, radius, LIMIT)"
   ]
  },
  {
   "source": [
    "### Send the GET request and examine the results."
   ],
   "cell_type": "markdown",
   "metadata": {}
  },
  {
   "cell_type": "code",
   "execution_count": 78,
   "metadata": {},
   "outputs": [
    {
     "output_type": "execute_result",
     "data": {
      "text/plain": [
       "      'United Kingdom']},\n",
       "       'categories': [{'id': '4bf58dd8d48988d10f941735',\n",
       "         'name': 'Indian Restaurant',\n",
       "         'pluralName': 'Indian Restaurants',\n",
       "         'shortName': 'Indian',\n",
       "         'icon': {'prefix': 'https://ss3.4sqi.net/img/categories_v2/food/indian_',\n",
       "          'suffix': '.png'},\n",
       "         'primary': True}],\n",
       "       'photos': {'count': 0, 'groups': []}},\n",
       "      'referralId': 'e-0-4b7d87fdf964a520dbc42fe3-64'},\n",
       "     {'reasons': {'count': 0,\n",
       "       'items': [{'summary': 'This spot is popular',\n",
       "         'type': 'general',\n",
       "         'reasonName': 'globalInteractionReason'}]},\n",
       "      'venue': {'id': '57a39d44498e208b977e3fba',\n",
       "       'name': 'The Astronomer',\n",
       "       'location': {'address': '125-129 Middlesex Street',\n",
       "        'lat': 51.51793950933359,\n",
       "        'lng': -0.07880447055231343,\n",
       "        'labeledLatLngs': [{'label': 'display',\n",
       "          'lat': 51.51793950933359,\n",
       "          'lng': -0.07880447055231343}],\n",
       "        'distance': 359,\n",
       "        'postalCode': 'E1 7JF',\n",
       "        'cc': 'GB',\n",
       "        'city': 'London',\n",
       "        'state': 'Greater London',\n",
       "        'country': 'United Kingdom',\n",
       "        'formattedAddress': ['125-129 Middlesex Street',\n",
       "         'London',\n",
       "         'Greater London',\n",
       "         'E1 7JF',\n",
       "         'United Kingdom']},\n",
       "       'categories': [{'id': '4bf58dd8d48988d11b941735',\n",
       "         'name': 'Pub',\n",
       "         'pluralName': 'Pubs',\n",
       "         'shortName': 'Pub',\n",
       "         'icon': {'prefix': 'https://ss3.4sqi.net/img/categories_v2/nightlife/pub_',\n",
       "          'suffix': '.png'},\n",
       "         'primary': True}],\n",
       "       'photos': {'count': 0, 'groups': []}},\n",
       "      'referralId': 'e-0-57a39d44498e208b977e3fba-65'},\n",
       "     {'reasons': {'count': 0,\n",
       "       'items': [{'summary': 'This spot is popular',\n",
       "         'type': 'general',\n",
       "         'reasonName': 'globalInteractionReason'}]},\n",
       "      'venue': {'id': '5512c16c498ef729363e9f53',\n",
       "       'name': 'Haz Restaurant',\n",
       "       'location': {'address': '64 Bishopsgate',\n",
       "        'lat': 51.515542025051815,\n",
       "        'lng': -0.08223122072221635,\n",
       "        'labeledLatLngs': [{'label': 'display',\n",
       "          'lat': 51.515542025051815,\n",
       "          'lng': -0.08223122072221635}],\n",
       "        'distance': 299,\n",
       "        'postalCode': 'EC2N 4AW',\n",
       "        'cc': 'GB',\n",
       "        'city': 'London',\n",
       "        'state': 'Greater London',\n",
       "        'country': 'United Kingdom',\n",
       "        'formattedAddress': ['64 Bishopsgate',\n",
       "         'London',\n",
       "         'Greater London',\n",
       "         'EC2N 4AW',\n",
       "         'United Kingdom']},\n",
       "       'categories': [{'id': '4f04af1f2fb6e1c99f3db0bb',\n",
       "         'name': 'Turkish Restaurant',\n",
       "         'pluralName': 'Turkish Restaurants',\n",
       "         'shortName': 'Turkish',\n",
       "         'icon': {'prefix': 'https://ss3.4sqi.net/img/categories_v2/food/turkish_',\n",
       "          'suffix': '.png'},\n",
       "         'primary': True}],\n",
       "       'photos': {'count': 0, 'groups': []}},\n",
       "      'referralId': 'e-0-5512c16c498ef729363e9f53-66'},\n",
       "     {'reasons': {'count': 0,\n",
       "       'items': [{'summary': 'This spot is popular',\n",
       "         'type': 'general',\n",
       "         'reasonName': 'globalInteractionReason'}]},\n",
       "      'venue': {'id': '555b89bb498e14df5777d4bf',\n",
       "       'name': 'Burger & Lobster',\n",
       "       'location': {'address': '52 Threadneedle St',\n",
       "        'lat': 51.51426052264303,\n",
       "        'lng': -0.08552446737910804,\n",
       "        'labeledLatLngs': [{'label': 'display',\n",
       "          'lat': 51.51426052264303,\n",
       "          'lng': -0.08552446737910804}],\n",
       "        'distance': 429,\n",
       "        'postalCode': 'EC2R 8AR',\n",
       "        'cc': 'GB',\n",
       "        'city': 'London',\n",
       "        'state': 'Greater London',\n",
       "        'country': 'United Kingdom',\n",
       "        'formattedAddress': ['52 Threadneedle St',\n",
       "         'London',\n",
       "         'Greater London',\n",
       "         'EC2R 8AR',\n",
       "         'United Kingdom']},\n",
       "       'categories': [{'id': '4bf58dd8d48988d1ce941735',\n",
       "         'name': 'Seafood Restaurant',\n",
       "         'pluralName': 'Seafood Restaurants',\n",
       "         'shortName': 'Seafood',\n",
       "         'icon': {'prefix': 'https://ss3.4sqi.net/img/categories_v2/food/seafood_',\n",
       "          'suffix': '.png'},\n",
       "         'primary': True}],\n",
       "       'photos': {'count': 0, 'groups': []}},\n",
       "      'referralId': 'e-0-555b89bb498e14df5777d4bf-67'},\n",
       "     {'reasons': {'count': 0,\n",
       "       'items': [{'summary': 'This spot is popular',\n",
       "         'type': 'general',\n",
       "         'reasonName': 'globalInteractionReason'}]},\n",
       "      'venue': {'id': '55746553498eb53db28ed6e7',\n",
       "       'name': 'Anthropologie',\n",
       "       'location': {'address': '18-28 Brushfield St',\n",
       "        'lat': 51.5191759341331,\n",
       "        'lng': -0.07797516112761899,\n",
       "        'labeledLatLngs': [{'label': 'display',\n",
       "          'lat': 51.5191759341331,\n",
       "          'lng': -0.07797516112761899}],\n",
       "        'distance': 437,\n",
       "        'cc': 'GB',\n",
       "        'city': 'London',\n",
       "        'state': 'Greater London',\n",
       "        'country': 'United Kingdom',\n",
       "        'formattedAddress': ['18-28 Brushfield St',\n",
       "         'London',\n",
       "         'Greater London',\n",
       "         'United Kingdom']},\n",
       "       'categories': [{'id': '4bf58dd8d48988d108951735',\n",
       "         'name': \"Women's Store\",\n",
       "         'pluralName': \"Women's Stores\",\n",
       "         'shortName': \"Women's Store\",\n",
       "         'icon': {'prefix': 'https://ss3.4sqi.net/img/categories_v2/shops/apparel_women_',\n",
       "          'suffix': '.png'},\n",
       "         'primary': True}],\n",
       "       'photos': {'count': 0, 'groups': []}},\n",
       "      'referralId': 'e-0-55746553498eb53db28ed6e7-68'},\n",
       "     {'reasons': {'count': 0,\n",
       "       'items': [{'summary': 'This spot is popular',\n",
       "         'type': 'general',\n",
       "         'reasonName': 'globalInteractionReason'}]},\n",
       "      'venue': {'id': '4bdb4a4c3904a5932ba8499e',\n",
       "       'name': 'Olives & Figs',\n",
       "       'location': {'address': '14 Artillery Passage',\n",
       "        'lat': 51.5181727588543,\n",
       "        'lng': -0.07756756118032561,\n",
       "        'labeledLatLngs': [{'label': 'display',\n",
       "          'lat': 51.5181727588543,\n",
       "          'lng': -0.07756756118032561}],\n",
       "        'distance': 445,\n",
       "        'postalCode': 'E1 7LJ',\n",
       "        'cc': 'GB',\n",
       "        'city': 'London',\n",
       "        'state': 'Greater London',\n",
       "        'country': 'United Kingdom',\n",
       "        'formattedAddress': ['14 Artillery Passage',\n",
       "         'London',\n",
       "         'Greater London',\n",
       "         'E1 7LJ',\n",
       "         'United Kingdom']},\n",
       "       'categories': [{'id': '4bf58dd8d48988d115941735',\n",
       "         'name': 'Middle Eastern Restaurant',\n",
       "         'pluralName': 'Middle Eastern Restaurants',\n",
       "         'shortName': 'Middle Eastern',\n",
       "         'icon': {'prefix': 'https://ss3.4sqi.net/img/categories_v2/food/middleeastern_',\n",
       "          'suffix': '.png'},\n",
       "         'primary': True}],\n",
       "       'photos': {'count': 0, 'groups': []}},\n",
       "      'referralId': 'e-0-4bdb4a4c3904a5932ba8499e-69'},\n",
       "     {'reasons': {'count': 0,\n",
       "       'items': [{'summary': 'This spot is popular',\n",
       "         'type': 'general',\n",
       "         'reasonName': 'globalInteractionReason'}]},\n",
       "      'venue': {'id': '58034f9f38fa540b8548ed25',\n",
       "       'name': 'The Montcalm Royal London House',\n",
       "       'location': {'address': '22 Finsbury Sq',\n",
       "        'lat': 51.521738354117225,\n",
       "        'lng': -0.08560642174245091,\n",
       "        'labeledLatLngs': [{'label': 'display',\n",
       "          'lat': 51.521738354117225,\n",
       "          'lng': -0.08560642174245091}],\n",
       "        'distance': 430,\n",
       "        'postalCode': 'EC2A 1DX',\n",
       "        'cc': 'GB',\n",
       "        'city': 'London',\n",
       "        'state': 'Greater London',\n",
       "        'country': 'United Kingdom',\n",
       "        'formattedAddress': ['22 Finsbury Sq',\n",
       "         'London',\n",
       "         'Greater London',\n",
       "         'EC2A 1DX',\n",
       "         'United Kingdom']},\n",
       "       'categories': [{'id': '4bf58dd8d48988d1fa931735',\n",
       "         'name': 'Hotel',\n",
       "         'pluralName': 'Hotels',\n",
       "         'shortName': 'Hotel',\n",
       "         'icon': {'prefix': 'https://ss3.4sqi.net/img/categories_v2/travel/hotel_',\n",
       "          'suffix': '.png'},\n",
       "         'primary': True}],\n",
       "       'photos': {'count': 0, 'groups': []}},\n",
       "      'referralId': 'e-0-58034f9f38fa540b8548ed25-70'},\n",
       "     {'reasons': {'count': 0,\n",
       "       'items': [{'summary': 'This spot is popular',\n",
       "         'type': 'general',\n",
       "         'reasonName': 'globalInteractionReason'}]},\n",
       "      'venue': {'id': '4cb1d779562d224b09ec2188',\n",
       "       'name': 'Fazenda',\n",
       "       'location': {'address': '13 Leyden St',\n",
       "        'crossStreet': 'btwn Strype St & Cobb St',\n",
       "        'lat': 51.516169,\n",
       "        'lng': -0.077414,\n",
       "        'labeledLatLngs': [{'label': 'display',\n",
       "          'lat': 51.516169,\n",
       "          'lng': -0.077414}],\n",
       "        'distance': 499,\n",
       "        'postalCode': 'E1 7LE',\n",
       "        'cc': 'GB',\n",
       "        'city': 'London',\n",
       "        'state': 'Greater London',\n",
       "        'country': 'United Kingdom',\n",
       "        'formattedAddress': ['13 Leyden St (btwn Strype St & Cobb St)',\n",
       "         'London',\n",
       "         'Greater London',\n",
       "         'E1 7LE',\n",
       "         'United Kingdom']},\n",
       "       'categories': [{'id': '4bf58dd8d48988d1e0931735',\n",
       "         'name': 'Coffee Shop',\n",
       "         'pluralName': 'Coffee Shops',\n",
       "         'shortName': 'Coffee Shop',\n",
       "         'icon': {'prefix': 'https://ss3.4sqi.net/img/categories_v2/food/coffeeshop_',\n",
       "          'suffix': '.png'},\n",
       "         'primary': True}],\n",
       "       'photos': {'count': 0, 'groups': []}},\n",
       "      'referralId': 'e-0-4cb1d779562d224b09ec2188-71'},\n",
       "     {'reasons': {'count': 0,\n",
       "       'items': [{'summary': 'This spot is popular',\n",
       "         'type': 'general',\n",
       "         'reasonName': 'globalInteractionReason'}]},\n",
       "      'venue': {'id': '4bf6da2c13aed13ad652eaf7',\n",
       "       'name': 'Queen of Hoxton Rooftop',\n",
       "       'location': {'address': '1-5 Curtain Rd',\n",
       "        'lat': 51.52210249641832,\n",
       "        'lng': -0.08114186493912712,\n",
       "        'labeledLatLngs': [{'label': 'display',\n",
       "          'lat': 51.52210249641832,\n",
       "          'lng': -0.08114186493912712}],\n",
       "        'distance': 497,\n",
       "        'postalCode': 'EC2A 3JX',\n",
       "        'cc': 'GB',\n",
       "        'city': 'Shoreditch',\n",
       "        'state': 'Greater London',\n",
       "        'country': 'United Kingdom',\n",
       "        'formattedAddress': ['1-5 Curtain Rd',\n",
       "         'Shoreditch',\n",
       "         'Greater London',\n",
       "         'EC2A 3JX',\n",
       "         'United Kingdom']},\n",
       "       'categories': [{'id': '4bf58dd8d48988d133951735',\n",
       "         'name': 'Roof Deck',\n",
       "         'pluralName': 'Roof Decks',\n",
       "         'shortName': 'Roof Deck',\n",
       "         'icon': {'prefix': 'https://ss3.4sqi.net/img/categories_v2/travel/hotel_roofdeck_',\n",
       "          'suffix': '.png'},\n",
       "         'primary': True}],\n",
       "       'photos': {'count': 0, 'groups': []}},\n",
       "      'referralId': 'e-0-4bf6da2c13aed13ad652eaf7-72'},\n",
       "     {'reasons': {'count': 0,\n",
       "       'items': [{'summary': 'This spot is popular',\n",
       "         'type': 'general',\n",
       "         'reasonName': 'globalInteractionReason'}]},\n",
       "      'venue': {'id': '5637583b498efb2f4f8d435c',\n",
       "       'name': 'COS',\n",
       "       'location': {'address': '28 Brushfield Street',\n",
       "        'lat': 51.51894882534754,\n",
       "        'lng': -0.07767140865325928,\n",
       "        'labeledLatLngs': [{'label': 'display',\n",
       "          'lat': 51.51894882534754,\n",
       "          'lng': -0.07767140865325928}],\n",
       "        'distance': 450,\n",
       "        'postalCode': 'E1 6AG',\n",
       "        'cc': 'GB',\n",
       "        'city': 'London',\n",
       "        'state': 'Greater London',\n",
       "        'country': 'United Kingdom',\n",
       "        'formattedAddress': ['28 Brushfield Street',\n",
       "         'London',\n",
       "         'Greater London',\n",
       "         'E1 6AG',\n",
       "         'United Kingdom']},\n",
       "       'categories': [{'id': '4bf58dd8d48988d103951735',\n",
       "         'name': 'Clothing Store',\n",
       "         'pluralName': 'Clothing Stores',\n",
       "         'shortName': 'Apparel',\n",
       "         'icon': {'prefix': 'https://ss3.4sqi.net/img/categories_v2/shops/apparel_',\n",
       "          'suffix': '.png'},\n",
       "         'primary': True}],\n",
       "       'photos': {'count': 0, 'groups': []}},\n",
       "      'referralId': 'e-0-5637583b498efb2f4f8d435c-73'},\n",
       "     {'reasons': {'count': 0,\n",
       "       'items': [{'summary': 'This spot is popular',\n",
       "         'type': 'general',\n",
       "         'reasonName': 'globalInteractionReason'}]},\n",
       "      'venue': {'id': '5716df04498e83f611de6417',\n",
       "       'name': 'The Gherkin',\n",
       "       'location': {'address': '30 St Mary Axe',\n",
       "        'lat': 51.514458,\n",
       "        'lng': -0.08023828,\n",
       "        'labeledLatLngs': [{'label': 'display',\n",
       "          'lat': 51.514458,\n",
       "          'lng': -0.08023828}],\n",
       "        'distance': 472,\n",
       "        'cc': 'GB',\n",
       "        'neighborhood': 'Aldgate',\n",
       "        'country': 'United Kingdom',\n",
       "        'formattedAddress': ['30 St Mary Axe', 'United Kingdom']},\n",
       "       'categories': [{'id': '52e81612bcbc57f1066b7a05',\n",
       "         'name': 'English Restaurant',\n",
       "         'pluralName': 'English Restaurants',\n",
       "         'shortName': 'English',\n",
       "         'icon': {'prefix': 'https://ss3.4sqi.net/img/categories_v2/food/default_',\n",
       "          'suffix': '.png'},\n",
       "         'primary': True}],\n",
       "       'photos': {'count': 0, 'groups': []}},\n",
       "      'referralId': 'e-0-5716df04498e83f611de6417-74'},\n",
       "     {'reasons': {'count': 0,\n",
       "       'items': [{'summary': 'This spot is popular',\n",
       "         'type': 'general',\n",
       "         'reasonName': 'globalInteractionReason'}]},\n",
       "      'venue': {'id': '5840778e18384c5356681695',\n",
       "       'name': 'Aviary',\n",
       "       'location': {'address': '22-25 Finsbury Sq',\n",
       "        'crossStreet': 'The Montcalm Royal',\n",
       "        'lat': 51.52179539298163,\n",
       "        'lng': -0.08559013006519264,\n",
       "        'labeledLatLngs': [{'label': 'display',\n",
       "          'lat': 51.52179539298163,\n",
       "          'lng': -0.08559013006519264}],\n",
       "        'distance': 436,\n",
       "        'postalCode': 'EC2A 1DX',\n",
       "        'cc': 'GB',\n",
       "        'city': 'London',\n",
       "        'state': 'Greater London',\n",
       "        'country': 'United Kingdom',\n",
       "        'formattedAddress': ['22-25 Finsbury Sq (The Montcalm Royal)',\n",
       "         'London',\n",
       "         'Greater London',\n",
       "         'EC2A 1DX',\n",
       "         'United Kingdom']},\n",
       "       'categories': [{'id': '52e81612bcbc57f1066b7a05',\n",
       "         'name': 'English Restaurant',\n",
       "         'pluralName': 'English Restaurants',\n",
       "         'shortName': 'English',\n",
       "         'icon': {'prefix': 'https://ss3.4sqi.net/img/categories_v2/food/default_',\n",
       "          'suffix': '.png'},\n",
       "         'primary': True}],\n",
       "       'photos': {'count': 0, 'groups': []}},\n",
       "      'referralId': 'e-0-5840778e18384c5356681695-75'},\n",
       "     {'reasons': {'count': 0,\n",
       "       'items': [{'summary': 'This spot is popular',\n",
       "         'type': 'general',\n",
       "         'reasonName': 'globalInteractionReason'}]},\n",
       "      'venue': {'id': '4ac518bbf964a5201ba220e3',\n",
       "       'name': 'Grapeshots',\n",
       "       'location': {'address': '2 Artillery Passage',\n",
       "        'lat': 51.518157460847966,\n",
       "        'lng': -0.07760219226128609,\n",
       "        'labeledLatLngs': [{'label': 'display',\n",
       "          'lat': 51.518157460847966,\n",
       "          'lng': -0.07760219226128609}],\n",
       "        'distance': 443,\n",
       "        'postalCode': 'E1 7LJ',\n",
       "        'cc': 'GB',\n",
       "        'city': 'London',\n",
       "        'state': 'Greater London',\n",
       "        'country': 'United Kingdom',\n",
       "        'formattedAddress': ['2 Artillery Passage',\n",
       "         'London',\n",
       "         'Greater London',\n",
       "         'E1 7LJ',\n",
       "         'United Kingdom']},\n",
       "       'categories': [{'id': '4bf58dd8d48988d116941735',\n",
       "         'name': 'Bar',\n",
       "         'pluralName': 'Bars',\n",
       "         'shortName': 'Bar',\n",
       "         'icon': {'prefix': 'https://ss3.4sqi.net/img/categories_v2/nightlife/pub_',\n",
       "          'suffix': '.png'},\n",
       "         'primary': True}],\n",
       "       'photos': {'count': 0, 'groups': []}},\n",
       "      'referralId': 'e-0-4ac518bbf964a5201ba220e3-76'},\n",
       "     {'reasons': {'count': 0,\n",
       "       'items': [{'summary': 'This spot is popular',\n",
       "         'type': 'general',\n",
       "         'reasonName': 'globalInteractionReason'}]},\n",
       "      'venue': {'id': '5ba13dbbe0c0c9002c1d28a1',\n",
       "       'name': 'IRIS Bar',\n",
       "       'location': {'address': '30 St Mary Axe',\n",
       "        'lat': 51.51446,\n",
       "        'lng': -0.080264,\n",
       "        'labeledLatLngs': [{'label': 'display',\n",
       "          'lat': 51.51446,\n",
       "          'lng': -0.080264}],\n",
       "        'distance': 471,\n",
       "        'postalCode': 'EC3A 8BF',\n",
       "        'cc': 'GB',\n",
       "        'city': 'London',\n",
       "        'state': 'Greater London',\n",
       "        'country': 'United Kingdom',\n",
       "        'formattedAddress': ['30 St Mary Axe',\n",
       "         'London',\n",
       "         'Greater London',\n",
       "         'EC3A 8BF',\n",
       "         'United Kingdom']},\n",
       "       'categories': [{'id': '4bf58dd8d48988d11e941735',\n",
       "         'name': 'Cocktail Bar',\n",
       "         'pluralName': 'Cocktail Bars',\n",
       "         'shortName': 'Cocktail',\n",
       "         'icon': {'prefix': 'https://ss3.4sqi.net/img/categories_v2/nightlife/cocktails_',\n",
       "          'suffix': '.png'},\n",
       "         'primary': True}],\n",
       "       'photos': {'count': 0, 'groups': []}},\n",
       "      'referralId': 'e-0-5ba13dbbe0c0c9002c1d28a1-77'},\n",
       "     {'reasons': {'count': 0,\n",
       "       'items': [{'summary': 'This spot is popular',\n",
       "         'type': 'general',\n",
       "         'reasonName': 'globalInteractionReason'}]},\n",
       "      'venue': {'id': '4c28da879eb19521ed9d2959',\n",
       "       'name': 'Threadneedles, Autograph Collection',\n",
       "       'location': {'address': '5 Threadneedle Street',\n",
       "        'lat': 51.514105200658044,\n",
       "        'lng': -0.08561806948337342,\n",
       "        'labeledLatLngs': [{'label': 'display',\n",
       "          'lat': 51.514105200658044,\n",
       "          'lng': -0.08561806948337342}],\n",
       "        'distance': 447,\n",
       "        'postalCode': 'EC2R 8AY',\n",
       "        'cc': 'GB',\n",
       "        'city': 'City of London',\n",
       "        'state': 'Greater London',\n",
       "        'country': 'United Kingdom',\n",
       "        'formattedAddress': ['5 Threadneedle Street',\n",
       "         'City of London',\n",
       "         'Greater London',\n",
       "         'EC2R 8AY',\n",
       "         'United Kingdom']},\n",
       "       'categories': [{'id': '4bf58dd8d48988d1fa931735',\n",
       "         'name': 'Hotel',\n",
       "         'pluralName': 'Hotels',\n",
       "         'shortName': 'Hotel',\n",
       "         'icon': {'prefix': 'https://ss3.4sqi.net/img/categories_v2/travel/hotel_',\n",
       "          'suffix': '.png'},\n",
       "         'primary': True}],\n",
       "       'photos': {'count': 0, 'groups': []},\n",
       "       'venuePage': {'id': '129932619'}},\n",
       "      'referralId': 'e-0-4c28da879eb19521ed9d2959-78'},\n",
       "     {'reasons': {'count': 0,\n",
       "       'items': [{'summary': 'This spot is popular',\n",
       "         'type': 'general',\n",
       "         'reasonName': 'globalInteractionReason'}]},\n",
       "      'venue': {'id': '4b716147f964a520b9432de3',\n",
       "       'name': 'Pret A Manger',\n",
       "       'location': {'address': '25 St. Mary Axe',\n",
       "        'lat': 51.51471439247461,\n",
       "        'lng': -0.08102383191185503,\n",
       "        'labeledLatLngs': [{'label': 'display',\n",
       "          'lat': 51.51471439247461,\n",
       "          'lng': -0.08102383191185503}],\n",
       "        'distance': 419,\n",
       "        'postalCode': 'EC3A 8AA',\n",
       "        'cc': 'GB',\n",
       "        'city': 'London',\n",
       "        'state': 'Greater London',\n",
       "        'country': 'United Kingdom',\n",
       "        'formattedAddress': ['25 St. Mary Axe',\n",
       "         'London',\n",
       "         'Greater London',\n",
       "         'EC3A 8AA',\n",
       "         'United Kingdom']},\n",
       "       'categories': [{'id': '4bf58dd8d48988d1c5941735',\n",
       "         'name': 'Sandwich Place',\n",
       "         'pluralName': 'Sandwich Places',\n",
       "         'shortName': 'Sandwiches',\n",
       "         'icon': {'prefix': 'https://ss3.4sqi.net/img/categories_v2/food/deli_',\n",
       "          'suffix': '.png'},\n",
       "         'primary': True}],\n",
       "       'photos': {'count': 0, 'groups': []}},\n",
       "      'referralId': 'e-0-4b716147f964a520b9432de3-79'},\n",
       "     {'reasons': {'count': 0,\n",
       "       'items': [{'summary': 'This spot is popular',\n",
       "         'type': 'general',\n",
       "         'reasonName': 'globalInteractionReason'}]},\n",
       "      'venue': {'id': '4c07db103f200f478e2809d1',\n",
       "       'name': \"Merchant Taylor's Hall\",\n",
       "       'location': {'address': '30 Threadneedle St.',\n",
       "        'lat': 51.51387785158919,\n",
       "        'lng': -0.08507850477157225,\n",
       "        'labeledLatLngs': [{'label': 'display',\n",
       "          'lat': 51.51387785158919,\n",
       "          'lng': -0.08507850477157225}],\n",
       "        'distance': 464,\n",
       "        'postalCode': 'EC2R 8JB',\n",
       "        'cc': 'GB',\n",
       "        'city': 'London',\n",
       "        'state': 'Greater London',\n",
       "        'country': 'United Kingdom',\n",
       "        'formattedAddress': ['30 Threadneedle St.',\n",
       "         'London',\n",
       "         'Greater London',\n",
       "         'EC2R 8JB',\n",
       "         'United Kingdom']},\n",
       "       'categories': [{'id': '4bf58dd8d48988d171941735',\n",
       "         'name': 'Event Space',\n",
       "         'pluralName': 'Event Spaces',\n",
       "         'shortName': 'Event Space',\n",
       "         'icon': {'prefix': 'https://ss3.4sqi.net/img/categories_v2/building/eventspace_',\n",
       "          'suffix': '.png'},\n",
       "         'primary': True}],\n",
       "       'photos': {'count': 0, 'groups': []}},\n",
       "      'referralId': 'e-0-4c07db103f200f478e2809d1-80'}]}]}}"
      ]
     },
     "metadata": {},
     "execution_count": 78
    }
   ],
   "source": [
    "results = requests.get(url).json()\n",
    "results"
   ]
  },
  {
   "source": [
    "### Create a dataframe to store the venues, the corresponding categories and coordinates."
   ],
   "cell_type": "markdown",
   "metadata": {}
  },
  {
   "cell_type": "code",
   "execution_count": 79,
   "metadata": {},
   "outputs": [
    {
     "output_type": "execute_result",
     "data": {
      "text/plain": [
       "                                                name          categories  \\\n",
       "0                                             1Rebel          Boxing Gym   \n",
       "1                                              Kobox          Boxing Gym   \n",
       "2                                           Yauatcha  Chinese Restaurant   \n",
       "3  Andaz London Liverpool Street - a concept by H...               Hotel   \n",
       "4                                       Franco Manca         Pizza Place   \n",
       "\n",
       "         lat       lng  \n",
       "0  51.518378 -0.083861  \n",
       "1  51.516845 -0.085335  \n",
       "2  51.518828 -0.083498  \n",
       "3  51.517213 -0.081645  \n",
       "4  51.518780 -0.083448  "
      ],
      "text/html": "<div>\n<style scoped>\n    .dataframe tbody tr th:only-of-type {\n        vertical-align: middle;\n    }\n\n    .dataframe tbody tr th {\n        vertical-align: top;\n    }\n\n    .dataframe thead th {\n        text-align: right;\n    }\n</style>\n<table border=\"1\" class=\"dataframe\">\n  <thead>\n    <tr style=\"text-align: right;\">\n      <th></th>\n      <th>name</th>\n      <th>categories</th>\n      <th>lat</th>\n      <th>lng</th>\n    </tr>\n  </thead>\n  <tbody>\n    <tr>\n      <th>0</th>\n      <td>1Rebel</td>\n      <td>Boxing Gym</td>\n      <td>51.518378</td>\n      <td>-0.083861</td>\n    </tr>\n    <tr>\n      <th>1</th>\n      <td>Kobox</td>\n      <td>Boxing Gym</td>\n      <td>51.516845</td>\n      <td>-0.085335</td>\n    </tr>\n    <tr>\n      <th>2</th>\n      <td>Yauatcha</td>\n      <td>Chinese Restaurant</td>\n      <td>51.518828</td>\n      <td>-0.083498</td>\n    </tr>\n    <tr>\n      <th>3</th>\n      <td>Andaz London Liverpool Street - a concept by H...</td>\n      <td>Hotel</td>\n      <td>51.517213</td>\n      <td>-0.081645</td>\n    </tr>\n    <tr>\n      <th>4</th>\n      <td>Franco Manca</td>\n      <td>Pizza Place</td>\n      <td>51.518780</td>\n      <td>-0.083448</td>\n    </tr>\n  </tbody>\n</table>\n</div>"
     },
     "metadata": {},
     "execution_count": 79
    }
   ],
   "source": [
    "venues = results['response']['groups'][0]['items']\n",
    "    \n",
    "nearby_venues_london = json_normalize(venues) # flatten JSON\n",
    "\n",
    "# filter columns\n",
    "filtered_columns = ['venue.name', 'venue.categories', 'venue.location.lat', 'venue.location.lng']\n",
    "nearby_venues_london = nearby_venues_london.loc[:, filtered_columns]\n",
    "\n",
    "# filter the category for each row\n",
    "nearby_venues_london['venue.categories'] = nearby_venues_london.apply(get_category_type, axis = 1)\n",
    "\n",
    "# clean columns\n",
    "nearby_venues_london.columns = [col.split(\".\")[-1] for col in nearby_venues_london.columns]\n",
    "\n",
    "nearby_venues_london.head()"
   ]
  },
  {
   "source": [
    "### How many venues returned by Foursquare?"
   ],
   "cell_type": "markdown",
   "metadata": {}
  },
  {
   "cell_type": "code",
   "execution_count": 80,
   "metadata": {},
   "outputs": [
    {
     "output_type": "stream",
     "name": "stdout",
     "text": [
      "81 venues were returned by Foursquare.\n"
     ]
    }
   ],
   "source": [
    "print('{} venues were returned by Foursquare.'.format(nearby_venues_london.shape[0]))"
   ]
  },
  {
   "source": [
    "### What are the top 10 categories?"
   ],
   "cell_type": "markdown",
   "metadata": {}
  },
  {
   "cell_type": "code",
   "execution_count": 81,
   "metadata": {},
   "outputs": [
    {
     "output_type": "execute_result",
     "data": {
      "text/plain": [
       "                           Count\n",
       "Hotel                          6\n",
       "Gym / Fitness Center           4\n",
       "Food Truck                     3\n",
       "Pub                            3\n",
       "Coffee Shop                    3\n",
       "English Restaurant             3\n",
       "Pizza Place                    3\n",
       "Cocktail Bar                   3\n",
       "Middle Eastern Restaurant      2\n",
       "Wine Bar                       2"
      ],
      "text/html": "<div>\n<style scoped>\n    .dataframe tbody tr th:only-of-type {\n        vertical-align: middle;\n    }\n\n    .dataframe tbody tr th {\n        vertical-align: top;\n    }\n\n    .dataframe thead th {\n        text-align: right;\n    }\n</style>\n<table border=\"1\" class=\"dataframe\">\n  <thead>\n    <tr style=\"text-align: right;\">\n      <th></th>\n      <th>Count</th>\n    </tr>\n  </thead>\n  <tbody>\n    <tr>\n      <th>Hotel</th>\n      <td>6</td>\n    </tr>\n    <tr>\n      <th>Gym / Fitness Center</th>\n      <td>4</td>\n    </tr>\n    <tr>\n      <th>Food Truck</th>\n      <td>3</td>\n    </tr>\n    <tr>\n      <th>Pub</th>\n      <td>3</td>\n    </tr>\n    <tr>\n      <th>Coffee Shop</th>\n      <td>3</td>\n    </tr>\n    <tr>\n      <th>English Restaurant</th>\n      <td>3</td>\n    </tr>\n    <tr>\n      <th>Pizza Place</th>\n      <td>3</td>\n    </tr>\n    <tr>\n      <th>Cocktail Bar</th>\n      <td>3</td>\n    </tr>\n    <tr>\n      <th>Middle Eastern Restaurant</th>\n      <td>2</td>\n    </tr>\n    <tr>\n      <th>Wine Bar</th>\n      <td>2</td>\n    </tr>\n  </tbody>\n</table>\n</div>"
     },
     "metadata": {},
     "execution_count": 81
    }
   ],
   "source": [
    "nearby_venues_by_categories = nearby_venues_london['categories'].value_counts().to_frame(name = 'Count')\n",
    "nearby_venues_by_categories.head(10)"
   ]
  },
  {
   "source": [
    "### What are the neighbourhoods?"
   ],
   "cell_type": "markdown",
   "metadata": {}
  },
  {
   "cell_type": "code",
   "execution_count": 82,
   "metadata": {},
   "outputs": [
    {
     "output_type": "stream",
     "name": "stdout",
     "text": [
      "Barbican\n",
      "Neasden\n",
      "Gospel Oak, Primrose Hill\n",
      "Brent Cross\n",
      "Kensal Green\n",
      "Arkley\n",
      "Primrose Hill\n",
      "Oval\n",
      "Blackheath Royal Standard\n",
      "Ladywell\n",
      "Elephant and Castle, Newington\n",
      "Bexleyheath (also Bexley New Town)\n",
      "Beckenham, Crystal Palace\n",
      "Crystal Palace\n",
      "Gipsy Hill, Tulse Hill\n",
      "Brixton\n",
      "Earls Court\n",
      "Southfields\n",
      "Wimbledon\n",
      "South Kensington\n",
      "South Kensington\n",
      "Brixton, Oval, Stockwell\n",
      "Holborn\n",
      "Barbican\n",
      "Aldgate\n",
      "Blackfriars\n",
      "Camden Town, Chalk Farm, Primrose Hill, Somerstown\n",
      "Golders Green\n",
      "Brent Cross, Childs Hill\n",
      "Gospel Oak, Kentish Town\n",
      "Colindale, Grahame Park, The Hyde, West Hendon\n",
      "Lambeth\n",
      "Greenwich, Maze Hill\n",
      "New Cross\n",
      "Nunhead, Peckham\n",
      "Rotherhithe, Surrey Quays\n",
      "Plumstead, Shooter's Hill, Woolwich\n",
      "Crystal Palace\n",
      "Sydenham Hill\n",
      "East Dulwich\n",
      "Forest Hill, Honor Oak\n",
      "Herne Hill, Tulse Hill\n",
      "Selhurst, South Norwood\n",
      "Thamesmead\n",
      "Blackheath Royal Standard, Kidbrooke, Westcombe Park\n",
      "Brockley, Crofton Park, Ladywell, St Johns\n",
      "Bellingham, Catford, Southend\n",
      "Charlton\n",
      "Deptford\n",
      "Longlands\n",
      "Belgravia, Knightsbridge, Millbank, Pimlico, St James's, Westminster\n",
      "Battersea\n",
      "Balham\n",
      "Barnes, Castelnau\n",
      "East Sheen, Mortlake\n",
      "Kingston Vale\n",
      "Norbury\n",
      "Tooting, Tooting Bec\n",
      "Earlsfield, Southfields, Wandsworth\n",
      "Brixton\n",
      "Clapham\n",
      "Fulham, Parsons Green, Sands End\n",
      "Kensington, South Kensington\n",
      "Oval, Stockwell, Vauxhall\n",
      "Bloomsbury, Holborn, St Pancras\n"
     ]
    }
   ],
   "source": [
    "london_venues = getNearbyVenues(names = df_london6['Neighbourhood'], latitudes = df_london6['Latitude'], longitudes = df_london6['Longitude'])"
   ]
  },
  {
   "source": [
    "### What's the size of the resulting dataframe?"
   ],
   "cell_type": "markdown",
   "metadata": {}
  },
  {
   "cell_type": "code",
   "execution_count": 83,
   "metadata": {},
   "outputs": [
    {
     "output_type": "stream",
     "name": "stdout",
     "text": [
      "(2203, 7)\n"
     ]
    },
    {
     "output_type": "execute_result",
     "data": {
      "text/plain": [
       "  Neighbourhood  Neighbourhood Latitude  Neighbourhood Longitude  \\\n",
       "0      Barbican                  51.518                   -0.084   \n",
       "1      Barbican                  51.518                   -0.084   \n",
       "2      Barbican                  51.518                   -0.084   \n",
       "3      Barbican                  51.518                   -0.084   \n",
       "4      Barbican                  51.518                   -0.084   \n",
       "\n",
       "                                               Venue  Venue Latitude  \\\n",
       "0                                             1Rebel       51.518378   \n",
       "1                                              Kobox       51.516845   \n",
       "2                                           Yauatcha       51.518828   \n",
       "3  Andaz London Liverpool Street - a concept by H...       51.517213   \n",
       "4                                       Franco Manca       51.518780   \n",
       "\n",
       "   Venue Longitude      Venue Category  \n",
       "0        -0.083861          Boxing Gym  \n",
       "1        -0.085335          Boxing Gym  \n",
       "2        -0.083498  Chinese Restaurant  \n",
       "3        -0.081645               Hotel  \n",
       "4        -0.083448         Pizza Place  "
      ],
      "text/html": "<div>\n<style scoped>\n    .dataframe tbody tr th:only-of-type {\n        vertical-align: middle;\n    }\n\n    .dataframe tbody tr th {\n        vertical-align: top;\n    }\n\n    .dataframe thead th {\n        text-align: right;\n    }\n</style>\n<table border=\"1\" class=\"dataframe\">\n  <thead>\n    <tr style=\"text-align: right;\">\n      <th></th>\n      <th>Neighbourhood</th>\n      <th>Neighbourhood Latitude</th>\n      <th>Neighbourhood Longitude</th>\n      <th>Venue</th>\n      <th>Venue Latitude</th>\n      <th>Venue Longitude</th>\n      <th>Venue Category</th>\n    </tr>\n  </thead>\n  <tbody>\n    <tr>\n      <th>0</th>\n      <td>Barbican</td>\n      <td>51.518</td>\n      <td>-0.084</td>\n      <td>1Rebel</td>\n      <td>51.518378</td>\n      <td>-0.083861</td>\n      <td>Boxing Gym</td>\n    </tr>\n    <tr>\n      <th>1</th>\n      <td>Barbican</td>\n      <td>51.518</td>\n      <td>-0.084</td>\n      <td>Kobox</td>\n      <td>51.516845</td>\n      <td>-0.085335</td>\n      <td>Boxing Gym</td>\n    </tr>\n    <tr>\n      <th>2</th>\n      <td>Barbican</td>\n      <td>51.518</td>\n      <td>-0.084</td>\n      <td>Yauatcha</td>\n      <td>51.518828</td>\n      <td>-0.083498</td>\n      <td>Chinese Restaurant</td>\n    </tr>\n    <tr>\n      <th>3</th>\n      <td>Barbican</td>\n      <td>51.518</td>\n      <td>-0.084</td>\n      <td>Andaz London Liverpool Street - a concept by H...</td>\n      <td>51.517213</td>\n      <td>-0.081645</td>\n      <td>Hotel</td>\n    </tr>\n    <tr>\n      <th>4</th>\n      <td>Barbican</td>\n      <td>51.518</td>\n      <td>-0.084</td>\n      <td>Franco Manca</td>\n      <td>51.518780</td>\n      <td>-0.083448</td>\n      <td>Pizza Place</td>\n    </tr>\n  </tbody>\n</table>\n</div>"
     },
     "metadata": {},
     "execution_count": 83
    }
   ],
   "source": [
    "print(london_venues.shape)\n",
    "london_venues.head()"
   ]
  },
  {
   "source": [
    "### How many venues are there for each of the neighbourhoods?"
   ],
   "cell_type": "markdown",
   "metadata": {}
  },
  {
   "cell_type": "code",
   "execution_count": 84,
   "metadata": {},
   "outputs": [
    {
     "output_type": "execute_result",
     "data": {
      "text/plain": [
       "                      Neighbourhood Latitude  Neighbourhood Longitude  Venue  \\\n",
       "Neighbourhood                                                                  \n",
       "Aldgate                                   49                       49     49   \n",
       "Arkley                                     2                        2      2   \n",
       "Balham                                    59                       59     59   \n",
       "Barbican                                 170                      170    170   \n",
       "Barnes, Castelnau                         16                       16     16   \n",
       "...                                      ...                      ...    ...   \n",
       "Southfields                               26                       26     26   \n",
       "Sydenham Hill                              5                        5      5   \n",
       "Thamesmead                                74                       74     74   \n",
       "Tooting, Tooting Bec                      16                       16     16   \n",
       "Wimbledon                                 19                       19     19   \n",
       "\n",
       "                      Venue Latitude  Venue Longitude  Venue Category  \n",
       "Neighbourhood                                                          \n",
       "Aldgate                           49               49              49  \n",
       "Arkley                             2                2               2  \n",
       "Balham                            59               59              59  \n",
       "Barbican                         170              170             170  \n",
       "Barnes, Castelnau                 16               16              16  \n",
       "...                              ...              ...             ...  \n",
       "Southfields                       26               26              26  \n",
       "Sydenham Hill                      5                5               5  \n",
       "Thamesmead                        74               74              74  \n",
       "Tooting, Tooting Bec              16               16              16  \n",
       "Wimbledon                         19               19              19  \n",
       "\n",
       "[61 rows x 6 columns]"
      ],
      "text/html": "<div>\n<style scoped>\n    .dataframe tbody tr th:only-of-type {\n        vertical-align: middle;\n    }\n\n    .dataframe tbody tr th {\n        vertical-align: top;\n    }\n\n    .dataframe thead th {\n        text-align: right;\n    }\n</style>\n<table border=\"1\" class=\"dataframe\">\n  <thead>\n    <tr style=\"text-align: right;\">\n      <th></th>\n      <th>Neighbourhood Latitude</th>\n      <th>Neighbourhood Longitude</th>\n      <th>Venue</th>\n      <th>Venue Latitude</th>\n      <th>Venue Longitude</th>\n      <th>Venue Category</th>\n    </tr>\n    <tr>\n      <th>Neighbourhood</th>\n      <th></th>\n      <th></th>\n      <th></th>\n      <th></th>\n      <th></th>\n      <th></th>\n    </tr>\n  </thead>\n  <tbody>\n    <tr>\n      <th>Aldgate</th>\n      <td>49</td>\n      <td>49</td>\n      <td>49</td>\n      <td>49</td>\n      <td>49</td>\n      <td>49</td>\n    </tr>\n    <tr>\n      <th>Arkley</th>\n      <td>2</td>\n      <td>2</td>\n      <td>2</td>\n      <td>2</td>\n      <td>2</td>\n      <td>2</td>\n    </tr>\n    <tr>\n      <th>Balham</th>\n      <td>59</td>\n      <td>59</td>\n      <td>59</td>\n      <td>59</td>\n      <td>59</td>\n      <td>59</td>\n    </tr>\n    <tr>\n      <th>Barbican</th>\n      <td>170</td>\n      <td>170</td>\n      <td>170</td>\n      <td>170</td>\n      <td>170</td>\n      <td>170</td>\n    </tr>\n    <tr>\n      <th>Barnes, Castelnau</th>\n      <td>16</td>\n      <td>16</td>\n      <td>16</td>\n      <td>16</td>\n      <td>16</td>\n      <td>16</td>\n    </tr>\n    <tr>\n      <th>...</th>\n      <td>...</td>\n      <td>...</td>\n      <td>...</td>\n      <td>...</td>\n      <td>...</td>\n      <td>...</td>\n    </tr>\n    <tr>\n      <th>Southfields</th>\n      <td>26</td>\n      <td>26</td>\n      <td>26</td>\n      <td>26</td>\n      <td>26</td>\n      <td>26</td>\n    </tr>\n    <tr>\n      <th>Sydenham Hill</th>\n      <td>5</td>\n      <td>5</td>\n      <td>5</td>\n      <td>5</td>\n      <td>5</td>\n      <td>5</td>\n    </tr>\n    <tr>\n      <th>Thamesmead</th>\n      <td>74</td>\n      <td>74</td>\n      <td>74</td>\n      <td>74</td>\n      <td>74</td>\n      <td>74</td>\n    </tr>\n    <tr>\n      <th>Tooting, Tooting Bec</th>\n      <td>16</td>\n      <td>16</td>\n      <td>16</td>\n      <td>16</td>\n      <td>16</td>\n      <td>16</td>\n    </tr>\n    <tr>\n      <th>Wimbledon</th>\n      <td>19</td>\n      <td>19</td>\n      <td>19</td>\n      <td>19</td>\n      <td>19</td>\n      <td>19</td>\n    </tr>\n  </tbody>\n</table>\n<p>61 rows × 6 columns</p>\n</div>"
     },
     "metadata": {},
     "execution_count": 84
    }
   ],
   "source": [
    "london_venues.groupby('Neighbourhood').count()"
   ]
  },
  {
   "source": [
    "### How many unique categories that can be curated?"
   ],
   "cell_type": "markdown",
   "metadata": {}
  },
  {
   "cell_type": "code",
   "execution_count": 85,
   "metadata": {},
   "outputs": [
    {
     "output_type": "stream",
     "name": "stdout",
     "text": [
      "There are 269 uniques categories.\n"
     ]
    }
   ],
   "source": [
    "print('There are {} uniques categories.'.format(len(london_venues['Venue Category'].unique())))"
   ]
  },
  {
   "source": [
    "## Analysing Each Neighbourhood"
   ],
   "cell_type": "markdown",
   "metadata": {}
  },
  {
   "cell_type": "code",
   "execution_count": 86,
   "metadata": {},
   "outputs": [
    {
     "output_type": "execute_result",
     "data": {
      "text/plain": [
       "  Neighbourhood  Accessories Store  Adult Boutique  African Restaurant  \\\n",
       "0      Barbican                  0               0                   0   \n",
       "1      Barbican                  0               0                   0   \n",
       "2      Barbican                  0               0                   0   \n",
       "3      Barbican                  0               0                   0   \n",
       "4      Barbican                  0               0                   0   \n",
       "\n",
       "   American Restaurant  Antique Shop  Aquarium  Argentinian Restaurant  \\\n",
       "0                    0             0         0                       0   \n",
       "1                    0             0         0                       0   \n",
       "2                    0             0         0                       0   \n",
       "3                    0             0         0                       0   \n",
       "4                    0             0         0                       0   \n",
       "\n",
       "   Art Gallery  Art Museum  ...  Vietnamese Restaurant  Warehouse Store  \\\n",
       "0            0           0  ...                      0                0   \n",
       "1            0           0  ...                      0                0   \n",
       "2            0           0  ...                      0                0   \n",
       "3            0           0  ...                      0                0   \n",
       "4            0           0  ...                      0                0   \n",
       "\n",
       "   Whisky Bar  Wine Bar  Wine Shop  Wings Joint  Women's Store  \\\n",
       "0           0         0          0            0              0   \n",
       "1           0         0          0            0              0   \n",
       "2           0         0          0            0              0   \n",
       "3           0         0          0            0              0   \n",
       "4           0         0          0            0              0   \n",
       "\n",
       "   Xinjiang Restaurant  Yoga Studio  Zoo Exhibit  \n",
       "0                    0            0            0  \n",
       "1                    0            0            0  \n",
       "2                    0            0            0  \n",
       "3                    0            0            0  \n",
       "4                    0            0            0  \n",
       "\n",
       "[5 rows x 270 columns]"
      ],
      "text/html": "<div>\n<style scoped>\n    .dataframe tbody tr th:only-of-type {\n        vertical-align: middle;\n    }\n\n    .dataframe tbody tr th {\n        vertical-align: top;\n    }\n\n    .dataframe thead th {\n        text-align: right;\n    }\n</style>\n<table border=\"1\" class=\"dataframe\">\n  <thead>\n    <tr style=\"text-align: right;\">\n      <th></th>\n      <th>Neighbourhood</th>\n      <th>Accessories Store</th>\n      <th>Adult Boutique</th>\n      <th>African Restaurant</th>\n      <th>American Restaurant</th>\n      <th>Antique Shop</th>\n      <th>Aquarium</th>\n      <th>Argentinian Restaurant</th>\n      <th>Art Gallery</th>\n      <th>Art Museum</th>\n      <th>...</th>\n      <th>Vietnamese Restaurant</th>\n      <th>Warehouse Store</th>\n      <th>Whisky Bar</th>\n      <th>Wine Bar</th>\n      <th>Wine Shop</th>\n      <th>Wings Joint</th>\n      <th>Women's Store</th>\n      <th>Xinjiang Restaurant</th>\n      <th>Yoga Studio</th>\n      <th>Zoo Exhibit</th>\n    </tr>\n  </thead>\n  <tbody>\n    <tr>\n      <th>0</th>\n      <td>Barbican</td>\n      <td>0</td>\n      <td>0</td>\n      <td>0</td>\n      <td>0</td>\n      <td>0</td>\n      <td>0</td>\n      <td>0</td>\n      <td>0</td>\n      <td>0</td>\n      <td>...</td>\n      <td>0</td>\n      <td>0</td>\n      <td>0</td>\n      <td>0</td>\n      <td>0</td>\n      <td>0</td>\n      <td>0</td>\n      <td>0</td>\n      <td>0</td>\n      <td>0</td>\n    </tr>\n    <tr>\n      <th>1</th>\n      <td>Barbican</td>\n      <td>0</td>\n      <td>0</td>\n      <td>0</td>\n      <td>0</td>\n      <td>0</td>\n      <td>0</td>\n      <td>0</td>\n      <td>0</td>\n      <td>0</td>\n      <td>...</td>\n      <td>0</td>\n      <td>0</td>\n      <td>0</td>\n      <td>0</td>\n      <td>0</td>\n      <td>0</td>\n      <td>0</td>\n      <td>0</td>\n      <td>0</td>\n      <td>0</td>\n    </tr>\n    <tr>\n      <th>2</th>\n      <td>Barbican</td>\n      <td>0</td>\n      <td>0</td>\n      <td>0</td>\n      <td>0</td>\n      <td>0</td>\n      <td>0</td>\n      <td>0</td>\n      <td>0</td>\n      <td>0</td>\n      <td>...</td>\n      <td>0</td>\n      <td>0</td>\n      <td>0</td>\n      <td>0</td>\n      <td>0</td>\n      <td>0</td>\n      <td>0</td>\n      <td>0</td>\n      <td>0</td>\n      <td>0</td>\n    </tr>\n    <tr>\n      <th>3</th>\n      <td>Barbican</td>\n      <td>0</td>\n      <td>0</td>\n      <td>0</td>\n      <td>0</td>\n      <td>0</td>\n      <td>0</td>\n      <td>0</td>\n      <td>0</td>\n      <td>0</td>\n      <td>...</td>\n      <td>0</td>\n      <td>0</td>\n      <td>0</td>\n      <td>0</td>\n      <td>0</td>\n      <td>0</td>\n      <td>0</td>\n      <td>0</td>\n      <td>0</td>\n      <td>0</td>\n    </tr>\n    <tr>\n      <th>4</th>\n      <td>Barbican</td>\n      <td>0</td>\n      <td>0</td>\n      <td>0</td>\n      <td>0</td>\n      <td>0</td>\n      <td>0</td>\n      <td>0</td>\n      <td>0</td>\n      <td>0</td>\n      <td>...</td>\n      <td>0</td>\n      <td>0</td>\n      <td>0</td>\n      <td>0</td>\n      <td>0</td>\n      <td>0</td>\n      <td>0</td>\n      <td>0</td>\n      <td>0</td>\n      <td>0</td>\n    </tr>\n  </tbody>\n</table>\n<p>5 rows × 270 columns</p>\n</div>"
     },
     "metadata": {},
     "execution_count": 86
    }
   ],
   "source": [
    "# one hot encoding\n",
    "london_onehot = pd.get_dummies(london_venues[['Venue Category']], prefix = \"\", prefix_sep = \"\")\n",
    "\n",
    "# add neighbourhood column back to dataframe\n",
    "london_onehot['Neighbourhood'] = london_venues['Neighbourhood'] \n",
    "\n",
    "# move neighbourhood column to the first column\n",
    "fixed_columns = [london_onehot.columns[-1]] + list(london_onehot.columns[:-1])\n",
    "london_onehot = london_onehot[fixed_columns]\n",
    "\n",
    "london_onehot.head()"
   ]
  },
  {
   "cell_type": "code",
   "execution_count": 87,
   "metadata": {},
   "outputs": [
    {
     "output_type": "execute_result",
     "data": {
      "text/plain": [
       "(2203, 270)"
      ]
     },
     "metadata": {},
     "execution_count": 87
    }
   ],
   "source": [
    "london_onehot.shape"
   ]
  },
  {
   "source": [
    "### Group the rows by neighbourhood and by taking the mean of the frequency of occurrence of each category."
   ],
   "cell_type": "markdown",
   "metadata": {}
  },
  {
   "cell_type": "code",
   "execution_count": 88,
   "metadata": {},
   "outputs": [
    {
     "output_type": "execute_result",
     "data": {
      "text/plain": [
       "           Neighbourhood  Accessories Store  Adult Boutique  \\\n",
       "0                Aldgate                0.0             0.0   \n",
       "1                 Arkley                0.0             0.0   \n",
       "2                 Balham                0.0             0.0   \n",
       "3               Barbican                0.0             0.0   \n",
       "4      Barnes, Castelnau                0.0             0.0   \n",
       "..                   ...                ...             ...   \n",
       "56           Southfields                0.0             0.0   \n",
       "57         Sydenham Hill                0.0             0.0   \n",
       "58            Thamesmead                0.0             0.0   \n",
       "59  Tooting, Tooting Bec                0.0             0.0   \n",
       "60             Wimbledon                0.0             0.0   \n",
       "\n",
       "    African Restaurant  American Restaurant  Antique Shop  Aquarium  \\\n",
       "0                  0.0                  0.0           0.0       0.0   \n",
       "1                  0.0                  0.0           0.0       0.0   \n",
       "2                  0.0                  0.0           0.0       0.0   \n",
       "3                  0.0                  0.0           0.0       0.0   \n",
       "4                  0.0                  0.0           0.0       0.0   \n",
       "..                 ...                  ...           ...       ...   \n",
       "56                 0.0                  0.0           0.0       0.0   \n",
       "57                 0.0                  0.0           0.0       0.0   \n",
       "58                 0.0                  0.0           0.0       0.0   \n",
       "59                 0.0                  0.0           0.0       0.0   \n",
       "60                 0.0                  0.0           0.0       0.0   \n",
       "\n",
       "    Argentinian Restaurant  Art Gallery  Art Museum  ...  \\\n",
       "0                 0.020408     0.000000         0.0  ...   \n",
       "1                 0.000000     0.000000         0.0  ...   \n",
       "2                 0.000000     0.000000         0.0  ...   \n",
       "3                 0.005882     0.011765         0.0  ...   \n",
       "4                 0.000000     0.000000         0.0  ...   \n",
       "..                     ...          ...         ...  ...   \n",
       "56                0.038462     0.000000         0.0  ...   \n",
       "57                0.000000     0.000000         0.0  ...   \n",
       "58                0.000000     0.000000         0.0  ...   \n",
       "59                0.000000     0.000000         0.0  ...   \n",
       "60                0.000000     0.000000         0.0  ...   \n",
       "\n",
       "    Vietnamese Restaurant  Warehouse Store  Whisky Bar  Wine Bar  Wine Shop  \\\n",
       "0                0.000000              0.0    0.000000  0.000000   0.000000   \n",
       "1                0.000000              0.0    0.000000  0.000000   0.000000   \n",
       "2                0.000000              0.0    0.000000  0.000000   0.000000   \n",
       "3                0.011765              0.0    0.005882  0.011765   0.005882   \n",
       "4                0.000000              0.0    0.000000  0.000000   0.000000   \n",
       "..                    ...              ...         ...       ...        ...   \n",
       "56               0.038462              0.0    0.000000  0.000000   0.000000   \n",
       "57               0.000000              0.0    0.000000  0.000000   0.000000   \n",
       "58               0.000000              0.0    0.000000  0.013514   0.000000   \n",
       "59               0.000000              0.0    0.000000  0.000000   0.000000   \n",
       "60               0.000000              0.0    0.000000  0.052632   0.000000   \n",
       "\n",
       "    Wings Joint  Women's Store  Xinjiang Restaurant  Yoga Studio  Zoo Exhibit  \n",
       "0           0.0       0.000000                  0.0     0.000000          0.0  \n",
       "1           0.0       0.000000                  0.0     0.000000          0.0  \n",
       "2           0.0       0.000000                  0.0     0.016949          0.0  \n",
       "3           0.0       0.005882                  0.0     0.005882          0.0  \n",
       "4           0.0       0.000000                  0.0     0.000000          0.0  \n",
       "..          ...            ...                  ...          ...          ...  \n",
       "56          0.0       0.000000                  0.0     0.000000          0.0  \n",
       "57          0.0       0.000000                  0.0     0.000000          0.0  \n",
       "58          0.0       0.000000                  0.0     0.000000          0.0  \n",
       "59          0.0       0.000000                  0.0     0.000000          0.0  \n",
       "60          0.0       0.000000                  0.0     0.000000          0.0  \n",
       "\n",
       "[61 rows x 270 columns]"
      ],
      "text/html": "<div>\n<style scoped>\n    .dataframe tbody tr th:only-of-type {\n        vertical-align: middle;\n    }\n\n    .dataframe tbody tr th {\n        vertical-align: top;\n    }\n\n    .dataframe thead th {\n        text-align: right;\n    }\n</style>\n<table border=\"1\" class=\"dataframe\">\n  <thead>\n    <tr style=\"text-align: right;\">\n      <th></th>\n      <th>Neighbourhood</th>\n      <th>Accessories Store</th>\n      <th>Adult Boutique</th>\n      <th>African Restaurant</th>\n      <th>American Restaurant</th>\n      <th>Antique Shop</th>\n      <th>Aquarium</th>\n      <th>Argentinian Restaurant</th>\n      <th>Art Gallery</th>\n      <th>Art Museum</th>\n      <th>...</th>\n      <th>Vietnamese Restaurant</th>\n      <th>Warehouse Store</th>\n      <th>Whisky Bar</th>\n      <th>Wine Bar</th>\n      <th>Wine Shop</th>\n      <th>Wings Joint</th>\n      <th>Women's Store</th>\n      <th>Xinjiang Restaurant</th>\n      <th>Yoga Studio</th>\n      <th>Zoo Exhibit</th>\n    </tr>\n  </thead>\n  <tbody>\n    <tr>\n      <th>0</th>\n      <td>Aldgate</td>\n      <td>0.0</td>\n      <td>0.0</td>\n      <td>0.0</td>\n      <td>0.0</td>\n      <td>0.0</td>\n      <td>0.0</td>\n      <td>0.020408</td>\n      <td>0.000000</td>\n      <td>0.0</td>\n      <td>...</td>\n      <td>0.000000</td>\n      <td>0.0</td>\n      <td>0.000000</td>\n      <td>0.000000</td>\n      <td>0.000000</td>\n      <td>0.0</td>\n      <td>0.000000</td>\n      <td>0.0</td>\n      <td>0.000000</td>\n      <td>0.0</td>\n    </tr>\n    <tr>\n      <th>1</th>\n      <td>Arkley</td>\n      <td>0.0</td>\n      <td>0.0</td>\n      <td>0.0</td>\n      <td>0.0</td>\n      <td>0.0</td>\n      <td>0.0</td>\n      <td>0.000000</td>\n      <td>0.000000</td>\n      <td>0.0</td>\n      <td>...</td>\n      <td>0.000000</td>\n      <td>0.0</td>\n      <td>0.000000</td>\n      <td>0.000000</td>\n      <td>0.000000</td>\n      <td>0.0</td>\n      <td>0.000000</td>\n      <td>0.0</td>\n      <td>0.000000</td>\n      <td>0.0</td>\n    </tr>\n    <tr>\n      <th>2</th>\n      <td>Balham</td>\n      <td>0.0</td>\n      <td>0.0</td>\n      <td>0.0</td>\n      <td>0.0</td>\n      <td>0.0</td>\n      <td>0.0</td>\n      <td>0.000000</td>\n      <td>0.000000</td>\n      <td>0.0</td>\n      <td>...</td>\n      <td>0.000000</td>\n      <td>0.0</td>\n      <td>0.000000</td>\n      <td>0.000000</td>\n      <td>0.000000</td>\n      <td>0.0</td>\n      <td>0.000000</td>\n      <td>0.0</td>\n      <td>0.016949</td>\n      <td>0.0</td>\n    </tr>\n    <tr>\n      <th>3</th>\n      <td>Barbican</td>\n      <td>0.0</td>\n      <td>0.0</td>\n      <td>0.0</td>\n      <td>0.0</td>\n      <td>0.0</td>\n      <td>0.0</td>\n      <td>0.005882</td>\n      <td>0.011765</td>\n      <td>0.0</td>\n      <td>...</td>\n      <td>0.011765</td>\n      <td>0.0</td>\n      <td>0.005882</td>\n      <td>0.011765</td>\n      <td>0.005882</td>\n      <td>0.0</td>\n      <td>0.005882</td>\n      <td>0.0</td>\n      <td>0.005882</td>\n      <td>0.0</td>\n    </tr>\n    <tr>\n      <th>4</th>\n      <td>Barnes, Castelnau</td>\n      <td>0.0</td>\n      <td>0.0</td>\n      <td>0.0</td>\n      <td>0.0</td>\n      <td>0.0</td>\n      <td>0.0</td>\n      <td>0.000000</td>\n      <td>0.000000</td>\n      <td>0.0</td>\n      <td>...</td>\n      <td>0.000000</td>\n      <td>0.0</td>\n      <td>0.000000</td>\n      <td>0.000000</td>\n      <td>0.000000</td>\n      <td>0.0</td>\n      <td>0.000000</td>\n      <td>0.0</td>\n      <td>0.000000</td>\n      <td>0.0</td>\n    </tr>\n    <tr>\n      <th>...</th>\n      <td>...</td>\n      <td>...</td>\n      <td>...</td>\n      <td>...</td>\n      <td>...</td>\n      <td>...</td>\n      <td>...</td>\n      <td>...</td>\n      <td>...</td>\n      <td>...</td>\n      <td>...</td>\n      <td>...</td>\n      <td>...</td>\n      <td>...</td>\n      <td>...</td>\n      <td>...</td>\n      <td>...</td>\n      <td>...</td>\n      <td>...</td>\n      <td>...</td>\n      <td>...</td>\n    </tr>\n    <tr>\n      <th>56</th>\n      <td>Southfields</td>\n      <td>0.0</td>\n      <td>0.0</td>\n      <td>0.0</td>\n      <td>0.0</td>\n      <td>0.0</td>\n      <td>0.0</td>\n      <td>0.038462</td>\n      <td>0.000000</td>\n      <td>0.0</td>\n      <td>...</td>\n      <td>0.038462</td>\n      <td>0.0</td>\n      <td>0.000000</td>\n      <td>0.000000</td>\n      <td>0.000000</td>\n      <td>0.0</td>\n      <td>0.000000</td>\n      <td>0.0</td>\n      <td>0.000000</td>\n      <td>0.0</td>\n    </tr>\n    <tr>\n      <th>57</th>\n      <td>Sydenham Hill</td>\n      <td>0.0</td>\n      <td>0.0</td>\n      <td>0.0</td>\n      <td>0.0</td>\n      <td>0.0</td>\n      <td>0.0</td>\n      <td>0.000000</td>\n      <td>0.000000</td>\n      <td>0.0</td>\n      <td>...</td>\n      <td>0.000000</td>\n      <td>0.0</td>\n      <td>0.000000</td>\n      <td>0.000000</td>\n      <td>0.000000</td>\n      <td>0.0</td>\n      <td>0.000000</td>\n      <td>0.0</td>\n      <td>0.000000</td>\n      <td>0.0</td>\n    </tr>\n    <tr>\n      <th>58</th>\n      <td>Thamesmead</td>\n      <td>0.0</td>\n      <td>0.0</td>\n      <td>0.0</td>\n      <td>0.0</td>\n      <td>0.0</td>\n      <td>0.0</td>\n      <td>0.000000</td>\n      <td>0.000000</td>\n      <td>0.0</td>\n      <td>...</td>\n      <td>0.000000</td>\n      <td>0.0</td>\n      <td>0.000000</td>\n      <td>0.013514</td>\n      <td>0.000000</td>\n      <td>0.0</td>\n      <td>0.000000</td>\n      <td>0.0</td>\n      <td>0.000000</td>\n      <td>0.0</td>\n    </tr>\n    <tr>\n      <th>59</th>\n      <td>Tooting, Tooting Bec</td>\n      <td>0.0</td>\n      <td>0.0</td>\n      <td>0.0</td>\n      <td>0.0</td>\n      <td>0.0</td>\n      <td>0.0</td>\n      <td>0.000000</td>\n      <td>0.000000</td>\n      <td>0.0</td>\n      <td>...</td>\n      <td>0.000000</td>\n      <td>0.0</td>\n      <td>0.000000</td>\n      <td>0.000000</td>\n      <td>0.000000</td>\n      <td>0.0</td>\n      <td>0.000000</td>\n      <td>0.0</td>\n      <td>0.000000</td>\n      <td>0.0</td>\n    </tr>\n    <tr>\n      <th>60</th>\n      <td>Wimbledon</td>\n      <td>0.0</td>\n      <td>0.0</td>\n      <td>0.0</td>\n      <td>0.0</td>\n      <td>0.0</td>\n      <td>0.0</td>\n      <td>0.000000</td>\n      <td>0.000000</td>\n      <td>0.0</td>\n      <td>...</td>\n      <td>0.000000</td>\n      <td>0.0</td>\n      <td>0.000000</td>\n      <td>0.052632</td>\n      <td>0.000000</td>\n      <td>0.0</td>\n      <td>0.000000</td>\n      <td>0.0</td>\n      <td>0.000000</td>\n      <td>0.0</td>\n    </tr>\n  </tbody>\n</table>\n<p>61 rows × 270 columns</p>\n</div>"
     },
     "metadata": {},
     "execution_count": 88
    }
   ],
   "source": [
    "london_grouped = london_onehot.groupby('Neighbourhood').mean().reset_index()\n",
    "london_grouped"
   ]
  },
  {
   "cell_type": "code",
   "execution_count": 89,
   "metadata": {},
   "outputs": [
    {
     "output_type": "execute_result",
     "data": {
      "text/plain": [
       "(61, 270)"
      ]
     },
     "metadata": {},
     "execution_count": 89
    }
   ],
   "source": [
    "london_grouped.shape"
   ]
  },
  {
   "source": [
    "### What are the top 5 most common venues of each neighbourhood?"
   ],
   "cell_type": "markdown",
   "metadata": {}
  },
  {
   "cell_type": "code",
   "execution_count": 90,
   "metadata": {},
   "outputs": [
    {
     "output_type": "stream",
     "name": "stdout",
     "text": [
      "----Aldgate----\n",
      "                  venue  freq\n",
      "0                 Hotel  0.10\n",
      "1           Coffee Shop  0.08\n",
      "2        Scenic Lookout  0.06\n",
      "3  Gym / Fitness Center  0.06\n",
      "4     French Restaurant  0.06\n",
      "\n",
      "\n",
      "----Arkley----\n",
      "                        venue  freq\n",
      "0                    Pharmacy   0.5\n",
      "1  Construction & Landscaping   0.5\n",
      "2                 Opera House   0.0\n",
      "3       Performing Arts Venue   0.0\n",
      "4            Pedestrian Plaza   0.0\n",
      "\n",
      "\n",
      "----Balham----\n",
      "         venue  freq\n",
      "0          Pub  0.12\n",
      "1  Coffee Shop  0.12\n",
      "2  Pizza Place  0.07\n",
      "3  Supermarket  0.05\n",
      "4       Bakery  0.05\n",
      "\n",
      "\n",
      "----Barbican----\n",
      "                  venue  freq\n",
      "0           Coffee Shop  0.09\n",
      "1  Gym / Fitness Center  0.06\n",
      "2    Italian Restaurant  0.05\n",
      "3            Food Truck  0.05\n",
      "4                 Hotel  0.04\n",
      "\n",
      "\n",
      "----Barnes, Castelnau----\n",
      "                 venue  freq\n",
      "0    Food & Drink Shop  0.12\n",
      "1  Indie Movie Theater  0.06\n",
      "2      Thai Restaurant  0.06\n",
      "3        Movie Theater  0.06\n",
      "4      Nature Preserve  0.06\n",
      "\n",
      "\n",
      "----Battersea----\n",
      "                venue  freq\n",
      "0                 Pub  0.12\n",
      "1                Café  0.12\n",
      "2  Italian Restaurant  0.08\n",
      "3            Bus Stop  0.08\n",
      "4   Indian Restaurant  0.08\n",
      "\n",
      "\n",
      "----Beckenham, Crystal Palace----\n",
      "                  venue  freq\n",
      "0         Train Station  0.12\n",
      "1           Supermarket  0.12\n",
      "2                  Park  0.12\n",
      "3        Hardware Store  0.12\n",
      "4  Fast Food Restaurant  0.12\n",
      "\n",
      "\n",
      "----Belgravia, Knightsbridge, Millbank, Pimlico, St James's, Westminster----\n",
      "         venue  freq\n",
      "0   Restaurant  0.13\n",
      "1         Park  0.13\n",
      "2         Café  0.13\n",
      "3   Art Museum  0.07\n",
      "4  Pizza Place  0.07\n",
      "\n",
      "\n",
      "----Bellingham, Catford, Southend----\n",
      "            venue  freq\n",
      "0   Grocery Store   0.2\n",
      "1  Discount Store   0.1\n",
      "2             Gym   0.1\n",
      "3     Bus Station   0.1\n",
      "4  Shopping Plaza   0.1\n",
      "\n",
      "\n",
      "----Bexleyheath (also Bexley New Town)----\n",
      "                  venue  freq\n",
      "0                  Café  0.09\n",
      "1               Gay Bar  0.07\n",
      "2                  Park  0.07\n",
      "3        Cricket Ground  0.05\n",
      "4  Gym / Fitness Center  0.05\n",
      "\n",
      "\n",
      "----Blackfriars----\n",
      "         venue  freq\n",
      "0  Coffee Shop  0.12\n",
      "1       Bakery  0.04\n",
      "2          Pub  0.04\n",
      "3   Art Museum  0.04\n",
      "4  Salad Place  0.03\n",
      "\n",
      "\n",
      "----Blackheath Royal Standard----\n",
      "                    venue  freq\n",
      "0           Grocery Store  0.16\n",
      "1             Supermarket  0.12\n",
      "2      Italian Restaurant  0.08\n",
      "3             Coffee Shop  0.08\n",
      "4  Furniture / Home Store  0.04\n",
      "\n",
      "\n",
      "----Blackheath Royal Standard, Kidbrooke, Westcombe Park----\n",
      "           venue  freq\n",
      "0     Food Truck  0.14\n",
      "1  Grocery Store  0.10\n",
      "2            Pub  0.10\n",
      "3    Supermarket  0.10\n",
      "4       Pharmacy  0.05\n",
      "\n",
      "\n",
      "----Bloomsbury, Holborn, St Pancras----\n",
      "          venue  freq\n",
      "0       Theater  0.09\n",
      "1         Hotel  0.06\n",
      "2   Coffee Shop  0.05\n",
      "3  Burger Joint  0.05\n",
      "4    Restaurant  0.03\n",
      "\n",
      "\n",
      "----Brent Cross----\n",
      "                   venue  freq\n",
      "0  Entertainment Service  0.33\n",
      "1               Bus Stop  0.33\n",
      "2                  Hotel  0.33\n",
      "3      Accessories Store  0.00\n",
      "4           Optical Shop  0.00\n",
      "\n",
      "\n",
      "----Brent Cross, Childs Hill----\n",
      "                    venue  freq\n",
      "0                 Brewery  0.25\n",
      "1           Historic Site  0.25\n",
      "2  Furniture / Home Store  0.25\n",
      "3       Convenience Store  0.25\n",
      "4   Performing Arts Venue  0.00\n",
      "\n",
      "\n",
      "----Brixton----\n",
      "           venue  freq\n",
      "0            Pub  0.08\n",
      "1  Grocery Store  0.08\n",
      "2    Coffee Shop  0.07\n",
      "3       Bus Stop  0.07\n",
      "4           Café  0.05\n",
      "\n",
      "\n",
      "----Brixton, Oval, Stockwell----\n",
      "                  venue  freq\n",
      "0    Italian Restaurant  0.07\n",
      "1            Restaurant  0.07\n",
      "2  Caribbean Restaurant  0.07\n",
      "3     Indian Restaurant  0.07\n",
      "4                   Pub  0.07\n",
      "\n",
      "\n",
      "----Brockley, Crofton Park, Ladywell, St Johns----\n",
      "                    venue  freq\n",
      "0                    Café  0.15\n",
      "1            Cocktail Bar  0.08\n",
      "2             Flower Shop  0.08\n",
      "3                 Brewery  0.08\n",
      "4  Furniture / Home Store  0.08\n",
      "\n",
      "\n",
      "----Camden Town, Chalk Farm, Primrose Hill, Somerstown----\n",
      "         venue  freq\n",
      "0       Garden  0.25\n",
      "1  Zoo Exhibit  0.17\n",
      "2         Park  0.17\n",
      "3     Beer Bar  0.08\n",
      "4  Coffee Shop  0.08\n",
      "\n",
      "\n",
      "----Charlton----\n",
      "                   venue  freq\n",
      "0  Vietnamese Restaurant   0.2\n",
      "1                   Park   0.1\n",
      "2             Restaurant   0.1\n",
      "3                    Pub   0.1\n",
      "4               Bus Stop   0.1\n",
      "\n",
      "\n",
      "----Clapham----\n",
      "           venue  freq\n",
      "0            Pub  0.08\n",
      "1   Burger Joint  0.06\n",
      "2           Café  0.06\n",
      "3  Grocery Store  0.05\n",
      "4       Pharmacy  0.03\n",
      "\n",
      "\n",
      "----Colindale, Grahame Park, The Hyde, West Hendon----\n",
      "              venue  freq\n",
      "0  Asian Restaurant  0.14\n",
      "1          Bus Stop  0.14\n",
      "2               Pub  0.14\n",
      "3    Ice Cream Shop  0.14\n",
      "4             Hotel  0.14\n",
      "\n",
      "\n",
      "----Crystal Palace----\n",
      "                venue  freq\n",
      "0                 Pub  0.08\n",
      "1         Coffee Shop  0.08\n",
      "2  Italian Restaurant  0.07\n",
      "3                Café  0.07\n",
      "4           Gastropub  0.05\n",
      "\n",
      "\n",
      "----Deptford----\n",
      "               venue  freq\n",
      "0                Pub  0.10\n",
      "1        Coffee Shop  0.10\n",
      "2       Cocktail Bar  0.07\n",
      "3  Indian Restaurant  0.07\n",
      "4      Grocery Store  0.07\n",
      "\n",
      "\n",
      "----Earls Court----\n",
      "                venue  freq\n",
      "0          Restaurant  0.11\n",
      "1  Italian Restaurant  0.07\n",
      "2        Cocktail Bar  0.07\n",
      "3    Asian Restaurant  0.07\n",
      "4           Gastropub  0.04\n",
      "\n",
      "\n",
      "----Earlsfield, Southfields, Wandsworth----\n",
      "                    venue  freq\n",
      "0                     Pub  0.27\n",
      "1        Indoor Play Area  0.09\n",
      "2                     Gym  0.09\n",
      "3  Furniture / Home Store  0.09\n",
      "4         Thai Restaurant  0.09\n",
      "\n",
      "\n",
      "----East Dulwich----\n",
      "                           venue  freq\n",
      "0                           Café  0.17\n",
      "1                      Gastropub  0.10\n",
      "2              Indian Restaurant  0.07\n",
      "3            Indie Movie Theater  0.03\n",
      "4  Vegetarian / Vegan Restaurant  0.03\n",
      "\n",
      "\n",
      "----East Sheen, Mortlake----\n",
      "           venue  freq\n",
      "0    Coffee Shop  0.16\n",
      "1    Pizza Place  0.11\n",
      "2            Pub  0.11\n",
      "3  Grocery Store  0.11\n",
      "4    Supermarket  0.05\n",
      "\n",
      "\n",
      "----Elephant and Castle, Newington----\n",
      "               venue  freq\n",
      "0               Café  0.09\n",
      "1           Bus Stop  0.06\n",
      "2                Pub  0.06\n",
      "3  Food & Drink Shop  0.06\n",
      "4           Pharmacy  0.06\n",
      "\n",
      "\n",
      "----Forest Hill, Honor Oak----\n",
      "            venue  freq\n",
      "0   Grocery Store   0.2\n",
      "1        Bus Stop   0.2\n",
      "2  Sandwich Place   0.2\n",
      "3   Garden Center   0.2\n",
      "4             Pub   0.2\n",
      "\n",
      "\n",
      "----Fulham, Parsons Green, Sands End----\n",
      "                venue  freq\n",
      "0  Italian Restaurant  0.12\n",
      "1                Café  0.09\n",
      "2                 Pub  0.07\n",
      "3         Coffee Shop  0.07\n",
      "4   French Restaurant  0.04\n",
      "\n",
      "\n",
      "----Gipsy Hill, Tulse Hill----\n",
      "                   venue  freq\n",
      "0                    Pub   0.2\n",
      "1            Record Shop   0.1\n",
      "2  Performing Arts Venue   0.1\n",
      "3            Bus Station   0.1\n",
      "4    Sporting Goods Shop   0.1\n",
      "\n",
      "\n",
      "----Golders Green----\n",
      "              venue  freq\n",
      "0            Bakery  0.25\n",
      "1       Coffee Shop  0.17\n",
      "2     Grocery Store  0.08\n",
      "3              Café  0.08\n",
      "4  Stationery Store  0.08\n",
      "\n",
      "\n",
      "----Gospel Oak, Kentish Town----\n",
      "                  venue  freq\n",
      "0           Coffee Shop  0.10\n",
      "1                   Pub  0.10\n",
      "2    Italian Restaurant  0.08\n",
      "3                  Café  0.04\n",
      "4  Ethiopian Restaurant  0.04\n",
      "\n",
      "\n",
      "----Gospel Oak, Primrose Hill----\n",
      "              venue  freq\n",
      "0              Café  0.12\n",
      "1       Coffee Shop  0.07\n",
      "2            Bakery  0.07\n",
      "3               Pub  0.07\n",
      "4  Greek Restaurant  0.05\n",
      "\n",
      "\n",
      "----Greenwich, Maze Hill----\n",
      "           venue  freq\n",
      "0            Pub  0.08\n",
      "1         Garden  0.06\n",
      "2         Bakery  0.04\n",
      "3  Historic Site  0.04\n",
      "4         Market  0.04\n",
      "\n",
      "\n",
      "----Herne Hill, Tulse Hill----\n",
      "         venue  freq\n",
      "0         Café  0.13\n",
      "1     Platform  0.10\n",
      "2          Pub  0.10\n",
      "3  Pizza Place  0.10\n",
      "4  Coffee Shop  0.07\n",
      "\n",
      "\n",
      "----Holborn----\n",
      "            venue  freq\n",
      "0         Theater  0.07\n",
      "1     Coffee Shop  0.07\n",
      "2    Burger Joint  0.05\n",
      "3          Bakery  0.04\n",
      "4  Ice Cream Shop  0.04\n",
      "\n",
      "\n",
      "----Kensal Green----\n",
      "                  venue  freq\n",
      "0                   Pub  0.11\n",
      "1     Indian Restaurant  0.11\n",
      "2                  Café  0.11\n",
      "3                  Park  0.05\n",
      "4  Brazilian Restaurant  0.05\n",
      "\n",
      "\n",
      "----Kensington, South Kensington----\n",
      "            venue  freq\n",
      "0         Exhibit  0.09\n",
      "1            Café  0.08\n",
      "2           Hotel  0.08\n",
      "3  Science Museum  0.07\n",
      "4          Garden  0.05\n",
      "\n",
      "\n",
      "----Kingston Vale----\n",
      "                 venue  freq\n",
      "0    Food & Drink Shop   1.0\n",
      "1    Accessories Store   0.0\n",
      "2  Peruvian Restaurant   0.0\n",
      "3          Music Venue   0.0\n",
      "4      Nature Preserve   0.0\n",
      "\n",
      "\n",
      "----Ladywell----\n",
      "                  venue  freq\n",
      "0                   Pub  0.17\n",
      "1              Bus Stop  0.08\n",
      "2     Electronics Store  0.08\n",
      "3  Fast Food Restaurant  0.08\n",
      "4                  Park  0.08\n",
      "\n",
      "\n",
      "----Lambeth----\n",
      "                venue  freq\n",
      "0                 Pub  0.12\n",
      "1         Coffee Shop  0.10\n",
      "2            Wine Bar  0.04\n",
      "3  Italian Restaurant  0.04\n",
      "4  Seafood Restaurant  0.03\n",
      "\n",
      "\n",
      "----Longlands----\n",
      "         venue  freq\n",
      "0          Pub  0.14\n",
      "1  Coffee Shop  0.14\n",
      "2         Café  0.10\n",
      "3   Beer Store  0.03\n",
      "4  Pizza Place  0.03\n",
      "\n",
      "\n",
      "----Neasden----\n",
      "                  venue  freq\n",
      "0          Liquor Store  0.25\n",
      "1    Chinese Restaurant  0.25\n",
      "2  Caribbean Restaurant  0.25\n",
      "3        Discount Store  0.25\n",
      "4     Outdoor Sculpture  0.00\n",
      "\n",
      "\n",
      "----New Cross----\n",
      "           venue  freq\n",
      "0           Café  0.15\n",
      "1            Pub  0.06\n",
      "2  Grocery Store  0.06\n",
      "3    Coffee Shop  0.06\n",
      "4      Gastropub  0.06\n",
      "\n",
      "\n",
      "----Norbury----\n",
      "         venue  freq\n",
      "0          Pub  0.19\n",
      "1    Gastropub  0.12\n",
      "2  Coffee Shop  0.06\n",
      "3  Supermarket  0.06\n",
      "4         Park  0.06\n",
      "\n",
      "\n",
      "----Nunhead, Peckham----\n",
      "                 venue  freq\n",
      "0                  Pub  0.09\n",
      "1  Indie Movie Theater  0.06\n",
      "2                  Bar  0.06\n",
      "3   Italian Restaurant  0.06\n",
      "4        Deli / Bodega  0.03\n",
      "\n",
      "\n",
      "----Oval----\n",
      "                venue  freq\n",
      "0                 Pub  0.25\n",
      "1                Café  0.08\n",
      "2   Fish & Chips Shop  0.06\n",
      "3         Pizza Place  0.06\n",
      "4  Italian Restaurant  0.06\n",
      "\n",
      "\n",
      "----Oval, Stockwell, Vauxhall----\n",
      "                   venue  freq\n",
      "0               Bus Stop  0.18\n",
      "1  Portuguese Restaurant  0.18\n",
      "2   Gym / Fitness Center  0.12\n",
      "3                    Pub  0.12\n",
      "4            Pizza Place  0.06\n",
      "\n",
      "\n",
      "----Plumstead, Shooter's Hill, Woolwich----\n",
      "         venue  freq\n",
      "0         Park  0.29\n",
      "1  Bus Station  0.14\n",
      "2     Bus Stop  0.14\n",
      "3          Bar  0.14\n",
      "4         Café  0.14\n",
      "\n",
      "\n",
      "----Primrose Hill----\n",
      "               venue  freq\n",
      "0     Cricket Ground  0.11\n",
      "1               Café  0.08\n",
      "2      Deli / Bodega  0.06\n",
      "3        Coffee Shop  0.06\n",
      "4  French Restaurant  0.06\n",
      "\n",
      "\n",
      "----Rotherhithe, Surrey Quays----\n",
      "           venue  freq\n",
      "0       Pharmacy  0.07\n",
      "1       Bus Stop  0.07\n",
      "2  Train Station  0.05\n",
      "3           Café  0.05\n",
      "4       Platform  0.05\n",
      "\n",
      "\n",
      "----Selhurst, South Norwood----\n",
      "           venue  freq\n",
      "0           Café   0.2\n",
      "1            Pub   0.2\n",
      "2    Coffee Shop   0.1\n",
      "3  Auto Workshop   0.1\n",
      "4    Supermarket   0.1\n",
      "\n",
      "\n",
      "----South Kensington----\n",
      "                venue  freq\n",
      "0               Hotel  0.16\n",
      "1                Café  0.05\n",
      "2  Italian Restaurant  0.05\n",
      "3                 Pub  0.04\n",
      "4         Coffee Shop  0.04\n",
      "\n",
      "\n",
      "----Southfields----\n",
      "              venue  freq\n",
      "0               Pub  0.12\n",
      "1       Coffee Shop  0.12\n",
      "2    Clothing Store  0.08\n",
      "3  Sushi Restaurant  0.08\n",
      "4               Bar  0.04\n",
      "\n",
      "\n",
      "----Sydenham Hill----\n",
      "                  venue  freq\n",
      "0  Gym / Fitness Center   0.2\n",
      "1                Bakery   0.2\n",
      "2           Coffee Shop   0.2\n",
      "3             Gift Shop   0.2\n",
      "4         Garden Center   0.2\n",
      "\n",
      "\n",
      "----Thamesmead----\n",
      "            venue  freq\n",
      "0     Coffee Shop  0.11\n",
      "1           Hotel  0.08\n",
      "2            Café  0.08\n",
      "3  Sandwich Place  0.05\n",
      "4             Pub  0.05\n",
      "\n",
      "\n",
      "----Tooting, Tooting Bec----\n",
      "                venue  freq\n",
      "0         Pizza Place  0.12\n",
      "1       Grocery Store  0.12\n",
      "2            Bus Stop  0.06\n",
      "3  Italian Restaurant  0.06\n",
      "4   Fish & Chips Shop  0.06\n",
      "\n",
      "\n",
      "----Wimbledon----\n",
      "                  venue  freq\n",
      "0              Platform  0.11\n",
      "1  Fast Food Restaurant  0.11\n",
      "2     Indian Restaurant  0.11\n",
      "3           Coffee Shop  0.11\n",
      "4    Italian Restaurant  0.05\n",
      "\n",
      "\n"
     ]
    }
   ],
   "source": [
    "num_top_venues = 5\n",
    "\n",
    "for hood in london_grouped['Neighbourhood']:\n",
    "    print(\"----\" + hood + \"----\")\n",
    "    temp = london_grouped[london_grouped['Neighbourhood'] == hood].T.reset_index()\n",
    "    temp.columns = ['venue', 'freq']\n",
    "    temp = temp.iloc[1:]\n",
    "    temp['freq'] = temp['freq'].astype(float)\n",
    "    temp = temp.round({'freq': 2})\n",
    "    print(temp.sort_values('freq', ascending = False).reset_index(drop = True).head(num_top_venues))\n",
    "    print('\\n')"
   ]
  },
  {
   "source": [
    "### Create a dataframe and Display the top 10 venues for each neighbourhood."
   ],
   "cell_type": "markdown",
   "metadata": {}
  },
  {
   "cell_type": "code",
   "execution_count": 91,
   "metadata": {},
   "outputs": [
    {
     "output_type": "execute_result",
     "data": {
      "text/plain": [
       "       Neighbourhood 1st Most Common Venue       2nd Most Common Venue  \\\n",
       "0            Aldgate                 Hotel                 Coffee Shop   \n",
       "1             Arkley              Pharmacy  Construction & Landscaping   \n",
       "2             Balham           Coffee Shop                         Pub   \n",
       "3           Barbican           Coffee Shop        Gym / Fitness Center   \n",
       "4  Barnes, Castelnau     Food & Drink Shop         Indie Movie Theater   \n",
       "\n",
       "  3rd Most Common Venue 4th Most Common Venue 5th Most Common Venue  \\\n",
       "0        Scenic Lookout     French Restaurant  Gym / Fitness Center   \n",
       "1           Zoo Exhibit        Farmers Market  Ethiopian Restaurant   \n",
       "2           Pizza Place                Bakery    Italian Restaurant   \n",
       "3            Food Truck    Italian Restaurant                   Pub   \n",
       "4       Thai Restaurant                   Pub           Pizza Place   \n",
       "\n",
       "  6th Most Common Venue 7th Most Common Venue 8th Most Common Venue  \\\n",
       "0                Museum                Castle             Hotel Bar   \n",
       "1           Event Space               Exhibit    Falafel Restaurant   \n",
       "2     Indian Restaurant           Supermarket         Grocery Store   \n",
       "3                 Hotel                   Bar          Cocktail Bar   \n",
       "4     Recreation Center            Restaurant      Community Center   \n",
       "\n",
       "  9th Most Common Venue 10th Most Common Venue  \n",
       "0        History Museum     Italian Restaurant  \n",
       "1                  Farm   Fast Food Restaurant  \n",
       "2        Sandwich Place                    Bar  \n",
       "3    English Restaurant       Sushi Restaurant  \n",
       "4           Coffee Shop                   Park  "
      ],
      "text/html": "<div>\n<style scoped>\n    .dataframe tbody tr th:only-of-type {\n        vertical-align: middle;\n    }\n\n    .dataframe tbody tr th {\n        vertical-align: top;\n    }\n\n    .dataframe thead th {\n        text-align: right;\n    }\n</style>\n<table border=\"1\" class=\"dataframe\">\n  <thead>\n    <tr style=\"text-align: right;\">\n      <th></th>\n      <th>Neighbourhood</th>\n      <th>1st Most Common Venue</th>\n      <th>2nd Most Common Venue</th>\n      <th>3rd Most Common Venue</th>\n      <th>4th Most Common Venue</th>\n      <th>5th Most Common Venue</th>\n      <th>6th Most Common Venue</th>\n      <th>7th Most Common Venue</th>\n      <th>8th Most Common Venue</th>\n      <th>9th Most Common Venue</th>\n      <th>10th Most Common Venue</th>\n    </tr>\n  </thead>\n  <tbody>\n    <tr>\n      <th>0</th>\n      <td>Aldgate</td>\n      <td>Hotel</td>\n      <td>Coffee Shop</td>\n      <td>Scenic Lookout</td>\n      <td>French Restaurant</td>\n      <td>Gym / Fitness Center</td>\n      <td>Museum</td>\n      <td>Castle</td>\n      <td>Hotel Bar</td>\n      <td>History Museum</td>\n      <td>Italian Restaurant</td>\n    </tr>\n    <tr>\n      <th>1</th>\n      <td>Arkley</td>\n      <td>Pharmacy</td>\n      <td>Construction &amp; Landscaping</td>\n      <td>Zoo Exhibit</td>\n      <td>Farmers Market</td>\n      <td>Ethiopian Restaurant</td>\n      <td>Event Space</td>\n      <td>Exhibit</td>\n      <td>Falafel Restaurant</td>\n      <td>Farm</td>\n      <td>Fast Food Restaurant</td>\n    </tr>\n    <tr>\n      <th>2</th>\n      <td>Balham</td>\n      <td>Coffee Shop</td>\n      <td>Pub</td>\n      <td>Pizza Place</td>\n      <td>Bakery</td>\n      <td>Italian Restaurant</td>\n      <td>Indian Restaurant</td>\n      <td>Supermarket</td>\n      <td>Grocery Store</td>\n      <td>Sandwich Place</td>\n      <td>Bar</td>\n    </tr>\n    <tr>\n      <th>3</th>\n      <td>Barbican</td>\n      <td>Coffee Shop</td>\n      <td>Gym / Fitness Center</td>\n      <td>Food Truck</td>\n      <td>Italian Restaurant</td>\n      <td>Pub</td>\n      <td>Hotel</td>\n      <td>Bar</td>\n      <td>Cocktail Bar</td>\n      <td>English Restaurant</td>\n      <td>Sushi Restaurant</td>\n    </tr>\n    <tr>\n      <th>4</th>\n      <td>Barnes, Castelnau</td>\n      <td>Food &amp; Drink Shop</td>\n      <td>Indie Movie Theater</td>\n      <td>Thai Restaurant</td>\n      <td>Pub</td>\n      <td>Pizza Place</td>\n      <td>Recreation Center</td>\n      <td>Restaurant</td>\n      <td>Community Center</td>\n      <td>Coffee Shop</td>\n      <td>Park</td>\n    </tr>\n  </tbody>\n</table>\n</div>"
     },
     "metadata": {},
     "execution_count": 91
    }
   ],
   "source": [
    "num_top_venues = 10\n",
    "\n",
    "indicators = ['st', 'nd', 'rd']\n",
    "\n",
    "# create columns according to number of top venues\n",
    "columns = ['Neighbourhood']\n",
    "for ind in np.arange(num_top_venues):\n",
    "    try:\n",
    "        columns.append('{}{} Most Common Venue'.format(ind + 1, indicators[ind]))\n",
    "    except:\n",
    "        columns.append('{}th Most Common Venue'.format(ind + 1))\n",
    "\n",
    "# create a new dataframe\n",
    "nbh_venues_sorted = pd.DataFrame(columns = columns)\n",
    "nbh_venues_sorted['Neighbourhood'] = london_grouped['Neighbourhood']\n",
    "\n",
    "for ind in np.arange(london_grouped.shape[0]):\n",
    "    nbh_venues_sorted.iloc[ind, 1:] = most_common_venues(london_grouped.iloc[ind, :], num_top_venues)\n",
    "\n",
    "nbh_venues_sorted.head()"
   ]
  },
  {
   "source": [
    "## Cluster Neighbourhoods\n",
    "### Run K-Means to cluster the neighbourhoods into 5 clusters."
   ],
   "cell_type": "markdown",
   "metadata": {}
  },
  {
   "cell_type": "code",
   "execution_count": 92,
   "metadata": {},
   "outputs": [
    {
     "output_type": "execute_result",
     "data": {
      "text/plain": [
       "array([0, 3, 0, 0, 0, 0, 4, 0, 4, 0])"
      ]
     },
     "metadata": {},
     "execution_count": 92
    }
   ],
   "source": [
    "# set number of clusters\n",
    "kclusters = 5\n",
    "\n",
    "london_grouped_clustering = london_grouped.drop('Neighbourhood', 1)\n",
    "\n",
    "# run k-means clustering\n",
    "kmeans = KMeans(n_clusters = kclusters, random_state = 0).fit(london_grouped_clustering)\n",
    "\n",
    "# check cluster labels generated for each row in the dataframe\n",
    "kmeans.labels_[0:10] "
   ]
  },
  {
   "source": [
    "### Create a dataframe to store the cluster as well as the top 10 venues of each neighbourhood."
   ],
   "cell_type": "markdown",
   "metadata": {}
  },
  {
   "cell_type": "code",
   "execution_count": 93,
   "metadata": {},
   "outputs": [
    {
     "output_type": "execute_result",
     "data": {
      "text/plain": [
       "  Post Town Postcode Borough              Neighbourhood  Latitude  Longitude  \\\n",
       "0    LONDON      EC2    City                   Barbican   51.5180    -0.0840   \n",
       "1    LONDON     NW10   Brent                    Neasden   51.5410    -0.2531   \n",
       "2    LONDON      NW3  Camden  Gospel Oak, Primrose Hill   51.5517    -0.1706   \n",
       "3    LONDON      NW4  Barnet                Brent Cross   51.5937    -0.2181   \n",
       "4    LONDON      NW6   Brent               Kensal Green   51.5438    -0.1971   \n",
       "\n",
       "   Cluster Labels 1st Most Common Venue 2nd Most Common Venue  \\\n",
       "0               0           Coffee Shop  Gym / Fitness Center   \n",
       "1               2        Discount Store          Liquor Store   \n",
       "2               0                  Café                Bakery   \n",
       "3               4                 Hotel              Bus Stop   \n",
       "4               0                   Pub     Indian Restaurant   \n",
       "\n",
       "   3rd Most Common Venue      4th Most Common Venue 5th Most Common Venue  \\\n",
       "0             Food Truck         Italian Restaurant                   Pub   \n",
       "1   Caribbean Restaurant         Chinese Restaurant           Zoo Exhibit   \n",
       "2            Coffee Shop                        Pub      Greek Restaurant   \n",
       "3  Entertainment Service                Zoo Exhibit  Fast Food Restaurant   \n",
       "4                   Café  Middle Eastern Restaurant                  Park   \n",
       "\n",
       "  6th Most Common Venue 7th Most Common Venue  8th Most Common Venue  \\\n",
       "0                 Hotel                   Bar           Cocktail Bar   \n",
       "1               Exhibit    Falafel Restaurant                   Farm   \n",
       "2            Bagel Shop           Pizza Place                 Museum   \n",
       "3           Event Space               Exhibit     Falafel Restaurant   \n",
       "4           Coffee Shop  Brazilian Restaurant  Portuguese Restaurant   \n",
       "\n",
       "  9th Most Common Venue 10th Most Common Venue  \n",
       "0    English Restaurant       Sushi Restaurant  \n",
       "1        Farmers Market   Fast Food Restaurant  \n",
       "2          Burger Joint      Convenience Store  \n",
       "3                  Farm         Farmers Market  \n",
       "4       Thai Restaurant      Korean Restaurant  "
      ],
      "text/html": "<div>\n<style scoped>\n    .dataframe tbody tr th:only-of-type {\n        vertical-align: middle;\n    }\n\n    .dataframe tbody tr th {\n        vertical-align: top;\n    }\n\n    .dataframe thead th {\n        text-align: right;\n    }\n</style>\n<table border=\"1\" class=\"dataframe\">\n  <thead>\n    <tr style=\"text-align: right;\">\n      <th></th>\n      <th>Post Town</th>\n      <th>Postcode</th>\n      <th>Borough</th>\n      <th>Neighbourhood</th>\n      <th>Latitude</th>\n      <th>Longitude</th>\n      <th>Cluster Labels</th>\n      <th>1st Most Common Venue</th>\n      <th>2nd Most Common Venue</th>\n      <th>3rd Most Common Venue</th>\n      <th>4th Most Common Venue</th>\n      <th>5th Most Common Venue</th>\n      <th>6th Most Common Venue</th>\n      <th>7th Most Common Venue</th>\n      <th>8th Most Common Venue</th>\n      <th>9th Most Common Venue</th>\n      <th>10th Most Common Venue</th>\n    </tr>\n  </thead>\n  <tbody>\n    <tr>\n      <th>0</th>\n      <td>LONDON</td>\n      <td>EC2</td>\n      <td>City</td>\n      <td>Barbican</td>\n      <td>51.5180</td>\n      <td>-0.0840</td>\n      <td>0</td>\n      <td>Coffee Shop</td>\n      <td>Gym / Fitness Center</td>\n      <td>Food Truck</td>\n      <td>Italian Restaurant</td>\n      <td>Pub</td>\n      <td>Hotel</td>\n      <td>Bar</td>\n      <td>Cocktail Bar</td>\n      <td>English Restaurant</td>\n      <td>Sushi Restaurant</td>\n    </tr>\n    <tr>\n      <th>1</th>\n      <td>LONDON</td>\n      <td>NW10</td>\n      <td>Brent</td>\n      <td>Neasden</td>\n      <td>51.5410</td>\n      <td>-0.2531</td>\n      <td>2</td>\n      <td>Discount Store</td>\n      <td>Liquor Store</td>\n      <td>Caribbean Restaurant</td>\n      <td>Chinese Restaurant</td>\n      <td>Zoo Exhibit</td>\n      <td>Exhibit</td>\n      <td>Falafel Restaurant</td>\n      <td>Farm</td>\n      <td>Farmers Market</td>\n      <td>Fast Food Restaurant</td>\n    </tr>\n    <tr>\n      <th>2</th>\n      <td>LONDON</td>\n      <td>NW3</td>\n      <td>Camden</td>\n      <td>Gospel Oak, Primrose Hill</td>\n      <td>51.5517</td>\n      <td>-0.1706</td>\n      <td>0</td>\n      <td>Café</td>\n      <td>Bakery</td>\n      <td>Coffee Shop</td>\n      <td>Pub</td>\n      <td>Greek Restaurant</td>\n      <td>Bagel Shop</td>\n      <td>Pizza Place</td>\n      <td>Museum</td>\n      <td>Burger Joint</td>\n      <td>Convenience Store</td>\n    </tr>\n    <tr>\n      <th>3</th>\n      <td>LONDON</td>\n      <td>NW4</td>\n      <td>Barnet</td>\n      <td>Brent Cross</td>\n      <td>51.5937</td>\n      <td>-0.2181</td>\n      <td>4</td>\n      <td>Hotel</td>\n      <td>Bus Stop</td>\n      <td>Entertainment Service</td>\n      <td>Zoo Exhibit</td>\n      <td>Fast Food Restaurant</td>\n      <td>Event Space</td>\n      <td>Exhibit</td>\n      <td>Falafel Restaurant</td>\n      <td>Farm</td>\n      <td>Farmers Market</td>\n    </tr>\n    <tr>\n      <th>4</th>\n      <td>LONDON</td>\n      <td>NW6</td>\n      <td>Brent</td>\n      <td>Kensal Green</td>\n      <td>51.5438</td>\n      <td>-0.1971</td>\n      <td>0</td>\n      <td>Pub</td>\n      <td>Indian Restaurant</td>\n      <td>Café</td>\n      <td>Middle Eastern Restaurant</td>\n      <td>Park</td>\n      <td>Coffee Shop</td>\n      <td>Brazilian Restaurant</td>\n      <td>Portuguese Restaurant</td>\n      <td>Thai Restaurant</td>\n      <td>Korean Restaurant</td>\n    </tr>\n  </tbody>\n</table>\n</div>"
     },
     "metadata": {},
     "execution_count": 93
    }
   ],
   "source": [
    "# add clustering labels\n",
    "nbh_venues_sorted.insert(0, 'Cluster Labels', kmeans.labels_)\n",
    "\n",
    "london_merged = df_london6\n",
    "\n",
    "# merge london_grouped with london_data to add latitude/longitude for each neighbourhood\n",
    "london_merged = london_merged.join(nbh_venues_sorted.set_index('Neighbourhood'), on = 'Neighbourhood')\n",
    "\n",
    "london_merged.head()"
   ]
  },
  {
   "source": [
    "### Visualise the resulting cluster."
   ],
   "cell_type": "markdown",
   "metadata": {}
  },
  {
   "cell_type": "code",
   "execution_count": 94,
   "metadata": {},
   "outputs": [
    {
     "output_type": "execute_result",
     "data": {
      "text/plain": [
       "<folium.folium.Map at 0x1f383927f40>"
      ],
      "text/html": "<div style=\"width:100%;\"><div style=\"position:relative;width:100%;height:0;padding-bottom:60%;\"><span style=\"color:#565656\">Make this Notebook Trusted to load map: File -> Trust Notebook</span><iframe src=\"about:blank\" style=\"position:absolute;width:100%;height:100%;left:0;top:0;border:none !important;\" data-html=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 onload=\"this.contentDocument.open();this.contentDocument.write(atob(this.getAttribute('data-html')));this.contentDocument.close();\" allowfullscreen webkitallowfullscreen mozallowfullscreen></iframe></div></div>"
     },
     "metadata": {},
     "execution_count": 94
    }
   ],
   "source": [
    "# create map\n",
    "map_london_clusters = folium.Map(location=[latitude, longitude], zoom_start=11)\n",
    "\n",
    "# set colour scheme for the clusters\n",
    "x = np.arange(kclusters)\n",
    "ys = [i + x + (i * x)**2 for i in range(kclusters)]\n",
    "colours_array = cm.rainbow(np.linspace(0, 1, len(ys)))\n",
    "rainbow = [colors.rgb2hex(i) for i in colours_array]\n",
    "\n",
    "# add markers to the map\n",
    "markers_colours = []\n",
    "for lat, lon, poi, cluster in zip(london_merged['Latitude'], london_merged['Longitude'], london_merged['Neighbourhood'], london_merged['Cluster Labels']):\n",
    "    label = folium.Popup(str(poi) + ' Cluster ' + str(cluster), parse_html = True)\n",
    "    folium.CircleMarker(\n",
    "        [lat, lon],\n",
    "        radius = 5,\n",
    "        popup = label,\n",
    "        color = rainbow[cluster - 1],\n",
    "        fill = True,\n",
    "        fill_color = rainbow[cluster - 1],\n",
    "        fill_opacity = 0.7).add_to(map_london_clusters)\n",
    "       \n",
    "map_london_clusters"
   ]
  },
  {
   "source": [
    "### Now, let's examine the categories for each cluster.\n",
    "#### Cluster 1"
   ],
   "cell_type": "markdown",
   "metadata": {}
  },
  {
   "cell_type": "code",
   "execution_count": 95,
   "metadata": {},
   "outputs": [
    {
     "output_type": "execute_result",
     "data": {
      "text/plain": [
       "   Postcode  Latitude  Longitude  Cluster Labels  1st Most Common Venue  \\\n",
       "0       EC2   51.5180    -0.0840               0            Coffee Shop   \n",
       "2       NW3   51.5517    -0.1706               0                   Café   \n",
       "4       NW6   51.5438    -0.1971               0                    Pub   \n",
       "6       NW8   51.5333    -0.1734               0         Cricket Ground   \n",
       "7      SE11   51.4913    -0.1085               0                    Pub   \n",
       "8      SE12   51.4467    -0.0176               0          Grocery Store   \n",
       "9      SE13   51.4572    -0.0059               0                    Pub   \n",
       "10     SE17   51.4874    -0.0924               0                   Café   \n",
       "11      SE2   51.4860    -0.1203               0                   Café   \n",
       "13     SE26   51.4283    -0.0556               0            Coffee Shop   \n",
       "14     SE27   51.4283    -0.1024               0                    Pub   \n",
       "15      SE5   51.4756    -0.0909               0                    Pub   \n",
       "16     SW10   51.4807    -0.1790               0             Restaurant   \n",
       "17     SW19   51.4255    -0.2051               0                    Pub   \n",
       "18     SW20   51.4071    -0.2255               0      Indian Restaurant   \n",
       "19      SW3   51.4912    -0.1614               0                  Hotel   \n",
       "20      SW5   51.4925    -0.1923               0                  Hotel   \n",
       "21      SW9   51.4677    -0.1114               0                    Pub   \n",
       "22      WC2   51.5140    -0.1240               0            Coffee Shop   \n",
       "23      EC1   51.5230    -0.0920               0            Coffee Shop   \n",
       "24      EC3   51.5080    -0.0760               0                  Hotel   \n",
       "25      EC4   51.5110    -0.0980               0            Coffee Shop   \n",
       "26      NW1   51.5307    -0.1469               0                 Garden   \n",
       "27     NW11   51.5832    -0.1944               0                 Bakery   \n",
       "28      NW2   51.5621    -0.2297               0                Brewery   \n",
       "29      NW5   51.5544    -0.1441               0                    Pub   \n",
       "30      NW9   51.5831    -0.2535               0         Ice Cream Shop   \n",
       "31      SE1   51.5018    -0.0910               0                    Pub   \n",
       "32     SE10   51.4808    -0.0029               0                    Pub   \n",
       "33     SE14   51.4756    -0.0381               0                   Café   \n",
       "34     SE15   51.4703    -0.0615               0                    Pub   \n",
       "35     SE16   51.4966    -0.0498               0               Pharmacy   \n",
       "37     SE19   51.4178    -0.0848               0            Coffee Shop   \n",
       "38     SE21   51.4388    -0.0849               0              Gift Shop   \n",
       "39     SE22   51.4546    -0.0732               0                   Café   \n",
       "40     SE23   51.4441    -0.0498               0                    Pub   \n",
       "41     SE24   51.4545    -0.0967               0                   Café   \n",
       "42     SE25   51.3968    -0.0731               0                    Pub   \n",
       "43     SE28   51.5018    -0.1086               0            Coffee Shop   \n",
       "44      SE3   51.4677    -0.0176               0             Food Truck   \n",
       "47      SE7   51.4861    -0.0381               0  Vietnamese Restaurant   \n",
       "48      SE8   51.4808    -0.0264               0                    Pub   \n",
       "49      SE9   51.4414    -0.0585               0                    Pub   \n",
       "50      SW1   51.4900    -0.1300               0             Restaurant   \n",
       "51     SW11   51.4676    -0.1583               0                    Pub   \n",
       "52     SW12   51.4440    -0.1494               0            Coffee Shop   \n",
       "53     SW13   51.4780    -0.2407               0      Food & Drink Shop   \n",
       "54     SW14   51.4648    -0.2671               0            Coffee Shop   \n",
       "56     SW16   51.4204    -0.1288               0                    Pub   \n",
       "58     SW18   51.4466    -0.1935               0                    Pub   \n",
       "59      SW2   51.4493    -0.1201               0                    Pub   \n",
       "60      SW4   51.4598    -0.1378               0                    Pub   \n",
       "61      SW6   51.4754    -0.2025               0     Italian Restaurant   \n",
       "62      SW7   51.4965    -0.1732               0                Exhibit   \n",
       "63      SW8   51.4755    -0.1320               0  Portuguese Restaurant   \n",
       "64      WC1   51.5140    -0.1200               0                Theater   \n",
       "\n",
       "   2nd Most Common Venue   3rd Most Common Venue      4th Most Common Venue  \\\n",
       "0   Gym / Fitness Center              Food Truck         Italian Restaurant   \n",
       "2                 Bakery             Coffee Shop                        Pub   \n",
       "4      Indian Restaurant                    Café  Middle Eastern Restaurant   \n",
       "6                   Café             Coffee Shop              Deli / Bodega   \n",
       "7                   Café       Fish & Chips Shop          Indian Restaurant   \n",
       "8            Supermarket             Coffee Shop         Italian Restaurant   \n",
       "9      Electronics Store             Supermarket                       Park   \n",
       "10              Bus Stop       Food & Drink Shop                        Pub   \n",
       "11                  Park                 Gay Bar         Italian Restaurant   \n",
       "13                   Pub      Italian Restaurant                       Café   \n",
       "14   Sporting Goods Shop             Record Shop                Bus Station   \n",
       "15         Grocery Store                Bus Stop                Coffee Shop   \n",
       "16          Cocktail Bar      Italian Restaurant           Asian Restaurant   \n",
       "17           Coffee Shop        Sushi Restaurant             Clothing Store   \n",
       "18           Coffee Shop                Platform       Fast Food Restaurant   \n",
       "19    Italian Restaurant                    Café        Japanese Restaurant   \n",
       "20    Italian Restaurant                    Café        Japanese Restaurant   \n",
       "21     Indian Restaurant      Italian Restaurant       Caribbean Restaurant   \n",
       "22               Theater            Burger Joint                     Bakery   \n",
       "23  Gym / Fitness Center              Food Truck         Italian Restaurant   \n",
       "24           Coffee Shop          Scenic Lookout          French Restaurant   \n",
       "25                Bakery                     Pub                 Art Museum   \n",
       "26           Zoo Exhibit                    Park                Coffee Shop   \n",
       "27           Coffee Shop      Turkish Restaurant           Stationery Store   \n",
       "28     Convenience Store           Historic Site     Furniture / Home Store   \n",
       "29           Coffee Shop      Italian Restaurant                Pizza Place   \n",
       "30            Hookah Bar                Bus Stop           Asian Restaurant   \n",
       "31           Coffee Shop                Wine Bar         Italian Restaurant   \n",
       "32                Garden           Historic Site                       Café   \n",
       "33                   Pub           Grocery Store                  Gastropub   \n",
       "34                   Bar      Italian Restaurant        Indie Movie Theater   \n",
       "35              Bus Stop                Platform                        Bar   \n",
       "37                   Pub      Italian Restaurant                       Café   \n",
       "38                Bakery             Coffee Shop       Gym / Fitness Center   \n",
       "39             Gastropub       Indian Restaurant        Indie Movie Theater   \n",
       "40         Garden Center                Bus Stop              Grocery Store   \n",
       "41                   Pub                Platform                Pizza Place   \n",
       "42                  Café           Train Station                   Platform   \n",
       "43                 Hotel                    Café                        Pub   \n",
       "44                   Pub             Supermarket              Grocery Store   \n",
       "47                   Pub                Platform                       Café   \n",
       "48           Coffee Shop       Indian Restaurant               Cocktail Bar   \n",
       "49           Coffee Shop                    Café                 Playground   \n",
       "50                  Park                    Café        Moroccan Restaurant   \n",
       "51                  Café       Indian Restaurant            Thai Restaurant   \n",
       "52                   Pub             Pizza Place                     Bakery   \n",
       "53   Indie Movie Theater         Thai Restaurant                        Pub   \n",
       "54         Grocery Store                     Pub                Pizza Place   \n",
       "56             Gastropub                     Bar           Video Game Store   \n",
       "58      Indoor Play Area  Furniture / Home Store              Grocery Store   \n",
       "59         Grocery Store                Bus Stop                Coffee Shop   \n",
       "60                  Café            Burger Joint              Grocery Store   \n",
       "61                  Café                     Pub                Coffee Shop   \n",
       "62                  Café                   Hotel             Science Museum   \n",
       "63              Bus Stop                     Pub       Gym / Fitness Center   \n",
       "64                 Hotel             Coffee Shop               Burger Joint   \n",
       "\n",
       "    5th Most Common Venue   6th Most Common Venue      7th Most Common Venue  \\\n",
       "0                     Pub                   Hotel                        Bar   \n",
       "2        Greek Restaurant              Bagel Shop                Pizza Place   \n",
       "4                    Park             Coffee Shop       Brazilian Restaurant   \n",
       "6       French Restaurant    Fast Food Restaurant             Sandwich Place   \n",
       "7             Pizza Place               Gastropub                       Park   \n",
       "8           Shopping Mall  Furniture / Home Store             Sandwich Place   \n",
       "9             Coffee Shop      Turkish Restaurant           Video Game Store   \n",
       "10   Fast Food Restaurant                Pharmacy                     Bakery   \n",
       "11   Gym / Fitness Center          Cricket Ground                        Pub   \n",
       "13              Gastropub             Pizza Place            Thai Restaurant   \n",
       "14  Performing Arts Venue                    Café     Thrift / Vintage Store   \n",
       "15                   Café   Portuguese Restaurant  Middle Eastern Restaurant   \n",
       "16                   Park   Performing Arts Venue                       Café   \n",
       "17         Scenic Lookout        Stationery Store                 Steakhouse   \n",
       "18               Bus Stop      Italian Restaurant        Fried Chicken Joint   \n",
       "19                    Pub             Coffee Shop                     Garden   \n",
       "20                    Pub             Coffee Shop                     Garden   \n",
       "21             Restaurant    Gym / Fitness Center           Ramen Restaurant   \n",
       "22         Ice Cream Shop                     Gym             Clothing Store   \n",
       "23                    Pub                   Hotel                        Bar   \n",
       "24   Gym / Fitness Center                  Museum                     Castle   \n",
       "25            Salad Place              Restaurant         Falafel Restaurant   \n",
       "26               Fountain                    Café                   Beer Bar   \n",
       "27    Martial Arts School                    Café                Supermarket   \n",
       "28            Zoo Exhibit    Fast Food Restaurant                Event Space   \n",
       "29          Grocery Store                     Bar                       Café   \n",
       "30         Hardware Store                     Pub                      Hotel   \n",
       "31       Asian Restaurant              Restaurant         Seafood Restaurant   \n",
       "32                 Bakery                  Market        Indie Movie Theater   \n",
       "33               Bus Stop             Coffee Shop               Cocktail Bar   \n",
       "34          Deli / Bodega             Gaming Cafe                   Sake Bar   \n",
       "35          Train Station                    Café                Pizza Place   \n",
       "37              Gastropub             Pizza Place            Thai Restaurant   \n",
       "38          Garden Center      Falafel Restaurant       Ethiopian Restaurant   \n",
       "39    Japanese Restaurant             Fish Market               Burger Joint   \n",
       "40         Sandwich Place      Falafel Restaurant       Ethiopian Restaurant   \n",
       "41            Coffee Shop                     Bar                     Bakery   \n",
       "42               Bus Stop             Coffee Shop                Supermarket   \n",
       "43         Sandwich Place                     Bar              Grocery Store   \n",
       "44         Clothing Store               Gastropub        Sporting Goods Shop   \n",
       "47               Bus Stop              Restaurant                       Park   \n",
       "48  Vietnamese Restaurant           Grocery Store                        Bar   \n",
       "49          Train Station          Farmers Market                     Museum   \n",
       "50         Sandwich Place             Dry Cleaner                     Lounge   \n",
       "51     Italian Restaurant                Bus Stop      Portuguese Restaurant   \n",
       "52     Italian Restaurant       Indian Restaurant                Supermarket   \n",
       "53            Pizza Place       Recreation Center                 Restaurant   \n",
       "54     Chinese Restaurant  Furniture / Home Store                Gelato Shop   \n",
       "56   Fast Food Restaurant             Supermarket               Skating Rink   \n",
       "58                    Gym      Italian Restaurant                Music Venue   \n",
       "59                   Café   Portuguese Restaurant  Middle Eastern Restaurant   \n",
       "60     Turkish Restaurant        Tapas Restaurant       Gym / Fitness Center   \n",
       "61            Yoga Studio         Thai Restaurant               Climbing Gym   \n",
       "62                 Garden      Italian Restaurant                  Gift Shop   \n",
       "63            Pizza Place       Fish & Chips Shop                       Park   \n",
       "64             Restaurant                Boutique               Dance Studio   \n",
       "\n",
       "        8th Most Common Venue   9th Most Common Venue 10th Most Common Venue  \n",
       "0                Cocktail Bar      English Restaurant       Sushi Restaurant  \n",
       "2                      Museum            Burger Joint      Convenience Store  \n",
       "4       Portuguese Restaurant         Thai Restaurant      Korean Restaurant  \n",
       "6                 Salad Place              Restaurant       Recording Studio  \n",
       "7          Italian Restaurant                     Bar                 Museum  \n",
       "8                     Theater            Cocktail Bar                 Bakery  \n",
       "9                        Café                Bus Stop   Fast Food Restaurant  \n",
       "10  Middle Eastern Restaurant    Caribbean Restaurant                Brewery  \n",
       "11      Street Food Gathering            Tennis Court    Japanese Restaurant  \n",
       "13                       Park     Japanese Restaurant  Portuguese Restaurant  \n",
       "14         Italian Restaurant         Nature Preserve     Falafel Restaurant  \n",
       "15                     Bakery               Gastropub                   Park  \n",
       "16                  Jazz Club               Gastropub                 Lounge  \n",
       "17                        Bar        Department Store   Kitchen Supply Store  \n",
       "18                     Bakery           Bowling Alley               Pharmacy  \n",
       "19              Grocery Store      English Restaurant                  Plaza  \n",
       "20              Grocery Store      English Restaurant                  Plaza  \n",
       "21                  Nightclub             Music Venue                 Bakery  \n",
       "22                 Steakhouse                    Café      Indian Restaurant  \n",
       "23               Cocktail Bar      English Restaurant       Sushi Restaurant  \n",
       "24                  Hotel Bar          History Museum     Italian Restaurant  \n",
       "25                  Bookstore             Pizza Place                    Bar  \n",
       "26           Pedestrian Plaza                   Diner         Discount Store  \n",
       "27         Italian Restaurant           Grocery Store            Zoo Exhibit  \n",
       "28                    Exhibit      Falafel Restaurant                   Farm  \n",
       "29       Ethiopian Restaurant         Thai Restaurant      Indian Restaurant  \n",
       "30             History Museum     Empanada Restaurant              Hotel Bar  \n",
       "31         English Restaurant          Breakfast Spot           Burger Joint  \n",
       "32                Record Shop             Planetarium             Playground  \n",
       "33                Supermarket          Breakfast Spot     Chinese Restaurant  \n",
       "34                 Restaurant             Supermarket              Juice Bar  \n",
       "35                  Locksmith  Furniture / Home Store          Metro Station  \n",
       "37                       Park     Japanese Restaurant  Portuguese Restaurant  \n",
       "38                Event Space                 Exhibit                   Farm  \n",
       "39                Cheese Shop                  Market     Chinese Restaurant  \n",
       "40                Event Space                 Exhibit                   Farm  \n",
       "41              Deli / Bodega               Pet Store                Brewery  \n",
       "42              Auto Workshop                    Farm            Event Space  \n",
       "43       Gym / Fitness Center         Thai Restaurant                Theater  \n",
       "44                   Bus Stop   Sri Lankan Restaurant                   Café  \n",
       "47                 Playground    Fast Food Restaurant      Fish & Chips Shop  \n",
       "48                    Brewery     Japanese Restaurant               Platform  \n",
       "49                  Bookstore              Beer Store                 Garden  \n",
       "50                 Art Museum                  Garden            Pizza Place  \n",
       "51           Sushi Restaurant             Coffee Shop            Yoga Studio  \n",
       "52              Grocery Store          Sandwich Place                    Bar  \n",
       "53           Community Center             Coffee Shop                   Park  \n",
       "54                Supermarket                Pharmacy     Italian Restaurant  \n",
       "56                       Park             Coffee Shop                  Diner  \n",
       "58          Indian Restaurant         Thai Restaurant            Fish Market  \n",
       "59                     Bakery               Gastropub                   Park  \n",
       "60                        Bar    Fast Food Restaurant     Italian Restaurant  \n",
       "61          French Restaurant           Grocery Store                 Bakery  \n",
       "62             Ice Cream Shop                  Bakery      Polish Restaurant  \n",
       "63      Performing Arts Venue             Coffee Shop                 Bakery  \n",
       "64             Ice Cream Shop      Italian Restaurant         Cosmetics Shop  "
      ],
      "text/html": "<div>\n<style scoped>\n    .dataframe tbody tr th:only-of-type {\n        vertical-align: middle;\n    }\n\n    .dataframe tbody tr th {\n        vertical-align: top;\n    }\n\n    .dataframe thead th {\n        text-align: right;\n    }\n</style>\n<table border=\"1\" class=\"dataframe\">\n  <thead>\n    <tr style=\"text-align: right;\">\n      <th></th>\n      <th>Postcode</th>\n      <th>Latitude</th>\n      <th>Longitude</th>\n      <th>Cluster Labels</th>\n      <th>1st Most Common Venue</th>\n      <th>2nd Most Common Venue</th>\n      <th>3rd Most Common Venue</th>\n      <th>4th Most Common Venue</th>\n      <th>5th Most Common Venue</th>\n      <th>6th Most Common Venue</th>\n      <th>7th Most Common Venue</th>\n      <th>8th Most Common Venue</th>\n      <th>9th Most Common Venue</th>\n      <th>10th Most Common Venue</th>\n    </tr>\n  </thead>\n  <tbody>\n    <tr>\n      <th>0</th>\n      <td>EC2</td>\n      <td>51.5180</td>\n      <td>-0.0840</td>\n      <td>0</td>\n      <td>Coffee Shop</td>\n      <td>Gym / Fitness Center</td>\n      <td>Food Truck</td>\n      <td>Italian Restaurant</td>\n      <td>Pub</td>\n      <td>Hotel</td>\n      <td>Bar</td>\n      <td>Cocktail Bar</td>\n      <td>English Restaurant</td>\n      <td>Sushi Restaurant</td>\n    </tr>\n    <tr>\n      <th>2</th>\n      <td>NW3</td>\n      <td>51.5517</td>\n      <td>-0.1706</td>\n      <td>0</td>\n      <td>Café</td>\n      <td>Bakery</td>\n      <td>Coffee Shop</td>\n      <td>Pub</td>\n      <td>Greek Restaurant</td>\n      <td>Bagel Shop</td>\n      <td>Pizza Place</td>\n      <td>Museum</td>\n      <td>Burger Joint</td>\n      <td>Convenience Store</td>\n    </tr>\n    <tr>\n      <th>4</th>\n      <td>NW6</td>\n      <td>51.5438</td>\n      <td>-0.1971</td>\n      <td>0</td>\n      <td>Pub</td>\n      <td>Indian Restaurant</td>\n      <td>Café</td>\n      <td>Middle Eastern Restaurant</td>\n      <td>Park</td>\n      <td>Coffee Shop</td>\n      <td>Brazilian Restaurant</td>\n      <td>Portuguese Restaurant</td>\n      <td>Thai Restaurant</td>\n      <td>Korean Restaurant</td>\n    </tr>\n    <tr>\n      <th>6</th>\n      <td>NW8</td>\n      <td>51.5333</td>\n      <td>-0.1734</td>\n      <td>0</td>\n      <td>Cricket Ground</td>\n      <td>Café</td>\n      <td>Coffee Shop</td>\n      <td>Deli / Bodega</td>\n      <td>French Restaurant</td>\n      <td>Fast Food Restaurant</td>\n      <td>Sandwich Place</td>\n      <td>Salad Place</td>\n      <td>Restaurant</td>\n      <td>Recording Studio</td>\n    </tr>\n    <tr>\n      <th>7</th>\n      <td>SE11</td>\n      <td>51.4913</td>\n      <td>-0.1085</td>\n      <td>0</td>\n      <td>Pub</td>\n      <td>Café</td>\n      <td>Fish &amp; Chips Shop</td>\n      <td>Indian Restaurant</td>\n      <td>Pizza Place</td>\n      <td>Gastropub</td>\n      <td>Park</td>\n      <td>Italian Restaurant</td>\n      <td>Bar</td>\n      <td>Museum</td>\n    </tr>\n    <tr>\n      <th>8</th>\n      <td>SE12</td>\n      <td>51.4467</td>\n      <td>-0.0176</td>\n      <td>0</td>\n      <td>Grocery Store</td>\n      <td>Supermarket</td>\n      <td>Coffee Shop</td>\n      <td>Italian Restaurant</td>\n      <td>Shopping Mall</td>\n      <td>Furniture / Home Store</td>\n      <td>Sandwich Place</td>\n      <td>Theater</td>\n      <td>Cocktail Bar</td>\n      <td>Bakery</td>\n    </tr>\n    <tr>\n      <th>9</th>\n      <td>SE13</td>\n      <td>51.4572</td>\n      <td>-0.0059</td>\n      <td>0</td>\n      <td>Pub</td>\n      <td>Electronics Store</td>\n      <td>Supermarket</td>\n      <td>Park</td>\n      <td>Coffee Shop</td>\n      <td>Turkish Restaurant</td>\n      <td>Video Game Store</td>\n      <td>Café</td>\n      <td>Bus Stop</td>\n      <td>Fast Food Restaurant</td>\n    </tr>\n    <tr>\n      <th>10</th>\n      <td>SE17</td>\n      <td>51.4874</td>\n      <td>-0.0924</td>\n      <td>0</td>\n      <td>Café</td>\n      <td>Bus Stop</td>\n      <td>Food &amp; Drink Shop</td>\n      <td>Pub</td>\n      <td>Fast Food Restaurant</td>\n      <td>Pharmacy</td>\n      <td>Bakery</td>\n      <td>Middle Eastern Restaurant</td>\n      <td>Caribbean Restaurant</td>\n      <td>Brewery</td>\n    </tr>\n    <tr>\n      <th>11</th>\n      <td>SE2</td>\n      <td>51.4860</td>\n      <td>-0.1203</td>\n      <td>0</td>\n      <td>Café</td>\n      <td>Park</td>\n      <td>Gay Bar</td>\n      <td>Italian Restaurant</td>\n      <td>Gym / Fitness Center</td>\n      <td>Cricket Ground</td>\n      <td>Pub</td>\n      <td>Street Food Gathering</td>\n      <td>Tennis Court</td>\n      <td>Japanese Restaurant</td>\n    </tr>\n    <tr>\n      <th>13</th>\n      <td>SE26</td>\n      <td>51.4283</td>\n      <td>-0.0556</td>\n      <td>0</td>\n      <td>Coffee Shop</td>\n      <td>Pub</td>\n      <td>Italian Restaurant</td>\n      <td>Café</td>\n      <td>Gastropub</td>\n      <td>Pizza Place</td>\n      <td>Thai Restaurant</td>\n      <td>Park</td>\n      <td>Japanese Restaurant</td>\n      <td>Portuguese Restaurant</td>\n    </tr>\n    <tr>\n      <th>14</th>\n      <td>SE27</td>\n      <td>51.4283</td>\n      <td>-0.1024</td>\n      <td>0</td>\n      <td>Pub</td>\n      <td>Sporting Goods Shop</td>\n      <td>Record Shop</td>\n      <td>Bus Station</td>\n      <td>Performing Arts Venue</td>\n      <td>Café</td>\n      <td>Thrift / Vintage Store</td>\n      <td>Italian Restaurant</td>\n      <td>Nature Preserve</td>\n      <td>Falafel Restaurant</td>\n    </tr>\n    <tr>\n      <th>15</th>\n      <td>SE5</td>\n      <td>51.4756</td>\n      <td>-0.0909</td>\n      <td>0</td>\n      <td>Pub</td>\n      <td>Grocery Store</td>\n      <td>Bus Stop</td>\n      <td>Coffee Shop</td>\n      <td>Café</td>\n      <td>Portuguese Restaurant</td>\n      <td>Middle Eastern Restaurant</td>\n      <td>Bakery</td>\n      <td>Gastropub</td>\n      <td>Park</td>\n    </tr>\n    <tr>\n      <th>16</th>\n      <td>SW10</td>\n      <td>51.4807</td>\n      <td>-0.1790</td>\n      <td>0</td>\n      <td>Restaurant</td>\n      <td>Cocktail Bar</td>\n      <td>Italian Restaurant</td>\n      <td>Asian Restaurant</td>\n      <td>Park</td>\n      <td>Performing Arts Venue</td>\n      <td>Café</td>\n      <td>Jazz Club</td>\n      <td>Gastropub</td>\n      <td>Lounge</td>\n    </tr>\n    <tr>\n      <th>17</th>\n      <td>SW19</td>\n      <td>51.4255</td>\n      <td>-0.2051</td>\n      <td>0</td>\n      <td>Pub</td>\n      <td>Coffee Shop</td>\n      <td>Sushi Restaurant</td>\n      <td>Clothing Store</td>\n      <td>Scenic Lookout</td>\n      <td>Stationery Store</td>\n      <td>Steakhouse</td>\n      <td>Bar</td>\n      <td>Department Store</td>\n      <td>Kitchen Supply Store</td>\n    </tr>\n    <tr>\n      <th>18</th>\n      <td>SW20</td>\n      <td>51.4071</td>\n      <td>-0.2255</td>\n      <td>0</td>\n      <td>Indian Restaurant</td>\n      <td>Coffee Shop</td>\n      <td>Platform</td>\n      <td>Fast Food Restaurant</td>\n      <td>Bus Stop</td>\n      <td>Italian Restaurant</td>\n      <td>Fried Chicken Joint</td>\n      <td>Bakery</td>\n      <td>Bowling Alley</td>\n      <td>Pharmacy</td>\n    </tr>\n    <tr>\n      <th>19</th>\n      <td>SW3</td>\n      <td>51.4912</td>\n      <td>-0.1614</td>\n      <td>0</td>\n      <td>Hotel</td>\n      <td>Italian Restaurant</td>\n      <td>Café</td>\n      <td>Japanese Restaurant</td>\n      <td>Pub</td>\n      <td>Coffee Shop</td>\n      <td>Garden</td>\n      <td>Grocery Store</td>\n      <td>English Restaurant</td>\n      <td>Plaza</td>\n    </tr>\n    <tr>\n      <th>20</th>\n      <td>SW5</td>\n      <td>51.4925</td>\n      <td>-0.1923</td>\n      <td>0</td>\n      <td>Hotel</td>\n      <td>Italian Restaurant</td>\n      <td>Café</td>\n      <td>Japanese Restaurant</td>\n      <td>Pub</td>\n      <td>Coffee Shop</td>\n      <td>Garden</td>\n      <td>Grocery Store</td>\n      <td>English Restaurant</td>\n      <td>Plaza</td>\n    </tr>\n    <tr>\n      <th>21</th>\n      <td>SW9</td>\n      <td>51.4677</td>\n      <td>-0.1114</td>\n      <td>0</td>\n      <td>Pub</td>\n      <td>Indian Restaurant</td>\n      <td>Italian Restaurant</td>\n      <td>Caribbean Restaurant</td>\n      <td>Restaurant</td>\n      <td>Gym / Fitness Center</td>\n      <td>Ramen Restaurant</td>\n      <td>Nightclub</td>\n      <td>Music Venue</td>\n      <td>Bakery</td>\n    </tr>\n    <tr>\n      <th>22</th>\n      <td>WC2</td>\n      <td>51.5140</td>\n      <td>-0.1240</td>\n      <td>0</td>\n      <td>Coffee Shop</td>\n      <td>Theater</td>\n      <td>Burger Joint</td>\n      <td>Bakery</td>\n      <td>Ice Cream Shop</td>\n      <td>Gym</td>\n      <td>Clothing Store</td>\n      <td>Steakhouse</td>\n      <td>Café</td>\n      <td>Indian Restaurant</td>\n    </tr>\n    <tr>\n      <th>23</th>\n      <td>EC1</td>\n      <td>51.5230</td>\n      <td>-0.0920</td>\n      <td>0</td>\n      <td>Coffee Shop</td>\n      <td>Gym / Fitness Center</td>\n      <td>Food Truck</td>\n      <td>Italian Restaurant</td>\n      <td>Pub</td>\n      <td>Hotel</td>\n      <td>Bar</td>\n      <td>Cocktail Bar</td>\n      <td>English Restaurant</td>\n      <td>Sushi Restaurant</td>\n    </tr>\n    <tr>\n      <th>24</th>\n      <td>EC3</td>\n      <td>51.5080</td>\n      <td>-0.0760</td>\n      <td>0</td>\n      <td>Hotel</td>\n      <td>Coffee Shop</td>\n      <td>Scenic Lookout</td>\n      <td>French Restaurant</td>\n      <td>Gym / Fitness Center</td>\n      <td>Museum</td>\n      <td>Castle</td>\n      <td>Hotel Bar</td>\n      <td>History Museum</td>\n      <td>Italian Restaurant</td>\n    </tr>\n    <tr>\n      <th>25</th>\n      <td>EC4</td>\n      <td>51.5110</td>\n      <td>-0.0980</td>\n      <td>0</td>\n      <td>Coffee Shop</td>\n      <td>Bakery</td>\n      <td>Pub</td>\n      <td>Art Museum</td>\n      <td>Salad Place</td>\n      <td>Restaurant</td>\n      <td>Falafel Restaurant</td>\n      <td>Bookstore</td>\n      <td>Pizza Place</td>\n      <td>Bar</td>\n    </tr>\n    <tr>\n      <th>26</th>\n      <td>NW1</td>\n      <td>51.5307</td>\n      <td>-0.1469</td>\n      <td>0</td>\n      <td>Garden</td>\n      <td>Zoo Exhibit</td>\n      <td>Park</td>\n      <td>Coffee Shop</td>\n      <td>Fountain</td>\n      <td>Café</td>\n      <td>Beer Bar</td>\n      <td>Pedestrian Plaza</td>\n      <td>Diner</td>\n      <td>Discount Store</td>\n    </tr>\n    <tr>\n      <th>27</th>\n      <td>NW11</td>\n      <td>51.5832</td>\n      <td>-0.1944</td>\n      <td>0</td>\n      <td>Bakery</td>\n      <td>Coffee Shop</td>\n      <td>Turkish Restaurant</td>\n      <td>Stationery Store</td>\n      <td>Martial Arts School</td>\n      <td>Café</td>\n      <td>Supermarket</td>\n      <td>Italian Restaurant</td>\n      <td>Grocery Store</td>\n      <td>Zoo Exhibit</td>\n    </tr>\n    <tr>\n      <th>28</th>\n      <td>NW2</td>\n      <td>51.5621</td>\n      <td>-0.2297</td>\n      <td>0</td>\n      <td>Brewery</td>\n      <td>Convenience Store</td>\n      <td>Historic Site</td>\n      <td>Furniture / Home Store</td>\n      <td>Zoo Exhibit</td>\n      <td>Fast Food Restaurant</td>\n      <td>Event Space</td>\n      <td>Exhibit</td>\n      <td>Falafel Restaurant</td>\n      <td>Farm</td>\n    </tr>\n    <tr>\n      <th>29</th>\n      <td>NW5</td>\n      <td>51.5544</td>\n      <td>-0.1441</td>\n      <td>0</td>\n      <td>Pub</td>\n      <td>Coffee Shop</td>\n      <td>Italian Restaurant</td>\n      <td>Pizza Place</td>\n      <td>Grocery Store</td>\n      <td>Bar</td>\n      <td>Café</td>\n      <td>Ethiopian Restaurant</td>\n      <td>Thai Restaurant</td>\n      <td>Indian Restaurant</td>\n    </tr>\n    <tr>\n      <th>30</th>\n      <td>NW9</td>\n      <td>51.5831</td>\n      <td>-0.2535</td>\n      <td>0</td>\n      <td>Ice Cream Shop</td>\n      <td>Hookah Bar</td>\n      <td>Bus Stop</td>\n      <td>Asian Restaurant</td>\n      <td>Hardware Store</td>\n      <td>Pub</td>\n      <td>Hotel</td>\n      <td>History Museum</td>\n      <td>Empanada Restaurant</td>\n      <td>Hotel Bar</td>\n    </tr>\n    <tr>\n      <th>31</th>\n      <td>SE1</td>\n      <td>51.5018</td>\n      <td>-0.0910</td>\n      <td>0</td>\n      <td>Pub</td>\n      <td>Coffee Shop</td>\n      <td>Wine Bar</td>\n      <td>Italian Restaurant</td>\n      <td>Asian Restaurant</td>\n      <td>Restaurant</td>\n      <td>Seafood Restaurant</td>\n      <td>English Restaurant</td>\n      <td>Breakfast Spot</td>\n      <td>Burger Joint</td>\n    </tr>\n    <tr>\n      <th>32</th>\n      <td>SE10</td>\n      <td>51.4808</td>\n      <td>-0.0029</td>\n      <td>0</td>\n      <td>Pub</td>\n      <td>Garden</td>\n      <td>Historic Site</td>\n      <td>Café</td>\n      <td>Bakery</td>\n      <td>Market</td>\n      <td>Indie Movie Theater</td>\n      <td>Record Shop</td>\n      <td>Planetarium</td>\n      <td>Playground</td>\n    </tr>\n    <tr>\n      <th>33</th>\n      <td>SE14</td>\n      <td>51.4756</td>\n      <td>-0.0381</td>\n      <td>0</td>\n      <td>Café</td>\n      <td>Pub</td>\n      <td>Grocery Store</td>\n      <td>Gastropub</td>\n      <td>Bus Stop</td>\n      <td>Coffee Shop</td>\n      <td>Cocktail Bar</td>\n      <td>Supermarket</td>\n      <td>Breakfast Spot</td>\n      <td>Chinese Restaurant</td>\n    </tr>\n    <tr>\n      <th>34</th>\n      <td>SE15</td>\n      <td>51.4703</td>\n      <td>-0.0615</td>\n      <td>0</td>\n      <td>Pub</td>\n      <td>Bar</td>\n      <td>Italian Restaurant</td>\n      <td>Indie Movie Theater</td>\n      <td>Deli / Bodega</td>\n      <td>Gaming Cafe</td>\n      <td>Sake Bar</td>\n      <td>Restaurant</td>\n      <td>Supermarket</td>\n      <td>Juice Bar</td>\n    </tr>\n    <tr>\n      <th>35</th>\n      <td>SE16</td>\n      <td>51.4966</td>\n      <td>-0.0498</td>\n      <td>0</td>\n      <td>Pharmacy</td>\n      <td>Bus Stop</td>\n      <td>Platform</td>\n      <td>Bar</td>\n      <td>Train Station</td>\n      <td>Café</td>\n      <td>Pizza Place</td>\n      <td>Locksmith</td>\n      <td>Furniture / Home Store</td>\n      <td>Metro Station</td>\n    </tr>\n    <tr>\n      <th>37</th>\n      <td>SE19</td>\n      <td>51.4178</td>\n      <td>-0.0848</td>\n      <td>0</td>\n      <td>Coffee Shop</td>\n      <td>Pub</td>\n      <td>Italian Restaurant</td>\n      <td>Café</td>\n      <td>Gastropub</td>\n      <td>Pizza Place</td>\n      <td>Thai Restaurant</td>\n      <td>Park</td>\n      <td>Japanese Restaurant</td>\n      <td>Portuguese Restaurant</td>\n    </tr>\n    <tr>\n      <th>38</th>\n      <td>SE21</td>\n      <td>51.4388</td>\n      <td>-0.0849</td>\n      <td>0</td>\n      <td>Gift Shop</td>\n      <td>Bakery</td>\n      <td>Coffee Shop</td>\n      <td>Gym / Fitness Center</td>\n      <td>Garden Center</td>\n      <td>Falafel Restaurant</td>\n      <td>Ethiopian Restaurant</td>\n      <td>Event Space</td>\n      <td>Exhibit</td>\n      <td>Farm</td>\n    </tr>\n    <tr>\n      <th>39</th>\n      <td>SE22</td>\n      <td>51.4546</td>\n      <td>-0.0732</td>\n      <td>0</td>\n      <td>Café</td>\n      <td>Gastropub</td>\n      <td>Indian Restaurant</td>\n      <td>Indie Movie Theater</td>\n      <td>Japanese Restaurant</td>\n      <td>Fish Market</td>\n      <td>Burger Joint</td>\n      <td>Cheese Shop</td>\n      <td>Market</td>\n      <td>Chinese Restaurant</td>\n    </tr>\n    <tr>\n      <th>40</th>\n      <td>SE23</td>\n      <td>51.4441</td>\n      <td>-0.0498</td>\n      <td>0</td>\n      <td>Pub</td>\n      <td>Garden Center</td>\n      <td>Bus Stop</td>\n      <td>Grocery Store</td>\n      <td>Sandwich Place</td>\n      <td>Falafel Restaurant</td>\n      <td>Ethiopian Restaurant</td>\n      <td>Event Space</td>\n      <td>Exhibit</td>\n      <td>Farm</td>\n    </tr>\n    <tr>\n      <th>41</th>\n      <td>SE24</td>\n      <td>51.4545</td>\n      <td>-0.0967</td>\n      <td>0</td>\n      <td>Café</td>\n      <td>Pub</td>\n      <td>Platform</td>\n      <td>Pizza Place</td>\n      <td>Coffee Shop</td>\n      <td>Bar</td>\n      <td>Bakery</td>\n      <td>Deli / Bodega</td>\n      <td>Pet Store</td>\n      <td>Brewery</td>\n    </tr>\n    <tr>\n      <th>42</th>\n      <td>SE25</td>\n      <td>51.3968</td>\n      <td>-0.0731</td>\n      <td>0</td>\n      <td>Pub</td>\n      <td>Café</td>\n      <td>Train Station</td>\n      <td>Platform</td>\n      <td>Bus Stop</td>\n      <td>Coffee Shop</td>\n      <td>Supermarket</td>\n      <td>Auto Workshop</td>\n      <td>Farm</td>\n      <td>Event Space</td>\n    </tr>\n    <tr>\n      <th>43</th>\n      <td>SE28</td>\n      <td>51.5018</td>\n      <td>-0.1086</td>\n      <td>0</td>\n      <td>Coffee Shop</td>\n      <td>Hotel</td>\n      <td>Café</td>\n      <td>Pub</td>\n      <td>Sandwich Place</td>\n      <td>Bar</td>\n      <td>Grocery Store</td>\n      <td>Gym / Fitness Center</td>\n      <td>Thai Restaurant</td>\n      <td>Theater</td>\n    </tr>\n    <tr>\n      <th>44</th>\n      <td>SE3</td>\n      <td>51.4677</td>\n      <td>-0.0176</td>\n      <td>0</td>\n      <td>Food Truck</td>\n      <td>Pub</td>\n      <td>Supermarket</td>\n      <td>Grocery Store</td>\n      <td>Clothing Store</td>\n      <td>Gastropub</td>\n      <td>Sporting Goods Shop</td>\n      <td>Bus Stop</td>\n      <td>Sri Lankan Restaurant</td>\n      <td>Café</td>\n    </tr>\n    <tr>\n      <th>47</th>\n      <td>SE7</td>\n      <td>51.4861</td>\n      <td>-0.0381</td>\n      <td>0</td>\n      <td>Vietnamese Restaurant</td>\n      <td>Pub</td>\n      <td>Platform</td>\n      <td>Café</td>\n      <td>Bus Stop</td>\n      <td>Restaurant</td>\n      <td>Park</td>\n      <td>Playground</td>\n      <td>Fast Food Restaurant</td>\n      <td>Fish &amp; Chips Shop</td>\n    </tr>\n    <tr>\n      <th>48</th>\n      <td>SE8</td>\n      <td>51.4808</td>\n      <td>-0.0264</td>\n      <td>0</td>\n      <td>Pub</td>\n      <td>Coffee Shop</td>\n      <td>Indian Restaurant</td>\n      <td>Cocktail Bar</td>\n      <td>Vietnamese Restaurant</td>\n      <td>Grocery Store</td>\n      <td>Bar</td>\n      <td>Brewery</td>\n      <td>Japanese Restaurant</td>\n      <td>Platform</td>\n    </tr>\n    <tr>\n      <th>49</th>\n      <td>SE9</td>\n      <td>51.4414</td>\n      <td>-0.0585</td>\n      <td>0</td>\n      <td>Pub</td>\n      <td>Coffee Shop</td>\n      <td>Café</td>\n      <td>Playground</td>\n      <td>Train Station</td>\n      <td>Farmers Market</td>\n      <td>Museum</td>\n      <td>Bookstore</td>\n      <td>Beer Store</td>\n      <td>Garden</td>\n    </tr>\n    <tr>\n      <th>50</th>\n      <td>SW1</td>\n      <td>51.4900</td>\n      <td>-0.1300</td>\n      <td>0</td>\n      <td>Restaurant</td>\n      <td>Park</td>\n      <td>Café</td>\n      <td>Moroccan Restaurant</td>\n      <td>Sandwich Place</td>\n      <td>Dry Cleaner</td>\n      <td>Lounge</td>\n      <td>Art Museum</td>\n      <td>Garden</td>\n      <td>Pizza Place</td>\n    </tr>\n    <tr>\n      <th>51</th>\n      <td>SW11</td>\n      <td>51.4676</td>\n      <td>-0.1583</td>\n      <td>0</td>\n      <td>Pub</td>\n      <td>Café</td>\n      <td>Indian Restaurant</td>\n      <td>Thai Restaurant</td>\n      <td>Italian Restaurant</td>\n      <td>Bus Stop</td>\n      <td>Portuguese Restaurant</td>\n      <td>Sushi Restaurant</td>\n      <td>Coffee Shop</td>\n      <td>Yoga Studio</td>\n    </tr>\n    <tr>\n      <th>52</th>\n      <td>SW12</td>\n      <td>51.4440</td>\n      <td>-0.1494</td>\n      <td>0</td>\n      <td>Coffee Shop</td>\n      <td>Pub</td>\n      <td>Pizza Place</td>\n      <td>Bakery</td>\n      <td>Italian Restaurant</td>\n      <td>Indian Restaurant</td>\n      <td>Supermarket</td>\n      <td>Grocery Store</td>\n      <td>Sandwich Place</td>\n      <td>Bar</td>\n    </tr>\n    <tr>\n      <th>53</th>\n      <td>SW13</td>\n      <td>51.4780</td>\n      <td>-0.2407</td>\n      <td>0</td>\n      <td>Food &amp; Drink Shop</td>\n      <td>Indie Movie Theater</td>\n      <td>Thai Restaurant</td>\n      <td>Pub</td>\n      <td>Pizza Place</td>\n      <td>Recreation Center</td>\n      <td>Restaurant</td>\n      <td>Community Center</td>\n      <td>Coffee Shop</td>\n      <td>Park</td>\n    </tr>\n    <tr>\n      <th>54</th>\n      <td>SW14</td>\n      <td>51.4648</td>\n      <td>-0.2671</td>\n      <td>0</td>\n      <td>Coffee Shop</td>\n      <td>Grocery Store</td>\n      <td>Pub</td>\n      <td>Pizza Place</td>\n      <td>Chinese Restaurant</td>\n      <td>Furniture / Home Store</td>\n      <td>Gelato Shop</td>\n      <td>Supermarket</td>\n      <td>Pharmacy</td>\n      <td>Italian Restaurant</td>\n    </tr>\n    <tr>\n      <th>56</th>\n      <td>SW16</td>\n      <td>51.4204</td>\n      <td>-0.1288</td>\n      <td>0</td>\n      <td>Pub</td>\n      <td>Gastropub</td>\n      <td>Bar</td>\n      <td>Video Game Store</td>\n      <td>Fast Food Restaurant</td>\n      <td>Supermarket</td>\n      <td>Skating Rink</td>\n      <td>Park</td>\n      <td>Coffee Shop</td>\n      <td>Diner</td>\n    </tr>\n    <tr>\n      <th>58</th>\n      <td>SW18</td>\n      <td>51.4466</td>\n      <td>-0.1935</td>\n      <td>0</td>\n      <td>Pub</td>\n      <td>Indoor Play Area</td>\n      <td>Furniture / Home Store</td>\n      <td>Grocery Store</td>\n      <td>Gym</td>\n      <td>Italian Restaurant</td>\n      <td>Music Venue</td>\n      <td>Indian Restaurant</td>\n      <td>Thai Restaurant</td>\n      <td>Fish Market</td>\n    </tr>\n    <tr>\n      <th>59</th>\n      <td>SW2</td>\n      <td>51.4493</td>\n      <td>-0.1201</td>\n      <td>0</td>\n      <td>Pub</td>\n      <td>Grocery Store</td>\n      <td>Bus Stop</td>\n      <td>Coffee Shop</td>\n      <td>Café</td>\n      <td>Portuguese Restaurant</td>\n      <td>Middle Eastern Restaurant</td>\n      <td>Bakery</td>\n      <td>Gastropub</td>\n      <td>Park</td>\n    </tr>\n    <tr>\n      <th>60</th>\n      <td>SW4</td>\n      <td>51.4598</td>\n      <td>-0.1378</td>\n      <td>0</td>\n      <td>Pub</td>\n      <td>Café</td>\n      <td>Burger Joint</td>\n      <td>Grocery Store</td>\n      <td>Turkish Restaurant</td>\n      <td>Tapas Restaurant</td>\n      <td>Gym / Fitness Center</td>\n      <td>Bar</td>\n      <td>Fast Food Restaurant</td>\n      <td>Italian Restaurant</td>\n    </tr>\n    <tr>\n      <th>61</th>\n      <td>SW6</td>\n      <td>51.4754</td>\n      <td>-0.2025</td>\n      <td>0</td>\n      <td>Italian Restaurant</td>\n      <td>Café</td>\n      <td>Pub</td>\n      <td>Coffee Shop</td>\n      <td>Yoga Studio</td>\n      <td>Thai Restaurant</td>\n      <td>Climbing Gym</td>\n      <td>French Restaurant</td>\n      <td>Grocery Store</td>\n      <td>Bakery</td>\n    </tr>\n    <tr>\n      <th>62</th>\n      <td>SW7</td>\n      <td>51.4965</td>\n      <td>-0.1732</td>\n      <td>0</td>\n      <td>Exhibit</td>\n      <td>Café</td>\n      <td>Hotel</td>\n      <td>Science Museum</td>\n      <td>Garden</td>\n      <td>Italian Restaurant</td>\n      <td>Gift Shop</td>\n      <td>Ice Cream Shop</td>\n      <td>Bakery</td>\n      <td>Polish Restaurant</td>\n    </tr>\n    <tr>\n      <th>63</th>\n      <td>SW8</td>\n      <td>51.4755</td>\n      <td>-0.1320</td>\n      <td>0</td>\n      <td>Portuguese Restaurant</td>\n      <td>Bus Stop</td>\n      <td>Pub</td>\n      <td>Gym / Fitness Center</td>\n      <td>Pizza Place</td>\n      <td>Fish &amp; Chips Shop</td>\n      <td>Park</td>\n      <td>Performing Arts Venue</td>\n      <td>Coffee Shop</td>\n      <td>Bakery</td>\n    </tr>\n    <tr>\n      <th>64</th>\n      <td>WC1</td>\n      <td>51.5140</td>\n      <td>-0.1200</td>\n      <td>0</td>\n      <td>Theater</td>\n      <td>Hotel</td>\n      <td>Coffee Shop</td>\n      <td>Burger Joint</td>\n      <td>Restaurant</td>\n      <td>Boutique</td>\n      <td>Dance Studio</td>\n      <td>Ice Cream Shop</td>\n      <td>Italian Restaurant</td>\n      <td>Cosmetics Shop</td>\n    </tr>\n  </tbody>\n</table>\n</div>"
     },
     "metadata": {},
     "execution_count": 95
    }
   ],
   "source": [
    "london_merged.loc[london_merged['Cluster Labels'] == 0, london_merged.columns[[1] + list(range(4, london_merged.shape[1]))]]"
   ]
  },
  {
   "source": [
    "### Cluster 2"
   ],
   "cell_type": "markdown",
   "metadata": {}
  },
  {
   "source": [
    "london_merged.loc[london_merged['Cluster Labels'] == 1, london_merged.columns[[1] + list(range(4, london_merged.shape[1]))]]"
   ],
   "cell_type": "code",
   "metadata": {},
   "execution_count": 96,
   "outputs": [
    {
     "output_type": "execute_result",
     "data": {
      "text/plain": [
       "   Postcode  Latitude  Longitude  Cluster Labels 1st Most Common Venue  \\\n",
       "55     SW15    51.457    -0.2288               1     Food & Drink Shop   \n",
       "\n",
       "   2nd Most Common Venue 3rd Most Common Venue 4th Most Common Venue  \\\n",
       "55           Zoo Exhibit    English Restaurant                  Food   \n",
       "\n",
       "   5th Most Common Venue 6th Most Common Venue 7th Most Common Venue  \\\n",
       "55           Flower Shop           Flea Market           Fish Market   \n",
       "\n",
       "   8th Most Common Venue 9th Most Common Venue 10th Most Common Venue  \n",
       "55     Fish & Chips Shop  Fast Food Restaurant         Farmers Market  "
      ],
      "text/html": "<div>\n<style scoped>\n    .dataframe tbody tr th:only-of-type {\n        vertical-align: middle;\n    }\n\n    .dataframe tbody tr th {\n        vertical-align: top;\n    }\n\n    .dataframe thead th {\n        text-align: right;\n    }\n</style>\n<table border=\"1\" class=\"dataframe\">\n  <thead>\n    <tr style=\"text-align: right;\">\n      <th></th>\n      <th>Postcode</th>\n      <th>Latitude</th>\n      <th>Longitude</th>\n      <th>Cluster Labels</th>\n      <th>1st Most Common Venue</th>\n      <th>2nd Most Common Venue</th>\n      <th>3rd Most Common Venue</th>\n      <th>4th Most Common Venue</th>\n      <th>5th Most Common Venue</th>\n      <th>6th Most Common Venue</th>\n      <th>7th Most Common Venue</th>\n      <th>8th Most Common Venue</th>\n      <th>9th Most Common Venue</th>\n      <th>10th Most Common Venue</th>\n    </tr>\n  </thead>\n  <tbody>\n    <tr>\n      <th>55</th>\n      <td>SW15</td>\n      <td>51.457</td>\n      <td>-0.2288</td>\n      <td>1</td>\n      <td>Food &amp; Drink Shop</td>\n      <td>Zoo Exhibit</td>\n      <td>English Restaurant</td>\n      <td>Food</td>\n      <td>Flower Shop</td>\n      <td>Flea Market</td>\n      <td>Fish Market</td>\n      <td>Fish &amp; Chips Shop</td>\n      <td>Fast Food Restaurant</td>\n      <td>Farmers Market</td>\n    </tr>\n  </tbody>\n</table>\n</div>"
     },
     "metadata": {},
     "execution_count": 96
    }
   ]
  },
  {
   "source": [
    "### Cluster 3"
   ],
   "cell_type": "markdown",
   "metadata": {}
  },
  {
   "cell_type": "code",
   "execution_count": 97,
   "metadata": {},
   "outputs": [
    {
     "output_type": "execute_result",
     "data": {
      "text/plain": [
       "  Postcode  Latitude  Longitude  Cluster Labels 1st Most Common Venue  \\\n",
       "1     NW10    51.541    -0.2531               2        Discount Store   \n",
       "\n",
       "  2nd Most Common Venue 3rd Most Common Venue 4th Most Common Venue  \\\n",
       "1          Liquor Store  Caribbean Restaurant    Chinese Restaurant   \n",
       "\n",
       "  5th Most Common Venue 6th Most Common Venue 7th Most Common Venue  \\\n",
       "1           Zoo Exhibit               Exhibit    Falafel Restaurant   \n",
       "\n",
       "  8th Most Common Venue 9th Most Common Venue 10th Most Common Venue  \n",
       "1                  Farm        Farmers Market   Fast Food Restaurant  "
      ],
      "text/html": "<div>\n<style scoped>\n    .dataframe tbody tr th:only-of-type {\n        vertical-align: middle;\n    }\n\n    .dataframe tbody tr th {\n        vertical-align: top;\n    }\n\n    .dataframe thead th {\n        text-align: right;\n    }\n</style>\n<table border=\"1\" class=\"dataframe\">\n  <thead>\n    <tr style=\"text-align: right;\">\n      <th></th>\n      <th>Postcode</th>\n      <th>Latitude</th>\n      <th>Longitude</th>\n      <th>Cluster Labels</th>\n      <th>1st Most Common Venue</th>\n      <th>2nd Most Common Venue</th>\n      <th>3rd Most Common Venue</th>\n      <th>4th Most Common Venue</th>\n      <th>5th Most Common Venue</th>\n      <th>6th Most Common Venue</th>\n      <th>7th Most Common Venue</th>\n      <th>8th Most Common Venue</th>\n      <th>9th Most Common Venue</th>\n      <th>10th Most Common Venue</th>\n    </tr>\n  </thead>\n  <tbody>\n    <tr>\n      <th>1</th>\n      <td>NW10</td>\n      <td>51.541</td>\n      <td>-0.2531</td>\n      <td>2</td>\n      <td>Discount Store</td>\n      <td>Liquor Store</td>\n      <td>Caribbean Restaurant</td>\n      <td>Chinese Restaurant</td>\n      <td>Zoo Exhibit</td>\n      <td>Exhibit</td>\n      <td>Falafel Restaurant</td>\n      <td>Farm</td>\n      <td>Farmers Market</td>\n      <td>Fast Food Restaurant</td>\n    </tr>\n  </tbody>\n</table>\n</div>"
     },
     "metadata": {},
     "execution_count": 97
    }
   ],
   "source": [
    "london_merged.loc[london_merged['Cluster Labels'] == 2, london_merged.columns[[1] + list(range(4, london_merged.shape[1]))]]"
   ]
  },
  {
   "source": [
    "### Cluster 4"
   ],
   "cell_type": "markdown",
   "metadata": {}
  },
  {
   "cell_type": "code",
   "execution_count": 98,
   "metadata": {},
   "outputs": [
    {
     "output_type": "execute_result",
     "data": {
      "text/plain": [
       "  Postcode  Latitude  Longitude  Cluster Labels 1st Most Common Venue  \\\n",
       "5      NW7   51.6147    -0.2301               3              Pharmacy   \n",
       "\n",
       "        2nd Most Common Venue 3rd Most Common Venue 4th Most Common Venue  \\\n",
       "5  Construction & Landscaping           Zoo Exhibit        Farmers Market   \n",
       "\n",
       "  5th Most Common Venue 6th Most Common Venue 7th Most Common Venue  \\\n",
       "5  Ethiopian Restaurant           Event Space               Exhibit   \n",
       "\n",
       "  8th Most Common Venue 9th Most Common Venue 10th Most Common Venue  \n",
       "5    Falafel Restaurant                  Farm   Fast Food Restaurant  "
      ],
      "text/html": "<div>\n<style scoped>\n    .dataframe tbody tr th:only-of-type {\n        vertical-align: middle;\n    }\n\n    .dataframe tbody tr th {\n        vertical-align: top;\n    }\n\n    .dataframe thead th {\n        text-align: right;\n    }\n</style>\n<table border=\"1\" class=\"dataframe\">\n  <thead>\n    <tr style=\"text-align: right;\">\n      <th></th>\n      <th>Postcode</th>\n      <th>Latitude</th>\n      <th>Longitude</th>\n      <th>Cluster Labels</th>\n      <th>1st Most Common Venue</th>\n      <th>2nd Most Common Venue</th>\n      <th>3rd Most Common Venue</th>\n      <th>4th Most Common Venue</th>\n      <th>5th Most Common Venue</th>\n      <th>6th Most Common Venue</th>\n      <th>7th Most Common Venue</th>\n      <th>8th Most Common Venue</th>\n      <th>9th Most Common Venue</th>\n      <th>10th Most Common Venue</th>\n    </tr>\n  </thead>\n  <tbody>\n    <tr>\n      <th>5</th>\n      <td>NW7</td>\n      <td>51.6147</td>\n      <td>-0.2301</td>\n      <td>3</td>\n      <td>Pharmacy</td>\n      <td>Construction &amp; Landscaping</td>\n      <td>Zoo Exhibit</td>\n      <td>Farmers Market</td>\n      <td>Ethiopian Restaurant</td>\n      <td>Event Space</td>\n      <td>Exhibit</td>\n      <td>Falafel Restaurant</td>\n      <td>Farm</td>\n      <td>Fast Food Restaurant</td>\n    </tr>\n  </tbody>\n</table>\n</div>"
     },
     "metadata": {},
     "execution_count": 98
    }
   ],
   "source": [
    "london_merged.loc[london_merged['Cluster Labels'] == 3, london_merged.columns[[1] + list(range(4, london_merged.shape[1]))]]"
   ]
  },
  {
   "source": [
    "### Cluster 5"
   ],
   "cell_type": "markdown",
   "metadata": {}
  },
  {
   "cell_type": "code",
   "execution_count": 99,
   "metadata": {},
   "outputs": [
    {
     "output_type": "execute_result",
     "data": {
      "text/plain": [
       "   Postcode  Latitude  Longitude  Cluster Labels 1st Most Common Venue  \\\n",
       "3       NW4   51.5937    -0.2181               4                 Hotel   \n",
       "12     SE20   51.4126    -0.0614               4                  Park   \n",
       "36     SE18   51.4782    -0.0762               4                  Park   \n",
       "45      SE4   51.4598    -0.0322               4                  Café   \n",
       "46      SE6   51.4362    -0.0175               4         Grocery Store   \n",
       "57     SW17   51.4256    -0.1581               4           Pizza Place   \n",
       "\n",
       "   2nd Most Common Venue  3rd Most Common Venue 4th Most Common Venue  \\\n",
       "3               Bus Stop  Entertainment Service           Zoo Exhibit   \n",
       "12                 Hotel            Gas Station         Train Station   \n",
       "36                 Hotel            Bus Station              Bus Stop   \n",
       "45               Brewery            Pizza Place     Fish & Chips Shop   \n",
       "46           Bus Station         Shopping Plaza         Train Station   \n",
       "57         Grocery Store      Fish & Chips Shop           Supermarket   \n",
       "\n",
       "     5th Most Common Venue 6th Most Common Venue 7th Most Common Venue  \\\n",
       "3     Fast Food Restaurant           Event Space               Exhibit   \n",
       "12    Fast Food Restaurant           Supermarket        Hardware Store   \n",
       "36                    Café                   Bar        Farmers Market   \n",
       "45  Furniture / Home Store             Gastropub                  Park   \n",
       "46          Discount Store           Pizza Place    Turkish Restaurant   \n",
       "57     Lebanese Restaurant      Asian Restaurant    Italian Restaurant   \n",
       "\n",
       "     8th Most Common Venue 9th Most Common Venue 10th Most Common Venue  \n",
       "3       Falafel Restaurant                  Farm         Farmers Market  \n",
       "12           Grocery Store               Exhibit  Entertainment Service  \n",
       "36             Event Space               Exhibit     Falafel Restaurant  \n",
       "45            Cocktail Bar         Grocery Store            Flower Shop  \n",
       "46  Furniture / Home Store                   Gym            Zoo Exhibit  \n",
       "57                Bus Stop           Coffee Shop                  Hotel  "
      ],
      "text/html": "<div>\n<style scoped>\n    .dataframe tbody tr th:only-of-type {\n        vertical-align: middle;\n    }\n\n    .dataframe tbody tr th {\n        vertical-align: top;\n    }\n\n    .dataframe thead th {\n        text-align: right;\n    }\n</style>\n<table border=\"1\" class=\"dataframe\">\n  <thead>\n    <tr style=\"text-align: right;\">\n      <th></th>\n      <th>Postcode</th>\n      <th>Latitude</th>\n      <th>Longitude</th>\n      <th>Cluster Labels</th>\n      <th>1st Most Common Venue</th>\n      <th>2nd Most Common Venue</th>\n      <th>3rd Most Common Venue</th>\n      <th>4th Most Common Venue</th>\n      <th>5th Most Common Venue</th>\n      <th>6th Most Common Venue</th>\n      <th>7th Most Common Venue</th>\n      <th>8th Most Common Venue</th>\n      <th>9th Most Common Venue</th>\n      <th>10th Most Common Venue</th>\n    </tr>\n  </thead>\n  <tbody>\n    <tr>\n      <th>3</th>\n      <td>NW4</td>\n      <td>51.5937</td>\n      <td>-0.2181</td>\n      <td>4</td>\n      <td>Hotel</td>\n      <td>Bus Stop</td>\n      <td>Entertainment Service</td>\n      <td>Zoo Exhibit</td>\n      <td>Fast Food Restaurant</td>\n      <td>Event Space</td>\n      <td>Exhibit</td>\n      <td>Falafel Restaurant</td>\n      <td>Farm</td>\n      <td>Farmers Market</td>\n    </tr>\n    <tr>\n      <th>12</th>\n      <td>SE20</td>\n      <td>51.4126</td>\n      <td>-0.0614</td>\n      <td>4</td>\n      <td>Park</td>\n      <td>Hotel</td>\n      <td>Gas Station</td>\n      <td>Train Station</td>\n      <td>Fast Food Restaurant</td>\n      <td>Supermarket</td>\n      <td>Hardware Store</td>\n      <td>Grocery Store</td>\n      <td>Exhibit</td>\n      <td>Entertainment Service</td>\n    </tr>\n    <tr>\n      <th>36</th>\n      <td>SE18</td>\n      <td>51.4782</td>\n      <td>-0.0762</td>\n      <td>4</td>\n      <td>Park</td>\n      <td>Hotel</td>\n      <td>Bus Station</td>\n      <td>Bus Stop</td>\n      <td>Café</td>\n      <td>Bar</td>\n      <td>Farmers Market</td>\n      <td>Event Space</td>\n      <td>Exhibit</td>\n      <td>Falafel Restaurant</td>\n    </tr>\n    <tr>\n      <th>45</th>\n      <td>SE4</td>\n      <td>51.4598</td>\n      <td>-0.0322</td>\n      <td>4</td>\n      <td>Café</td>\n      <td>Brewery</td>\n      <td>Pizza Place</td>\n      <td>Fish &amp; Chips Shop</td>\n      <td>Furniture / Home Store</td>\n      <td>Gastropub</td>\n      <td>Park</td>\n      <td>Cocktail Bar</td>\n      <td>Grocery Store</td>\n      <td>Flower Shop</td>\n    </tr>\n    <tr>\n      <th>46</th>\n      <td>SE6</td>\n      <td>51.4362</td>\n      <td>-0.0175</td>\n      <td>4</td>\n      <td>Grocery Store</td>\n      <td>Bus Station</td>\n      <td>Shopping Plaza</td>\n      <td>Train Station</td>\n      <td>Discount Store</td>\n      <td>Pizza Place</td>\n      <td>Turkish Restaurant</td>\n      <td>Furniture / Home Store</td>\n      <td>Gym</td>\n      <td>Zoo Exhibit</td>\n    </tr>\n    <tr>\n      <th>57</th>\n      <td>SW17</td>\n      <td>51.4256</td>\n      <td>-0.1581</td>\n      <td>4</td>\n      <td>Pizza Place</td>\n      <td>Grocery Store</td>\n      <td>Fish &amp; Chips Shop</td>\n      <td>Supermarket</td>\n      <td>Lebanese Restaurant</td>\n      <td>Asian Restaurant</td>\n      <td>Italian Restaurant</td>\n      <td>Bus Stop</td>\n      <td>Coffee Shop</td>\n      <td>Hotel</td>\n    </tr>\n  </tbody>\n</table>\n</div>"
     },
     "metadata": {},
     "execution_count": 99
    }
   ],
   "source": [
    "london_merged.loc[london_merged['Cluster Labels'] == 4, london_merged.columns[[1] + list(range(4, london_merged.shape[1]))]]"
   ]
  }
 ]
}